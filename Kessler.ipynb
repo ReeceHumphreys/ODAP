{
 "cells": [
  {
   "cell_type": "markdown",
   "metadata": {},
   "source": [
    "<h1>0. Packages</h1>"
   ]
  },
  {
   "cell_type": "code",
   "execution_count": 97,
   "metadata": {},
   "outputs": [],
   "source": [
    "import numpy as np\n",
    "import re\n",
    "import skyfield.sgp4lib as spg4\n",
    "import matplotlib \n",
    "import PyQt5\n",
    "import generate_debris as gd\n",
    "\n",
    "matplotlib.use('Agg')\n",
    "import matplotlib.pyplot as plt\n",
    "from scipy.stats import uniform\n",
    "from scipy.stats import norm\n",
    "import scipy.stats as stats\n",
    "from enum import Enum    \n",
    "from mpl_toolkits.mplot3d import Axes3D\n",
    "import matplotlib.pyplot as plt\n",
    "import numpy as np\n",
    "from itertools import product, combinations\n",
    "from matplotlib import cm\n",
    "from scipy import integrate\n",
    "\n",
    "%matplotlib qt5\n",
    "\n",
    "debris_category = Enum('Category', 'rb sc soc')"
   ]
  },
  {
   "cell_type": "markdown",
   "metadata": {},
   "source": [
    "<h1>1. Data Structure</h1>\n",
    "\n",
    "<h3>1.1 Satellite Structure</h3>\n",
    "\n",
    "Creating an object to represent satellite from 3le.txt <br>\n",
    "May end up using implementation from another package\n",
    "\n",
    "<b>Data sources:<b><br>\n",
    "https://www.space-track.org    \n",
    "https://www.celestrak.com/NORAD/documentation/spacetrk.pdf\n",
    "\n",
    "<b>Information about 3le/2le:</b><br>\n",
    "https://en.wikipedia.org/wiki/Two-line_element_set#cite_note-nasahelp-12\n",
    "https://spaceflight.nasa.gov/realdata/sightings/SSapplications/Post/JavaSSOP/SSOP_Help/tle_def.html"
   ]
  },
  {
   "cell_type": "code",
   "execution_count": 2,
   "metadata": {},
   "outputs": [],
   "source": [
    "class two_line_element:\n",
    "    \n",
    "    def __init__(self, data):\n",
    "        self.parse_data(data)\n",
    "        \n",
    "    def parse_data(self, satelite_data):\n",
    "        self.title = satelite_data[0]\n",
    "        line_one = satelite_data[1].split()\n",
    "        line_two = satelite_data[2].split()\n",
    "\n",
    "        self.catalog_number = re.search('[0-9]{1,5}', line_one[0]).group()\n",
    "        self.classification = re.search('[UCS]', line_one[0]).group()\n",
    "\n",
    "        international_designator = re.search('([0-9]{2})([0-9]{3})(\\w{1,3})', line_one[1])\n",
    "        self.launch_year = international_designator.group(1)\n",
    "        self.launch_number = international_designator.group(2)\n",
    "        self.launch_piece =  international_designator.group(3)\n",
    "\n",
    "        epoch = re.search('([0-9]{2})(\\d+\\.\\d+)', line_one[2])\n",
    "        self.epoch_year = epoch.group(1)\n",
    "        self.epoch_day = epoch.group(2)\n",
    "\n",
    "        self.ballistic_coefficient = float(line_one[3])\n",
    "        self.mean_motion_double_prime = line_one[4]\n",
    "        self.BSTAR = line_one[5]\n",
    "\n",
    "        self.inclination = line_two[1]\n",
    "        self.right_ascension_of_ascending_node = line_two[2]\n",
    "        self.eccentricity = line_two[3]\n",
    "        self.argument_of_perigee = line_two[4]\n",
    "\n",
    "        mean_anomaly = line_two[5]"
   ]
  },
  {
   "cell_type": "markdown",
   "metadata": {},
   "source": [
    "<h3>Data structure implementation using spg4 from skyfield library<h3>"
   ]
  },
  {
   "cell_type": "code",
   "execution_count": 3,
   "metadata": {},
   "outputs": [
    {
     "name": "stdout",
     "output_type": "stream",
     "text": [
      "('0 VANGUARD 1', '1     5U 58002B   19352.86539842  .00000184  00000-0  20948-3 0  9994', '2     5  34.2610  67.7117 1845282 255.2293  83.7559 10.84789954185624')\n"
     ]
    }
   ],
   "source": [
    "# Opening the .txt file\n",
    "with open(\"3le.txt\") as f:\n",
    "    txt = f.read()\n",
    "    \n",
    "sat_lines = re.findall('(.*?)\\n(.*?)\\n(.*?)\\n', txt)\n",
    "\n",
    "# Preview of `sat_lines`, each element should be the three lines representing a satellite\n",
    "print(sat_lines[0])\n",
    "\n",
    "# Convert each group of 3 lines into a satelite object\n",
    "def line_element_to_satellite(lines):\n",
    "    title = lines[0]\n",
    "    line1 = lines[1]\n",
    "    line2 = lines[2]\n",
    "    return spg4.EarthSatellite(line1, line2, name=title)\n",
    "\n",
    "satellites = [line_element_to_satellite(lines) for lines in sat_lines]\n",
    "\n",
    "# Verify data structure by finding element representing the ISS\n",
    "iss_index = [sat.name for sat in satellites].index(\"0 ISS (ZARYA)\")\n",
    "iss = satellites[iss_index]"
   ]
  },
  {
   "cell_type": "markdown",
   "metadata": {},
   "source": [
    "<h3>1.2 Celestial Bodies</h3>\n",
    "\n",
    "\n",
    "de421.bsp is a Ephemerides provided by JPL Horizon which has the calculated positions of celestial bodies within a certain time interval. de421 is commonly used due to its small size and its relativley up to date information"
   ]
  },
  {
   "cell_type": "code",
   "execution_count": 4,
   "metadata": {},
   "outputs": [],
   "source": [
    "from skyfield.api import load, EarthSatellite\n",
    "ts = load.timescale(builtin=True)\n",
    "\n",
    "# Loading the data from de421.bsp using skyfield \n",
    "planets = load('de421.bsp')\n",
    "\n",
    "# Finding the data about Earth\n",
    "earth = planets[\"Earth\"]"
   ]
  },
  {
   "cell_type": "markdown",
   "metadata": {},
   "source": [
    "<h3>1.3 Celestial Bodies</h3>\n",
    "\n",
    "Plotting the satellite data in a 3D view.<br>\n",
    "Accidently broke my implementation so need to start with the below base and get it to plot the ISS again.\n",
    "\n",
    "<b>Source:</b> https://space.stackexchange.com/questions/25958/how-can-i-plot-a-satellites-orbit-in-3d-from-a-tle-using-python-and-skyfield"
   ]
  },
  {
   "cell_type": "code",
   "execution_count": null,
   "metadata": {},
   "outputs": [],
   "source": []
  },
  {
   "cell_type": "markdown",
   "metadata": {},
   "source": [
    "<h1>2. Breakup Models</h1>\n",
    "\n",
    "<h3>2.1 NASA breakup model</h3>\n",
    "\n",
    "<b>Implementation:</b> (Found on page 207)<br>\n",
    "https://www.researchgate.net/publication/295490674_Space_debris_cloud_evolution_in_Low_Earth_Orbit\n",
    "\n",
    "<b>Alternate implementation:</b><br>\n",
    "https://gitlab.obspm.fr/apetit/nasa-breakup-model/tree/master\n",
    "\n",
    "<b>Information:</b><br>\n",
    "https://digitalcommons.calpoly.edu/cgi/viewcontent.cgi?referer=https://en.wikipedia.org/&httpsredir=1&article=1094&context=theses\n",
    "\n",
    "\n",
    "<b>Now implemented in file generate_debris.py</b><br>"
   ]
  },
  {
   "cell_type": "markdown",
   "metadata": {},
   "source": [
    "<h3>2.2 NASA breakup model validation</h3>"
   ]
  },
  {
   "cell_type": "code",
   "execution_count": null,
   "metadata": {
    "scrolled": true
   },
   "outputs": [],
   "source": [
    "L_c = gd.characteristic_lengths(1000, 10, 10, True, debris_category.rb)\n",
    "\n",
    "N_fragments_total = L_c.shape[0]\n",
    "lambda_c = np.log10(L_c)\n",
    "areas = gd.avg_area(L_c)\n",
    "\n",
    "def create_log_bins(values, nbins=100):\n",
    "    #return np.geomspace(values.min(), values.max(), nbins)\n",
    "    bins = np.geomspace(values.min(), values.max(), nbins)\n",
    "    a = bins[1]/bins[0]\n",
    "    bins = np.concatenate([[bins[0]/a], bins,[bins[-1]*a]])\n",
    "    return bins\n",
    "\n",
    "# Validating L_c\n",
    "h, b = np.histogram(L_c, bins=create_log_bins(L_c))\n",
    "plt.figure(figsize=(5,5))\n",
    "plt.xscale('log')\n",
    "plt.xlabel(r'$L_{c}$')\n",
    "plt.ylabel(r'$N_f$')\n",
    "plt.plot((b[:-1] + b[1:])/2, h, '.-')\n",
    "plt.show()\n",
    "\n",
    "# Validating Areas\n",
    "h, b = np.histogram(areas, bins=create_log_bins(areas))\n",
    "plt.figure(figsize=(5,5))\n",
    "plt.xscale('log')\n",
    "plt.xlabel(r'$Areas$')\n",
    "plt.ylabel(r'$N_f$')\n",
    "plt.plot((b[:-1] + b[1:])/2, h, '.-')\n",
    "plt.show()\n",
    "\n",
    "# Validating Mass & Velocity\n",
    "AM = np.array(gd.distribution_AM(lambda_c, gd.debris_category.rb))\n",
    "masses = areas / 10**AM\n",
    "\n",
    "h, b = np.histogram(masses, bins=create_log_bins(masses))\n",
    "plt.figure(figsize=(5,5))\n",
    "plt.xscale('log')\n",
    "plt.xlabel(r'$Masses$')\n",
    "plt.ylabel(r'$N_f$')\n",
    "plt.gca().set_yticks([0, 2, 4, 6, 8])\n",
    "plt.gca().set_xticks([1e-8, 1e-5, 1e-2, 10, 1e4])\n",
    "plt.gca().set_xlim([1e-8,1e4])\n",
    "plt.gca().set_ylim([0,8])\n",
    "plt.grid()\n",
    "plt.plot((b[:-1] + b[1:])/2, h/1e5, '.-')\n",
    "plt.show()\n",
    "\n",
    "# Validating Velocity\n",
    "deltaV = np.array(gd.distribution_deltaV(AM, 10, True))\n",
    "\n",
    "\n",
    "h, b = np.histogram(deltaV, bins=create_log_bins(deltaV))\n",
    "plt.figure(figsize=(5,5))\n",
    "plt.xscale('log')\n",
    "plt.xlabel(r'$\\delta V$')\n",
    "plt.ylabel(r'$N_f$')\n",
    "plt.gca().set_yticks([0, 2, 4, 6, 8])\n",
    "plt.gca().set_xticks([1e-3, 1e-2, 1e-1, 1, 10])\n",
    "plt.gca().set_xlim([1e-3,10])\n",
    "plt.gca().set_ylim([0,8])\n",
    "plt.grid()\n",
    "plt.plot((b[:-1] + b[1:])/2, h/1e5, '.-')\n",
    "plt.show()"
   ]
  },
  {
   "cell_type": "markdown",
   "metadata": {},
   "source": [
    "<h3>2.3 and Onward will be alternate breakup models</h3>"
   ]
  },
  {
   "cell_type": "markdown",
   "metadata": {},
   "source": [
    "<h1>3. Numerical Propagation</h1>"
   ]
  },
  {
   "cell_type": "markdown",
   "metadata": {},
   "source": [
    "<h3>3.1 Modeling the Atmosphere</h3>"
   ]
  },
  {
   "cell_type": "code",
   "execution_count": 43,
   "metadata": {},
   "outputs": [],
   "source": [
    "import pandas as pd\n",
    "\n",
    "excel_file = \"AtmosphericModelValues.xlsx\"\n",
    "earth_radius = 6378.0 #km\n",
    "tabulated_values = pd.read_excel(excel_file, engine=\"openpyxl\")\n",
    "tabulated_values.head()\n",
    "\n",
    "def atmosphere_density(altitude):\n",
    "    \n",
    "    bins = tabulated_values['Altitude Lower Bound (km)'].values\n",
    "    base_altitude = tabulated_values['Base Altitude (km)'].values\n",
    "    nominal_density = tabulated_values['Nominal Density (kg/m^3)'].values\n",
    "    scale_height = tabulated_values['Scale Height (km)'].values\n",
    "    i = np.digitize(altitude, bins) - 1\n",
    "    return (nominal_density[i]*np.exp(-(altitude-base_altitude[i])/(scale_height[i])))\n",
    "\n",
    "def scale_height(altitude):\n",
    "    bins = tabulated_values['Altitude Lower Bound (km)'].values\n",
    "    scale_height = tabulated_values['Scale Height (km)'].values\n",
    "    i = np.digitize(altitude, bins) - 1\n",
    "    return scale_height[i]\n"
   ]
  },
  {
   "cell_type": "markdown",
   "metadata": {},
   "source": [
    "<h3>3.2 Calculating Orbital Debris Properties</h3>"
   ]
  },
  {
   "cell_type": "code",
   "execution_count": 220,
   "metadata": {},
   "outputs": [],
   "source": [
    "from skyfield.api import load, EarthSatellite\n",
    "\n",
    "ts = load.timescale(builtin=True)\n",
    "\n",
    "t = ts.now()\n",
    "geocentric = iss.at(t)\n",
    "init_position = geocentric.position.km\n",
    "\n",
    "iss_mass = 419700 # kg\n",
    "projectile_mass  = 227 # kg\n",
    "\n",
    "L_c = gd.characteristic_lengths(iss_mass, projectile_mass, 100, True, debris_category.soc)\n",
    "lambda_c = np.log10(L_c)\n",
    "areas = gd.avg_area(L_c)\n",
    "AM = np.array(gd.distribution_AM(lambda_c, debris_category.soc))\n",
    "masses = areas / 10**AM\n",
    "deltaV = np.array(gd.distribution_deltaV(AM, 10, True))\n"
   ]
  },
  {
   "cell_type": "markdown",
   "metadata": {},
   "source": [
    "<h3>3.3 Converting Cartesian to Keplerian</h3>\n",
    "\n",
    "https://downloads.rene-schwarz.com/download/M002-Cartesian_State_Vectors_to_Keplerian_Orbit_Elements.pdf"
   ]
  },
  {
   "cell_type": "code",
   "execution_count": 221,
   "metadata": {},
   "outputs": [],
   "source": [
    "from numpy.linalg import norm\n",
    "\n",
    "grav_param_earth = 398600.4418 #km^3s^-2\n",
    "init_position = geocentric.position.km\n",
    "\n",
    "deb_positions = np.empty((len(AM), 3))\n",
    "deb_positions[:, :] = init_position[None,:]\n",
    "\n",
    "deb_velocities = gd.velocity_vectors(len(AM), geocentric.velocity.km_per_s, deltaV)\n",
    "\n",
    "orbital_momentums = np.cross(deb_positions, deb_velocities)\n",
    "unit_positions = np.divide(deb_positions, norm(deb_positions, axis=1)[:, None]) ## Double check\n",
    "eccentricities = (np.cross(deb_velocities, orbital_momentums) / grav_param_earth) - unit_positions"
   ]
  },
  {
   "cell_type": "code",
   "execution_count": 222,
   "metadata": {},
   "outputs": [],
   "source": [
    "ascending_node_direction = np.cross(np.array([0, 0, 1])[None, :], orbital_momentums)\n",
    "\n",
    "dot_ep = np.sum(eccentricities*deb_positions, axis=1)\n",
    "np.sum(eccentricities*deb_positions, axis=1)\n",
    "\n",
    "true_anomaly = np.arccos( dot_ep / (norm(eccentricities, axis=1) * norm(deb_positions, axis=1)))\n",
    "B = np.sum(deb_positions*deb_velocities, axis=1)<0\n",
    "true_anomaly[B] = 2*np.pi - true_anomaly[B]\n"
   ]
  },
  {
   "cell_type": "code",
   "execution_count": 223,
   "metadata": {},
   "outputs": [],
   "source": [
    "inclination = np.arccos(orbital_momentums[:, 2] / norm(orbital_momentums, axis=1))\n",
    "\n",
    "eccentricities_mag = norm(eccentricities, axis = 1)\n",
    "theta_ea = np.tan(true_anomaly/2) / np.sqrt((1 + eccentricities_mag)/(1 - eccentricities_mag))\n",
    "eccentric_anomaly = 2*np.arctan(theta_ea)"
   ]
  },
  {
   "cell_type": "code",
   "execution_count": 224,
   "metadata": {},
   "outputs": [
    {
     "name": "stdout",
     "output_type": "stream",
     "text": [
      "(5274775, 3)\n"
     ]
    }
   ],
   "source": [
    "# Longitude of ascending node, Omega\n",
    "long_ascending_node = np.arccos(ascending_node_direction[:,0]/norm(ascending_node_direction, axis=1))\n",
    "B = ascending_node_direction[:,1]<0\n",
    "long_ascending_node[B] = 2*np.pi - long_ascending_node[B]\n",
    "\n",
    "# Argument of periapsis, omega\n",
    "print(ascending_node_direction.shape)\n",
    "dot_ne = np.sum(ascending_node_direction*eccentricities, axis=1)\n",
    "arg_peri = np.arccos(dot_ne / (norm(ascending_node_direction, axis=1)*norm(eccentricities, axis=1)))\n",
    "B = eccentricities[:,2] < 0\n",
    "arg_peri[B] = 2*np.pi - arg_peri[B]\n",
    "\n",
    "# Mean anomaly\n",
    "mean_anomaly = eccentric_anomaly - norm(eccentricities,axis=1)*np.sin(eccentric_anomaly)\n",
    "\n",
    "# Semi major axis\n",
    "a = 1 / ((2/norm(deb_positions,axis=1)) - ((norm(deb_velocities, axis=1)**2) / grav_param_earth))\n",
    "\n",
    "#semi parameter\n",
    "p = norm(orbital_momentums, axis=1)**2 / grav_param_earth\n",
    "\n",
    "#Orbital period\n",
    "T = 2 * np.pi * np.sqrt(a**3 / grav_param_earth)"
   ]
  },
  {
   "cell_type": "code",
   "execution_count": 186,
   "metadata": {},
   "outputs": [
    {
     "data": {
      "text/plain": [
       "(5274775, 3)"
      ]
     },
     "execution_count": 186,
     "metadata": {},
     "output_type": "execute_result"
    }
   ],
   "source": [
    "deb_positions.shape"
   ]
  },
  {
   "cell_type": "code",
   "execution_count": 44,
   "metadata": {},
   "outputs": [],
   "source": []
  },
  {
   "cell_type": "code",
   "execution_count": null,
   "metadata": {},
   "outputs": [],
   "source": [
    "print(\"---- Pos. and Vel. ---\")\n",
    "print(\"pos: \", deb_positions[0,:], \"km\")\n",
    "print(\"vel: \", deb_velocities[0,:], \"km/s\")\n",
    "\n",
    "print(\"---- Orbital Elemets ---\")\n",
    "print(\"a: \", a[0]) # RIGHT\n",
    "print(\"e: \", eccentricities_mag[0]) #RIGHT\n",
    "print(\"i: \", inclination[0]) #RIGHT\n",
    "print(\"Omega: \", long_ascending_node[0]) #RIGHT\n",
    "print(\"omega: \", arg_peri[0]) #RIGHT\n",
    "print(\"M: \", mean_anomaly[0]) # UNABLE TO VERIFY\n",
    "print(\"v: \", true_anomaly[0]) #RIGHT"
   ]
  },
  {
   "cell_type": "markdown",
   "metadata": {},
   "source": [
    "<h3>3.4 Integrating Keplerian elements</h3>"
   ]
  },
  {
   "cell_type": "code",
   "execution_count": 225,
   "metadata": {
    "scrolled": true
   },
   "outputs": [],
   "source": [
    "## Shrink number of debris being used\n",
    "keplerian_states = np.array([a, eccentricities_mag, inclination, long_ascending_node, arg_peri, mean_anomaly, true_anomaly])\n",
    "indexes = np.random.default_rng().choice(len(a), size=10000, replace=False)\n",
    "\n",
    "\n",
    "keplerian_states = keplerian_states[:, indexes]\n",
    "masses = masses[indexes]\n",
    "areas = areas[indexes]\n",
    "deb_positions = deb_positions[indexes, :]\n",
    "deb_velocities = deb_velocities[indexes, :]"
   ]
  },
  {
   "cell_type": "markdown",
   "metadata": {},
   "source": [
    "<h3> Implementing drag </h3>\n",
    "\n",
    "\"where cd is the drag coefficient of the fragment, which is assumed to be constant and equal to 2.2 (Valdo)\""
   ]
  },
  {
   "cell_type": "code",
   "execution_count": 316,
   "metadata": {},
   "outputs": [],
   "source": [
    "from scipy.special import iv\n",
    "\n",
    "def de_dt_drag(t, e, a, A, M, r):\n",
    "    \"\"\"Returns differential equation modeling drag on each piece of debris\n",
    "    Args:\n",
    "        M (array): Mass\n",
    "        e (array): Eccentricity\n",
    "        A (array): Cross-sectionl Area\n",
    "        a (array): Semi-Major Axis\n",
    "        r (array): Position\n",
    "    \"\"\"\n",
    "    c_d = 2.2 # Drag coefficient\n",
    "    ecc_const_coef = (-(c_d * A) / M) # Used in all\n",
    "    altitude = np.linalg.norm(r) - earth_radius\n",
    "    atm_density = atmosphere_density(altitude)\n",
    "    I_k = lambda k, e: iv(k, (a * e) / scale_height(altitude))\n",
    "    print(altitude)\n",
    "    if ((0.01 <= e) & (e<= 0.2)):\n",
    "        return (ecc_const_coef * np.sqrt(grav_param_earth / a) * atm_density)\n",
    "    elif (0.001 <= e) & (e<= 0.01):\n",
    "        return (ecc_const_coef * np.sqrt(grav_param_earth / a) * atm_density * (I_k(1, e) + (e/2)*(I_k(0, e) + I_k(2, e))))\n",
    "    else:\n",
    "        return 0\n",
    "    \n",
    "#     de_dt = np.empty(len(a), dtype=object)\n",
    "#     indexes_1 = np.where((0.01 <= e) & (e<= 0.2))\n",
    "#     indexes_2 = np.where((0.001 <= e) & (e<= 0.01))\n",
    "#     indexes_3 = np.where(e < 0.001)    \n",
    "#     de_dt[indexes_1] = lambda e :(ecc_const_coef[indexes_1] * np.sqrt(grav_param_earth / a[indexes_1]) * atm_density)\n",
    "#     de_dt[indexes_2] = lambda e :(ecc_const_coef[indexes_2] * np.sqrt(grav_param_earth / a[indexes_2]) * atm_density * (I_k(1, e) + (e/2)*(I_k(0, e) + I_k(2, e))))\n",
    "#     de_dt[indexes_3] = lambda e :0\n",
    "   \n",
    "    \n",
    "# def da_dt_drag(a, e, A, M, r):\n",
    "#     \"\"\"Returns differential equation modeling drag on each piece of debris\n",
    "#     Args:\n",
    "#         M (array): Mass\n",
    "#         e (array): Eccentricity\n",
    "#         A (array): Cross-sectionl Area\n",
    "#         a (array): Semi-Major Axis\n",
    "#         r (array): Position\n",
    "#     \"\"\"\n",
    "#     c_d = 2.2 # Drag coefficient\n",
    "#     semi_const_coef = (-(c_d * A) / M) # Used in all\n",
    "#     altitude = np.linalg.norm(r, axis = 1) - earth_radius\n",
    "#     atm_density = atmosphere_density(altitude)\n",
    "#     I_k = lambda k: iv(k, (a * e) / scale_height(altitude))\n",
    "#     da_dt = np.empty(len(a), dtype=object)\n",
    "#     indexes_1 = np.where((0.01 <= e) & (e<= 0.2))\n",
    "#     indexes_2 = np.where((0.001 <= e) & (e<= 0.01))\n",
    "#     indexes_3 = np.where(e < 0.001)    \n",
    "#     bessel_func = (I_k(0) + 2*e*I_k(1) + (3/4)*e**2*(I_k(0) + I_k(2)) + (e**3/4)*(3*I_k(1) + I_k(3)))\n",
    "    \n",
    "#     da_dt[indexes_1] = lambda e : (semi_const_coef * np.sqrt(grav_param_earth * a) * atm_density * bessel_func)[indexes_1]\n",
    "#     da_dt[indexes_2] = lambda e :(semi_const_coef * np.sqrt(grav_param_earth * a) * atm_density * (I_k(0) + 2*e*I_k(1)))[indexes_2]\n",
    "#     da_dt[indexes_3] = lambda e : (semi_const_coef * np.sqrt(grav_param_earth * a) * atm_density)[indexes_3]\n",
    "#     return da_dt\n",
    "\n",
    "# Only works for one at a time\n",
    "def da_dt_drag(t, e, a, A, M, r):\n",
    "    c_d = 2.2 # Drag coefficient\n",
    "    semi_const_coef = (-(c_d * A) / M) # Used in all\n",
    "    altitude = np.linalg.norm(r) - earth_radius\n",
    "    print(\"Alt: \", altitude)\n",
    "    atm_density = atmosphere_density(altitude)\n",
    "    I_k = lambda k: iv(k, (a * e) / scale_height(altitude))\n",
    "    bessel_func = (I_k(0) + 2*e*I_k(1) + (3/4)*e**2*(I_k(0) + I_k(2)) + (e**3/4)*(3*I_k(1) + I_k(3)))\n",
    "    \n",
    "    if ((0.01 <= e) & (e<= 0.2)):\n",
    "        return (semi_const_coef * np.sqrt(grav_param_earth * a) * atm_density * bessel_func)\n",
    "    elif (0.001 <= e) & (e<= 0.01):\n",
    "        return (semi_const_coef * np.sqrt(grav_param_earth * a) * atm_density * (I_k(0) + 2*e*I_k(1)))\n",
    "    else:\n",
    "        return (semi_const_coef * np.sqrt(grav_param_earth * a) * atm_density)\n",
    "        \n",
    "    \n",
    "#de_dt = de_dt_drag(keplerian_states[0, :], keplerian_states[1, :], areas, masses, deb_positions)\n",
    "#da_dt = da_dt_drag(keplerian_states[0, 0], keplerian_states[1, 0], areas[0], masses[0], deb_positions[0, :])"
   ]
  },
  {
   "cell_type": "code",
   "execution_count": 269,
   "metadata": {},
   "outputs": [
    {
     "data": {
      "text/plain": [
       "array([ 5564.49668025, -1342.38667182, -3674.49096184])"
      ]
     },
     "execution_count": 269,
     "metadata": {},
     "output_type": "execute_result"
    }
   ],
   "source": [
    "deb_positions[0, :]"
   ]
  },
  {
   "cell_type": "code",
   "execution_count": 317,
   "metadata": {},
   "outputs": [
    {
     "name": "stdout",
     "output_type": "stream",
     "text": [
      "Alt:  424.0224279072236\n",
      "Alt:  424.0224279072236\n",
      "Alt:  424.0224279072236\n",
      "Alt:  424.0224279072236\n",
      "Alt:  424.0224279072236\n",
      "Alt:  424.0224279072236\n",
      "Alt:  424.0224279072236\n",
      "Alt:  424.0224279072236\n",
      "Alt:  424.0224279072236\n",
      "Alt:  424.0224279072236\n",
      "Alt:  424.0224279072236\n",
      "Alt:  424.0224279072236\n",
      "Alt:  424.0224279072236\n",
      "Alt:  424.0224279072236\n",
      "Alt:  424.0224279072236\n",
      "Alt:  424.0224279072236\n",
      "Alt:  424.0224279072236\n",
      "Alt:  424.0224279072236\n",
      "Alt:  424.0224279072236\n",
      "Alt:  424.0224279072236\n",
      "Alt:  424.0224279072236\n",
      "Alt:  424.0224279072236\n",
      "Alt:  424.0224279072236\n",
      "Alt:  424.0224279072236\n",
      "Alt:  424.0224279072236\n",
      "Alt:  424.0224279072236\n",
      "Alt:  424.0224279072236\n",
      "Alt:  424.0224279072236\n",
      "Alt:  424.0224279072236\n",
      "Alt:  424.0224279072236\n",
      "Alt:  424.0224279072236\n",
      "Alt:  424.0224279072236\n",
      "Alt:  424.0224279072236\n",
      "Alt:  424.0224279072236\n",
      "Alt:  424.0224279072236\n",
      "Alt:  424.0224279072236\n",
      "Alt:  424.0224279072236\n",
      "Alt:  424.0224279072236\n",
      "Alt:  424.0224279072236\n",
      "Alt:  424.0224279072236\n",
      "Alt:  424.0224279072236\n",
      "Alt:  424.0224279072236\n",
      "Alt:  424.0224279072236\n",
      "Alt:  424.0224279072236\n",
      "Alt:  424.0224279072236\n",
      "Alt:  424.0224279072236\n",
      "Alt:  424.0224279072236\n",
      "Alt:  424.0224279072236\n",
      "Alt:  424.0224279072236\n",
      "Alt:  424.0224279072236\n",
      "Alt:  424.0224279072236\n",
      "Alt:  424.0224279072236\n",
      "Alt:  424.0224279072236\n",
      "Alt:  424.0224279072236\n",
      "Alt:  424.0224279072236\n",
      "Alt:  424.0224279072236\n"
     ]
    }
   ],
   "source": [
    "t1, t2, dt = 0, 60*60*600, 60*10\n",
    "times      = np.arange(t1, t2, dt)\n",
    "#output1 = integrate.solve_ivp(de_dt_drag, (t1, t2), [keplerian_states[1, 0]],t_eval = times, args = (keplerian_states[0, 0], areas[0], masses[0], deb_positions[0, :]), vectorized=True).y[0]\n",
    "output2 = integrate.solve_ivp(da_dt_drag, (t1, t2), [keplerian_states[1, 0]],t_eval = times, args = (keplerian_states[0, 0], areas[0], masses[0], deb_positions[0, :]), vectorized=True).y[0]"
   ]
  },
  {
   "cell_type": "code",
   "execution_count": 314,
   "metadata": {},
   "outputs": [],
   "source": [
    "output.y[0]\n",
    "plt.plot(output1, times)\n",
    "plt.show()"
   ]
  },
  {
   "cell_type": "code",
   "execution_count": null,
   "metadata": {},
   "outputs": [],
   "source": [
    "# Works but could be better\n",
    "def EccAnom(ec,M): \n",
    "  #ec=eccentricity, M=mean anomaly,\n",
    "    i=0\n",
    "    delta=10e-10; \n",
    "    E = []\n",
    "    if (ec.all()<0.8):\n",
    "        E=M\n",
    "    else:\n",
    "        E= M + np.sin(M)\n",
    "        \n",
    "    F = E - ec*np.sin(E) - M\n",
    "    while ((np.abs(F).all()>delta) and (i<50)):\n",
    "        E = E - F/(1.0-(ec* np.cos(E) ))\n",
    "        F = E - ec * np.sin(E) - M\n",
    "        i += 1\n",
    "    return E\n"
   ]
  },
  {
   "cell_type": "code",
   "execution_count": null,
   "metadata": {},
   "outputs": [],
   "source": [
    "import gc\n",
    "\n",
    "t1, t2, dt = 0, 60*60*6, 60*10\n",
    "times      = np.arange(t1, t2, dt)\n",
    "\n",
    "mean_anomlay_rate_of_change = np.sqrt(grav_param_earth/a**3)\n",
    "\n",
    "Nd = len(mean_anomlay_rate_of_change)\n",
    "Nt = len(times)\n",
    "\n",
    "eccentric_animales_vs_time = np.empty(shape=(Nd, Nt), dtype=np.float32)\n",
    "for i in range(Nt):\n",
    "    mean_anm_temp\n",
    "\n",
    "mean_anomalies_vs_time = mean_anomaly[:, None] + mean_anomlay_rate_of_change[:, None] * times[None, :]\n",
    "mean_anomalies_vs_time = mean_anomalies_vs_time % (2*np.pi)\n",
    "\n",
    "eccentric_anomalies_vs_time = EccAnom(eccentricities_mag[:, None], mean_anomalies_vs_time)\n",
    "x1 = np.sqrt(1 + eccentricities_mag)[:, None]*np.sin(eccentric_anomalies_vs_time / 2)\n",
    "x2 = np.sqrt(1 - eccentricities_mag)[:, None]*np.cos(eccentric_anomalies_vs_time / 2)\n",
    "true_anomalies_vs_time = 2*np.arctan2(x1, x2) % (2*np.pi)"
   ]
  },
  {
   "cell_type": "markdown",
   "metadata": {},
   "source": [
    "<h3>3.5 Converting Keplerian to Cartesian</h3>\n",
    "\n",
    "https://downloads.rene-schwarz.com/download/M001-Keplerian_Orbit_Elements_to_Cartesian_State_Vectors.pdf"
   ]
  },
  {
   "cell_type": "code",
   "execution_count": null,
   "metadata": {},
   "outputs": [],
   "source": [
    "import gc\n",
    "\n",
    "def keplerian_to_cartesian(Omega, omega, i, p, v, e, mu=grav_param_earth):\n",
    "\n",
    "    cos_Omega = np.cos(Omega)\n",
    "    cos_omega = np.cos(omega)\n",
    "    cos_i = np.cos(i)\n",
    "    sin_Omega = np.sin(Omega)\n",
    "    sin_omega = np.sin(omega)\n",
    "    sin_i = np.sin(i)\n",
    "    \n",
    "\n",
    "    rot_mat = np.array(     [(cos_Omega*cos_omega - sin_Omega*sin_omega*cos_i, -cos_Omega*sin_omega - sin_Omega*cos_omega*cos_i, sin_Omega*sin_i),\n",
    "                            (sin_Omega*cos_omega + cos_Omega*sin_omega*cos_i, -sin_Omega*sin_omega + cos_Omega*cos_omega*cos_i, -cos_Omega*sin_i),\n",
    "                            (sin_omega*sin_i, cos_omega*sin_i, cos_i)    ],dtype = np.float32).T\n",
    "    \n",
    "    del cos_Omega, cos_omega, cos_i\n",
    "    del sin_Omega, sin_omega, sin_i\n",
    "    gc.collect()\n",
    "    \n",
    "    r_pqw = np.array(((p[:, None]*np.cos(v)) / (1 + e[:, None]*np.cos(v)),\n",
    "                      (p[:, None]*np.sin(v)) / (1 + e[:, None]*np.cos(v)),\n",
    "                     np.zeros((len(Omega), v.shape[1]))), dtype = np.float32).T\n",
    "    v_pqw = np.array((-np.sqrt(mu / p)[:, None]*np.sin(v),\n",
    "                      np.sqrt(mu / p)[:, None] * (e[:, None] + np.cos(v)),\n",
    "                      np.zeros((len(Omega), v.shape[1]))), dtype = np.float32).T\n",
    "    \n",
    "    pos = np.sum(rot_mat*r_pqw[:, :,:,  None], axis=2)\n",
    "    \n",
    "    vel = np.sum(rot_mat*v_pqw[:, :,:,  None], axis=2)\n",
    "    \n",
    "    \n",
    "    \n",
    "    return np.array([pos, vel], dtype = np.float32)\n",
    "\n",
    "cartesian_state = keplerian_to_cartesian(Omega = long_ascending_node, omega = arg_peri,i= inclination, p=p,v= true_anomalies_vs_time, e = eccentricities_mag)"
   ]
  },
  {
   "cell_type": "markdown",
   "metadata": {},
   "source": [
    "# NEED TO ASK ABOUT INTEGRATION AND ARRAY FRIENDLY CONVERSION\n",
    "<h3>3.6 Performing the integration </h3>"
   ]
  },
  {
   "cell_type": "markdown",
   "metadata": {},
   "source": [
    "<h1>4. Visualization </h1>"
   ]
  },
  {
   "cell_type": "code",
   "execution_count": null,
   "metadata": {},
   "outputs": [],
   "source": [
    "# Creating 3D plot showing orbital information\n",
    "# earth_radius = 6378.0 #km\n",
    "\n",
    "# def create_3D_plot():\n",
    "#     theta = np.linspace(0,2*np.pi, 360)\n",
    "#     r = (a*(1-eccentricities_mag**2))/(1+eccentricities_mag*np.cos(theta)[:, None])\n",
    "#     plt.polar(theta, r)\n",
    "#     plt.show()\n",
    "# #     fig = plt.figure()\n",
    "# #     ax = fig.add_subplot(111, projection=\"3d\")\n",
    "    \n",
    "# #     # Plot central body\n",
    "# #     _u, _v = np.mgrid[0:2*np.pi:20j, 0:np.pi:10j]\n",
    "# #     _x = earth_radius*np.cos(_u)*np.sin(_v)\n",
    "# #     _y = earth_radius*np.sin(_u)*np.sin(_v)\n",
    "# #     _z = earth_radius*np.cos(_v)\n",
    "# #     ax.plot_surface(_x, _y, _z, cmap=cm.hot)\n",
    "    \n",
    "# #     # Plot axis\n",
    "# #     unit = earth_radius * 2\n",
    "# #     x,y,z = [[0, 0, 0], [0, 0, 0], [0, 0, 0]]\n",
    "# #     u, v, w =[[unit, 0, 0], [0, unit, 0], [0, 0, unit]]\n",
    "# #     ax.quiver(x,y,z, u, v, w, color='k')\n",
    "    \n",
    "# #     ax.set_xlim([-2.1*earth_radius, 2.1*earth_radius])\n",
    "# #     ax.set_ylim([-2.1*earth_radius, 2.1*earth_radius])\n",
    "# #     ax.set_zlim([-2.1*earth_radius, 2.1*earth_radius])\n",
    "    \n",
    "# #     # Plot debris\n",
    "# #     posititions_subset = positions[:, :1, :]\n",
    "# #     ax.scatter(posititions_subset[:, :, 0], posititions_subset[:, :, 1], posititions_subset[:, : ,2], 'k', label=\"Debris\")    \n",
    "# #     plt.show()\n",
    "    \n",
    "# create_3D_plot()"
   ]
  },
  {
   "cell_type": "code",
   "execution_count": null,
   "metadata": {},
   "outputs": [],
   "source": []
  },
  {
   "cell_type": "code",
   "execution_count": null,
   "metadata": {},
   "outputs": [],
   "source": []
  },
  {
   "cell_type": "code",
   "execution_count": null,
   "metadata": {},
   "outputs": [],
   "source": []
  },
  {
   "cell_type": "code",
   "execution_count": null,
   "metadata": {},
   "outputs": [],
   "source": [
    "import mpl_toolkits.mplot3d.axes3d as p3\n",
    "from matplotlib.animation import FuncAnimation\n",
    "from matplotlib.animation import FFMpegWriter\n",
    "\n",
    "data = cartesian_state[0, :, :1000, :]\n",
    "\n",
    "def animate_scatters(iteration, data, scatters):\n",
    "    \"\"\"\n",
    "    Update the data held by the scatter plot and therefore animates it.\n",
    "    Args:\n",
    "        iteration (int): Current iteration of the animation\n",
    "        data (list): List of the data positions at each iteration.\n",
    "        scatters (list): List of all the scatters (One per element)\n",
    "    Returns:\n",
    "        list: List of scatters (One per element) with new coordinates\n",
    "    \"\"\"\n",
    "    for i in range(data[0].shape[0]):\n",
    "        scatters[i]._offsets3d = (data[iteration][i,0:1], data[iteration][i,1:2], data[iteration][i,2:])\n",
    "        scatters[i].set_color\n",
    "    return scatters\n",
    "\n",
    "fig = plt.figure()\n",
    "ax = p3.Axes3D(fig)\n",
    "\n",
    "ax.set_xlim3d(-6378.0-1000, 6378.0+1000)\n",
    "ax.set_xlabel('X (km)')\n",
    "\n",
    "ax.set_ylim3d([-6378.0-1000, 6378.0+1000])\n",
    "ax.set_ylabel('Y (km)')\n",
    "\n",
    "ax.set_zlim3d([-6378.0-1000, 6378.0+1000])\n",
    "ax.set_zlabel('Z (km)')\n",
    "\n",
    "# Plot central body\n",
    "# earth_radius = 6378.0 #km\n",
    "# _u, _v = np.mgrid[0:2*np.pi:20j, 0:np.pi:10j]\n",
    "# _x = earth_radius*np.cos(_u)*np.sin(_v)\n",
    "# _y = earth_radius*np.sin(_u)*np.sin(_v)\n",
    "# _z = earth_radius*np.cos(_v)\n",
    "# ax.plot_wireframe(_x, _y, _z)\n",
    "\n",
    "\n",
    "# Initialize scatters\n",
    "scatters = [ ax.scatter(data[0][i,0:1], data[0][i,1:2], data[0][i,2:]) for i in range(data[0].shape[0]) ]\n",
    "\n",
    "# # Number of iterations\n",
    "# iterations = len(data)\n",
    "# ani = FuncAnimation(fig, animate_scatters, iterations, fargs=(data, scatters),\n",
    "#                                        interval=200, blit=False, repeat=False)\n",
    "\n",
    "# writervideo = FFMpegWriter(fps=5) \n",
    "# ani.save(\"test.mp4\", writer=writervideo)"
   ]
  }
 ],
 "metadata": {
  "kernelspec": {
   "display_name": "venv",
   "language": "python",
   "name": "venv"
  },
  "language_info": {
   "codemirror_mode": {
    "name": "ipython",
    "version": 3
   },
   "file_extension": ".py",
   "mimetype": "text/x-python",
   "name": "python",
   "nbconvert_exporter": "python",
   "pygments_lexer": "ipython3",
   "version": "3.9.0"
  }
 },
 "nbformat": 4,
 "nbformat_minor": 4
}
