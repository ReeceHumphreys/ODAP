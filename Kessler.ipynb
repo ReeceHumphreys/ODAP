{
 "cells": [
  {
   "cell_type": "markdown",
   "metadata": {},
   "source": [
    "<h1>0. Packages</h1>"
   ]
  },
  {
   "cell_type": "code",
   "execution_count": 1,
   "metadata": {},
   "outputs": [],
   "source": [
    "from importlib import reload\n",
    "import numpy as np\n",
    "import re\n",
    "import skyfield.sgp4lib as spg4\n",
    "import matplotlib \n",
    "import PyQt5\n",
    "\n",
    "# User defined lib.\n",
    "import generate_debris as gd\n",
    "import CoordTransforms as ct\n",
    "\n",
    "reload(gd)\n",
    "reload(ct)\n",
    "\n",
    "matplotlib.use('Agg')\n",
    "import matplotlib.pyplot as plt\n",
    "from scipy.stats import uniform\n",
    "from scipy.stats import norm\n",
    "import scipy.stats as stats\n",
    "from enum import IntEnum    \n",
    "from mpl_toolkits.mplot3d import Axes3D\n",
    "import matplotlib.pyplot as plt\n",
    "import numpy as np\n",
    "from itertools import product, combinations\n",
    "from matplotlib import cm\n",
    "from scipy import integrate\n",
    "import pandas as pd\n",
    "from numba import njit, prange\n",
    "\n",
    "\n",
    "%matplotlib qt5\n",
    "\n",
    "debris_category = IntEnum('Category', 'rb sc soc')"
   ]
  },
  {
   "cell_type": "markdown",
   "metadata": {},
   "source": [
    "<h1>1. Data Structure</h1>\n",
    "\n",
    "<h3>1.1 Satellite Structure</h3>\n",
    "\n",
    "Creating an object to represent satellite from 3le.txt <br>\n",
    "May end up using implementation from another package\n",
    "\n",
    "<b>Data sources:<b><br>\n",
    "https://www.space-track.org    \n",
    "https://www.celestrak.com/NORAD/documentation/spacetrk.pdf\n",
    "\n",
    "<b>Information about 3le/2le:</b><br>\n",
    "https://en.wikipedia.org/wiki/Two-line_element_set#cite_note-nasahelp-12\n",
    "https://spaceflight.nasa.gov/realdata/sightings/SSapplications/Post/JavaSSOP/SSOP_Help/tle_def.html"
   ]
  },
  {
   "cell_type": "code",
   "execution_count": 2,
   "metadata": {},
   "outputs": [],
   "source": [
    "class two_line_element:\n",
    "    \n",
    "    def __init__(self, data):\n",
    "        self.parse_data(data)\n",
    "        \n",
    "    def parse_data(self, satelite_data):\n",
    "        self.title = satelite_data[0]\n",
    "        line_one = satelite_data[1].split()\n",
    "        line_two = satelite_data[2].split()\n",
    "\n",
    "        self.catalog_number = re.search('[0-9]{1,5}', line_one[0]).group()\n",
    "        self.classification = re.search('[UCS]', line_one[0]).group()\n",
    "\n",
    "        international_designator = re.search('([0-9]{2})([0-9]{3})(\\w{1,3})', line_one[1])\n",
    "        self.launch_year = international_designator.group(1)\n",
    "        self.launch_number = international_designator.group(2)\n",
    "        self.launch_piece =  international_designator.group(3)\n",
    "\n",
    "        epoch = re.search('([0-9]{2})(\\d+\\.\\d+)', line_one[2])\n",
    "        self.epoch_year = epoch.group(1)\n",
    "        self.epoch_day = epoch.group(2)\n",
    "\n",
    "        self.ballistic_coefficient = float(line_one[3])\n",
    "        self.mean_motion_double_prime = line_one[4]\n",
    "        self.BSTAR = line_one[5]\n",
    "\n",
    "        self.inclination = line_two[1]\n",
    "        self.right_ascension_of_ascending_node = line_two[2]\n",
    "        self.eccentricity = line_two[3]\n",
    "        self.argument_of_perigee = line_two[4]\n",
    "\n",
    "        mean_anomaly = line_two[5]"
   ]
  },
  {
   "cell_type": "markdown",
   "metadata": {},
   "source": [
    "<h3>Data structure implementation using spg4 from skyfield library<h3>"
   ]
  },
  {
   "cell_type": "code",
   "execution_count": 3,
   "metadata": {},
   "outputs": [
    {
     "name": "stdout",
     "output_type": "stream",
     "text": [
      "('0 VANGUARD 1', '1     5U 58002B   19352.86539842  .00000184  00000-0  20948-3 0  9994', '2     5  34.2610  67.7117 1845282 255.2293  83.7559 10.84789954185624')\n"
     ]
    }
   ],
   "source": [
    "# Opening the .txt file\n",
    "with open(\"3le.txt\") as f:\n",
    "    txt = f.read()\n",
    "    \n",
    "sat_lines = re.findall('(.*?)\\n(.*?)\\n(.*?)\\n', txt)\n",
    "\n",
    "# Preview of `sat_lines`, each element should be the three lines representing a satellite\n",
    "print(sat_lines[0])\n",
    "\n",
    "# Convert each group of 3 lines into a satelite object\n",
    "def line_element_to_satellite(lines):\n",
    "    title = lines[0]\n",
    "    line1 = lines[1]\n",
    "    line2 = lines[2]\n",
    "    return spg4.EarthSatellite(line1, line2, name=title)\n",
    "\n",
    "satellites = [line_element_to_satellite(lines) for lines in sat_lines]\n",
    "\n",
    "# Verify data structure by finding element representing the ISS\n",
    "iss_index = [sat.name for sat in satellites].index(\"0 ISS (ZARYA)\")\n",
    "iss = satellites[iss_index]"
   ]
  },
  {
   "cell_type": "markdown",
   "metadata": {},
   "source": [
    "<h3>1.2 Celestial Bodies</h3>\n",
    "\n",
    "\n",
    "de421.bsp is a Ephemerides provided by JPL Horizon which has the calculated positions of celestial bodies within a certain time interval. de421 is commonly used due to its small size and its relativley up to date information"
   ]
  },
  {
   "cell_type": "code",
   "execution_count": 4,
   "metadata": {},
   "outputs": [],
   "source": [
    "from skyfield.api import load, EarthSatellite\n",
    "ts = load.timescale(builtin=True)\n",
    "\n",
    "# Loading the data from de421.bsp using skyfield \n",
    "planets = load('de421.bsp')\n",
    "\n",
    "# Finding the data about Earth\n",
    "earth = planets[\"Earth\"]"
   ]
  },
  {
   "cell_type": "markdown",
   "metadata": {},
   "source": [
    "<h3>1.3 Celestial Bodies</h3>\n",
    "\n",
    "Plotting the satellite data in a 3D view.<br>\n",
    "Accidently broke my implementation so need to start with the below base and get it to plot the ISS again.\n",
    "\n",
    "<b>Source:</b> https://space.stackexchange.com/questions/25958/how-can-i-plot-a-satellites-orbit-in-3d-from-a-tle-using-python-and-skyfield"
   ]
  },
  {
   "cell_type": "code",
   "execution_count": null,
   "metadata": {},
   "outputs": [],
   "source": []
  },
  {
   "cell_type": "markdown",
   "metadata": {},
   "source": [
    "<h1>2. Breakup Models</h1>\n",
    "\n",
    "<h3>2.1 NASA breakup model</h3>\n",
    "\n",
    "<b>Implementation:</b> (Found on page 207)<br>\n",
    "https://www.researchgate.net/publication/295490674_Space_debris_cloud_evolution_in_Low_Earth_Orbit\n",
    "\n",
    "<b>Alternate implementation:</b><br>\n",
    "https://gitlab.obspm.fr/apetit/nasa-breakup-model/tree/master\n",
    "\n",
    "<b>Information:</b><br>\n",
    "https://digitalcommons.calpoly.edu/cgi/viewcontent.cgi?referer=https://en.wikipedia.org/&httpsredir=1&article=1094&context=theses\n",
    "\n",
    "\n",
    "<b>Now implemented in file generate_debris.py</b><br>"
   ]
  },
  {
   "cell_type": "markdown",
   "metadata": {},
   "source": [
    "<h3>2.2 NASA breakup model validation</h3>"
   ]
  },
  {
   "cell_type": "code",
   "execution_count": 5,
   "metadata": {
    "scrolled": true
   },
   "outputs": [
    {
     "data": {
      "text/html": [
       "<div>\n",
       "<style scoped>\n",
       "    .dataframe tbody tr th:only-of-type {\n",
       "        vertical-align: middle;\n",
       "    }\n",
       "\n",
       "    .dataframe tbody tr th {\n",
       "        vertical-align: top;\n",
       "    }\n",
       "\n",
       "    .dataframe thead th {\n",
       "        text-align: right;\n",
       "    }\n",
       "</style>\n",
       "<table border=\"1\" class=\"dataframe\">\n",
       "  <thead>\n",
       "    <tr style=\"text-align: right;\">\n",
       "      <th></th>\n",
       "      <th>&gt;0.001m</th>\n",
       "      <th>&gt;0.01m</th>\n",
       "      <th>&gt;0.1m</th>\n",
       "      <th>&gt;1m</th>\n",
       "    </tr>\n",
       "  </thead>\n",
       "  <tbody>\n",
       "    <tr>\n",
       "      <th>0</th>\n",
       "      <td>378524</td>\n",
       "      <td>9478</td>\n",
       "      <td>222</td>\n",
       "      <td>5</td>\n",
       "    </tr>\n",
       "  </tbody>\n",
       "</table>\n",
       "</div>"
      ],
      "text/plain": [
       "   >0.001m  >0.01m  >0.1m  >1m\n",
       "0   378524    9478    222    5"
      ]
     },
     "execution_count": 5,
     "metadata": {},
     "output_type": "execute_result"
    }
   ],
   "source": [
    "# Explosion Case\n",
    "\n",
    "reload(gd)\n",
    "\n",
    "L_c, areas, masses, AM = gd.fragmentation(1000, 0, 0, False, debris_category.rb, True)\n",
    "\n",
    "bins = [1e-3, 1e-2, 1e-1, 1, np.inf] # L_c bins in meters\n",
    "h,b = np.histogram(L_c, bins=bins)\n",
    "\n",
    "ch = [ { f'>{bins[i]}m':np.sum(h[i:]) for i in range(len(h))}]\n",
    "\n",
    "df = pd.DataFrame(ch)\n",
    "df"
   ]
  },
  {
   "cell_type": "code",
   "execution_count": null,
   "metadata": {},
   "outputs": [],
   "source": []
  },
  {
   "cell_type": "code",
   "execution_count": 6,
   "metadata": {
    "scrolled": true
   },
   "outputs": [],
   "source": [
    "# reload(gd)\n",
    "\n",
    "\n",
    "# L_c = gd.characteristic_lengths(1000, 10, 10, True, debris_category.rb, False)\n",
    "# N_fragments_total = L_c.shape[0]\n",
    "# lambda_c = np.log10(L_c)\n",
    "# areas = gd.avg_area(L_c)\n",
    "\n",
    "# def create_log_bins(values, nbins=100):\n",
    "#     #return np.geomspace(values.min(), values.max(), nbins)\n",
    "#     bins = np.geomspace(values.min(), values.max(), nbins)\n",
    "#     a = bins[1]/bins[0]\n",
    "#     bins = np.concatenate([[bins[0]/a], bins,[bins[-1]*a]])\n",
    "#     return bins\n",
    "\n",
    "# Validating L_c\n",
    "# L_c = gd.characteristic_lengths(1000, 10, 10, True, debris_category.rb, False)\n",
    "# h, b = np.histogram(L_c, bins=create_log_bins(L_c))\n",
    "# plt.figure(figsize=(5,5))\n",
    "# plt.xscale('log')\n",
    "# plt.xlabel(r'$L_{c}$')\n",
    "# plt.ylabel(r'$N_f$')\n",
    "# plt.plot((b[:-1] + b[1:])/2, h, '.-')\n",
    "# plt.show()\n",
    "# np.mean(counts)\n",
    "\n",
    "\n",
    "# Validating Areas\n",
    "# h, b = np.histogram(areas, bins=create_log_bins(areas))\n",
    "# plt.figure(figsize=(5,5))\n",
    "# plt.xscale('log')\n",
    "# plt.xlabel(r'$Areas$')\n",
    "# plt.ylabel(r'$N_f$')\n",
    "# plt.plot((b[:-1] + b[1:])/2, h, '.-')\n",
    "# plt.show()\n",
    "\n",
    "# I = np.argwhere(b > 10e-2)\n",
    "# count = np.sum(h[I - 1])\n",
    "# print(count)\n",
    "# # Validating Mass & Velocity\n",
    "# AM = np.array(gd.distribution_AM(lambda_c, gd.debris_category.rb))\n",
    "# masses = areas / 10**AM\n",
    "\n",
    "# h, b = np.histogram(masses, bins=create_log_bins(masses))\n",
    "# plt.figure(figsize=(5,5))\n",
    "# plt.xscale('log')\n",
    "# plt.xlabel(r'$Masses$')\n",
    "# plt.ylabel(r'$N_f$')\n",
    "# plt.gca().set_yticks([0, 2, 4, 6, 8])\n",
    "# plt.gca().set_xticks([1e-8, 1e-5, 1e-2, 10, 1e4])\n",
    "# plt.gca().set_xlim([1e-8,1e4])\n",
    "# plt.gca().set_ylim([0,8])\n",
    "# plt.grid()\n",
    "# plt.plot((b[:-1] + b[1:])/2, h/1e5, '.-')\n",
    "# plt.show()\n",
    "\n",
    "# # Validating Velocity\n",
    "# deltaV = np.array(gd.distribution_deltaV(AM, 10, True))\n",
    "\n",
    "\n",
    "# h, b = np.histogram(deltaV, bins=create_log_bins(deltaV))\n",
    "# plt.figure(figsize=(5,5))\n",
    "# plt.xscale('log')\n",
    "# plt.xlabel(r'$\\delta V$')\n",
    "# plt.ylabel(r'$N_f$')\n",
    "# plt.gca().set_yticks([0, 2, 4, 6, 8])\n",
    "# plt.gca().set_xticks([1e-3, 1e-2, 1e-1, 1, 10])\n",
    "# plt.gca().set_xlim([1e-3,10])\n",
    "# plt.gca().set_ylim([0,8])\n",
    "# plt.grid()\n",
    "# plt.plot((b[:-1] + b[1:])/2, h/1e5, '.-')\n",
    "# plt.show()"
   ]
  },
  {
   "cell_type": "markdown",
   "metadata": {},
   "source": [
    "<h3>2.3 and Onward will be alternate breakup models</h3>"
   ]
  },
  {
   "cell_type": "markdown",
   "metadata": {},
   "source": [
    "<h1>3. Numerical Propagation</h1>"
   ]
  },
  {
   "cell_type": "markdown",
   "metadata": {},
   "source": [
    "<h3>3.1 Modeling the Atmosphere</h3>"
   ]
  },
  {
   "cell_type": "code",
   "execution_count": 7,
   "metadata": {},
   "outputs": [],
   "source": [
    "excel_file = \"AtmosphericModelValues.xlsx\"\n",
    "earth_radius = 6378.0 #km\n",
    "tabulated_values = pd.read_excel(excel_file, engine=\"openpyxl\")\n",
    "\n",
    "def atmosphere_density(altitude):\n",
    "    \n",
    "    bins = tabulated_values['Altitude Lower Bound (km)'].values\n",
    "    base_altitude = tabulated_values['Base Altitude (km)'].values\n",
    "    nominal_density = tabulated_values['Nominal Density (kg/m^3)'].values\n",
    "    scale_height = tabulated_values['Scale Height (km)'].values\n",
    "    i = np.digitize(altitude, bins) - 1\n",
    "    return (nominal_density[i]*np.exp(-(altitude-base_altitude[i])/(scale_height[i])))\n",
    "\n",
    "def scale_height(altitude):\n",
    "    bins = tabulated_values['Altitude Lower Bound (km)'].values\n",
    "    scale_height = tabulated_values['Scale Height (km)'].values\n",
    "    i = np.digitize(altitude, bins) - 1\n",
    "    return scale_height[i]\n"
   ]
  },
  {
   "cell_type": "markdown",
   "metadata": {},
   "source": [
    "<h3>3.2 Calculating Orbital Debris Properties</h3>"
   ]
  },
  {
   "cell_type": "code",
   "execution_count": 8,
   "metadata": {},
   "outputs": [],
   "source": [
    "from skyfield.api import load, EarthSatellite\n",
    "\n",
    "ts = load.timescale(builtin=True)\n",
    "\n",
    "t_fragmentation = ts.now()\n",
    "geocentric = iss.at(t_fragmentation)\n",
    "init_position = geocentric.position.km\n",
    "\n",
    "iss_mass = 41970 # kg (reduced by an order of mag for sim purposes)\n",
    "projectile_mass  = 227 # kg\n",
    "\n",
    "L_c, areas, masses, AM = gd.fragmentation(iss_mass, projectile_mass, 5, False, debris_category.soc, False)\n",
    "deltaV = np.array(gd.distribution_deltaV(AM, 10, True))"
   ]
  },
  {
   "cell_type": "markdown",
   "metadata": {},
   "source": [
    "<h3>3.3 Converting Cartesian to Keplerian</h3>"
   ]
  },
  {
   "cell_type": "code",
   "execution_count": 9,
   "metadata": {},
   "outputs": [],
   "source": [
    "from numpy.linalg import norm\n",
    "\n",
    "grav_param_earth = 398600.4418 #km^3s^-2\n",
    "init_position = geocentric.position.km\n",
    "\n",
    "deb_positions = np.empty((len(AM), 3))\n",
    "deb_positions[:, :] = init_position[None,:]\n",
    "deb_velocities = gd.velocity_vectors(len(AM), geocentric.velocity.km_per_s, deltaV)\n",
    "\n",
    "keplerian_state = ct.rv2coe(deb_positions, deb_velocities, grav_param_earth)"
   ]
  },
  {
   "cell_type": "code",
   "execution_count": 10,
   "metadata": {},
   "outputs": [
    {
     "name": "stdout",
     "output_type": "stream",
     "text": [
      "Cartesian\n",
      "r:  [-3808.75940772 -1919.70654683 -5298.49629961]\n",
      "v:  [ 2.87599557 -7.19773706  0.6417844 ]\n",
      "Keplerian\n",
      "a:  7028.522313686821\n",
      "e:  0.03379990436199738\n",
      "i:  51.49346934079498\n",
      "Omega:  71.99708534676466\n",
      "omega:  293.5272683310019\n",
      "M:  343.1163231003184\n",
      "nu:  341.9442086014087\n",
      "\n"
     ]
    }
   ],
   "source": [
    "rand_index = 0\n",
    "print(\"Cartesian\")\n",
    "print(\"r: \", deb_positions[rand_index, :])\n",
    "print(\"v: \", deb_velocities[rand_index, :])\n",
    "\n",
    "print(\"Keplerian\")\n",
    "ks_rand = keplerian_state[:, rand_index]\n",
    "print(\"a: \", ks_rand[0])\n",
    "print(\"e: \", ks_rand[1])\n",
    "print(\"i: \", ks_rand[2])\n",
    "print(\"Omega: \", ks_rand[3])\n",
    "print(\"omega: \", ks_rand[4])\n",
    "print(\"M: \", ks_rand[5])\n",
    "print(\"nu: \", ks_rand[6])\n",
    "print()"
   ]
  },
  {
   "cell_type": "markdown",
   "metadata": {},
   "source": [
    "<h3>3.4 Testing coverting back to Cartesian</h3>"
   ]
  },
  {
   "cell_type": "code",
   "execution_count": 11,
   "metadata": {},
   "outputs": [],
   "source": [
    "reload(ct)\n",
    "\n",
    "indexes = np.random.default_rng().choice(keplerian_state.shape[1], size=1000, replace=False)\n",
    "ks_sample = keplerian_state[:, indexes]\n",
    "\n",
    "cartesian_state = np.array(ct.coe2rv_many(k=grav_param_earth,\n",
    "                              p=ks_sample[7, :],\n",
    "                              ecc=ks_sample[1, :],\n",
    "                              inc=ks_sample[2, :],\n",
    "                              raan=ks_sample[3, :],\n",
    "                              argp=ks_sample[4, :],\n",
    "                              nu=ks_sample[6, :]))\n",
    "\n",
    "r = cartesian_state[0, :, :]\n",
    "fig = plt.figure()\n",
    "ax = fig.add_subplot(111, projection='3d')\n",
    "ax.scatter(r[:, 0], r[:, 1], r[:, 2])\n",
    "ax.set_xlim3d(-6378.0-1000, 6378.0+1000)\n",
    "ax.set_xlabel('X (km)')\n",
    "\n",
    "ax.set_ylim3d([-6378.0-1000, 6378.0+1000])\n",
    "ax.set_ylabel('Y (km)')\n",
    "\n",
    "ax.set_zlim3d([-6378.0-1000, 6378.0+1000])\n",
    "ax.set_zlabel('Z (km)')\n",
    "\n",
    "earth_radius = 3378.0 #km\n",
    "_u, _v = np.mgrid[0:2*np.pi:20j, 0:np.pi:10j]\n",
    "_x = earth_radius*np.cos(_u)*np.sin(_v)\n",
    "_y = earth_radius*np.sin(_u)*np.sin(_v)\n",
    "_z = earth_radius*np.cos(_v)\n",
    "\n",
    "ax.plot_surface(_x, _y, _z, cmap=cm.coolwarm)\n",
    "plt.show()"
   ]
  },
  {
   "cell_type": "markdown",
   "metadata": {},
   "source": [
    "<h3>3.4 Debris Cloud formation</h3>"
   ]
  },
  {
   "cell_type": "code",
   "execution_count": 12,
   "metadata": {
    "scrolled": true
   },
   "outputs": [
    {
     "name": "stdout",
     "output_type": "stream",
     "text": [
      "(250,)\n"
     ]
    }
   ],
   "source": [
    "## Shrink number of debris being used\n",
    "indexes = np.random.default_rng().choice(keplerian_state.shape[1], size=250, replace=False)\n",
    "\n",
    "ks = keplerian_state[:, indexes]\n",
    "masses = masses[indexes]\n",
    "areas = areas[indexes]\n",
    "deb_positions = deb_positions[indexes, :]\n",
    "deb_velocities = deb_velocities[indexes, :]\n",
    "\n",
    "print(masses.shape)"
   ]
  },
  {
   "cell_type": "code",
   "execution_count": 13,
   "metadata": {},
   "outputs": [],
   "source": [
    "np.savez(\"debris.npz\",\n",
    "         keplerian_states=ks,\n",
    "         masses=masses,\n",
    "         areas=areas,\n",
    "         deb_positions=deb_positions,\n",
    "         deb_velocities=deb_velocities)"
   ]
  },
  {
   "cell_type": "code",
   "execution_count": 14,
   "metadata": {},
   "outputs": [],
   "source": [
    "container = np.load('debris.npz')\n",
    "ks = container['keplerian_states']\n",
    "masses = container['masses']\n",
    "areas = container['areas']\n",
    "deb_positions = container['deb_positions']\n",
    "deb_velocities = container['deb_velocities']"
   ]
  },
  {
   "cell_type": "markdown",
   "metadata": {},
   "source": [
    "<h4>3.4.1 Ellisoid formation</h4>"
   ]
  },
  {
   "cell_type": "code",
   "execution_count": 165,
   "metadata": {},
   "outputs": [],
   "source": [
    "import Perturbations as OP\n",
    "import planetary_data as pd\n",
    "reload(OP)\n",
    "\n",
    "# Cleanup states to remove any fragments that would deorbit, given no perturbations\n",
    "periapsis     = ks[0, :] * (1 - ks[1, :])\n",
    "I             = np.argwhere(periapsis > pd.earth['radius'])\n",
    "ks_pruned     = np.squeeze(ks[:, I])\n",
    "areas_pruned  = areas[I].flatten()  # When doung the indexing , a 1d dim being added which is unneccesary\n",
    "masses_pruned = masses[I].flatten() # When doung the indexing , a 1d dim being added which is unneccesary\n",
    "\n",
    "# Propagate orbit for a period of time\n",
    "op = OP.OrbitPropagator(ks_pruned, [0, 10*np.ceil(max(T))], 60*5)\n",
    "op.propagate_orbit()\n",
    "\n",
    "# Get the cartesian state representation\n",
    "cartesian_states = op.cartesian_representation()\n"
   ]
  },
  {
   "cell_type": "markdown",
   "metadata": {},
   "source": [
    "<h4>3.4.2 Particle Debris flux</h4>\n",
    "\n",
    "Using a particle flux to determine when the fragments of the debris have finished the formation of the ring. Indicating the end of the first phase of the debris cloud formation. This is accomplished by creating an xz plane and detecting when particles have switched from one side to the other. This approach will cause a peak as fragments pass through that becomes uniform as the debris becomes uniformly spread out."
   ]
  },
  {
   "cell_type": "code",
   "execution_count": 166,
   "metadata": {},
   "outputs": [],
   "source": [
    "import time\n",
    "import matplotlib.dates as mdates\n",
    "from dateutil import tz\n",
    "\n",
    "def fragmentation_flux(X):\n",
    "    return np.sum((X[:-1, :, 1] < 0) & (X[1:, :, 1] > 0), axis=1)\n",
    "    \n",
    "position = cartesian_states[:, 0, :, :]\n",
    "flux = fragmentation_flux(position)\n"
   ]
  },
  {
   "cell_type": "markdown",
   "metadata": {},
   "source": [
    "<h4>3.4.3 Convergence of the flux</h4>\n",
    "\n",
    "The next step is determining when the fragments have ended the torroid formation phase. This occurs when the fragments are approximately uniformally spread out. We can check to see when the flux meets a convergence criterion to determine when this happens."
   ]
  },
  {
   "cell_type": "code",
   "execution_count": 167,
   "metadata": {},
   "outputs": [],
   "source": [
    "w = 100 # Window of points to look at\n",
    "tol = 1.5\n",
    "convergence_ratio = np.array([np.var(flux[i:i+w])/np.mean(flux[i:i+w]) for i in range(len(flux))])\n",
    "intersection_index = np.argwhere(convergence_ratio <= tol).flatten()[0] # Grabbing the first point that meets the criteria"
   ]
  },
  {
   "cell_type": "code",
   "execution_count": 170,
   "metadata": {},
   "outputs": [],
   "source": [
    "# datetimes\n",
    "t_flux = t_fragmentation.utc_datetime() + np.array(range(len(flux))) * datetime.timedelta(minutes = 5)\n",
    "\n",
    "# Creating Flux v. Time plot\n",
    "\n",
    "# plt.plot(mdates.date2num(t_flux), flux, label='Flux')\n",
    "# plt.axvline(x=t_flux[intersection_index], color='r',ls=':', label='Intersection')\n",
    "# plt.xlim([t_flux[0], t_flux[-1]])\n",
    "# formatter = mdates.DateFormatter('%m/%d %H:%M UTC', tz=tz.UTC)\n",
    "# ax.xaxis.set_major_formatter(formatter)\n",
    "# plt.legend(frameon=False)\n",
    "# plt.xticks(rotation=60)\n",
    "# plt.xlabel(\"Date-Time\")\n",
    "# plt.ylabel(\"Flux\")\n",
    "# plt.tight_layout()\n",
    "# plt.show()\n",
    "\n",
    "# Creating Convergence Ratio v. Time plot\n",
    "plt.plot(mdates.date2num(t_flux), convergence_ratio, color='orange', label='Convergence ratio')\n",
    "plt.axhline(y=tol, color='k', ls=\":\", label='Threshold')\n",
    "plt.axvline(x=t_flux[intersection_index], color='r',ls=':', label='Intersection')\n",
    "formatter = mdates.DateFormatter('%m/%d %H:%M UTC', tz=tz.UTC)\n",
    "ax.xaxis.set_major_formatter(formatter)\n",
    "plt.legend(frameon=False)\n",
    "plt.xticks(rotation=60)\n",
    "plt.xlim([t_flux[0], t_flux[-1]])\n",
    "plt.yscale('symlog')\n",
    "plt.xlabel(\"Date-Time\")\n",
    "plt.ylabel(\"Convergence ratio\")\n",
    "plt.tight_layout()\n",
    "plt.show()"
   ]
  },
  {
   "cell_type": "markdown",
   "metadata": {},
   "source": [
    "<h4>3.4.4 End of band formation</h4>\n",
    "\n",
    "Now that the band has formed, we can shift away from propagating the exact position of each fragments and inplace propgate their changes in eccentricity and semi major axis due to drag. To do this first we must get the final states of the debris after the band has formed."
   ]
  },
  {
   "cell_type": "code",
   "execution_count": 176,
   "metadata": {},
   "outputs": [
    {
     "data": {
      "text/plain": [
       "(125, 10, 225)"
      ]
     },
     "execution_count": 176,
     "metadata": {},
     "output_type": "execute_result"
    }
   ],
   "source": [
    "# Subsetting data such that just covers the formation of the band, i.e has uniformally spread out.\n",
    "# cs_band = band cartesian state\n",
    "# ks_band = band keplerian state\n",
    "\n",
    "reload(vis)\n",
    "\n",
    "cs_toroid = cartesian_states[:intersection_index, :, :, :]\n",
    "ks_toroid = op.states[0:intersection_index, :, :]\n",
    "op.states = ks_toroid\n",
    "\n",
    "\n",
    "# Creating visual\n",
    "data = np.swapaxes(cs_toroid,0,1)[0, :, :, :]\n",
    "\n",
    "#vis.generate_visualization(data, \"Band_Formation\")\n",
    "op.states.shape"
   ]
  },
  {
   "cell_type": "markdown",
   "metadata": {},
   "source": [
    "<h3> 4.0.0 Implementing Perturbations </h3>"
   ]
  },
  {
   "cell_type": "code",
   "execution_count": 198,
   "metadata": {},
   "outputs": [],
   "source": [
    "state = np.concatenate((ks_band[1, :], ks_band[0, :]))\n",
    "\n",
    "np.savez(\"drag_state.npz\",\n",
    "         state=state,\n",
    "         T=T,\n",
    "         areas_pruned=areas_pruned,\n",
    "         masses_pruned=masses_pruned)"
   ]
  },
  {
   "cell_type": "code",
   "execution_count": 197,
   "metadata": {},
   "outputs": [],
   "source": [
    "container = np.load('drag_state.npz')\n",
    "state = container['state']\n",
    "T = container['state']\n",
    "areas_pruned = container['areas_pruned']\n",
    "masses_pruned = container['masses']"
   ]
  },
  {
   "cell_type": "code",
   "execution_count": 192,
   "metadata": {},
   "outputs": [],
   "source": [
    "from scipy.special import iv\n",
    "\n",
    "radius_earth = 6371 # km \n",
    "\n",
    "def deda_dt(t, state, A, M):\n",
    "    \"\"\"Returns differential equation modeling drag on each piece of debris\n",
    "    Args:\n",
    "        M (array): Mass\n",
    "        e (array): Eccentricity\n",
    "        A (array): Cross-sectionl Area\n",
    "        a (array): Semi-Major Axis\n",
    "        r (array): Position\n",
    "    \"\"\"\n",
    "    \n",
    "    mu = 398600.4418\n",
    "\n",
    "    e, a = state.reshape(2, len(A))\n",
    "    print(e[0], a[0])\n",
    "    #print(a)\n",
    "    \n",
    "    I = a*(1-e) < radius_earth + 50 # 50 km above earth sats are doomed \n",
    "    a[I] = 0\n",
    "    e[I] = 0\n",
    "    \n",
    "    c_d = 2.2 # Drag coefficient\n",
    "    \n",
    "    drag_coef = (-(c_d * A) / M)\n",
    "    \n",
    "    # altitude\n",
    "    z = a - radius_earth\n",
    "    \n",
    "    # Air density\n",
    "    rho = atmosphere_density(z)\n",
    "    #atm_density[np.argwhere(np.isnan(atm_density))] = 0 # Need to determine why some are NaN\n",
    "\n",
    "    # dedt\n",
    "    dedt = np.zeros_like(e)\n",
    "    I    = (e>=0.001)\n",
    "    dedt[I] = (drag_coef[I] * np.sqrt(mu / a[I]) * rho[I])\n",
    "    I    = I & (e<0.01)\n",
    "    x    = (a[I] * e[I]) / scale_height(a[I])\n",
    "    dedt[I] *= iv(1,x) + (e[I]/2)*(iv(0,x) + iv(2,x))\n",
    "    \n",
    "    # dadt\n",
    "    dadt = np.empty_like(a)                          \n",
    "    dadt = drag_coef * np.sqrt(mu * a) * rho\n",
    "    \n",
    "    #print(\"dadt\")\n",
    "    #print((a[I] * e[I]) / scale_height(a[I]) * (iv(0,x) + 2*e[I]*iv(1,x)))\n",
    "    I    = (e>=0.001) & (e < 0.01)\n",
    "    x    = (a[I] * e[I]) / scale_height(a[I])\n",
    "    dadt[I] *= (iv(0,x) + 2*e[I]*iv(1,x))\n",
    "    I = (e >= 0.01)\n",
    "    x    = (a[I] * e[I]) / scale_height(a[I])    \n",
    "    dadt[I] *= iv(0, x) + 2*e[I]*iv(1, x) + (3/4)*e[I]**2*(iv(0, x) + iv(2, x)) + (e[I]**3/4)*(3*iv(1, x) + iv(3, x))\n",
    "    \n",
    "    dedt[np.argwhere(np.isnan(dedt))] = 0\n",
    "    dadt[np.argwhere(np.isnan(dadt))] = 0\n",
    "    \n",
    "    output = np.hstack((dedt, dadt))\n",
    "    \n",
    "    return output"
   ]
  },
  {
   "cell_type": "code",
   "execution_count": 193,
   "metadata": {},
   "outputs": [
    {
     "name": "stdout",
     "output_type": "stream",
     "text": [
      "0.034132077939525954 7002.579009379593\n",
      "0.034132077939525954 7002.579009379593\n",
      "0.03413207793952594 7002.579009379593\n",
      "0.034132077939525926 7002.579009379593\n",
      "0.03413207793952589 7002.579009379592\n",
      "0.034132077939525884 7002.579009379592\n",
      "0.03413207793952587 7002.579009379592\n",
      "0.03413207793952587 7002.579009379592\n",
      "0.03413207793952571 7002.57900937959\n",
      "0.03413207793952563 7002.57900937959\n",
      "0.03413207793952522 7002.579009379587\n",
      "0.03413207793952515 7002.579009379586\n",
      "0.03413207793952506 7002.579009379585\n",
      "0.03413207793952506 7002.579009379585\n",
      "0.03413207793952343 7002.57900937957\n",
      "0.034132077939522616 7002.579009379564\n",
      "0.03413207793951854 7002.5790093795285\n",
      "0.03413207793951782 7002.579009379522\n",
      "0.03413207793951691 7002.579009379514\n",
      "0.03413207793951691 7002.579009379514\n",
      "0.03413207793950062 7002.579009379372\n",
      "0.03413207793949248 7002.579009379301\n",
      "0.03413207793945175 7002.5790093789465\n",
      "0.03413207793944451 7002.579009378884\n",
      "0.034132077939435464 7002.579009378805\n",
      "0.034132077939435464 7002.579009378805\n",
      "0.03413207793927256 7002.579009377386\n",
      "0.03413207793919111 7002.579009376676\n",
      "0.03413207793878385 7002.579009373129\n",
      "0.03413207793871145 7002.579009372499\n",
      "0.034132077938620956 7002.579009371711\n",
      "0.034132077938620956 7002.579009371711\n",
      "0.03413207793699194 7002.579009357524\n",
      "0.034132077936177424 7002.579009350431\n",
      "0.034132077932104876 7002.579009314963\n",
      "0.03413207793138087 7002.579009308658\n",
      "0.03413207793047586 7002.579009300776\n",
      "0.03413207793047586 7002.579009300776\n",
      "0.03413207791418567 7002.579009158905\n",
      "0.034132077906040566 7002.57900908797\n",
      "0.03413207786531508 7002.5790087332925\n",
      "0.034132077858075 7002.579008670238\n",
      "0.03413207784902489 7002.579008591421\n",
      "0.03413207784902489 7002.579008591421\n",
      "0.03413207768612295 7002.5790071727115\n",
      "0.034132077604671976 7002.579006463356\n",
      "0.0341320771974171 7002.57900291658\n",
      "0.03413207712501623 7002.579002286043\n",
      "0.034132077034515144 7002.57900149787\n",
      "0.034132077034515144 7002.57900149787\n",
      "0.03413207540549557 7002.578987310767\n",
      "0.03413207459098542 7002.578980217213\n",
      "0.03413207051843426 7002.578944749438\n",
      "0.03413206979442495 7002.578938444054\n",
      "0.034132068889413225 7002.578930562324\n",
      "0.034132068889413225 7002.578930562324\n",
      "0.03413205259920131 7002.5787886911685\n",
      "0.03413204445405897 7002.57871775531\n",
      "0.03413200372830685 7002.578363075706\n",
      "0.03413199648815199 7002.578300021391\n",
      "0.034131987437949415 7002.578221203428\n",
      "0.03413198743794942 7002.578221203428\n",
      "0.03413198575533483 7002.578206549585\n",
      "0.03413198491402715 7002.578199222661\n",
      "0.034131980707488296 7002.578162588035\n",
      "0.03413197995965894 7002.578156075211\n",
      "0.03413197902487215 7002.57814793418\n",
      "0.03413197902487215 7002.57814793418\n"
     ]
    }
   ],
   "source": [
    "# Due to limitations with solve_ivp, the input needs to be 1D, will unpack inside function\n",
    "\n",
    "\n",
    "times = np.linspace(0, 20*np.ceil(max(T)), 60*10) # 20 loops of longest orbit with dt of 10 min\n",
    "output = integrate.solve_ivp(deda_dt, [times[0], times[-1]], state, t_eval = times, args = (areas_pruned, masses_pruned), vectorized=True)\n",
    "\n",
    "# Unpacking output\n",
    "de = output.y[0:len(areas_pruned), :]\n",
    "da = output.y[len(areas_pruned):output.y.shape[0], :]\n"
   ]
  },
  {
   "cell_type": "code",
   "execution_count": 184,
   "metadata": {},
   "outputs": [
    {
     "name": "stdout",
     "output_type": "stream",
     "text": [
      "1.3083000454983454e-06\n"
     ]
    }
   ],
   "source": [
    "print(areas_pruned[0])"
   ]
  },
  {
   "cell_type": "code",
   "execution_count": 70,
   "metadata": {},
   "outputs": [
    {
     "data": {
      "text/plain": [
       "398571280000000.0"
      ]
     },
     "execution_count": 70,
     "metadata": {},
     "output_type": "execute_result"
    }
   ],
   "source": []
  },
  {
   "cell_type": "code",
   "execution_count": 173,
   "metadata": {},
   "outputs": [],
   "source": []
  },
  {
   "cell_type": "code",
   "execution_count": 174,
   "metadata": {},
   "outputs": [
    {
     "data": {
      "text/plain": [
       "array([1, 2, 3])"
      ]
     },
     "execution_count": 174,
     "metadata": {},
     "output_type": "execute_result"
    }
   ],
   "source": []
  },
  {
   "cell_type": "code",
   "execution_count": null,
   "metadata": {},
   "outputs": [],
   "source": []
  }
 ],
 "metadata": {
  "kernelspec": {
   "display_name": "py38",
   "language": "python",
   "name": "py38"
  },
  "language_info": {
   "codemirror_mode": {
    "name": "ipython",
    "version": 3
   },
   "file_extension": ".py",
   "mimetype": "text/x-python",
   "name": "python",
   "nbconvert_exporter": "python",
   "pygments_lexer": "ipython3",
   "version": "3.8.5"
  }
 },
 "nbformat": 4,
 "nbformat_minor": 4
}
