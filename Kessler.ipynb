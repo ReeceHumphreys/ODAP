{
 "cells": [
  {
   "cell_type": "markdown",
   "metadata": {},
   "source": [
    "<h1>0. Packages</h1>"
   ]
  },
  {
   "cell_type": "code",
   "execution_count": 2,
   "metadata": {},
   "outputs": [],
   "source": [
    "import numpy as np\n",
    "import re\n",
    "import skyfield.sgp4lib as spg4\n",
    "import matplotlib \n",
    "import PyQt5\n",
    "import generate_debris as gd\n",
    "\n",
    "matplotlib.use('Agg')\n",
    "import matplotlib.pyplot as plt\n",
    "from scipy.stats import uniform\n",
    "from scipy.stats import norm\n",
    "import scipy.stats as stats\n",
    "from enum import Enum    \n",
    "from mpl_toolkits.mplot3d import Axes3D\n",
    "import matplotlib.pyplot as plt\n",
    "import numpy as np\n",
    "from itertools import product, combinations\n",
    "from matplotlib import cm\n",
    "\n",
    "%matplotlib qt5\n",
    "\n",
    "debris_category = Enum('Category', 'rb sc soc')"
   ]
  },
  {
   "cell_type": "markdown",
   "metadata": {},
   "source": [
    "<h1>1. Data Structure</h1>\n",
    "\n",
    "<h3>1.1 Satellite Structure</h3>\n",
    "\n",
    "Creating an object to represent satellite from 3le.txt <br>\n",
    "May end up using implementation from another package\n",
    "\n",
    "<b>Data sources:<b><br>\n",
    "https://www.space-track.org    \n",
    "https://www.celestrak.com/NORAD/documentation/spacetrk.pdf\n",
    "\n",
    "<b>Information about 3le/2le:</b><br>\n",
    "https://en.wikipedia.org/wiki/Two-line_element_set#cite_note-nasahelp-12\n",
    "https://spaceflight.nasa.gov/realdata/sightings/SSapplications/Post/JavaSSOP/SSOP_Help/tle_def.html"
   ]
  },
  {
   "cell_type": "code",
   "execution_count": 3,
   "metadata": {},
   "outputs": [],
   "source": [
    "class two_line_element:\n",
    "    \n",
    "    def __init__(self, data):\n",
    "        self.parse_data(data)\n",
    "        \n",
    "    def parse_data(self, satelite_data):\n",
    "        self.title = satelite_data[0]\n",
    "        line_one = satelite_data[1].split()\n",
    "        line_two = satelite_data[2].split()\n",
    "\n",
    "        self.catalog_number = re.search('[0-9]{1,5}', line_one[0]).group()\n",
    "        self.classification = re.search('[UCS]', line_one[0]).group()\n",
    "\n",
    "        international_designator = re.search('([0-9]{2})([0-9]{3})(\\w{1,3})', line_one[1])\n",
    "        self.launch_year = international_designator.group(1)\n",
    "        self.launch_number = international_designator.group(2)\n",
    "        self.launch_piece =  international_designator.group(3)\n",
    "\n",
    "        epoch = re.search('([0-9]{2})(\\d+\\.\\d+)', line_one[2])\n",
    "        self.epoch_year = epoch.group(1)\n",
    "        self.epoch_day = epoch.group(2)\n",
    "\n",
    "        self.ballistic_coefficient = float(line_one[3])\n",
    "        self.mean_motion_double_prime = line_one[4]\n",
    "        self.BSTAR = line_one[5]\n",
    "\n",
    "        self.inclination = line_two[1]\n",
    "        self.right_ascension_of_ascending_node = line_two[2]\n",
    "        self.eccentricity = line_two[3]\n",
    "        self.argument_of_perigee = line_two[4]\n",
    "\n",
    "        mean_anomaly = line_two[5]"
   ]
  },
  {
   "cell_type": "markdown",
   "metadata": {},
   "source": [
    "<h3>Data structure implementation using spg4 from skyfield library<h3>"
   ]
  },
  {
   "cell_type": "code",
   "execution_count": 4,
   "metadata": {},
   "outputs": [
    {
     "name": "stdout",
     "output_type": "stream",
     "text": [
      "('0 VANGUARD 1', '1     5U 58002B   19352.86539842  .00000184  00000-0  20948-3 0  9994', '2     5  34.2610  67.7117 1845282 255.2293  83.7559 10.84789954185624')\n"
     ]
    }
   ],
   "source": [
    "# Opening the .txt file\n",
    "with open(\"3le.txt\") as f:\n",
    "    txt = f.read()\n",
    "    \n",
    "sat_lines = re.findall('(.*?)\\n(.*?)\\n(.*?)\\n', txt)\n",
    "\n",
    "# Preview of `sat_lines`, each element should be the three lines representing a satellite\n",
    "print(sat_lines[0])\n",
    "\n",
    "# Convert each group of 3 lines into a satelite object\n",
    "def line_element_to_satellite(lines):\n",
    "    title = lines[0]\n",
    "    line1 = lines[1]\n",
    "    line2 = lines[2]\n",
    "    return spg4.EarthSatellite(line1, line2, name=title)\n",
    "\n",
    "satellites = [line_element_to_satellite(lines) for lines in sat_lines]\n",
    "\n",
    "# Verify data structure by finding element representing the ISS\n",
    "iss_index = [sat.name for sat in satellites].index(\"0 ISS (ZARYA)\")\n",
    "iss = satellites[iss_index]"
   ]
  },
  {
   "cell_type": "markdown",
   "metadata": {},
   "source": [
    "<h3>1.2 Celestial Bodies</h3>\n",
    "\n",
    "\n",
    "de421.bsp is a Ephemerides provided by JPL Horizon which has the calculated positions of celestial bodies within a certain time interval. de421 is commonly used due to its small size and its relativley up to date information"
   ]
  },
  {
   "cell_type": "code",
   "execution_count": 5,
   "metadata": {},
   "outputs": [],
   "source": [
    "from skyfield.api import load, EarthSatellite\n",
    "ts = load.timescale(builtin=True)\n",
    "\n",
    "# Loading the data from de421.bsp using skyfield \n",
    "planets = load('de421.bsp')\n",
    "\n",
    "# Finding the data about Earth\n",
    "earth = planets[\"Earth\"]"
   ]
  },
  {
   "cell_type": "markdown",
   "metadata": {},
   "source": [
    "<h3>1.3 Celestial Bodies</h3>\n",
    "\n",
    "Plotting the satellite data in a 3D view.<br>\n",
    "Accidently broke my implementation so need to start with the below base and get it to plot the ISS again.\n",
    "\n",
    "<b>Source:</b> https://space.stackexchange.com/questions/25958/how-can-i-plot-a-satellites-orbit-in-3d-from-a-tle-using-python-and-skyfield"
   ]
  },
  {
   "cell_type": "code",
   "execution_count": null,
   "metadata": {},
   "outputs": [],
   "source": []
  },
  {
   "cell_type": "markdown",
   "metadata": {},
   "source": [
    "<h1>2. Breakup Models</h1>\n",
    "\n",
    "<h3>2.1 NASA breakup model</h3>\n",
    "\n",
    "<b>Implementation:</b> (Found on page 207)<br>\n",
    "https://www.researchgate.net/publication/295490674_Space_debris_cloud_evolution_in_Low_Earth_Orbit\n",
    "\n",
    "<b>Alternate implementation:</b><br>\n",
    "https://gitlab.obspm.fr/apetit/nasa-breakup-model/tree/master\n",
    "\n",
    "<b>Information:</b><br>\n",
    "https://digitalcommons.calpoly.edu/cgi/viewcontent.cgi?referer=https://en.wikipedia.org/&httpsredir=1&article=1094&context=theses\n",
    "\n",
    "\n",
    "<b>Now implemented in file generate_debris.py</b><br>"
   ]
  },
  {
   "cell_type": "markdown",
   "metadata": {},
   "source": [
    "<h3>2.2 NASA breakup model validation</h3>"
   ]
  },
  {
   "cell_type": "code",
   "execution_count": 6,
   "metadata": {
    "scrolled": true
   },
   "outputs": [],
   "source": [
    "L_c = gd.characteristic_lengths(1000, 10, 10, True, debris_category.rb)\n",
    "\n",
    "N_fragments_total = L_c.shape[0]\n",
    "lambda_c = np.log10(L_c)\n",
    "areas = gd.avg_area(L_c)\n",
    "\n",
    "def create_log_bins(values, nbins=100):\n",
    "    #return np.geomspace(values.min(), values.max(), nbins)\n",
    "    bins = np.geomspace(values.min(), values.max(), nbins)\n",
    "    a = bins[1]/bins[0]\n",
    "    bins = np.concatenate([[bins[0]/a], bins,[bins[-1]*a]])\n",
    "    return bins\n",
    "\n",
    "# Validating L_c\n",
    "h, b = np.histogram(L_c, bins=create_log_bins(L_c))\n",
    "plt.figure(figsize=(5,5))\n",
    "plt.xscale('log')\n",
    "plt.xlabel(r'$L_{c}$')\n",
    "plt.ylabel(r'$N_f$')\n",
    "plt.plot((b[:-1] + b[1:])/2, h, '.-')\n",
    "plt.show()\n",
    "\n",
    "# Validating Areas\n",
    "h, b = np.histogram(areas, bins=create_log_bins(areas))\n",
    "plt.figure(figsize=(5,5))\n",
    "plt.xscale('log')\n",
    "plt.xlabel(r'$Areas$')\n",
    "plt.ylabel(r'$N_f$')\n",
    "plt.plot((b[:-1] + b[1:])/2, h, '.-')\n",
    "plt.show()\n",
    "\n",
    "# Validating Mass & Velocity\n",
    "AM = np.array(gd.distribution_AM(lambda_c, gd.debris_category.rb))\n",
    "masses = areas / 10**AM\n",
    "\n",
    "h, b = np.histogram(masses, bins=create_log_bins(masses))\n",
    "plt.figure(figsize=(5,5))\n",
    "plt.xscale('log')\n",
    "plt.xlabel(r'$Masses$')\n",
    "plt.ylabel(r'$N_f$')\n",
    "plt.gca().set_yticks([0, 2, 4, 6, 8])\n",
    "plt.gca().set_xticks([1e-8, 1e-5, 1e-2, 10, 1e4])\n",
    "plt.gca().set_xlim([1e-8,1e4])\n",
    "plt.gca().set_ylim([0,8])\n",
    "plt.grid()\n",
    "plt.plot((b[:-1] + b[1:])/2, h/1e5, '.-')\n",
    "plt.show()\n",
    "\n",
    "# Validating Velocity\n",
    "deltaV = np.array(gd.distribution_deltaV(AM, 10, True))\n",
    "\n",
    "\n",
    "h, b = np.histogram(deltaV, bins=create_log_bins(deltaV))\n",
    "plt.figure(figsize=(5,5))\n",
    "plt.xscale('log')\n",
    "plt.xlabel(r'$\\delta V$')\n",
    "plt.ylabel(r'$N_f$')\n",
    "plt.gca().set_yticks([0, 2, 4, 6, 8])\n",
    "plt.gca().set_xticks([1e-3, 1e-2, 1e-1, 1, 10])\n",
    "plt.gca().set_xlim([1e-3,10])\n",
    "plt.gca().set_ylim([0,8])\n",
    "plt.grid()\n",
    "plt.plot((b[:-1] + b[1:])/2, h/1e5, '.-')\n",
    "plt.show()"
   ]
  },
  {
   "cell_type": "markdown",
   "metadata": {},
   "source": [
    "<h3>2.3 and Onward will be alternate breakup models</h3>"
   ]
  },
  {
   "cell_type": "markdown",
   "metadata": {},
   "source": [
    "<h1>3. Numerical Propagation</h1>"
   ]
  },
  {
   "cell_type": "markdown",
   "metadata": {},
   "source": [
    "<h3>3.1 Modeling the Atmosphere</h3>"
   ]
  },
  {
   "cell_type": "code",
   "execution_count": 7,
   "metadata": {},
   "outputs": [],
   "source": [
    "import pandas as pd\n",
    "\n",
    "excel_file = \"AtmosphericModelValues.xlsx\"\n",
    "\n",
    "tabulated_values = pd.read_excel(excel_file)\n",
    "tabulated_values.head()\n",
    "\n",
    "def atmosphere_density(altitude):\n",
    "    \n",
    "    bins = tabulated_values['Altitude Lower Bound (km)'].values\n",
    "    base_altitude = tabulated_values['Base Altitude (km)'].values\n",
    "    nominal_density = tabulated_values['Nominal Density (kg/m^3)'].values\n",
    "    scale_height = tabulated_values['Scale Height (km)'].values\n",
    "    i = np.digitize(h, bins) - 1\n",
    "    \n",
    "    return nominal_density*np.exp(-(altitude-base_altitude)/(scale_height))\n"
   ]
  },
  {
   "cell_type": "markdown",
   "metadata": {},
   "source": [
    "<h3>3.2 Calculating Orbital Debris Properties</h3>"
   ]
  },
  {
   "cell_type": "code",
   "execution_count": 8,
   "metadata": {},
   "outputs": [],
   "source": [
    "from skyfield.api import load, EarthSatellite\n",
    "\n",
    "ts = load.timescale(builtin=True)\n",
    "\n",
    "t = ts.now()\n",
    "geocentric = iss.at(t)\n",
    "init_position = geocentric.position.km\n",
    "\n",
    "iss_mass = 419700 # kg\n",
    "projectile_mass  = 227 # kg\n",
    "\n",
    "L_c = gd.characteristic_lengths(iss_mass, projectile_mass, 100, True, debris_category.soc)\n",
    "lambda_c = np.log10(L_c)\n",
    "areas = gd.avg_area(L_c)\n",
    "AM = np.array(gd.distribution_AM(lambda_c, debris_category.soc))\n",
    "masses = areas / 10**AM\n",
    "deltaV = np.array(gd.distribution_deltaV(AM, 10, True))\n"
   ]
  },
  {
   "cell_type": "markdown",
   "metadata": {},
   "source": [
    "<h3>3.3 Converting Cartesian to Keplerian</h3>\n",
    "https://downloads.rene-schwarz.com/download/M002-Cartesian_State_Vectors_to_Keplerian_Orbit_Elements.pdf"
   ]
  },
  {
   "cell_type": "code",
   "execution_count": 9,
   "metadata": {},
   "outputs": [],
   "source": [
    "from numpy.linalg import norm\n",
    "\n",
    "grav_param_earth = 398600.4418 #km^3s^-2\n",
    "init_position = geocentric.position.km\n",
    "\n",
    "deb_positions = np.empty((len(AM), 3))\n",
    "deb_positions[:, :] = init_position[None,:]\n",
    "\n",
    "deb_velocities = gd.velocity_vectors(len(AM), geocentric.velocity.km_per_s, deltaV)\n",
    "\n",
    "orbital_momentums = np.cross(deb_positions, deb_velocities)\n",
    "unit_positions = np.divide(deb_positions, norm(deb_positions, axis=1)[:, None]) ## Double check\n",
    "eccentricities = (np.cross(deb_velocities, orbital_momentums) / grav_param_earth) - unit_positions"
   ]
  },
  {
   "cell_type": "code",
   "execution_count": 10,
   "metadata": {},
   "outputs": [],
   "source": [
    "ascending_node_direction = np.cross(np.array([0, 0, 1])[None, :], orbital_momentums)\n",
    "\n",
    "dot_ep = np.sum(eccentricities*deb_positions, axis=1)\n",
    "np.sum(eccentricities*deb_positions, axis=1)\n",
    "\n",
    "true_anomaly = np.arccos( dot_ep / (norm(eccentricities, axis=1) * norm(deb_positions, axis=1)))\n",
    "B = np.sum(deb_positions*deb_velocities, axis=1)<0\n",
    "true_anomaly[B] = 2*np.pi - true_anomaly[B]\n"
   ]
  },
  {
   "cell_type": "code",
   "execution_count": 11,
   "metadata": {},
   "outputs": [],
   "source": [
    "inclination = np.arccos(orbital_momentums[:, 2] / norm(orbital_momentums, axis=1))\n",
    "\n",
    "eccentricities_mag = norm(eccentricities, axis = 1)\n",
    "theta_ea = np.tan(true_anomaly/2) / np.sqrt((1 + eccentricities_mag)/(1 - eccentricities_mag))\n",
    "eccentric_anomaly = 2*np.arctan(theta_ea)"
   ]
  },
  {
   "cell_type": "code",
   "execution_count": 12,
   "metadata": {},
   "outputs": [
    {
     "name": "stdout",
     "output_type": "stream",
     "text": [
      "(5274775, 3)\n"
     ]
    }
   ],
   "source": [
    "# Longitude of ascending node, Omega\n",
    "long_ascending_node = np.arccos(ascending_node_direction[:,0]/norm(ascending_node_direction, axis=1))\n",
    "B = ascending_node_direction[:,1]<0\n",
    "long_ascending_node[B] = 2*np.pi - long_ascending_node[B]\n",
    "\n",
    "# Argument of periapsis, omega\n",
    "print(ascending_node_direction.shape)\n",
    "dot_ne = np.sum(ascending_node_direction*eccentricities, axis=1)\n",
    "arg_peri = np.arccos(dot_ne / (norm(ascending_node_direction, axis=1)*norm(eccentricities, axis=1)))\n",
    "B = eccentricities[:,2] < 0\n",
    "arg_peri[B] = 2*np.pi - arg_peri[B]\n",
    "\n",
    "# Mean anomaly\n",
    "mean_anomaly = eccentric_anomaly - norm(eccentricities,axis=1)*np.sin(eccentric_anomaly)\n",
    "\n",
    "# Semi major axis\n",
    "a = 1 / ((2/norm(deb_positions,axis=1)) - ((norm(deb_velocities, axis=1)**2) / grav_param_earth))\n",
    "\n",
    "#semi parameter\n",
    "p = norm(orbital_momentums, axis=1)**2 / grav_param_earth"
   ]
  },
  {
   "cell_type": "code",
   "execution_count": null,
   "metadata": {},
   "outputs": [],
   "source": [
    "print(\"---- Pos. and Vel. ---\")\n",
    "print(\"pos: \", deb_positions[0,:], \"km\")\n",
    "print(\"vel: \", deb_velocities[0,:], \"km/s\")\n",
    "\n",
    "print(\"---- Orbital Elemets ---\")\n",
    "print(\"a: \", a[0]) # RIGHT\n",
    "print(\"e: \", eccentricities_mag[0]) #RIGHT\n",
    "print(\"i: \", inclination[0]) #RIGHT\n",
    "print(\"Omega: \", long_ascending_node[0]) #RIGHT\n",
    "print(\"omega: \", arg_peri[0]) #RIGHT\n",
    "print(\"M: \", mean_anomaly[0]) # UNABLE TO VERIFY\n",
    "print(\"v: \", true_anomaly[0]) #RIGHT"
   ]
  },
  {
   "cell_type": "markdown",
   "metadata": {},
   "source": [
    "<h3>3.4 Integrating Keplerian elements</h3>"
   ]
  },
  {
   "cell_type": "code",
   "execution_count": 19,
   "metadata": {
    "scrolled": true
   },
   "outputs": [],
   "source": [
    "## Shrink number of debris being used\n",
    "\n",
    "a = a[0:1000]\n",
    "eccentricities_mag = eccentricities_mag[0:1000]\n",
    "inclination = inclination[0:1000]\n",
    "long_ascending_node = long_ascending_node[0:1000]\n",
    "arg_peri = arg_peri[0:1000]\n",
    "mean_anomaly = mean_anomaly[0:1000]\n",
    "true_anomaly = true_anomaly[0:1000]\n",
    "AM = AM[0:1000]"
   ]
  },
  {
   "cell_type": "code",
   "execution_count": null,
   "metadata": {},
   "outputs": [],
   "source": [
    "print(min(mean_anomaly))"
   ]
  },
  {
   "cell_type": "code",
   "execution_count": null,
   "metadata": {},
   "outputs": [],
   "source": [
    "# http://murison.alpheratz.net/dynamics/twobody/KeplerIterations_summary.pdf\n",
    "# 3rd order\n",
    "\n",
    "def kepler_start_3(M, e):\n",
    "    return M + e*np.sin(M)+ (e**2 * np.sin(M)*np.cos(M)) + (0.5*e**3*np.sin(M)*(3*np.cos(M)**2 - 1))\n",
    "\n",
    "def eps3(M, e, x):\n",
    "    t1 = np.cos(x)\n",
    "    t2 = -1 + e*t1\n",
    "    t3 = np.sin(x)\n",
    "    t4 = e*t3\n",
    "    t5 = -x + t4 + M\n",
    "    t6 = t5 / ((1/2)*t5*t4/t2 + t2)\n",
    "    return t5 / (((1/2)*t3 - (1/6)*t1*t6)*e*t6 + t2)\n",
    "\n",
    "def eccentric_anomaly_solver(M, e, tol=1e-16):\n",
    "    \"\"\"Solve Kepler's Equation\n",
    "    Args:\n",
    "        M (array): input Mean anomaly\n",
    "        e (array): eccentricity\n",
    "    Returns:\n",
    "        array: eccentric anomaly\n",
    "    \"\"\"\n",
    "    E0 = kepler_start_3(M, e)\n",
    "    dE = np.array([tol + 1e0])\n",
    "    Mnorm = np.fmod(M, 2*np.pi)\n",
    "    count = 0\n",
    "    print(dE, tol)\n",
    "    while (dE).all() > tol:\n",
    "        E = E0 - eps3(e, Mnorm, E0)\n",
    "        dE = np.abs(E - E0)\n",
    "        E0 = E\n",
    "        count += 1\n",
    "        if count == 100:\n",
    "            print(\"Failed to converge\")\n",
    "            break\n",
    "    print(count)\n",
    "    return E"
   ]
  },
  {
   "cell_type": "code",
   "execution_count": null,
   "metadata": {},
   "outputs": [],
   "source": [
    "import gc\n",
    "\n",
    "t1, t2, dt = 0, 60*60*10000, 60*1\n",
    "times      = np.arange(t1, t2, dt)\n",
    "mean_anomlay_rate_of_change = np.sqrt(grav_param_earth/a**3)\n",
    "mean_anomalies_vs_time = mean_anomaly[:, None] + mean_anomlay_rate_of_change[:, None] * times[None, :]\n",
    "eccentric_anomalies_vs_time = eccentric_anomaly_solver(mean_anomalies_vs_time, eccentricities_mag[:, None])\n",
    "\n",
    "x1 = np.sqrt(1 + eccentricities_mag)[:, None]*np.sin(eccentric_anomalies_vs_time / 2)\n",
    "x2 = np.sqrt(1 - eccentricities_mag)[:, None]*np.sin(eccentric_anomalies_vs_time / 2)\n",
    "true_anomalies_vs_time = 2*np.arctan2(x1, x2)\n",
    "\n",
    "del x1\n",
    "del x2\n",
    "gc.collect()"
   ]
  },
  {
   "cell_type": "code",
   "execution_count": null,
   "metadata": {},
   "outputs": [],
   "source": [
    "mean_anomalies_vs_time[0,:]"
   ]
  },
  {
   "cell_type": "code",
   "execution_count": null,
   "metadata": {},
   "outputs": [],
   "source": [
    "true_anomalies_vs_time.shape"
   ]
  },
  {
   "cell_type": "code",
   "execution_count": null,
   "metadata": {},
   "outputs": [],
   "source": []
  },
  {
   "cell_type": "code",
   "execution_count": null,
   "metadata": {},
   "outputs": [],
   "source": []
  },
  {
   "cell_type": "markdown",
   "metadata": {},
   "source": [
    "<h3>3.5 Converting Keplerian to Cartesian</h3>\n",
    "\n",
    "https://downloads.rene-schwarz.com/download/M001-Keplerian_Orbit_Elements_to_Cartesian_State_Vectors.pdf"
   ]
  },
  {
   "cell_type": "code",
   "execution_count": null,
   "metadata": {},
   "outputs": [],
   "source": []
  },
  {
   "cell_type": "code",
   "execution_count": null,
   "metadata": {},
   "outputs": [],
   "source": []
  },
  {
   "cell_type": "code",
   "execution_count": 19,
   "metadata": {},
   "outputs": [],
   "source": [
    "import gc\n",
    "\n",
    "def keplerian_to_cartesian(Omega, omega, i, p, v, e, mu=grav_param_earth):\n",
    "\n",
    "    cos_Omega = np.cos(Omega)\n",
    "    cos_omega = np.cos(omega)\n",
    "    cos_i = np.cos(i)\n",
    "    sin_Omega = np.sin(Omega)\n",
    "    sin_omega = np.sin(omega)\n",
    "    sin_i = np.sin(i)\n",
    "\n",
    "    rot_mat = np.array(     [(cos_Omega*cos_omega - sin_Omega*sin_omega*cos_i, -cos_Omega*sin_omega - sin_Omega*cos_omega*cos_i, sin_Omega*sin_i),\n",
    "                            (sin_Omega*cos_omega + cos_Omega*sin_omega*cos_i, -sin_Omega*sin_omega + cos_Omega*cos_omega*cos_i, -cos_Omega*sin_i),\n",
    "                            (sin_omega*sin_i, cos_omega*sin_i, cos_i)    ]).T\n",
    "    \n",
    "    del cos_Omega, cos_omega, cos_i\n",
    "    del sin_Omega, sin_omega, sin_i\n",
    "    gc.collect()\n",
    "    \n",
    "    r_pqw = np.array(((p*np.cos(v)) / (1 + e*np.cos(v)),\n",
    "                      (p*np.sin(v)) / (1 + e*np.cos(v)),\n",
    "                     np.zeros(len(Omega)))).T\n",
    "    v_pqw = np.array((-np.sqrt(mu / p)*np.sin(v), np.sqrt(mu / p) * (e + np.cos(v)), np.zeros(len(Omega)))).T\n",
    "    \n",
    "    pos = np.sum(rot_mat*r_pqw[:, :, None], axis=1)\n",
    "    \n",
    "    vel = np.sum(rot_mat*v_pqw[:, :, None], axis=1)\n",
    "    \n",
    "    \n",
    "    \n",
    "    return np.array([pos, vel])\n",
    "long_ascending_node = np.append(long_ascending_node, np.deg2rad(227.89))\n",
    "arg_peri = np.append(arg_peri, np.deg2rad(53.38))\n",
    "inclination= np.append(inclination, np.deg2rad(87.87))\n",
    "p = np.append(p, 11067.790)\n",
    "true_anomaly = np.append(true_anomaly, np.deg2rad(92.335))\n",
    "eccentricities_mag = np.append(eccentricities_mag, 0.83285)\n",
    "cart_state = keplerian_to_cartesian(Omega = long_ascending_node, omega = arg_peri,i= inclination, p=p,v= true_anomaly, e = eccentricities_mag)"
   ]
  },
  {
   "cell_type": "code",
   "execution_count": 21,
   "metadata": {},
   "outputs": [
    {
     "data": {
      "text/plain": [
       "array([6525.36812099, 6861.5318349 , 6449.11861416])"
      ]
     },
     "execution_count": 21,
     "metadata": {},
     "output_type": "execute_result"
    }
   ],
   "source": [
    "cart_state[0,-1, : ]\n"
   ]
  },
  {
   "cell_type": "markdown",
   "metadata": {},
   "source": [
    "# NEED TO ASK ABOUT INTEGRATION AND ARRAY FRIENDLY CONVERSION\n",
    "<h3>3.6 Performing the integration </h3>"
   ]
  },
  {
   "cell_type": "code",
   "execution_count": null,
   "metadata": {},
   "outputs": [],
   "source": [
    "positions.shape"
   ]
  },
  {
   "cell_type": "code",
   "execution_count": null,
   "metadata": {},
   "outputs": [],
   "source": [
    "print(positions[:, 0, :])"
   ]
  },
  {
   "cell_type": "markdown",
   "metadata": {},
   "source": [
    "<h1>4. Visualization </h1>"
   ]
  },
  {
   "cell_type": "code",
   "execution_count": 22,
   "metadata": {},
   "outputs": [],
   "source": [
    "# Creating 3D plot showing orbital information\n",
    "earth_radius = 6378.0 #km\n",
    "\n",
    "def create_3D_plot():\n",
    "    theta = np.linspace(0,2*np.pi, 360)\n",
    "    r = (a*(1-eccentricities_mag**2))/(1+eccentricities_mag*np.cos(theta)[:, None])\n",
    "    plt.polar(theta, r)\n",
    "    plt.show()\n",
    "#     fig = plt.figure()\n",
    "#     ax = fig.add_subplot(111, projection=\"3d\")\n",
    "    \n",
    "#     # Plot central body\n",
    "#     _u, _v = np.mgrid[0:2*np.pi:20j, 0:np.pi:10j]\n",
    "#     _x = earth_radius*np.cos(_u)*np.sin(_v)\n",
    "#     _y = earth_radius*np.sin(_u)*np.sin(_v)\n",
    "#     _z = earth_radius*np.cos(_v)\n",
    "#     ax.plot_surface(_x, _y, _z, cmap=cm.hot)\n",
    "    \n",
    "#     # Plot axis\n",
    "#     unit = earth_radius * 2\n",
    "#     x,y,z = [[0, 0, 0], [0, 0, 0], [0, 0, 0]]\n",
    "#     u, v, w =[[unit, 0, 0], [0, unit, 0], [0, 0, unit]]\n",
    "#     ax.quiver(x,y,z, u, v, w, color='k')\n",
    "    \n",
    "#     ax.set_xlim([-2.1*earth_radius, 2.1*earth_radius])\n",
    "#     ax.set_ylim([-2.1*earth_radius, 2.1*earth_radius])\n",
    "#     ax.set_zlim([-2.1*earth_radius, 2.1*earth_radius])\n",
    "    \n",
    "#     # Plot debris\n",
    "#     posititions_subset = positions[:, :1, :]\n",
    "#     ax.scatter(posititions_subset[:, :, 0], posititions_subset[:, :, 1], posititions_subset[:, : ,2], 'k', label=\"Debris\")    \n",
    "#     plt.show()\n",
    "    \n",
    "create_3D_plot()"
   ]
  },
  {
   "cell_type": "code",
   "execution_count": null,
   "metadata": {},
   "outputs": [],
   "source": []
  },
  {
   "cell_type": "code",
   "execution_count": null,
   "metadata": {},
   "outputs": [],
   "source": [
    "positions[:, 0, :]"
   ]
  },
  {
   "cell_type": "code",
   "execution_count": null,
   "metadata": {},
   "outputs": [],
   "source": [
    "fig = plt.figure()\n",
    "ax = fig.add_subplot(111, projection=\"3d\")\n",
    "posititions_subset = positions[:, 0:1, :]\n",
    "ax.plot(posititions_subset[:, :, 0].flatten(), posititions_subset[:, :, 1].flatten(), posititions_subset[:, :, 2].flatten())\n",
    "plt.show()"
   ]
  },
  {
   "cell_type": "code",
   "execution_count": null,
   "metadata": {},
   "outputs": [],
   "source": [
    "# import rebound\n",
    "# sim = rebound.Simulation()"
   ]
  },
  {
   "cell_type": "code",
   "execution_count": null,
   "metadata": {},
   "outputs": [],
   "source": [
    "# sim.getWidget(scale=10000, size=(500,500))"
   ]
  },
  {
   "cell_type": "code",
   "execution_count": null,
   "metadata": {},
   "outputs": [],
   "source": [
    "# sim.move_to_com()\n",
    "\n",
    "# print(debris_positions[0])"
   ]
  },
  {
   "cell_type": "code",
   "execution_count": null,
   "metadata": {},
   "outputs": [],
   "source": []
  },
  {
   "cell_type": "code",
   "execution_count": null,
   "metadata": {},
   "outputs": [],
   "source": []
  },
  {
   "cell_type": "code",
   "execution_count": null,
   "metadata": {},
   "outputs": [],
   "source": [
    "# earth_mass = 5.972E24 #kg\n",
    "# sim.add(m=earth_mass) # add earth\n",
    "# for i in range(len(deb_velocities)):\n",
    "#     pos = deb_positions[i]\n",
    "#     vel = deb_velocities[i]\n",
    "#     sim.add(a=a[i], e=eccentricities_mag[i], omega=arg_peri[i], M=mean_anomaly[i], inc=inclination[i])\n",
    "#     if i > 50000:\n",
    "#         break\n",
    "# for i in range(len(sim.particles)):\n",
    "#     if sim.particles[i].m == 0:\n",
    "#         sim.particles[i].test_particle_type = 1"
   ]
  },
  {
   "cell_type": "code",
   "execution_count": null,
   "metadata": {},
   "outputs": [],
   "source": [
    "# print(sim.N)                # Gets the current number of particles\n",
    "# print(sim.N_active)  "
   ]
  },
  {
   "cell_type": "code",
   "execution_count": null,
   "metadata": {},
   "outputs": [],
   "source": [
    "# from IPython.display import display, clear_output\n",
    "# import matplotlib.pyplot as plt\n",
    "# sim.move_to_com()\n",
    "# sim.dt = 1e-3\n",
    "# sim.integrator = \"whfast\"\n",
    "# for i in range(300):\n",
    "#     sim.integrate(sim.t+1e-9)"
   ]
  },
  {
   "cell_type": "code",
   "execution_count": null,
   "metadata": {},
   "outputs": [],
   "source": [
    "# x = [sim.particles[i].x for i in range(len(sim.particles))]\n",
    "# y = [sim.particles[i].y for i in range(len(sim.particles))]\n",
    "# fig = plt.figure(figsize=(5,5))\n",
    "# ax = plt.subplot(111)\n",
    "# plt.scatter(x, y, marker='.', color='k', s=1.2);"
   ]
  },
  {
   "cell_type": "code",
   "execution_count": null,
   "metadata": {},
   "outputs": [],
   "source": []
  },
  {
   "cell_type": "code",
   "execution_count": null,
   "metadata": {},
   "outputs": [],
   "source": [
    "# from IPython.display import display, clear_output\n",
    "# import matplotlib.pyplot as plt\n",
    "# sim.move_to_com()\n",
    "# for i in range(100):\n",
    "#     sim.integrate(sim.t+1e-9)\n",
    "#     fig, ax = rebound.OrbitPlot(sim,color=True,unitlabel=\"[km]\")\n",
    "#     display(fig)\n",
    "#     plt.close(fig)\n",
    "#     clear_output(wait=True)"
   ]
  },
  {
   "cell_type": "code",
   "execution_count": null,
   "metadata": {},
   "outputs": [],
   "source": [
    "# frame = OrbitPlotter3D()\n",
    "\n",
    "# frame.plot(molniya)\n",
    "# frame.plot(iss)"
   ]
  },
  {
   "cell_type": "code",
   "execution_count": null,
   "metadata": {},
   "outputs": [],
   "source": []
  },
  {
   "cell_type": "code",
   "execution_count": null,
   "metadata": {},
   "outputs": [],
   "source": [
    "# import poliastro"
   ]
  },
  {
   "cell_type": "code",
   "execution_count": null,
   "metadata": {},
   "outputs": [],
   "source": [
    "# from poliastro.twobody import Orbit\n",
    "# from poliastro.bodies import Earth, Sun\n",
    "# from astropy import units as u\n",
    "\n",
    "\n",
    "# # This function cannot handle vectors, inherriently slow, will need to write own array friedly implementation\n",
    "# orbits = [ Orbit.from_classical(Earth, a[i]*u.kilometer, eccentricities_mag[i]*u.one, inclination[i]*u.rad, long_ascending_node[i]*u.rad, arg_peri[i]*u.rad, true_anomaly[i]*u.rad) for i in range(10000)]\n",
    "    \n",
    "    "
   ]
  },
  {
   "cell_type": "code",
   "execution_count": null,
   "metadata": {},
   "outputs": [],
   "source": [
    "# from poliastro.plotting import *\n",
    "\n",
    "# frame = OrbitPlotter3D()\n",
    "\n",
    "# for i in range(100):\n",
    "#     frame.plot(orbits[i])"
   ]
  },
  {
   "cell_type": "code",
   "execution_count": null,
   "metadata": {},
   "outputs": [],
   "source": [
    "# frame.plot(orbits[101])"
   ]
  },
  {
   "cell_type": "code",
   "execution_count": null,
   "metadata": {},
   "outputs": [],
   "source": []
  },
  {
   "cell_type": "code",
   "execution_count": null,
   "metadata": {},
   "outputs": [],
   "source": []
  },
  {
   "cell_type": "code",
   "execution_count": null,
   "metadata": {},
   "outputs": [],
   "source": []
  }
 ],
 "metadata": {
  "kernelspec": {
   "display_name": "py3env",
   "language": "python",
   "name": "py3env"
  },
  "language_info": {
   "codemirror_mode": {
    "name": "ipython",
    "version": 3
   },
   "file_extension": ".py",
   "mimetype": "text/x-python",
   "name": "python",
   "nbconvert_exporter": "python",
   "pygments_lexer": "ipython3",
   "version": "3.8.5"
  }
 },
 "nbformat": 4,
 "nbformat_minor": 4
}
