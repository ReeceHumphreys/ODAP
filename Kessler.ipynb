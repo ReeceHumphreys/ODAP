{
 "cells": [
  {
   "cell_type": "markdown",
   "metadata": {},
   "source": [
    "<h1>0. Packages</h1>"
   ]
  },
  {
   "cell_type": "code",
   "execution_count": 1,
   "metadata": {
    "ExecuteTime": {
     "end_time": "2021-03-16T22:29:23.692227Z",
     "start_time": "2021-03-16T22:29:18.510018Z"
    }
   },
   "outputs": [
    {
     "data": {
      "text/html": [
       "<div id=\"glowscript\" class=\"glowscript\"></div>"
      ],
      "text/plain": [
       "<IPython.core.display.HTML object>"
      ]
     },
     "metadata": {},
     "output_type": "display_data"
    },
    {
     "data": {
      "application/javascript": [
       "if (typeof Jupyter !== \"undefined\") { window.__context = { glowscript_container: $(\"#glowscript\").removeAttr(\"id\")};}else{ element.textContent = ' ';}"
      ],
      "text/plain": [
       "<IPython.core.display.Javascript object>"
      ]
     },
     "metadata": {},
     "output_type": "display_data"
    }
   ],
   "source": [
    "from importlib import reload\n",
    "import numpy as np\n",
    "import re\n",
    "import skyfield.sgp4lib as spg4\n",
    "from   skyfield.api import wgs84\n",
    "import matplotlib \n",
    "import PyQt5\n",
    "import chart_studio.plotly as py\n",
    "import plotly.graph_objects as go\n",
    "import plotly.plotly as plotly\n",
    "\n",
    "# User defined lib.\n",
    "import generate_debris as gd\n",
    "import CoordTransforms as ct\n",
    "import visualize_deb as vis\n",
    "import planetary_data\n",
    "\n",
    "reload(gd)\n",
    "reload(ct)\n",
    "\n",
    "matplotlib.use('Agg')\n",
    "import matplotlib.pyplot as plt\n",
    "from scipy.stats import uniform\n",
    "from scipy.stats import norm\n",
    "import scipy.stats as stats\n",
    "from enum import IntEnum    \n",
    "from mpl_toolkits.mplot3d import Axes3D\n",
    "import matplotlib.pyplot as plt\n",
    "import numpy as np\n",
    "from itertools import product, combinations\n",
    "from matplotlib import cm\n",
    "from scipy import integrate\n",
    "import pandas as pd\n",
    "from numba import njit, prange\n",
    "from skyfield.api import load, EarthSatellite, wgs84\n",
    "\n",
    "%matplotlib qt5\n",
    "\n",
    "debris_category = IntEnum('Category', 'rb sc soc')"
   ]
  },
  {
   "cell_type": "code",
   "execution_count": 14,
   "metadata": {
    "ExecuteTime": {
     "end_time": "2021-03-17T00:29:35.535110Z",
     "start_time": "2021-03-17T00:29:35.517455Z"
    }
   },
   "outputs": [],
   "source": [
    "import os\n",
    "\n",
    "# Create Directory to Save Figures to\n",
    "if not os.path.exists(\"figures\"):\n",
    "    os.mkdir(\"figures\")\n",
    "    \n",
    "# Retreiving API Keys from OS\n",
    "PLOTLY_API_KEY = os.environ.get('PLOTLY_API_KEY')\n",
    "PLOTYLY_USERNAME = 'rhumphreys2017'"
   ]
  },
  {
   "cell_type": "code",
   "execution_count": 15,
   "metadata": {
    "ExecuteTime": {
     "end_time": "2021-03-17T00:29:38.044661Z",
     "start_time": "2021-03-17T00:29:38.032128Z"
    }
   },
   "outputs": [],
   "source": [
    "# Loging into chart studio\n",
    "import chart_studio\n",
    "chart_studio.tools.set_credentials_file(username=PLOTYLY_USERNAME, api_key=PLOTLY_API_KEY)"
   ]
  },
  {
   "cell_type": "markdown",
   "metadata": {},
   "source": [
    "<h1>1. Data Structure</h1>\n",
    "\n",
    "<h3>1.1 Satellite Structure</h3>\n",
    "\n",
    "Creating an object to represent satellite from 3le.txt <br>\n",
    "May end up using implementation from another package\n",
    "\n",
    "<b>Data sources:<b><br>\n",
    "https://www.space-track.org    \n",
    "https://www.celestrak.com/NORAD/documentation/spacetrk.pdf\n",
    "\n",
    "<b>Information about 3le/2le:</b><br>\n",
    "https://en.wikipedia.org/wiki/Two-line_element_set#cite_note-nasahelp-12\n",
    "https://spaceflight.nasa.gov/realdata/sightings/SSapplications/Post/JavaSSOP/SSOP_Help/tle_def.html"
   ]
  },
  {
   "cell_type": "code",
   "execution_count": null,
   "metadata": {
    "ExecuteTime": {
     "end_time": "2021-03-03T05:28:02.336500Z",
     "start_time": "2021-03-03T05:28:02.330617Z"
    }
   },
   "outputs": [],
   "source": [
    "# class two_line_element:\n",
    "    \n",
    "#     def __init__(self, data):\n",
    "#         self.parse_data(data)\n",
    "        \n",
    "#     def parse_data(self, satelite_data):\n",
    "#         self.title = satelite_data[0]\n",
    "#         line_one = satelite_data[1].split()\n",
    "#         line_two = satelite_data[2].split()\n",
    "\n",
    "#         self.catalog_number = re.search('[0-9]{1,5}', line_one[0]).group()\n",
    "#         self.classification = re.search('[UCS]', line_one[0]).group()\n",
    "\n",
    "#         international_designator = re.search('([0-9]{2})([0-9]{3})(\\w{1,3})', line_one[1])\n",
    "#         self.launch_year = international_designator.group(1)\n",
    "#         self.launch_number = international_designator.group(2)\n",
    "#         self.launch_piece =  international_designator.group(3)\n",
    "\n",
    "#         epoch = re.search('([0-9]{2})(\\d+\\.\\d+)', line_one[2])\n",
    "#         self.epoch_year = epoch.group(1)\n",
    "#         self.epoch_day = epoch.group(2)\n",
    "\n",
    "#         self.ballistic_coefficient = float(line_one[3])\n",
    "#         self.mean_motion_double_prime = line_one[4]\n",
    "#         self.BSTAR = line_one[5]\n",
    "\n",
    "#         self.inclination = line_two[1]\n",
    "#         self.right_ascension_of_ascending_node = line_two[2]\n",
    "#         self.eccentricity = line_two[3]\n",
    "#         self.argument_of_perigee = line_two[4]\n",
    "\n",
    "#         mean_anomaly = line_two[5]"
   ]
  },
  {
   "cell_type": "markdown",
   "metadata": {},
   "source": [
    "<h3>Data structure implementation using spg4 from skyfield library<h3>"
   ]
  },
  {
   "cell_type": "code",
   "execution_count": null,
   "metadata": {
    "ExecuteTime": {
     "end_time": "2021-03-15T21:27:57.142413Z",
     "start_time": "2021-03-15T21:27:51.120817Z"
    }
   },
   "outputs": [],
   "source": [
    "# Opening the .txt file\n",
    "with open(\"3le.txt\") as f:\n",
    "    txt = f.read()\n",
    "    \n",
    "sat_lines = re.findall('(.*?)\\n(.*?)\\n(.*?)\\n', txt)\n",
    "\n",
    "# Preview of `sat_lines`, each element should be the three lines representing a satellite\n",
    "print(sat_lines[0])\n",
    "\n",
    "# Convert each group of 3 lines into a satelite object\n",
    "def line_element_to_satellite(lines):\n",
    "    title = lines[0]\n",
    "    line1 = lines[1]\n",
    "    line2 = lines[2]\n",
    "    return spg4.EarthSatellite(line1, line2, name=title)\n",
    "\n",
    "satellites = [line_element_to_satellite(lines) for lines in sat_lines]\n",
    "\n",
    "# Retrieving orbital structure that fits criterion\n",
    "i_desired = np.deg2rad(20)\n",
    "z_desired = 700*1e3 #[m]\n",
    "\n",
    "i_tol = np.deg2rad(5)\n",
    "z_tol = 25*1e3\n",
    "\n",
    "data = np.array(satellites)\n",
    "ts = load.timescale(builtin=True)\n",
    "t  = ts.now()\n",
    "r_E = 6.3781e6 #[m]\n",
    "\n",
    "\n",
    "inclo = np.array([sat.model.inclo for sat in data ])\n",
    "altitude = np.array([wgs84.subpoint(sat.at(t)).elevation.m for sat in data])\n",
    "\n",
    "I_inclo = (inclo < i_desired + i_tol) & (inclo > i_desired - i_tol)\n",
    "I_alt   = (altitude < z_desired + z_tol) & (altitude > z_desired - z_tol)\n",
    "\n",
    "# Getting the first satellite that meets the above criterion\n",
    "satellite = data[I_inclo & I_alt][0] "
   ]
  },
  {
   "cell_type": "markdown",
   "metadata": {},
   "source": [
    "<h3>1.2 Celestial Bodies</h3>\n",
    "\n",
    "\n",
    "de421.bsp is a Ephemerides provided by JPL Horizon which has the calculated positions of celestial bodies within a certain time interval. de421 is commonly used due to its small size and its relativley up to date information"
   ]
  },
  {
   "cell_type": "code",
   "execution_count": null,
   "metadata": {
    "ExecuteTime": {
     "end_time": "2021-03-03T05:28:02.355852Z",
     "start_time": "2021-03-03T05:28:02.350632Z"
    }
   },
   "outputs": [],
   "source": [
    "# from skyfield.api import load, EarthSatellite\n",
    "# ts = load.timescale(builtin=True)\n",
    "\n",
    "# # Loading the data from de421.bsp using skyfield \n",
    "# planets = load('de421.bsp')\n",
    "\n",
    "# # Finding the data about Earth\n",
    "# earth = planets[\"Earth\"]"
   ]
  },
  {
   "cell_type": "markdown",
   "metadata": {},
   "source": [
    "<h1>2. Breakup Models</h1>\n",
    "\n",
    "<h3>2.1 NASA breakup model</h3>\n",
    "\n",
    "<b>Implementation:</b> (Found on page 207)<br>\n",
    "https://www.researchgate.net/publication/295490674_Space_debris_cloud_evolution_in_Low_Earth_Orbit\n",
    "\n",
    "<b>Alternate implementation:</b><br>\n",
    "https://gitlab.obspm.fr/apetit/nasa-breakup-model/tree/master\n",
    "\n",
    "<b>Information:</b><br>\n",
    "https://digitalcommons.calpoly.edu/cgi/viewcontent.cgi?referer=https://en.wikipedia.org/&httpsredir=1&article=1094&context=theses\n",
    "\n",
    "\n",
    "<b>Now implemented in file generate_debris.py</b><br>"
   ]
  },
  {
   "cell_type": "markdown",
   "metadata": {},
   "source": [
    "<h3>2.2 NASA breakup model validation</h3>"
   ]
  },
  {
   "cell_type": "code",
   "execution_count": null,
   "metadata": {
    "ExecuteTime": {
     "end_time": "2021-03-03T05:28:02.936561Z",
     "start_time": "2021-03-03T05:28:02.359829Z"
    },
    "scrolled": true
   },
   "outputs": [],
   "source": [
    "# Explosion Case\n",
    "\n",
    "reload(gd)\n",
    "\n",
    "m_target = 1000 # [kg]\n",
    "\n",
    "# Do not need to specify projectile mass, and collision velocity for an explosion\n",
    "L_c, areas, masses, AM = gd.fragmentation(m_target, 0, 0, False, debris_category.rb, True)\n",
    "\n",
    "bins = [1e-3, 1e-2, 1e-1, 1, np.inf] # L_c bins in meters\n",
    "h,b = np.histogram(L_c, bins=bins)\n",
    "\n",
    "ch = [ { f'>{bins[i]}m':np.sum(h[i:]) for i in range(len(h))}]\n",
    "\n",
    "df = pd.DataFrame(ch)\n",
    "df"
   ]
  },
  {
   "cell_type": "code",
   "execution_count": null,
   "metadata": {
    "ExecuteTime": {
     "end_time": "2021-03-03T05:28:02.948740Z",
     "start_time": "2021-03-03T05:28:02.943673Z"
    },
    "scrolled": true
   },
   "outputs": [],
   "source": [
    "# reload(gd)\n",
    "\n",
    "# %matplotlib inline\n",
    "\n",
    "# L_c, areas, masses, AM = gd.fragmentation(1000, 10, 10, True, debris_category.rb, False)\n",
    "# N_fragments_total = L_c.shape[0]\n",
    "# lambda_c = np.log10(L_c)\n",
    "\n",
    "# def create_log_bins(values, nbins=100):\n",
    "#     #return np.geomspace(values.min(), values.max(), nbins)\n",
    "#     bins = np.geomspace(values.min(), values.max(), nbins)\n",
    "#     a = bins[1]/bins[0]\n",
    "#     bins = np.concatenate([[bins[0]/a], bins,[bins[-1]*a]])\n",
    "#     return bins\n",
    "\n",
    "# # # # Validating L_c\n",
    "# # h, b = np.histogram(L_c, bins=create_log_bins(L_c))\n",
    "# # plt.figure(figsize=(5,5))\n",
    "# # plt.xscale('log')\n",
    "# # plt.xlabel(r'$L_{c}$')\n",
    "# # plt.ylabel(r'$N_f$')\n",
    "# # plt.gca().set_xticks([1e-3, 1e-2, 1e-1, 1, 10])\n",
    "# # plt.gca().set_xlim([1e-3,10])\n",
    "# # plt.ticklabel_format(axis=\"y\", style=\"sci\", scilimits=(0,5))\n",
    "# # plt.gca().set_yticks([0, 2e5, 4e5, 6e5, 8e5])\n",
    "# # plt.gca().set_ylim([0,8e5])\n",
    "# # plt.plot((b[:-1] + b[1:])/2, h, '.-')\n",
    "# # plt.show()\n",
    "\n",
    "# # # # Validating Areas\n",
    "# # h, b = np.histogram(areas, bins=create_log_bins(areas))\n",
    "# # plt.figure(figsize=(5,5))\n",
    "# # plt.xscale('log')\n",
    "# # plt.xlabel(r'$Areas$')\n",
    "# # plt.ylabel(r'$N_f$')\n",
    "# # plt.gca().set_xticks([1e-8,1e-6, 1e-4, 1e-2, 1, 1e2])\n",
    "# # plt.gca().set_xlim([1e-8,1e2])\n",
    "# # plt.ticklabel_format(axis=\"y\", style=\"sci\", scilimits=(0,5))\n",
    "# # plt.gca().set_yticks([0, 2e5, 4e5, 6e5, 8e5])\n",
    "# # plt.gca().set_ylim([0,8e5])\n",
    "# # plt.plot((b[:-1] + b[1:])/2, h, '.-')\n",
    "# # plt.show()\n",
    "\n",
    "# # # Validating Mass & Velocity\n",
    "# # h, b = np.histogram(masses, bins=create_log_bins(masses))\n",
    "# # plt.figure(figsize=(5,5))\n",
    "# # plt.xscale('log')\n",
    "# # plt.xlabel(r'$Masses$')\n",
    "# # plt.ylabel(r'$N_f$')\n",
    "# # plt.gca().set_xticks([1e-8, 1e-5, 1e-2, 10, 1e4])\n",
    "# # plt.gca().set_xlim([1e-8,1e4])\n",
    "# # plt.ticklabel_format(axis=\"y\", style=\"sci\", scilimits=(0,5))\n",
    "# # plt.gca().set_yticks([0, 2e5, 4e5, 6e5, 8e5])\n",
    "# # plt.gca().set_ylim([0,8e5])\n",
    "# # plt.plot((b[:-1] + b[1:])/2, h, '.-')\n",
    "# # plt.show()\n",
    "\n",
    "# # # # Validating Velocity\n",
    "# # deltaV = np.array(gd.distribution_deltaV(AM, 10, False))\n",
    "# # h, b = np.histogram(deltaV, bins=create_log_bins(deltaV))\n",
    "# # plt.figure(figsize=(5,5))\n",
    "# # plt.xscale('log')\n",
    "# # plt.xlabel(r'$\\delta V$')\n",
    "# # plt.ylabel(r'$N_f$')\n",
    "# # plt.gca().set_xticks([1e-3, 1e-2, 1e-1, 1, 10])\n",
    "# # plt.gca().set_xlim([1e-3,10])\n",
    "# # plt.grid()\n",
    "# # plt.plot((b[:-1] + b[1:])/2, h, '.-')\n",
    "# # plt.ticklabel_format(axis=\"y\", style=\"sci\", scilimits=(0,5))\n",
    "# # plt.gca().set_yticks([0, 2e5, 4e5, 6e5, 8e5])\n",
    "# # plt.gca().set_ylim([0,8e5])\n",
    "# # plt.show()"
   ]
  },
  {
   "cell_type": "markdown",
   "metadata": {},
   "source": [
    "<h3>2.3 and Onward will be alternate breakup models</h3>"
   ]
  },
  {
   "cell_type": "markdown",
   "metadata": {},
   "source": [
    "<h1>3. Numerical Propagation</h1>"
   ]
  },
  {
   "cell_type": "markdown",
   "metadata": {},
   "source": [
    "<h3>3.2 Calculating Orbital Debris Properties</h3>"
   ]
  },
  {
   "cell_type": "code",
   "execution_count": 10,
   "metadata": {
    "ExecuteTime": {
     "end_time": "2021-03-17T00:20:59.911112Z",
     "start_time": "2021-03-17T00:20:59.839147Z"
    },
    "scrolled": false
   },
   "outputs": [],
   "source": [
    "from skyfield.api import load, EarthSatellite\n",
    "reload(gd)\n",
    "\n",
    "ts = load.timescale(builtin=True)\n",
    "\n",
    "t_fragmentation = ts.now()\n",
    "geocentric      = satellite.at(t_fragmentation)\n",
    "init_position   = geocentric.position.m\n",
    "\n",
    "m_target         = 250   # [kg] (Approx. mass of starlink sat)\n",
    "m_projectile     = 200     # [kg]\n",
    "v_impact         = 2   # [km·s^-1] (Measured relative to the target) (Needs to be in km·s^-1)\n",
    "is_catastrophic  = False\n",
    "is_explosion     = False\n",
    "\n",
    "L_c, areas, masses, AM = gd.fragmentation(m_target, m_projectile, v_impact, is_catastrophic, debris_category.sc, is_explosion)\n",
    "deltaV = np.array(gd.distribution_deltaV(AM, v_impact, False)) # Returns as [km·s^-1]\n",
    "deltaV = deltaV * 1e3    #[m·s^-1]"
   ]
  },
  {
   "cell_type": "markdown",
   "metadata": {},
   "source": [
    "<h3>3.3 Converting Cartesian to Keplerian</h3>"
   ]
  },
  {
   "cell_type": "code",
   "execution_count": null,
   "metadata": {
    "ExecuteTime": {
     "end_time": "2021-03-15T21:46:12.578838Z",
     "start_time": "2021-03-15T21:46:07.934824Z"
    }
   },
   "outputs": [],
   "source": [
    "from numpy.linalg import norm\n",
    "init_position = geocentric.position.m\n",
    "\n",
    "reload(planetary_data)\n",
    "reload(ct)\n",
    "\n",
    "deb_positions       = np.empty((len(AM), 3))\n",
    "deb_positions[:, :] = init_position[None,:]\n",
    "deb_velocities      = gd.velocity_vectors(len(AM), geocentric.velocity.m_per_s, deltaV)\n",
    "\n",
    "keplerian_state     = ct.rv2coe(deb_positions, deb_velocities, planetary_data.earth['mu'])\n",
    "\n",
    "print(keplerian_state.shape)\n",
    "# Removing fragments that would renter earth\n",
    "periapsis           = keplerian_state[0, :] * (1 - keplerian_state[1, :])\n",
    "I                   = np.argwhere(periapsis > planetary_data.earth['radius'])\n",
    "keplerian_state     = np.squeeze(keplerian_state[:, I])\n",
    "areas  = areas[I].flatten()  # When doing the indexing , a 1d dim being added which is unneccesary\n",
    "masses              = masses[I].flatten() # When doing the indexing , a 1d dim being added which is unneccesary"
   ]
  },
  {
   "cell_type": "code",
   "execution_count": null,
   "metadata": {
    "ExecuteTime": {
     "end_time": "2021-03-03T05:28:02.978204Z",
     "start_time": "2021-03-03T05:28:02.973196Z"
    }
   },
   "outputs": [],
   "source": [
    "# rand_index = 1\n",
    "\n",
    "# print(\"Cartesian\")\n",
    "# print(\"r: \", deb_positions[rand_index, :])\n",
    "# print(\"v: \", deb_velocities[rand_index, :])\n",
    "# print(\"m: \", masses[rand_index])\n",
    "# print(\"m_E: \", planetary_data.earth['mass'])\n",
    "# print(\"Keplerian\")\n",
    "# ks_rand = keplerian_state[:, rand_index]\n",
    "# print(\"a: \", ks_rand[0]) # a is tyically off in the thousands place\n",
    "# print(\"e: \", ks_rand[1])\n",
    "# print(\"i: \", ks_rand[2])\n",
    "# print(\"Omega: \", ks_rand[3]) \n",
    "# print(\"omega: \", ks_rand[4])\n",
    "# print(\"M: \", ks_rand[5])\n",
    "# print(\"nu: \", ks_rand[6])\n",
    "# print()"
   ]
  },
  {
   "cell_type": "markdown",
   "metadata": {},
   "source": [
    "<h3>3.4 Testing coverting back to Cartesian</h3>"
   ]
  },
  {
   "cell_type": "code",
   "execution_count": null,
   "metadata": {
    "ExecuteTime": {
     "end_time": "2021-03-03T05:28:02.987765Z",
     "start_time": "2021-03-03T05:28:02.981798Z"
    }
   },
   "outputs": [],
   "source": [
    "# reload(ct)\n",
    "\n",
    "# %matplotlib notebook\n",
    "\n",
    "# indexes = np.random.default_rng().choice(keplerian_state.shape[1], size=1000, replace=False)\n",
    "# ks_sample = keplerian_state[:, indexes]\n",
    "\n",
    "# cartesian_state = np.array(ct.coe2rv_many(k=planetary_data.earth['mu'],\n",
    "#                               p=ks_sample[7, :],\n",
    "#                               ecc=ks_sample[1, :],\n",
    "#                               inc=ks_sample[2, :],\n",
    "#                               raan=ks_sample[3, :],\n",
    "#                               argp=ks_sample[4, :],\n",
    "#                               nu=ks_sample[6, :]))\n",
    "# radius_earth = planetary_data.earth['radius']\n",
    "# r = cartesian_state[0, :, :]\n",
    "# fig = plt.figure()\n",
    "# ax = fig.add_subplot(111, projection='3d')\n",
    "# ax.scatter(r[:, 0], r[:, 1], r[:, 2])\n",
    "# ax.set_xlim3d([-radius_earth-1000*1e3, radius_earth+1000*1e3])\n",
    "# ax.set_xlabel('X (m)')\n",
    "\n",
    "# ax.set_ylim3d([-radius_earth-1000*1e3, radius_earth+1000*1e3])\n",
    "# ax.set_ylabel('Y (m)')\n",
    "\n",
    "# ax.set_zlim3d([-radius_earth-1000*1e3, radius_earth+1000*1e3])\n",
    "# ax.set_zlabel('Z (m)')\n",
    "\n",
    "# _u, _v = np.mgrid[0:2*np.pi:20j, 0:np.pi:10j]\n",
    "# _x = radius_earth*np.cos(_u)*np.sin(_v)\n",
    "# _y = radius_earth*np.sin(_u)*np.sin(_v)\n",
    "# _z = radius_earth*np.cos(_v)\n",
    "\n",
    "# ax.plot_surface(_x, _y, _z, cmap=cm.coolwarm)\n",
    "# plt.show()"
   ]
  },
  {
   "cell_type": "code",
   "execution_count": null,
   "metadata": {
    "ExecuteTime": {
     "end_time": "2021-03-03T05:28:02.998944Z",
     "start_time": "2021-03-03T05:28:02.991267Z"
    }
   },
   "outputs": [],
   "source": [
    "# keplerian_state.shape\n",
    "# masses.shape"
   ]
  },
  {
   "cell_type": "markdown",
   "metadata": {},
   "source": [
    "<h3>3.4 Debris Cloud formation</h3>"
   ]
  },
  {
   "cell_type": "code",
   "execution_count": null,
   "metadata": {
    "ExecuteTime": {
     "end_time": "2021-03-15T21:48:07.888836Z",
     "start_time": "2021-03-15T21:48:07.852162Z"
    },
    "scrolled": true
   },
   "outputs": [],
   "source": [
    "## Shrink number of debris being used\n",
    "indexes = np.random.default_rng().choice(keplerian_state.shape[1], size=1000, replace=False)\n",
    "\n",
    "ks = keplerian_state[:, indexes]\n",
    "masses = masses[indexes]\n",
    "areas = areas[indexes]\n",
    "deb_positions = deb_positions[indexes, :]\n",
    "deb_velocities = deb_velocities[indexes, :]"
   ]
  },
  {
   "cell_type": "code",
   "execution_count": null,
   "metadata": {
    "ExecuteTime": {
     "end_time": "2021-03-15T21:48:10.796825Z",
     "start_time": "2021-03-15T21:48:10.781503Z"
    }
   },
   "outputs": [],
   "source": [
    "np.savez(\"debris.npz\",\n",
    "         keplerian_states=ks,\n",
    "         masses=masses,\n",
    "         areas=areas,\n",
    "         deb_positions=deb_positions,\n",
    "         deb_velocities=deb_velocities)"
   ]
  },
  {
   "cell_type": "code",
   "execution_count": 4,
   "metadata": {
    "ExecuteTime": {
     "end_time": "2021-03-16T22:29:40.417622Z",
     "start_time": "2021-03-16T22:29:40.404197Z"
    }
   },
   "outputs": [],
   "source": [
    "container = np.load('debris.npz')\n",
    "ks = container['keplerian_states']\n",
    "masses = container['masses']\n",
    "areas = container['areas']\n",
    "deb_positions = container['deb_positions']\n",
    "deb_velocities = container['deb_velocities']"
   ]
  },
  {
   "cell_type": "markdown",
   "metadata": {},
   "source": [
    "<h4>3.4.1 Ellisoid formation</h4>"
   ]
  },
  {
   "cell_type": "code",
   "execution_count": 5,
   "metadata": {
    "ExecuteTime": {
     "end_time": "2021-03-16T22:31:21.334750Z",
     "start_time": "2021-03-16T22:29:47.334482Z"
    }
   },
   "outputs": [],
   "source": [
    "import Perturbations as OP\n",
    "import planetary_data as pd\n",
    "from Perturbations import null_perts\n",
    "\n",
    "reload(OP)\n",
    "\n",
    "# Cleanup states to remove any fragments that would deorbit, given no perturbations\n",
    "periapsis     = ks[0, :] * (1 - ks[1, :])\n",
    "I             = np.argwhere(periapsis > pd.earth['radius'])\n",
    "ks_pruned     = np.squeeze(ks[:, I])\n",
    "T             = ks_pruned[8, :]\n",
    "areas_pruned  = areas[I].flatten()  # When doing the indexing , a 1d dim being added which is unneccesary\n",
    "masses_pruned = masses[I].flatten() # When doing the indexing , a 1d dim being added which is unneccesary\n",
    "\n",
    "# Propagate orbit for a period of time\n",
    "perts = null_perts()\n",
    "perts['aero'] = True\n",
    "perts['J2']   = True\n",
    "op = OP.OrbitPropagator(ks_pruned, areas_pruned, masses_pruned, [0, 40*np.ceil(max(T))], 60*5, perts=perts)\n",
    "op.propagate_orbit()\n",
    "\n",
    "# Get the cartesian state representation\n",
    "cartesian_states = op.cartesian_representation()"
   ]
  },
  {
   "cell_type": "markdown",
   "metadata": {},
   "source": [
    "<h4>3.4.2 Particle Debris flux</h4>\n",
    "\n",
    "Using a particle flux to determine when the fragments of the debris have finished the formation of the ring. Indicating the end of the first phase of the debris cloud formation. This is accomplished by creating an xz plane and detecting when particles have switched from one side to the other. This approach will cause a peak as fragments pass through that becomes uniform as the debris becomes uniformly spread out."
   ]
  },
  {
   "cell_type": "code",
   "execution_count": 6,
   "metadata": {
    "ExecuteTime": {
     "end_time": "2021-03-16T22:31:42.544616Z",
     "start_time": "2021-03-16T22:31:41.186099Z"
    }
   },
   "outputs": [],
   "source": [
    "import time\n",
    "import matplotlib.dates as mdates\n",
    "from dateutil import tz\n",
    "\n",
    "def fragmentation_flux(X):\n",
    "    return np.sum((X[:-1, :, 1] < 0) & (X[1:, :, 1] > 0), axis=1)\n",
    "    \n",
    "position = cartesian_states[:, 0, :, :]\n",
    "flux = fragmentation_flux(position)"
   ]
  },
  {
   "cell_type": "markdown",
   "metadata": {},
   "source": [
    "<h4>3.4.3 Convergence of the flux</h4>\n",
    "\n",
    "The next step is determining when the fragments have ended the torroid formation phase. This occurs when the fragments are approximately uniformally spread out. We can check to see when the flux meets a convergence criterion to determine when this happens."
   ]
  },
  {
   "cell_type": "code",
   "execution_count": 7,
   "metadata": {
    "ExecuteTime": {
     "end_time": "2021-03-16T22:31:47.363338Z",
     "start_time": "2021-03-16T22:31:45.925849Z"
    }
   },
   "outputs": [],
   "source": [
    "w = 100 # Window of points to look at\n",
    "tol = 1.5\n",
    "convergence_ratio = np.array([np.var(flux[i:i+w])/np.mean(flux[i:i+w]) for i in range(len(flux))])    \n",
    "intersection_index = np.argwhere(convergence_ratio <= tol).flatten()[2] # Grabbing the second point that meets the criteria\n",
    "\n",
    "# datetimes\n",
    "t_flux = t_fragmentation.utc_datetime() + np.array(range(len(flux))) * datetime.timedelta(minutes = 5)\n",
    "\n",
    "# Removing last window from `t_flux`, `flux`, and `convergence_ratio` bc. not well defined for last values\n",
    "t_flux = t_flux[:-w]\n",
    "flux = flux[:-w]\n",
    "convergence_ratio = convergence_ratio[:-w]"
   ]
  },
  {
   "cell_type": "code",
   "execution_count": 41,
   "metadata": {
    "ExecuteTime": {
     "end_time": "2021-03-17T01:08:07.407297Z",
     "start_time": "2021-03-17T01:07:50.191710Z"
    },
    "scrolled": true
   },
   "outputs": [
    {
     "data": {
      "text/html": [
       "\n",
       "        <iframe\n",
       "            width=\"100%\"\n",
       "            height=\"525px\"\n",
       "            src=\"https://plotly.com/~rhumphreys2017/9.embed\"\n",
       "            frameborder=\"0\"\n",
       "            allowfullscreen\n",
       "        ></iframe>\n",
       "        "
      ],
      "text/plain": [
       "<IPython.lib.display.IFrame at 0x7fc0ae28aac0>"
      ]
     },
     "execution_count": 41,
     "metadata": {},
     "output_type": "execute_result"
    }
   ],
   "source": [
    "import datetime\n",
    "import chart_studio.plotly as py\n",
    "\n",
    "# SIgn in \n",
    "py.sign_in(username = PLOTYLY_USERNAME, api_key = PLOTLY_API_KEY)\n",
    "\n",
    "# Creating Flux v. Time plot\n",
    "layout = go.Layout(\n",
    "    title        = dict(text='$\\\\text{Flux}\\:(\\\\Phi)\\:\\\\text{vs. Time }(t)$',\n",
    "                        x=0.5),\n",
    "    xaxis_title  = '$t\\:[days]$',\n",
    "    yaxis_title  = '$\\\\text{ Number of fragments passing XZ plane, }\\Phi\\:$',\n",
    "    template     = 'plotly_white'\n",
    ")\n",
    "\n",
    "\n",
    "data = [\n",
    "    go.Scatter(x=t_flux, y=flux,\n",
    "               mode='lines',\n",
    "               name='Flux'),\n",
    "    go.Scatter(x=[t_flux[intersection_index], t_flux[intersection_index]], y=[0, np.max(flux)],\n",
    "               mode='lines',\n",
    "               line=dict(dash = 'dash'),\n",
    "               name='Convergence')\n",
    "]\n",
    "\n",
    "fig1 = go.Figure(data=data, layout=layout)\n",
    "\n",
    "# Stopping data to have half before intersection index and half after\n",
    "index_stop = intersection_index * 2\n",
    "if index_stop > len(flux) - 1 : index_stop = len(flux) - 1\n",
    "fig1.update_layout(xaxis_range=[t_flux[0],t_flux[index_stop]])\n",
    "\n",
    "# Saving plot as an image and uploading it to plotly\n",
    "fig1.write_image(\"figures/Flux_v_Time.png\", width=500, height=500, scale=2)\n",
    "py.iplot(fig1, filename=\"Flux v. Time\")"
   ]
  },
  {
   "cell_type": "code",
   "execution_count": 37,
   "metadata": {
    "ExecuteTime": {
     "end_time": "2021-03-17T00:58:06.780840Z",
     "start_time": "2021-03-17T00:58:06.775926Z"
    }
   },
   "outputs": [
    {
     "data": {
      "text/plain": [
       "579"
      ]
     },
     "execution_count": 37,
     "metadata": {},
     "output_type": "execute_result"
    }
   ],
   "source": [
    "intersection_index"
   ]
  },
  {
   "cell_type": "code",
   "execution_count": 26,
   "metadata": {
    "ExecuteTime": {
     "end_time": "2021-03-17T00:50:30.470028Z",
     "start_time": "2021-03-17T00:50:23.443017Z"
    }
   },
   "outputs": [
    {
     "data": {
      "text/html": [
       "\n",
       "        <iframe\n",
       "            width=\"100%\"\n",
       "            height=\"525px\"\n",
       "            src=\"https://plotly.com/~rhumphreys2017/5.embed\"\n",
       "            frameborder=\"0\"\n",
       "            allowfullscreen\n",
       "        ></iframe>\n",
       "        "
      ],
      "text/plain": [
       "<IPython.lib.display.IFrame at 0x7fc0ab0cc130>"
      ]
     },
     "execution_count": 26,
     "metadata": {},
     "output_type": "execute_result"
    }
   ],
   "source": [
    "#Creating Convergence Ratio v. Time plot\n",
    "layout = go.Layout(\n",
    "    title        = dict(text='Convergence ratio vs. Time (t)',\n",
    "                        x=0.5),\n",
    "    xaxis_title  = '$t\\:[days]$',\n",
    "    yaxis_title  = 'Convergence ratio []',\n",
    "    template     = 'plotly_white',\n",
    "    legend       = go.layout.Legend(yanchor=\"top\",\n",
    "                             y=0.99,\n",
    "                             xanchor=\"right\",\n",
    "                             x=0.99)\n",
    ")\n",
    "data = [\n",
    "    go.Scatter(x=t_flux, y=convergence_ratio,\n",
    "               mode='lines',\n",
    "               name='Convergence ratio'),\n",
    "    go.Scatter(x=[t_flux[intersection_index], t_flux[intersection_index]], y=[0, np.max(flux)],\n",
    "               mode='lines',\n",
    "               line=dict(dash = 'dash'),\n",
    "               name='Convergence time'),\n",
    "    go.Scatter(x=[t_flux[0], t_flux[-1]], y=[tol, tol],\n",
    "               mode='lines',\n",
    "               line=dict(dash = 'dash'),\n",
    "               name='Tolerance'),\n",
    "]\n",
    "fig2 = go.Figure(data=data, layout=layout)\n",
    "fig2.update_yaxes(type=\"log\")\n",
    "fig2.write_image(\"figures/Convergence_Ratio_v_Time.png\", width=500, height=500, scale=2)\n",
    "\n",
    "py.iplot(fig2, filename=\"Convergence Ratio v. Time\")"
   ]
  },
  {
   "cell_type": "markdown",
   "metadata": {},
   "source": [
    "<h4>3.4.4 End of band formation</h4>\n",
    "\n",
    "Now that the band has formed, we can shift away from propagating the exact position of each fragments and inplace propgate their changes in eccentricity and semi major axis due to drag. To do this first we must get the final states of the debris after the band has formed."
   ]
  },
  {
   "cell_type": "code",
   "execution_count": null,
   "metadata": {
    "ExecuteTime": {
     "end_time": "2021-03-16T21:49:39.226396Z",
     "start_time": "2021-03-16T21:49:39.093002Z"
    }
   },
   "outputs": [],
   "source": [
    "cs_toroid = cartesian_states[:intersection_index, :, :, :]\n",
    "ks_toroid = op.states[0:intersection_index, :, :]\n",
    "op.states = ks_toroid\n",
    "\n"
   ]
  },
  {
   "cell_type": "code",
   "execution_count": null,
   "metadata": {
    "ExecuteTime": {
     "end_time": "2021-03-05T01:20:24.325604Z",
     "start_time": "2021-03-05T01:20:17.149519Z"
    }
   },
   "outputs": [],
   "source": [
    "import plotly.express as px  # (version 4.7.0)\n",
    "import plotly.io as pio\n",
    "import pandas\n",
    "reload(vis)\n",
    "\n",
    "\n",
    "spherical_earth_map = np.load('map_sphere.npy') \n",
    "\n",
    "pos_toroid = cs_toroid[:, 0, :, :]/1e3\n",
    "N_timesteps = pos_toroid.shape[0]\n",
    "N_fragments = pos_toroid.shape[1]\n",
    "r_E = op.cb['radius'] / 1e3\n",
    "xm, ym, zm = spherical_earth_map.T * r_E\n",
    "\n",
    "# Converting data to pandas dataframe\n",
    "df = pandas.DataFrame()\n",
    "# *** Update this if chnage timestep in initial orbit propagation ***\n",
    "dt = 60 * 5 #[s]\n",
    "# Want to show the evolution in 30 min\n",
    "timesteps = np.arange(0,N_timesteps, 6)\n",
    "\n",
    "for t in timesteps:   \n",
    "    step = t*np.ones_like(N_timesteps)\n",
    "    time = dt * step / 60 #[min]\n",
    "    d = {'X': pos_toroid[t, :, 0],\n",
    "         'Y': pos_toroid[t, :, 1],\n",
    "         'Z':pos_toroid[t, :, 2],\n",
    "         'Min.': time,\n",
    "         'a': ks_toroid[t, 0, :]/1e3,\n",
    "         'e': ks_toroid[t, 1, :],\n",
    "         'i': ks_toroid[t, 2, :],\n",
    "        }\n",
    "    df = pandas.concat([df, pandas.DataFrame(data=d)])\n",
    "\n",
    "# Creating visual\n",
    "def spheres(size, clr, dist=0): \n",
    "    \n",
    "    # Set up 100 points. First, do angles\n",
    "    theta = np.linspace(0,2*np.pi,100)\n",
    "    phi = np.linspace(0,np.pi,100)\n",
    "    \n",
    "    # Set up coordinates for points on the sphere\n",
    "    x0 = dist + size * np.outer(np.cos(theta),np.sin(phi))\n",
    "    y0 = size * np.outer(np.sin(theta),np.sin(phi))\n",
    "    z0 = size * np.outer(np.ones(100),np.cos(phi))\n",
    "    \n",
    "    # Set up trace\n",
    "    trace= go.Surface(x=x0, y=y0, z=z0, colorscale=[clr, clr], opacity=0.2)\n",
    "    trace.update(showscale=False)\n",
    "\n",
    "    return trace\n",
    "\n",
    "fig = px.scatter_3d(\n",
    "    data_frame=df,\n",
    "    x='X',\n",
    "    y='Y',\n",
    "    z='Z',\n",
    "    # color_discrete_map={'Europe': 'black', 'Africa': 'yellow'},\n",
    "    # opacity=0.3,              # opacity values range from 0 to 1\n",
    "    # symbol='Year',            # symbol used for bubble\n",
    "    # symbol_map={\"2005\": \"square-open\", \"2010\": 3},\n",
    "    #size=3*np.ones((N_fragments)),       # size of bubble\n",
    "    # size_max=50,              # set the maximum mark size when using size\n",
    "    # range_z=[9,13],           # you can also set range of range_y and range_x\n",
    "    #template='ggplot2',         # 'ggplot2', 'seaborn', 'simple_white', 'plotly',\n",
    "                                # 'plotly_white', 'plotly_dark', 'presentation',\n",
    "                                # 'xgridoff', 'ygridoff', 'gridon', 'none'\n",
    "    title='Evolution of debris cloud to toroid formation',\n",
    "    #labels={'Years in school (avg)': 'Years Women are in School'},\n",
    "    hover_data={'Min.': False, 'X': False, 'Y':False, 'Z':False, 'a':':.1f', 'e':':.4f','i':':.1f' },\n",
    "    #hover_name='Orbital Elements',        # values appear in bold in the hover tooltip\n",
    "    height=800,                 # height of graph in pixels\n",
    "    width =800,\n",
    "    animation_frame='Min.',   # assign marks to animation frames\n",
    "    range_x=[-r_E - 1000,r_E + 1000],\n",
    "    range_z=[-r_E - 1000,r_E + 1000],\n",
    "    range_y=[-r_E - 1000,r_E + 1000],\n",
    "\n",
    ")\n",
    "fig.update_traces(marker={'size': 3})\n",
    "# Add Earth\n",
    "earth=spheres(r_E, '#ffffff', 0) # Earth\n",
    "#fig.add_trace(go.Scatter3d(x=xm, y=ym, z=zm, mode='lines', line=dict(color=zm, colorscale='Viridis')))\n",
    "fig['layout']['scene']['aspectmode'] = 'cube'\n",
    "fig.update_layout(transition = {'duration': 2000})\n",
    "fig.show()"
   ]
  },
  {
   "cell_type": "markdown",
   "metadata": {},
   "source": [
    "<h3> 4.0.0 Implementing Perturbations </h3>"
   ]
  },
  {
   "cell_type": "markdown",
   "metadata": {},
   "source": [
    "<h4> 4.1.0 atmospheric model </h4>"
   ]
  },
  {
   "cell_type": "code",
   "execution_count": null,
   "metadata": {
    "ExecuteTime": {
     "end_time": "2021-03-03T05:28:15.513633Z",
     "start_time": "2021-03-03T05:28:15.507630Z"
    }
   },
   "outputs": [],
   "source": [
    "# import Aerodynamics as aero\n",
    "\n",
    "# upper_bound = 900 * 1e3                         #[m]\n",
    "# altitudes   = np.arange(0, upper_bound, 25)      #[m]\n",
    "# rho         = aero.atmosphere_density(altitudes) #[kg·m^-3]\n",
    "\n",
    "# I_standard = np.argwhere(altitudes/1e3 == 25).flatten()[0]\n",
    "# I_cira    = np.argwhere(altitudes/1e3 == 500).flatten()[0]\n",
    "\n",
    "# # Plotting the Exponential Atmospheric Model\n",
    "\n",
    "# layout = go.Layout(\n",
    "#     title        = go.layout.Title(text='Altitude (z) vs. Atmospheric Density (ρ)',\n",
    "#                                    x=0.5),\n",
    "#     xaxis_title  = 'z [km]',\n",
    "#     yaxis_title  = '$\\log_{10}(\\\\rho\\:[kg·m^{-3}])$',\n",
    "#     template     = 'plotly_white',\n",
    "#     legend       = go.layout.Legend(yanchor=\"top\",\n",
    "#                              y=0.99,\n",
    "#                              xanchor=\"right\",\n",
    "#                              x=0.99)\n",
    "# )\n",
    "\n",
    "# data = [\n",
    "#     go.Scatter(x=altitudes[:I_standard] / 1e3, y=rho[:I_standard],\n",
    "#                     mode='lines',\n",
    "#                     name='U.S Standard Atmosphere'),\n",
    "#     go.Scatter(x=altitudes[I_standard:I_cira] / 1e3, y=rho[I_standard:I_cira],\n",
    "#                     mode='lines',\n",
    "#                     name='CIRA-72'),\n",
    "#     go.Scatter(x=altitudes[I_cira:] / 1e3, y=rho[I_cira:],\n",
    "#                     mode='lines',\n",
    "#                     name='CIRA-72 with T_infinity = 1000K')\n",
    "# ]\n",
    "\n",
    "# fig = go.Figure(data=data, layout=layout)\n",
    "# fig.update_yaxes(type=\"log\")\n",
    "\n",
    "\n",
    "# fig.write_image(\"figures/Atmospheric_Density_v_Altitude.png\", width=500, height=500, scale=2)\n",
    "# f2 = go.FigureWidget(fig)\n",
    "# f2\n",
    "\n",
    "# f2"
   ]
  },
  {
   "cell_type": "markdown",
   "metadata": {},
   "source": [
    "<h4> 4.2.0 J2 </h4>"
   ]
  },
  {
   "cell_type": "markdown",
   "metadata": {},
   "source": [
    "<h4> 4.3.0 Application of perturbations </h4>"
   ]
  },
  {
   "cell_type": "code",
   "execution_count": null,
   "metadata": {
    "ExecuteTime": {
     "end_time": "2021-03-16T21:50:00.064018Z",
     "start_time": "2021-03-16T21:49:58.963998Z"
    }
   },
   "outputs": [],
   "source": [
    "from scipy.special import iv\n",
    "from scipy import integrate\n",
    "import Aerodynamics as aero\n",
    "\n",
    "op.tspan[-1] = 3600*24*365*2\n",
    "op.dt = 3600*24\n",
    "de, da, di, dOmega, domega, dnu, dp = op.propagate_perturbations()"
   ]
  },
  {
   "cell_type": "code",
   "execution_count": null,
   "metadata": {
    "ExecuteTime": {
     "end_time": "2021-03-16T21:00:36.814075Z",
     "start_time": "2021-03-16T21:00:35.702083Z"
    }
   },
   "outputs": [],
   "source": [
    "z = (da * (1 - de)) - op.cb['radius']\n",
    "z[z<100*1e3] = 0\n",
    "z.shape\n",
    "plt.close()\n",
    "for i in range(10):\n",
    "    plt.plot(np.trim_zeros(z[i, :]))\n",
    "    \n",
    "plt.show()"
   ]
  },
  {
   "cell_type": "code",
   "execution_count": null,
   "metadata": {
    "ExecuteTime": {
     "end_time": "2021-03-16T21:50:21.283533Z",
     "start_time": "2021-03-16T21:50:06.541153Z"
    }
   },
   "outputs": [],
   "source": [
    "temp = np.zeros_like(da) # The params set to 0 dont matter for converting to rv\n",
    "ks_propagated = np.swapaxes(np.stack([da, de, di, dOmega, domega, temp, dnu, dp, temp, temp]).T, 1, 2)\n",
    "ks_final = np.concatenate([ks_toroid, ks_propagated])\n",
    "op.states = ks_final\n",
    "\n",
    "cs_final = op.cartesian_representation()"
   ]
  },
  {
   "cell_type": "code",
   "execution_count": null,
   "metadata": {
    "ExecuteTime": {
     "end_time": "2021-03-16T21:50:32.573471Z",
     "start_time": "2021-03-16T21:50:28.062864Z"
    }
   },
   "outputs": [],
   "source": [
    "import pandas as pandas\n",
    "import plotly.express as px\n",
    "\n",
    "pos_toroid = cs_final[cs_toroid.shape[0]-1:, 0, :, :]/1e3\n",
    "N_timesteps = pos_toroid.shape[0]\n",
    "N_fragments = pos_toroid.shape[1]\n",
    "r_E = op.cb['radius'] / 1e3\n",
    "\n",
    "\n",
    "# Converting data to pandas dataframe\n",
    "df = pandas.DataFrame()\n",
    "# *** Update this if chnage timestep in initial orbit propagation ***\n",
    "dt = 60 * 5 #[s]\n",
    "# Want to show the evolution in 1 day steps\n",
    "timesteps = np.arange(0,N_timesteps, 5)\n",
    "\n",
    "for t in timesteps:   \n",
    "    step = t*np.ones_like(N_timesteps)\n",
    "    time = step  #[day]\n",
    "    d = {'X': pos_toroid[t, :, 0],\n",
    "         'Y': pos_toroid[t, :, 1],\n",
    "         'Z':pos_toroid[t, :, 2],\n",
    "         'Day': time,\n",
    "        }\n",
    "    df = pandas.concat([df, pandas.DataFrame(data=d)])\n",
    "\n",
    "def spheres(size, clr, dist=0): \n",
    "\n",
    "    # Set up 100 points. First, do angles\n",
    "    theta = np.linspace(0,2*np.pi,100)\n",
    "    phi = np.linspace(0,np.pi,100)\n",
    "\n",
    "    # Set up coordinates for points on the sphere\n",
    "    x0 = dist + size * np.outer(np.cos(theta),np.sin(phi))\n",
    "    y0 = size * np.outer(np.sin(theta),np.sin(phi))\n",
    "    z0 = size * np.outer(np.ones(100),np.cos(phi))\n",
    "\n",
    "    # Set up trace\n",
    "    trace= go.Surface(x=x0, y=y0, z=z0, colorscale=[[0,clr], [1,clr]])\n",
    "    trace.update(showscale=False)\n",
    "\n",
    "    return trace\n",
    "fig = px.scatter_3d(\n",
    "    data_frame=df,\n",
    "    x='X',\n",
    "    y='Y',\n",
    "    z='Z',\n",
    "    title='Evolution of debris cloud to Band formation',\n",
    "    #labels={'Years in school (avg)': 'Years Women are in School'},\n",
    "    #hover_data={'Min.': False, 'X': False, 'Y':False, 'Z':False, 'a':':.1f', 'e':':.4f','i':':.1f' },\n",
    "    #hover_name='Orbital Elements',        # values appear in bold in the hover tooltip\n",
    "    height=800,                 # height of graph in pixels\n",
    "    width =800,\n",
    "    animation_frame='Day',   # assign marks to animation frames\n",
    "    range_x=[-r_E - 1000,r_E + 1000],\n",
    "    range_z=[-r_E - 1000,r_E + 1000],\n",
    "    range_y=[-r_E - 1000,r_E + 1000],\n",
    "\n",
    ")\n",
    "fig.update_traces(marker={'size': 3})\n",
    "# Add Earth\n",
    "earth=spheres(r_E, '#ffffff', 0) # Earth\n",
    "fig.add_trace(earth)\n",
    "#fig.add_trace(go.Scatter3d(x=xm, y=ym, z=zm, mode='lines', line=dict(color=zm, colorscale='Viridis')))\n",
    "fig['layout']['scene']['aspectmode'] = 'cube'\n",
    "fig.update_layout(transition = {'duration': 2000})\n",
    "fig.show()"
   ]
  },
  {
   "cell_type": "markdown",
   "metadata": {},
   "source": [
    "# Propagation Analysis"
   ]
  },
  {
   "cell_type": "code",
   "execution_count": null,
   "metadata": {
    "ExecuteTime": {
     "end_time": "2021-03-16T21:56:22.950595Z",
     "start_time": "2021-03-16T21:56:22.940582Z"
    }
   },
   "outputs": [],
   "source": [
    "index = int(np.ceil(ks_propagated.shape[0]*.10)) # index near begining\n",
    "raan_0 = ks_propagated[index, 3, :].copy() % 360\n",
    "raan_0[raan_0 > 180] -= 360 # Converting angles to new range\n",
    "\n",
    "raan_mid = ks_propagated[ks_propagated.shape[0] // 2, 3, :].copy()  % 360\n",
    "raan_mid[raan_mid  > 180] -= 360 \n",
    "\n",
    "raan_f = ks_propagated[-1, 3, :].copy() % 360\n",
    "raan_f[raan_f > 180] -= 360"
   ]
  },
  {
   "cell_type": "code",
   "execution_count": null,
   "metadata": {
    "ExecuteTime": {
     "end_time": "2021-03-16T22:10:28.318001Z",
     "start_time": "2021-03-16T22:10:28.138665Z"
    }
   },
   "outputs": [],
   "source": [
    "import math\n",
    "import plotly.figure_factory as ff\n",
    "\n",
    "uniform_dist = np.random.uniform(-180, 180, len(raan_0))\n",
    "group_labels = ['raan_0', 'raan_mid', 'raan_f', 'uniform']\n",
    "fig = ff.create_distplot([raan_0, raan_mid, raan_f, uniform_dist], group_labels, show_hist =  False)\n",
    "\n",
    "# Updating the uniform curve to be dashed\n",
    "index = np.argwhere(np.array([data.legendgroup for data in fig.data]) == 'uniform')[0][0]\n",
    "fig.data[index].line = dict(color='red', width=2,\n",
    "                             dash='dash')\n",
    "\n",
    "fig.show()"
   ]
  }
 ],
 "metadata": {
  "kernelspec": {
   "display_name": "py38",
   "language": "python",
   "name": "py38"
  },
  "language_info": {
   "codemirror_mode": {
    "name": "ipython",
    "version": 3
   },
   "file_extension": ".py",
   "mimetype": "text/x-python",
   "name": "python",
   "nbconvert_exporter": "python",
   "pygments_lexer": "ipython3",
   "version": "3.8.5"
  }
 },
 "nbformat": 4,
 "nbformat_minor": 4
}
