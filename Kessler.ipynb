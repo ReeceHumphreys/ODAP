{
 "cells": [
  {
   "cell_type": "markdown",
   "metadata": {},
   "source": [
    "<h1>0. Packages</h1>"
   ]
  },
  {
   "cell_type": "code",
   "execution_count": 1,
   "metadata": {},
   "outputs": [],
   "source": [
    "from importlib import reload\n",
    "import numpy as np\n",
    "import re\n",
    "import skyfield.sgp4lib as spg4\n",
    "import matplotlib \n",
    "import PyQt5\n",
    "\n",
    "# User defined lib.\n",
    "import generate_debris as gd\n",
    "import CoordTransforms as ct\n",
    "\n",
    "reload(gd)\n",
    "reload(ct)\n",
    "\n",
    "matplotlib.use('Agg')\n",
    "import matplotlib.pyplot as plt\n",
    "from scipy.stats import uniform\n",
    "from scipy.stats import norm\n",
    "import scipy.stats as stats\n",
    "from enum import IntEnum    \n",
    "from mpl_toolkits.mplot3d import Axes3D\n",
    "import matplotlib.pyplot as plt\n",
    "import numpy as np\n",
    "from itertools import product, combinations\n",
    "from matplotlib import cm\n",
    "from scipy import integrate\n",
    "import pandas as pd\n",
    "from numba import njit, prange\n",
    "\n",
    "\n",
    "%matplotlib qt5\n",
    "\n",
    "debris_category = IntEnum('Category', 'rb sc soc')"
   ]
  },
  {
   "cell_type": "markdown",
   "metadata": {},
   "source": [
    "<h1>1. Data Structure</h1>\n",
    "\n",
    "<h3>1.1 Satellite Structure</h3>\n",
    "\n",
    "Creating an object to represent satellite from 3le.txt <br>\n",
    "May end up using implementation from another package\n",
    "\n",
    "<b>Data sources:<b><br>\n",
    "https://www.space-track.org    \n",
    "https://www.celestrak.com/NORAD/documentation/spacetrk.pdf\n",
    "\n",
    "<b>Information about 3le/2le:</b><br>\n",
    "https://en.wikipedia.org/wiki/Two-line_element_set#cite_note-nasahelp-12\n",
    "https://spaceflight.nasa.gov/realdata/sightings/SSapplications/Post/JavaSSOP/SSOP_Help/tle_def.html"
   ]
  },
  {
   "cell_type": "code",
   "execution_count": 2,
   "metadata": {},
   "outputs": [],
   "source": [
    "class two_line_element:\n",
    "    \n",
    "    def __init__(self, data):\n",
    "        self.parse_data(data)\n",
    "        \n",
    "    def parse_data(self, satelite_data):\n",
    "        self.title = satelite_data[0]\n",
    "        line_one = satelite_data[1].split()\n",
    "        line_two = satelite_data[2].split()\n",
    "\n",
    "        self.catalog_number = re.search('[0-9]{1,5}', line_one[0]).group()\n",
    "        self.classification = re.search('[UCS]', line_one[0]).group()\n",
    "\n",
    "        international_designator = re.search('([0-9]{2})([0-9]{3})(\\w{1,3})', line_one[1])\n",
    "        self.launch_year = international_designator.group(1)\n",
    "        self.launch_number = international_designator.group(2)\n",
    "        self.launch_piece =  international_designator.group(3)\n",
    "\n",
    "        epoch = re.search('([0-9]{2})(\\d+\\.\\d+)', line_one[2])\n",
    "        self.epoch_year = epoch.group(1)\n",
    "        self.epoch_day = epoch.group(2)\n",
    "\n",
    "        self.ballistic_coefficient = float(line_one[3])\n",
    "        self.mean_motion_double_prime = line_one[4]\n",
    "        self.BSTAR = line_one[5]\n",
    "\n",
    "        self.inclination = line_two[1]\n",
    "        self.right_ascension_of_ascending_node = line_two[2]\n",
    "        self.eccentricity = line_two[3]\n",
    "        self.argument_of_perigee = line_two[4]\n",
    "\n",
    "        mean_anomaly = line_two[5]"
   ]
  },
  {
   "cell_type": "markdown",
   "metadata": {},
   "source": [
    "<h3>Data structure implementation using spg4 from skyfield library<h3>"
   ]
  },
  {
   "cell_type": "code",
   "execution_count": 3,
   "metadata": {},
   "outputs": [
    {
     "name": "stdout",
     "output_type": "stream",
     "text": [
      "('0 VANGUARD 1', '1     5U 58002B   19352.86539842  .00000184  00000-0  20948-3 0  9994', '2     5  34.2610  67.7117 1845282 255.2293  83.7559 10.84789954185624')\n"
     ]
    }
   ],
   "source": [
    "# Opening the .txt file\n",
    "with open(\"3le.txt\") as f:\n",
    "    txt = f.read()\n",
    "    \n",
    "sat_lines = re.findall('(.*?)\\n(.*?)\\n(.*?)\\n', txt)\n",
    "\n",
    "# Preview of `sat_lines`, each element should be the three lines representing a satellite\n",
    "print(sat_lines[0])\n",
    "\n",
    "# Convert each group of 3 lines into a satelite object\n",
    "def line_element_to_satellite(lines):\n",
    "    title = lines[0]\n",
    "    line1 = lines[1]\n",
    "    line2 = lines[2]\n",
    "    return spg4.EarthSatellite(line1, line2, name=title)\n",
    "\n",
    "satellites = [line_element_to_satellite(lines) for lines in sat_lines]\n",
    "\n",
    "# Verify data structure by finding element representing the ISS\n",
    "iss_index = [sat.name for sat in satellites].index(\"0 ISS (ZARYA)\")\n",
    "iss = satellites[iss_index]"
   ]
  },
  {
   "cell_type": "markdown",
   "metadata": {},
   "source": [
    "<h3>1.2 Celestial Bodies</h3>\n",
    "\n",
    "\n",
    "de421.bsp is a Ephemerides provided by JPL Horizon which has the calculated positions of celestial bodies within a certain time interval. de421 is commonly used due to its small size and its relativley up to date information"
   ]
  },
  {
   "cell_type": "code",
   "execution_count": 4,
   "metadata": {},
   "outputs": [],
   "source": [
    "from skyfield.api import load, EarthSatellite\n",
    "ts = load.timescale(builtin=True)\n",
    "\n",
    "# Loading the data from de421.bsp using skyfield \n",
    "planets = load('de421.bsp')\n",
    "\n",
    "# Finding the data about Earth\n",
    "earth = planets[\"Earth\"]"
   ]
  },
  {
   "cell_type": "markdown",
   "metadata": {},
   "source": [
    "<h3>1.3 Celestial Bodies</h3>\n",
    "\n",
    "Plotting the satellite data in a 3D view.<br>\n",
    "Accidently broke my implementation so need to start with the below base and get it to plot the ISS again.\n",
    "\n",
    "<b>Source:</b> https://space.stackexchange.com/questions/25958/how-can-i-plot-a-satellites-orbit-in-3d-from-a-tle-using-python-and-skyfield"
   ]
  },
  {
   "cell_type": "code",
   "execution_count": null,
   "metadata": {},
   "outputs": [],
   "source": []
  },
  {
   "cell_type": "markdown",
   "metadata": {},
   "source": [
    "<h1>2. Breakup Models</h1>\n",
    "\n",
    "<h3>2.1 NASA breakup model</h3>\n",
    "\n",
    "<b>Implementation:</b> (Found on page 207)<br>\n",
    "https://www.researchgate.net/publication/295490674_Space_debris_cloud_evolution_in_Low_Earth_Orbit\n",
    "\n",
    "<b>Alternate implementation:</b><br>\n",
    "https://gitlab.obspm.fr/apetit/nasa-breakup-model/tree/master\n",
    "\n",
    "<b>Information:</b><br>\n",
    "https://digitalcommons.calpoly.edu/cgi/viewcontent.cgi?referer=https://en.wikipedia.org/&httpsredir=1&article=1094&context=theses\n",
    "\n",
    "\n",
    "<b>Now implemented in file generate_debris.py</b><br>"
   ]
  },
  {
   "cell_type": "markdown",
   "metadata": {},
   "source": [
    "<h3>2.2 NASA breakup model validation</h3>"
   ]
  },
  {
   "cell_type": "code",
   "execution_count": 5,
   "metadata": {
    "scrolled": true
   },
   "outputs": [
    {
     "data": {
      "text/html": [
       "<div>\n",
       "<style scoped>\n",
       "    .dataframe tbody tr th:only-of-type {\n",
       "        vertical-align: middle;\n",
       "    }\n",
       "\n",
       "    .dataframe tbody tr th {\n",
       "        vertical-align: top;\n",
       "    }\n",
       "\n",
       "    .dataframe thead th {\n",
       "        text-align: right;\n",
       "    }\n",
       "</style>\n",
       "<table border=\"1\" class=\"dataframe\">\n",
       "  <thead>\n",
       "    <tr style=\"text-align: right;\">\n",
       "      <th></th>\n",
       "      <th>&gt;0.001m</th>\n",
       "      <th>&gt;0.01m</th>\n",
       "      <th>&gt;0.1m</th>\n",
       "      <th>&gt;1m</th>\n",
       "    </tr>\n",
       "  </thead>\n",
       "  <tbody>\n",
       "    <tr>\n",
       "      <th>0</th>\n",
       "      <td>378524</td>\n",
       "      <td>9478</td>\n",
       "      <td>222</td>\n",
       "      <td>5</td>\n",
       "    </tr>\n",
       "  </tbody>\n",
       "</table>\n",
       "</div>"
      ],
      "text/plain": [
       "   >0.001m  >0.01m  >0.1m  >1m\n",
       "0   378524    9478    222    5"
      ]
     },
     "execution_count": 5,
     "metadata": {},
     "output_type": "execute_result"
    }
   ],
   "source": [
    "# Explosion Case\n",
    "\n",
    "reload(gd)\n",
    "\n",
    "L_c, areas, masses, AM = gd.fragmentation(1000, 0, 0, False, debris_category.rb, True)\n",
    "\n",
    "bins = [1e-3, 1e-2, 1e-1, 1, np.inf] # L_c bins in meters\n",
    "h,b = np.histogram(L_c, bins=bins)\n",
    "\n",
    "ch = [ { f'>{bins[i]}m':np.sum(h[i:]) for i in range(len(h))}]\n",
    "\n",
    "df = pd.DataFrame(ch)\n",
    "df"
   ]
  },
  {
   "cell_type": "code",
   "execution_count": null,
   "metadata": {},
   "outputs": [],
   "source": []
  },
  {
   "cell_type": "code",
   "execution_count": 6,
   "metadata": {
    "scrolled": true
   },
   "outputs": [],
   "source": [
    "# reload(gd)\n",
    "\n",
    "\n",
    "# L_c = gd.characteristic_lengths(1000, 10, 10, True, debris_category.rb, False)\n",
    "# N_fragments_total = L_c.shape[0]\n",
    "# lambda_c = np.log10(L_c)\n",
    "# areas = gd.avg_area(L_c)\n",
    "\n",
    "# def create_log_bins(values, nbins=100):\n",
    "#     #return np.geomspace(values.min(), values.max(), nbins)\n",
    "#     bins = np.geomspace(values.min(), values.max(), nbins)\n",
    "#     a = bins[1]/bins[0]\n",
    "#     bins = np.concatenate([[bins[0]/a], bins,[bins[-1]*a]])\n",
    "#     return bins\n",
    "\n",
    "# Validating L_c\n",
    "# L_c = gd.characteristic_lengths(1000, 10, 10, True, debris_category.rb, False)\n",
    "# h, b = np.histogram(L_c, bins=create_log_bins(L_c))\n",
    "# plt.figure(figsize=(5,5))\n",
    "# plt.xscale('log')\n",
    "# plt.xlabel(r'$L_{c}$')\n",
    "# plt.ylabel(r'$N_f$')\n",
    "# plt.plot((b[:-1] + b[1:])/2, h, '.-')\n",
    "# plt.show()\n",
    "# np.mean(counts)\n",
    "\n",
    "\n",
    "# Validating Areas\n",
    "# h, b = np.histogram(areas, bins=create_log_bins(areas))\n",
    "# plt.figure(figsize=(5,5))\n",
    "# plt.xscale('log')\n",
    "# plt.xlabel(r'$Areas$')\n",
    "# plt.ylabel(r'$N_f$')\n",
    "# plt.plot((b[:-1] + b[1:])/2, h, '.-')\n",
    "# plt.show()\n",
    "\n",
    "# I = np.argwhere(b > 10e-2)\n",
    "# count = np.sum(h[I - 1])\n",
    "# print(count)\n",
    "# # Validating Mass & Velocity\n",
    "# AM = np.array(gd.distribution_AM(lambda_c, gd.debris_category.rb))\n",
    "# masses = areas / 10**AM\n",
    "\n",
    "# h, b = np.histogram(masses, bins=create_log_bins(masses))\n",
    "# plt.figure(figsize=(5,5))\n",
    "# plt.xscale('log')\n",
    "# plt.xlabel(r'$Masses$')\n",
    "# plt.ylabel(r'$N_f$')\n",
    "# plt.gca().set_yticks([0, 2, 4, 6, 8])\n",
    "# plt.gca().set_xticks([1e-8, 1e-5, 1e-2, 10, 1e4])\n",
    "# plt.gca().set_xlim([1e-8,1e4])\n",
    "# plt.gca().set_ylim([0,8])\n",
    "# plt.grid()\n",
    "# plt.plot((b[:-1] + b[1:])/2, h/1e5, '.-')\n",
    "# plt.show()\n",
    "\n",
    "# # Validating Velocity\n",
    "# deltaV = np.array(gd.distribution_deltaV(AM, 10, True))\n",
    "\n",
    "\n",
    "# h, b = np.histogram(deltaV, bins=create_log_bins(deltaV))\n",
    "# plt.figure(figsize=(5,5))\n",
    "# plt.xscale('log')\n",
    "# plt.xlabel(r'$\\delta V$')\n",
    "# plt.ylabel(r'$N_f$')\n",
    "# plt.gca().set_yticks([0, 2, 4, 6, 8])\n",
    "# plt.gca().set_xticks([1e-3, 1e-2, 1e-1, 1, 10])\n",
    "# plt.gca().set_xlim([1e-3,10])\n",
    "# plt.gca().set_ylim([0,8])\n",
    "# plt.grid()\n",
    "# plt.plot((b[:-1] + b[1:])/2, h/1e5, '.-')\n",
    "# plt.show()"
   ]
  },
  {
   "cell_type": "markdown",
   "metadata": {},
   "source": [
    "<h3>2.3 and Onward will be alternate breakup models</h3>"
   ]
  },
  {
   "cell_type": "markdown",
   "metadata": {},
   "source": [
    "<h1>3. Numerical Propagation</h1>"
   ]
  },
  {
   "cell_type": "markdown",
   "metadata": {},
   "source": [
    "<h3>3.1 Modeling the Atmosphere</h3>"
   ]
  },
  {
   "cell_type": "code",
   "execution_count": 7,
   "metadata": {},
   "outputs": [],
   "source": [
    "excel_file = \"AtmosphericModelValues.xlsx\"\n",
    "earth_radius = 6378.0 #km\n",
    "tabulated_values = pd.read_excel(excel_file, engine=\"openpyxl\")\n",
    "\n",
    "def atmosphere_density(altitude):\n",
    "    \n",
    "    bins = tabulated_values['Altitude Lower Bound (km)'].values\n",
    "    base_altitude = tabulated_values['Base Altitude (km)'].values\n",
    "    nominal_density = tabulated_values['Nominal Density (kg/m^3)'].values\n",
    "    scale_height = tabulated_values['Scale Height (km)'].values\n",
    "    i = np.digitize(altitude, bins) - 1\n",
    "    return (nominal_density[i]*np.exp(-(altitude-base_altitude[i])/(scale_height[i])))\n",
    "\n",
    "def scale_height(altitude):\n",
    "    bins = tabulated_values['Altitude Lower Bound (km)'].values\n",
    "    scale_height = tabulated_values['Scale Height (km)'].values\n",
    "    i = np.digitize(altitude, bins) - 1\n",
    "    return scale_height[i]\n"
   ]
  },
  {
   "cell_type": "markdown",
   "metadata": {},
   "source": [
    "<h3>3.2 Calculating Orbital Debris Properties</h3>"
   ]
  },
  {
   "cell_type": "code",
   "execution_count": 8,
   "metadata": {},
   "outputs": [],
   "source": [
    "from skyfield.api import load, EarthSatellite\n",
    "\n",
    "ts = load.timescale(builtin=True)\n",
    "\n",
    "t_fragmentation = ts.now()\n",
    "geocentric = iss.at(t_fragmentation)\n",
    "init_position = geocentric.position.km\n",
    "\n",
    "iss_mass = 41970 # kg (reduced by an order of mag for sim purposes)\n",
    "projectile_mass  = 227 # kg\n",
    "\n",
    "L_c, areas, masses, AM = gd.fragmentation(iss_mass, projectile_mass, 5, False, debris_category.soc, False)\n",
    "deltaV = np.array(gd.distribution_deltaV(AM, 10, True))"
   ]
  },
  {
   "cell_type": "markdown",
   "metadata": {},
   "source": [
    "<h3>3.3 Converting Cartesian to Keplerian</h3>"
   ]
  },
  {
   "cell_type": "code",
   "execution_count": 9,
   "metadata": {},
   "outputs": [],
   "source": [
    "from numpy.linalg import norm\n",
    "\n",
    "grav_param_earth = 398600.4418 #km^3s^-2\n",
    "init_position = geocentric.position.km\n",
    "\n",
    "deb_positions = np.empty((len(AM), 3))\n",
    "deb_positions[:, :] = init_position[None,:]\n",
    "deb_velocities = gd.velocity_vectors(len(AM), geocentric.velocity.km_per_s, deltaV)\n",
    "\n",
    "keplerian_state = ct.rv2coe(deb_positions, deb_velocities, grav_param_earth)"
   ]
  },
  {
   "cell_type": "code",
   "execution_count": 10,
   "metadata": {},
   "outputs": [
    {
     "name": "stdout",
     "output_type": "stream",
     "text": [
      "Cartesian\n",
      "r:  [-3808.75940772 -1919.70654683 -5298.49629961]\n",
      "v:  [ 2.87599557 -7.19773706  0.6417844 ]\n",
      "Keplerian\n",
      "a:  7028.522313686821\n",
      "e:  0.03379990436199738\n",
      "i:  51.49346934079498\n",
      "Omega:  71.99708534676466\n",
      "omega:  293.5272683310019\n",
      "M:  343.1163231003184\n",
      "nu:  341.9442086014087\n",
      "\n"
     ]
    }
   ],
   "source": [
    "rand_index = 0\n",
    "print(\"Cartesian\")\n",
    "print(\"r: \", deb_positions[rand_index, :])\n",
    "print(\"v: \", deb_velocities[rand_index, :])\n",
    "\n",
    "print(\"Keplerian\")\n",
    "ks_rand = keplerian_state[:, rand_index]\n",
    "print(\"a: \", ks_rand[0])\n",
    "print(\"e: \", ks_rand[1])\n",
    "print(\"i: \", ks_rand[2])\n",
    "print(\"Omega: \", ks_rand[3])\n",
    "print(\"omega: \", ks_rand[4])\n",
    "print(\"M: \", ks_rand[5])\n",
    "print(\"nu: \", ks_rand[6])\n",
    "print()"
   ]
  },
  {
   "cell_type": "markdown",
   "metadata": {},
   "source": [
    "<h3>3.4 Testing coverting back to Cartesian</h3>"
   ]
  },
  {
   "cell_type": "code",
   "execution_count": 11,
   "metadata": {},
   "outputs": [],
   "source": [
    "reload(ct)\n",
    "\n",
    "indexes = np.random.default_rng().choice(keplerian_state.shape[1], size=1000, replace=False)\n",
    "ks_sample = keplerian_state[:, indexes]\n",
    "\n",
    "cartesian_state = np.array(ct.coe2rv_many(k=grav_param_earth,\n",
    "                              p=ks_sample[7, :],\n",
    "                              ecc=ks_sample[1, :],\n",
    "                              inc=ks_sample[2, :],\n",
    "                              raan=ks_sample[3, :],\n",
    "                              argp=ks_sample[4, :],\n",
    "                              nu=ks_sample[6, :]))\n",
    "\n",
    "r = cartesian_state[0, :, :]\n",
    "fig = plt.figure()\n",
    "ax = fig.add_subplot(111, projection='3d')\n",
    "ax.scatter(r[:, 0], r[:, 1], r[:, 2])\n",
    "ax.set_xlim3d(-6378.0-1000, 6378.0+1000)\n",
    "ax.set_xlabel('X (km)')\n",
    "\n",
    "ax.set_ylim3d([-6378.0-1000, 6378.0+1000])\n",
    "ax.set_ylabel('Y (km)')\n",
    "\n",
    "ax.set_zlim3d([-6378.0-1000, 6378.0+1000])\n",
    "ax.set_zlabel('Z (km)')\n",
    "\n",
    "earth_radius = 3378.0 #km\n",
    "_u, _v = np.mgrid[0:2*np.pi:20j, 0:np.pi:10j]\n",
    "_x = earth_radius*np.cos(_u)*np.sin(_v)\n",
    "_y = earth_radius*np.sin(_u)*np.sin(_v)\n",
    "_z = earth_radius*np.cos(_v)\n",
    "\n",
    "ax.plot_surface(_x, _y, _z, cmap=cm.coolwarm)\n",
    "plt.show()"
   ]
  },
  {
   "cell_type": "markdown",
   "metadata": {},
   "source": [
    "<h3>3.4 Debris Cloud formation</h3>"
   ]
  },
  {
   "cell_type": "code",
   "execution_count": 12,
   "metadata": {
    "scrolled": true
   },
   "outputs": [
    {
     "name": "stdout",
     "output_type": "stream",
     "text": [
      "(250,)\n"
     ]
    }
   ],
   "source": [
    "## Shrink number of debris being used\n",
    "indexes = np.random.default_rng().choice(keplerian_state.shape[1], size=250, replace=False)\n",
    "\n",
    "ks = keplerian_state[:, indexes]\n",
    "masses = masses[indexes]\n",
    "areas = areas[indexes]\n",
    "deb_positions = deb_positions[indexes, :]\n",
    "deb_velocities = deb_velocities[indexes, :]\n",
    "\n",
    "print(masses.shape)"
   ]
  },
  {
   "cell_type": "code",
   "execution_count": 13,
   "metadata": {},
   "outputs": [],
   "source": [
    "np.savez(\"debris.npz\",\n",
    "         keplerian_states=ks,\n",
    "         masses=masses,\n",
    "         areas=areas,\n",
    "         deb_positions=deb_positions,\n",
    "         deb_velocities=deb_velocities)"
   ]
  },
  {
   "cell_type": "code",
   "execution_count": 14,
   "metadata": {},
   "outputs": [],
   "source": [
    "container = np.load('debris.npz')\n",
    "ks = container['keplerian_states']\n",
    "masses = container['masses']\n",
    "areas = container['areas']\n",
    "deb_positions = container['deb_positions']\n",
    "deb_velocities = container['deb_velocities']"
   ]
  },
  {
   "cell_type": "markdown",
   "metadata": {},
   "source": [
    "<h4>3.4.1 Ellisoid formation</h4>"
   ]
  },
  {
   "cell_type": "code",
   "execution_count": 165,
   "metadata": {},
   "outputs": [],
   "source": [
    "import Perturbations as OP\n",
    "import planetary_data as pd\n",
    "reload(OP)\n",
    "\n",
    "# Cleanup states to remove any fragments that would deorbit, given no perturbations\n",
    "periapsis     = ks[0, :] * (1 - ks[1, :])\n",
    "I             = np.argwhere(periapsis > pd.earth['radius'])\n",
    "ks_pruned     = np.squeeze(ks[:, I])\n",
    "areas_pruned  = areas[I].flatten()  # When doung the indexing , a 1d dim being added which is unneccesary\n",
    "masses_pruned = masses[I].flatten() # When doung the indexing , a 1d dim being added which is unneccesary\n",
    "\n",
    "# Propagate orbit for a period of time\n",
    "op = OP.OrbitPropagator(ks_pruned, [0, 10*np.ceil(max(T))], 60*5)\n",
    "op.propagate_orbit()\n",
    "\n",
    "# Get the cartesian state representation\n",
    "cartesian_states = op.cartesian_representation()\n"
   ]
  },
  {
   "cell_type": "markdown",
   "metadata": {},
   "source": [
    "<h4>3.4.2 Particle Debris flux</h4>\n",
    "\n",
    "Using a particle flux to determine when the fragments of the debris have finished the formation of the ring. Indicating the end of the first phase of the debris cloud formation. This is accomplished by creating an xz plane and detecting when particles have switched from one side to the other. This approach will cause a peak as fragments pass through that becomes uniform as the debris becomes uniformly spread out."
   ]
  },
  {
   "cell_type": "code",
   "execution_count": 166,
   "metadata": {},
   "outputs": [],
   "source": [
    "import time\n",
    "import matplotlib.dates as mdates\n",
    "from dateutil import tz\n",
    "\n",
    "def fragmentation_flux(X):\n",
    "    return np.sum((X[:-1, :, 1] < 0) & (X[1:, :, 1] > 0), axis=1)\n",
    "    \n",
    "position = cartesian_states[:, 0, :, :]\n",
    "flux = fragmentation_flux(position)\n"
   ]
  },
  {
   "cell_type": "markdown",
   "metadata": {},
   "source": [
    "<h4>3.4.3 Convergence of the flux</h4>\n",
    "\n",
    "The next step is determining when the fragments have ended the torroid formation phase. This occurs when the fragments are approximately uniformally spread out. We can check to see when the flux meets a convergence criterion to determine when this happens."
   ]
  },
  {
   "cell_type": "code",
   "execution_count": 167,
   "metadata": {},
   "outputs": [],
   "source": [
    "w = 100 # Window of points to look at\n",
    "tol = 1.5\n",
    "convergence_ratio = np.array([np.var(flux[i:i+w])/np.mean(flux[i:i+w]) for i in range(len(flux))])\n",
    "intersection_index = np.argwhere(convergence_ratio <= tol).flatten()[0] # Grabbing the first point that meets the criteria"
   ]
  },
  {
   "cell_type": "code",
   "execution_count": 170,
   "metadata": {},
   "outputs": [],
   "source": [
    "# datetimes\n",
    "t_flux = t_fragmentation.utc_datetime() + np.array(range(len(flux))) * datetime.timedelta(minutes = 5)\n",
    "\n",
    "# Creating Flux v. Time plot\n",
    "\n",
    "# plt.plot(mdates.date2num(t_flux), flux, label='Flux')\n",
    "# plt.axvline(x=t_flux[intersection_index], color='r',ls=':', label='Intersection')\n",
    "# plt.xlim([t_flux[0], t_flux[-1]])\n",
    "# formatter = mdates.DateFormatter('%m/%d %H:%M UTC', tz=tz.UTC)\n",
    "# ax.xaxis.set_major_formatter(formatter)\n",
    "# plt.legend(frameon=False)\n",
    "# plt.xticks(rotation=60)\n",
    "# plt.xlabel(\"Date-Time\")\n",
    "# plt.ylabel(\"Flux\")\n",
    "# plt.tight_layout()\n",
    "# plt.show()\n",
    "\n",
    "# Creating Convergence Ratio v. Time plot\n",
    "plt.plot(mdates.date2num(t_flux), convergence_ratio, color='orange', label='Convergence ratio')\n",
    "plt.axhline(y=tol, color='k', ls=\":\", label='Threshold')\n",
    "plt.axvline(x=t_flux[intersection_index], color='r',ls=':', label='Intersection')\n",
    "formatter = mdates.DateFormatter('%m/%d %H:%M UTC', tz=tz.UTC)\n",
    "ax.xaxis.set_major_formatter(formatter)\n",
    "plt.legend(frameon=False)\n",
    "plt.xticks(rotation=60)\n",
    "plt.xlim([t_flux[0], t_flux[-1]])\n",
    "plt.yscale('symlog')\n",
    "plt.xlabel(\"Date-Time\")\n",
    "plt.ylabel(\"Convergence ratio\")\n",
    "plt.tight_layout()\n",
    "plt.show()"
   ]
  },
  {
   "cell_type": "markdown",
   "metadata": {},
   "source": [
    "<h4>3.4.4 End of band formation</h4>\n",
    "\n",
    "Now that the band has formed, we can shift away from propagating the exact position of each fragments and inplace propgate their changes in eccentricity and semi major axis due to drag. To do this first we must get the final states of the debris after the band has formed."
   ]
  },
  {
   "cell_type": "code",
   "execution_count": 176,
   "metadata": {},
   "outputs": [
    {
     "data": {
      "text/plain": [
       "(125, 10, 225)"
      ]
     },
     "execution_count": 176,
     "metadata": {},
     "output_type": "execute_result"
    }
   ],
   "source": [
    "# Subsetting data such that just covers the formation of the band, i.e has uniformally spread out.\n",
    "# cs_band = band cartesian state\n",
    "# ks_band = band keplerian state\n",
    "\n",
    "reload(vis)\n",
    "\n",
    "cs_toroid = cartesian_states[:intersection_index, :, :, :]\n",
    "ks_toroid = op.states[0:intersection_index, :, :]\n",
    "op.states = ks_toroid\n",
    "\n",
    "\n",
    "# Creating visual\n",
    "data = np.swapaxes(cs_toroid,0,1)[0, :, :, :]\n",
    "\n",
    "#vis.generate_visualization(data, \"Band_Formation\")\n",
    "op.states.shape"
   ]
  },
  {
   "cell_type": "markdown",
   "metadata": {},
   "source": [
    "<h3> 4.0.0 Implementing Perturbations </h3>"
   ]
  },
  {
   "cell_type": "code",
   "execution_count": 67,
   "metadata": {},
   "outputs": [],
   "source": [
    "from scipy.special import iv\n",
    "\n",
    "radius_earth = 6371 # km \n",
    "\n",
    "def deda_dt(t, state, A, M):\n",
    "    \"\"\"Returns differential equation modeling drag on each piece of debris\n",
    "    Args:\n",
    "        M (array): Mass\n",
    "        e (array): Eccentricity\n",
    "        A (array): Cross-sectionl Area\n",
    "        a (array): Semi-Major Axis\n",
    "        r (array): Position\n",
    "    \"\"\"\n",
    "    \n",
    "    mu = 398600.4418\n",
    "\n",
    "    e, a = state.copy().reshape(2, len(A))\n",
    "    \n",
    "    I = a*(1-e) < radius_earth + 50 # 50 km above earth sats are doomed \n",
    "    a[I] = 0\n",
    "    e[I] = 0\n",
    "    \n",
    "    c_d = 2.2 # Drag coefficient\n",
    "    \n",
    "    drag_coef = (-(c_d * A) / M)\n",
    "    \n",
    "    # altitude\n",
    "    z = a - radius_earth\n",
    "    \n",
    "    \n",
    "    # Air density\n",
    "    rho = atmosphere_density(z)\n",
    "    #atm_density[np.argwhere(np.isnan(atm_density))] = 0 # Need to determine why some are NaN\n",
    "    print(z[0])\n",
    "    # dedt\n",
    "    dedt = np.zeros_like(e)\n",
    "    I    = (e>=0.001)\n",
    "    dedt[I] = (drag_coef[I] * np.sqrt(mu / a[I]) * rho[I])\n",
    "    I    = I & (e<0.01)\n",
    "    x    = (a[I] * e[I]) / scale_height(a[I])\n",
    "    dedt[I] *= iv(1,x) + (e[I]/2)*(iv(0,x) + iv(2,x))\n",
    "    \n",
    "    # dadt\n",
    "    dadt = np.empty_like(a)                          \n",
    "    dadt = drag_coef * np.sqrt(mu * a) * rho\n",
    "\n",
    "    I    = (e>=0.001) & (e < 0.01)\n",
    "    x    = (a[I] * e[I]) / scale_height(a[I])\n",
    "    dadt[I] *= (iv(0,x) + 2*e[I]*iv(1,x))\n",
    "    I = (e >= 0.01)\n",
    "    x    = (a[I] * e[I]) / scale_height(a[I])    \n",
    "    dadt[I] *= iv(0, x) + 2*e[I]*iv(1, x) + (3/4)*e[I]**2*(iv(0, x) + iv(2, x)) + (e[I]**3/4)*(3*iv(1, x) + iv(3, x))\n",
    "    \n",
    "    dedt[np.argwhere(np.isnan(dedt))] = 0\n",
    "    dadt[np.argwhere(np.isnan(dadt))] = 0\n",
    "    \n",
    "    output = np.hstack((dedt, dadt))\n",
    "    \n",
    "    return output"
   ]
  },
  {
   "cell_type": "code",
   "execution_count": 64,
   "metadata": {},
   "outputs": [
    {
     "ename": "NameError",
     "evalue": "name 'cs_pruned' is not defined",
     "output_type": "error",
     "traceback": [
      "\u001b[0;31m---------------------------------------------------------------------------\u001b[0m",
      "\u001b[0;31mNameError\u001b[0m                                 Traceback (most recent call last)",
      "\u001b[0;32m<ipython-input-64-afd92b7dae0b>\u001b[0m in \u001b[0;36m<module>\u001b[0;34m\u001b[0m\n\u001b[0;32m----> 1\u001b[0;31m \u001b[0mcs_pruned\u001b[0m\u001b[0;34m.\u001b[0m\u001b[0mshape\u001b[0m\u001b[0;34m\u001b[0m\u001b[0;34m\u001b[0m\u001b[0m\n\u001b[0m",
      "\u001b[0;31mNameError\u001b[0m: name 'cs_pruned' is not defined"
     ]
    }
   ],
   "source": []
  },
  {
   "cell_type": "code",
   "execution_count": 68,
   "metadata": {},
   "outputs": [
    {
     "name": "stdout",
     "output_type": "stream",
     "text": [
      "631.5790093795931\n",
      "631.5790093795931\n",
      "631.5790093795931\n",
      "631.5790093795931\n",
      "631.5790093795922\n",
      "631.5790093795922\n",
      "631.5790093795922\n",
      "631.5790093795922\n",
      "631.5790093795904\n",
      "631.5790093795904\n",
      "631.5790093795868\n",
      "631.5790093795858\n",
      "631.5790093795849\n",
      "631.5790093795849\n",
      "631.5790093795704\n",
      "631.579009379564\n",
      "631.5790093795285\n",
      "631.5790093795222\n",
      "631.579009379514\n",
      "631.579009379514\n",
      "631.5790093793721\n",
      "631.5790093793012\n",
      "631.5790093789465\n",
      "631.5790093788837\n",
      "631.5790093788046\n",
      "631.5790093788046\n",
      "631.5790093773858\n",
      "631.5790093766764\n",
      "631.5790093731293\n",
      "631.5790093724991\n",
      "631.5790093717114\n",
      "631.5790093717114\n",
      "631.5790093575242\n",
      "631.5790093504311\n",
      "631.5790093149626\n",
      "631.579009308658\n",
      "631.5790093007763\n",
      "631.5790093007763\n",
      "631.5790091589051\n",
      "631.57900908797\n",
      "631.5790087332925\n",
      "631.5790086702382\n",
      "631.5790085914214\n",
      "631.5790085914214\n",
      "631.5790071727115\n",
      "631.5790064633557\n",
      "631.5790029165801\n",
      "631.5790022860429\n",
      "631.5790014978702\n",
      "631.5790014978702\n",
      "631.5789873107669\n",
      "631.578980217213\n",
      "631.578944749438\n",
      "631.5789384440541\n",
      "631.5789305623239\n",
      "631.5789305623239\n",
      "631.5787886911685\n",
      "631.5787177553102\n",
      "631.578363075706\n",
      "631.5783000213914\n",
      "631.5782212034283\n",
      "631.5782212034283\n",
      "631.578206549585\n",
      "631.5781992226612\n",
      "631.5781625880354\n",
      "631.5781560752112\n",
      "631.5781479341804\n",
      "631.5781479341804\n"
     ]
    }
   ],
   "source": [
    "# Due to limitations with solve_ivp, the input needs to be 1D, will unpack inside function\n",
    "state = np.concatenate((ks_band[1, :], ks_band[0, :]))\n",
    "\n",
    "times = np.linspace(0, 20*np.ceil(max(T)), 60*10) # 20 loops of longest orbit with dt of 10 min\n",
    "output = integrate.solve_ivp(deda_dt, [times[0], times[-1]], state, t_eval = times, args = (areas_pruned, masses_pruned), vectorized=True)\n",
    "\n",
    "# Unpacking output\n",
    "de = output.y[0:len(areas_pruned), :]\n",
    "da = output.y[len(areas_pruned):output.y.shape[0], :]\n"
   ]
  },
  {
   "cell_type": "code",
   "execution_count": 62,
   "metadata": {},
   "outputs": [
    {
     "data": {
      "text/plain": [
       "(7002.579009379593,\n",
       " array([7002.57900938, 7002.57900794, 7002.5790065 , 7002.57900507,\n",
       "        7002.57900363, 7002.57900219, 7002.57900075, 7002.57899931,\n",
       "        7002.57899787, 7002.57899644, 7002.578995  , 7002.57899356,\n",
       "        7002.57899212, 7002.57899068, 7002.57898925, 7002.57898781,\n",
       "        7002.57898637, 7002.57898493, 7002.57898349, 7002.57898206,\n",
       "        7002.57898062, 7002.57897918, 7002.57897774, 7002.5789763 ,\n",
       "        7002.57897486, 7002.57897343, 7002.57897199, 7002.57897055,\n",
       "        7002.57896911, 7002.57896767, 7002.57896624, 7002.5789648 ,\n",
       "        7002.57896336, 7002.57896192, 7002.57896048, 7002.57895904,\n",
       "        7002.57895761, 7002.57895617, 7002.57895473, 7002.57895329,\n",
       "        7002.57895185, 7002.57895042, 7002.57894898, 7002.57894754,\n",
       "        7002.5789461 , 7002.57894466, 7002.57894323, 7002.57894179,\n",
       "        7002.57894035, 7002.57893891, 7002.57893747, 7002.57893603,\n",
       "        7002.5789346 , 7002.57893316, 7002.57893172, 7002.57893028,\n",
       "        7002.57892884, 7002.57892741, 7002.57892597, 7002.57892453,\n",
       "        7002.57892309, 7002.57892165, 7002.57892022, 7002.57891878,\n",
       "        7002.57891734, 7002.5789159 , 7002.57891446, 7002.57891302,\n",
       "        7002.57891159, 7002.57891015, 7002.57890871, 7002.57890727,\n",
       "        7002.57890583, 7002.5789044 , 7002.57890296, 7002.57890152,\n",
       "        7002.57890008, 7002.57889864, 7002.57889721, 7002.57889577,\n",
       "        7002.57889433, 7002.57889289, 7002.57889145, 7002.57889001,\n",
       "        7002.57888858, 7002.57888714, 7002.5788857 , 7002.57888426,\n",
       "        7002.57888282, 7002.57888139, 7002.57887995, 7002.57887851,\n",
       "        7002.57887707, 7002.57887563, 7002.5788742 , 7002.57887276,\n",
       "        7002.57887132, 7002.57886988, 7002.57886844, 7002.578867  ,\n",
       "        7002.57886557, 7002.57886413, 7002.57886269, 7002.57886125,\n",
       "        7002.57885981, 7002.57885838, 7002.57885694, 7002.5788555 ,\n",
       "        7002.57885406, 7002.57885262, 7002.57885118, 7002.57884975,\n",
       "        7002.57884831, 7002.57884687, 7002.57884543, 7002.57884399,\n",
       "        7002.57884256, 7002.57884112, 7002.57883968, 7002.57883824,\n",
       "        7002.5788368 , 7002.57883537, 7002.57883393, 7002.57883249,\n",
       "        7002.57883105, 7002.57882961, 7002.57882817, 7002.57882674,\n",
       "        7002.5788253 , 7002.57882386, 7002.57882242, 7002.57882098,\n",
       "        7002.57881955, 7002.57881811, 7002.57881667, 7002.57881523,\n",
       "        7002.57881379, 7002.57881236, 7002.57881092, 7002.57880948,\n",
       "        7002.57880804, 7002.5788066 , 7002.57880516, 7002.57880373,\n",
       "        7002.57880229, 7002.57880085, 7002.57879941, 7002.57879797,\n",
       "        7002.57879654, 7002.5787951 , 7002.57879366, 7002.57879222,\n",
       "        7002.57879078, 7002.57878935, 7002.57878791, 7002.57878647,\n",
       "        7002.57878503, 7002.57878359, 7002.57878215, 7002.57878072,\n",
       "        7002.57877928, 7002.57877784, 7002.5787764 , 7002.57877496,\n",
       "        7002.57877353, 7002.57877209, 7002.57877065, 7002.57876921,\n",
       "        7002.57876777, 7002.57876633, 7002.5787649 , 7002.57876346,\n",
       "        7002.57876202, 7002.57876058, 7002.57875914, 7002.57875771,\n",
       "        7002.57875627, 7002.57875483, 7002.57875339, 7002.57875195,\n",
       "        7002.57875052, 7002.57874908, 7002.57874764, 7002.5787462 ,\n",
       "        7002.57874476, 7002.57874332, 7002.57874189, 7002.57874045,\n",
       "        7002.57873901, 7002.57873757, 7002.57873613, 7002.5787347 ,\n",
       "        7002.57873326, 7002.57873182, 7002.57873038, 7002.57872894,\n",
       "        7002.57872751, 7002.57872607, 7002.57872463, 7002.57872319,\n",
       "        7002.57872175, 7002.57872031, 7002.57871888, 7002.57871744,\n",
       "        7002.578716  , 7002.57871456, 7002.57871312, 7002.57871169,\n",
       "        7002.57871025, 7002.57870881, 7002.57870737, 7002.57870593,\n",
       "        7002.5787045 , 7002.57870306, 7002.57870162, 7002.57870018,\n",
       "        7002.57869874, 7002.5786973 , 7002.57869587, 7002.57869443,\n",
       "        7002.57869299, 7002.57869155, 7002.57869011, 7002.57868868,\n",
       "        7002.57868724, 7002.5786858 , 7002.57868436, 7002.57868292,\n",
       "        7002.57868148, 7002.57868005, 7002.57867861, 7002.57867717,\n",
       "        7002.57867573, 7002.57867429, 7002.57867286, 7002.57867142,\n",
       "        7002.57866998, 7002.57866854, 7002.5786671 , 7002.57866567,\n",
       "        7002.57866423, 7002.57866279, 7002.57866135, 7002.57865991,\n",
       "        7002.57865847, 7002.57865704, 7002.5786556 , 7002.57865416,\n",
       "        7002.57865272, 7002.57865128, 7002.57864985, 7002.57864841,\n",
       "        7002.57864697, 7002.57864553, 7002.57864409, 7002.57864266,\n",
       "        7002.57864122, 7002.57863978, 7002.57863834, 7002.5786369 ,\n",
       "        7002.57863546, 7002.57863403, 7002.57863259, 7002.57863115,\n",
       "        7002.57862971, 7002.57862827, 7002.57862684, 7002.5786254 ,\n",
       "        7002.57862396, 7002.57862252, 7002.57862108, 7002.57861964,\n",
       "        7002.57861821, 7002.57861677, 7002.57861533, 7002.57861389,\n",
       "        7002.57861245, 7002.57861102, 7002.57860958, 7002.57860814,\n",
       "        7002.5786067 , 7002.57860526, 7002.57860383, 7002.57860239,\n",
       "        7002.57860095, 7002.57859951, 7002.57859807, 7002.57859663,\n",
       "        7002.5785952 , 7002.57859376, 7002.57859232, 7002.57859088,\n",
       "        7002.57858944, 7002.57858801, 7002.57858657, 7002.57858513,\n",
       "        7002.57858369, 7002.57858225, 7002.57858082, 7002.57857938,\n",
       "        7002.57857794, 7002.5785765 , 7002.57857506, 7002.57857362,\n",
       "        7002.57857219, 7002.57857075, 7002.57856931, 7002.57856787,\n",
       "        7002.57856643, 7002.578565  , 7002.57856356, 7002.57856212,\n",
       "        7002.57856068, 7002.57855924, 7002.57855781, 7002.57855637,\n",
       "        7002.57855493, 7002.57855349, 7002.57855205, 7002.57855061,\n",
       "        7002.57854918, 7002.57854774, 7002.5785463 , 7002.57854486,\n",
       "        7002.57854342, 7002.57854199, 7002.57854055, 7002.57853911,\n",
       "        7002.57853767, 7002.57853623, 7002.57853479, 7002.57853336,\n",
       "        7002.57853192, 7002.57853048, 7002.57852904, 7002.5785276 ,\n",
       "        7002.57852617, 7002.57852473, 7002.57852329, 7002.57852185,\n",
       "        7002.57852041, 7002.57851898, 7002.57851754, 7002.5785161 ,\n",
       "        7002.57851466, 7002.57851322, 7002.57851178, 7002.57851035,\n",
       "        7002.57850891, 7002.57850747, 7002.57850603, 7002.57850459,\n",
       "        7002.57850316, 7002.57850172, 7002.57850028, 7002.57849884,\n",
       "        7002.5784974 , 7002.57849596, 7002.57849453, 7002.57849309,\n",
       "        7002.57849165, 7002.57849021, 7002.57848877, 7002.57848734,\n",
       "        7002.5784859 , 7002.57848446, 7002.57848302, 7002.57848158,\n",
       "        7002.57848015, 7002.57847871, 7002.57847727, 7002.57847583,\n",
       "        7002.57847439, 7002.57847295, 7002.57847152, 7002.57847008,\n",
       "        7002.57846864, 7002.5784672 , 7002.57846576, 7002.57846433,\n",
       "        7002.57846289, 7002.57846145, 7002.57846001, 7002.57845857,\n",
       "        7002.57845714, 7002.5784557 , 7002.57845426, 7002.57845282,\n",
       "        7002.57845138, 7002.57844994, 7002.57844851, 7002.57844707,\n",
       "        7002.57844563, 7002.57844419, 7002.57844275, 7002.57844132,\n",
       "        7002.57843988, 7002.57843844, 7002.578437  , 7002.57843556,\n",
       "        7002.57843412, 7002.57843269, 7002.57843125, 7002.57842981,\n",
       "        7002.57842837, 7002.57842693, 7002.5784255 , 7002.57842406,\n",
       "        7002.57842262, 7002.57842118, 7002.57841974, 7002.57841831,\n",
       "        7002.57841687, 7002.57841543, 7002.57841399, 7002.57841255,\n",
       "        7002.57841111, 7002.57840968, 7002.57840824, 7002.5784068 ,\n",
       "        7002.57840536, 7002.57840392, 7002.57840249, 7002.57840105,\n",
       "        7002.57839961, 7002.57839817, 7002.57839673, 7002.5783953 ,\n",
       "        7002.57839386, 7002.57839242, 7002.57839098, 7002.57838954,\n",
       "        7002.5783881 , 7002.57838667, 7002.57838523, 7002.57838379,\n",
       "        7002.57838235, 7002.57838091, 7002.57837948, 7002.57837804,\n",
       "        7002.5783766 , 7002.57837516, 7002.57837372, 7002.57837228,\n",
       "        7002.57837085, 7002.57836941, 7002.57836797, 7002.57836653,\n",
       "        7002.57836509, 7002.57836366, 7002.57836222, 7002.57836078,\n",
       "        7002.57835934, 7002.5783579 , 7002.57835647, 7002.57835503,\n",
       "        7002.57835359, 7002.57835215, 7002.57835071, 7002.57834927,\n",
       "        7002.57834784, 7002.5783464 , 7002.57834496, 7002.57834352,\n",
       "        7002.57834208, 7002.57834065, 7002.57833921, 7002.57833777,\n",
       "        7002.57833633, 7002.57833489, 7002.57833345, 7002.57833202,\n",
       "        7002.57833058, 7002.57832914, 7002.5783277 , 7002.57832626,\n",
       "        7002.57832483, 7002.57832339, 7002.57832195, 7002.57832051,\n",
       "        7002.57831907, 7002.57831764, 7002.5783162 , 7002.57831476,\n",
       "        7002.57831332, 7002.57831188, 7002.57831044, 7002.57830901,\n",
       "        7002.57830757, 7002.57830613, 7002.57830469, 7002.57830325,\n",
       "        7002.57830182, 7002.57830038, 7002.57829894, 7002.5782975 ,\n",
       "        7002.57829606, 7002.57829463, 7002.57829319, 7002.57829175,\n",
       "        7002.57829031, 7002.57828887, 7002.57828743, 7002.578286  ,\n",
       "        7002.57828456, 7002.57828312, 7002.57828168, 7002.57828024,\n",
       "        7002.57827881, 7002.57827737, 7002.57827593, 7002.57827449,\n",
       "        7002.57827305, 7002.57827161, 7002.57827018, 7002.57826874,\n",
       "        7002.5782673 , 7002.57826586, 7002.57826442, 7002.57826299,\n",
       "        7002.57826155, 7002.57826011, 7002.57825867, 7002.57825723,\n",
       "        7002.5782558 , 7002.57825436, 7002.57825292, 7002.57825148,\n",
       "        7002.57825004, 7002.5782486 , 7002.57824717, 7002.57824573,\n",
       "        7002.57824429, 7002.57824285, 7002.57824141, 7002.57823998,\n",
       "        7002.57823854, 7002.5782371 , 7002.57823566, 7002.57823422,\n",
       "        7002.57823278, 7002.57823135, 7002.57822991, 7002.57822847,\n",
       "        7002.57822703, 7002.57822559, 7002.57822416, 7002.57822272,\n",
       "        7002.57822128, 7002.57821984, 7002.5782184 , 7002.57821697,\n",
       "        7002.57821553, 7002.57821409, 7002.57821265, 7002.57821121,\n",
       "        7002.57820977, 7002.57820834, 7002.5782069 , 7002.57820546,\n",
       "        7002.57820402, 7002.57820258, 7002.57820115, 7002.57819971,\n",
       "        7002.57819827, 7002.57819683, 7002.57819539, 7002.57819395,\n",
       "        7002.57819252, 7002.57819108, 7002.57818964, 7002.5781882 ,\n",
       "        7002.57818676, 7002.57818533, 7002.57818389, 7002.57818245,\n",
       "        7002.57818101, 7002.57817957, 7002.57817814, 7002.5781767 ,\n",
       "        7002.57817526, 7002.57817382, 7002.57817238, 7002.57817094,\n",
       "        7002.57816951, 7002.57816807, 7002.57816663, 7002.57816519,\n",
       "        7002.57816375, 7002.57816232, 7002.57816088, 7002.57815944,\n",
       "        7002.578158  , 7002.57815656, 7002.57815512, 7002.57815369,\n",
       "        7002.57815225, 7002.57815081, 7002.57814937, 7002.57814793]))"
      ]
     },
     "execution_count": 62,
     "metadata": {},
     "output_type": "execute_result"
    }
   ],
   "source": [
    "a_0_0 = ks_pruned[0, 0] #km\n",
    "a_0_0, da[0, :] #km"
   ]
  },
  {
   "cell_type": "code",
   "execution_count": 70,
   "metadata": {},
   "outputs": [
    {
     "data": {
      "text/plain": [
       "398571280000000.0"
      ]
     },
     "execution_count": 70,
     "metadata": {},
     "output_type": "execute_result"
    }
   ],
   "source": []
  },
  {
   "cell_type": "code",
   "execution_count": 173,
   "metadata": {},
   "outputs": [],
   "source": []
  },
  {
   "cell_type": "code",
   "execution_count": 174,
   "metadata": {},
   "outputs": [
    {
     "data": {
      "text/plain": [
       "array([1, 2, 3])"
      ]
     },
     "execution_count": 174,
     "metadata": {},
     "output_type": "execute_result"
    }
   ],
   "source": []
  },
  {
   "cell_type": "code",
   "execution_count": null,
   "metadata": {},
   "outputs": [],
   "source": []
  }
 ],
 "metadata": {
  "kernelspec": {
   "display_name": "py38",
   "language": "python",
   "name": "py38"
  },
  "language_info": {
   "codemirror_mode": {
    "name": "ipython",
    "version": 3
   },
   "file_extension": ".py",
   "mimetype": "text/x-python",
   "name": "python",
   "nbconvert_exporter": "python",
   "pygments_lexer": "ipython3",
   "version": "3.8.5"
  }
 },
 "nbformat": 4,
 "nbformat_minor": 4
}
