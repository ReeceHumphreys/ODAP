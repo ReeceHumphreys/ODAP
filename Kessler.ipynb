{
 "cells": [
  {
   "cell_type": "markdown",
   "metadata": {},
   "source": [
    "<h1>0. Packages</h1>"
   ]
  },
  {
   "cell_type": "code",
   "execution_count": 313,
   "metadata": {},
   "outputs": [],
   "source": [
    "from importlib import reload\n",
    "import numpy as np\n",
    "import re\n",
    "import skyfield.sgp4lib as spg4\n",
    "import matplotlib \n",
    "import PyQt5\n",
    "\n",
    "# User defined lib.\n",
    "import generate_debris as gd\n",
    "import CoordTransforms as ct\n",
    "\n",
    "reload(gd)\n",
    "reload(ct)\n",
    "\n",
    "matplotlib.use('Agg')\n",
    "import matplotlib.pyplot as plt\n",
    "from scipy.stats import uniform\n",
    "from scipy.stats import norm\n",
    "import scipy.stats as stats\n",
    "from enum import IntEnum    \n",
    "from mpl_toolkits.mplot3d import Axes3D\n",
    "import matplotlib.pyplot as plt\n",
    "import numpy as np\n",
    "from itertools import product, combinations\n",
    "from matplotlib import cm\n",
    "from scipy import integrate\n",
    "import pandas as pd\n",
    "from numba import njit, prange\n",
    "\n",
    "\n",
    "%matplotlib qt5\n",
    "\n",
    "debris_category = IntEnum('Category', 'rb sc soc')"
   ]
  },
  {
   "cell_type": "markdown",
   "metadata": {},
   "source": [
    "<h1>1. Data Structure</h1>\n",
    "\n",
    "<h3>1.1 Satellite Structure</h3>\n",
    "\n",
    "Creating an object to represent satellite from 3le.txt <br>\n",
    "May end up using implementation from another package\n",
    "\n",
    "<b>Data sources:<b><br>\n",
    "https://www.space-track.org    \n",
    "https://www.celestrak.com/NORAD/documentation/spacetrk.pdf\n",
    "\n",
    "<b>Information about 3le/2le:</b><br>\n",
    "https://en.wikipedia.org/wiki/Two-line_element_set#cite_note-nasahelp-12\n",
    "https://spaceflight.nasa.gov/realdata/sightings/SSapplications/Post/JavaSSOP/SSOP_Help/tle_def.html"
   ]
  },
  {
   "cell_type": "code",
   "execution_count": 2,
   "metadata": {},
   "outputs": [],
   "source": [
    "class two_line_element:\n",
    "    \n",
    "    def __init__(self, data):\n",
    "        self.parse_data(data)\n",
    "        \n",
    "    def parse_data(self, satelite_data):\n",
    "        self.title = satelite_data[0]\n",
    "        line_one = satelite_data[1].split()\n",
    "        line_two = satelite_data[2].split()\n",
    "\n",
    "        self.catalog_number = re.search('[0-9]{1,5}', line_one[0]).group()\n",
    "        self.classification = re.search('[UCS]', line_one[0]).group()\n",
    "\n",
    "        international_designator = re.search('([0-9]{2})([0-9]{3})(\\w{1,3})', line_one[1])\n",
    "        self.launch_year = international_designator.group(1)\n",
    "        self.launch_number = international_designator.group(2)\n",
    "        self.launch_piece =  international_designator.group(3)\n",
    "\n",
    "        epoch = re.search('([0-9]{2})(\\d+\\.\\d+)', line_one[2])\n",
    "        self.epoch_year = epoch.group(1)\n",
    "        self.epoch_day = epoch.group(2)\n",
    "\n",
    "        self.ballistic_coefficient = float(line_one[3])\n",
    "        self.mean_motion_double_prime = line_one[4]\n",
    "        self.BSTAR = line_one[5]\n",
    "\n",
    "        self.inclination = line_two[1]\n",
    "        self.right_ascension_of_ascending_node = line_two[2]\n",
    "        self.eccentricity = line_two[3]\n",
    "        self.argument_of_perigee = line_two[4]\n",
    "\n",
    "        mean_anomaly = line_two[5]"
   ]
  },
  {
   "cell_type": "markdown",
   "metadata": {},
   "source": [
    "<h3>Data structure implementation using spg4 from skyfield library<h3>"
   ]
  },
  {
   "cell_type": "code",
   "execution_count": 3,
   "metadata": {},
   "outputs": [
    {
     "name": "stdout",
     "output_type": "stream",
     "text": [
      "('0 VANGUARD 1', '1     5U 58002B   19352.86539842  .00000184  00000-0  20948-3 0  9994', '2     5  34.2610  67.7117 1845282 255.2293  83.7559 10.84789954185624')\n"
     ]
    }
   ],
   "source": [
    "# Opening the .txt file\n",
    "with open(\"3le.txt\") as f:\n",
    "    txt = f.read()\n",
    "    \n",
    "sat_lines = re.findall('(.*?)\\n(.*?)\\n(.*?)\\n', txt)\n",
    "\n",
    "# Preview of `sat_lines`, each element should be the three lines representing a satellite\n",
    "print(sat_lines[0])\n",
    "\n",
    "# Convert each group of 3 lines into a satelite object\n",
    "def line_element_to_satellite(lines):\n",
    "    title = lines[0]\n",
    "    line1 = lines[1]\n",
    "    line2 = lines[2]\n",
    "    return spg4.EarthSatellite(line1, line2, name=title)\n",
    "\n",
    "satellites = [line_element_to_satellite(lines) for lines in sat_lines]\n",
    "\n",
    "# Verify data structure by finding element representing the ISS\n",
    "iss_index = [sat.name for sat in satellites].index(\"0 ISS (ZARYA)\")\n",
    "iss = satellites[iss_index]"
   ]
  },
  {
   "cell_type": "markdown",
   "metadata": {},
   "source": [
    "<h3>1.2 Celestial Bodies</h3>\n",
    "\n",
    "\n",
    "de421.bsp is a Ephemerides provided by JPL Horizon which has the calculated positions of celestial bodies within a certain time interval. de421 is commonly used due to its small size and its relativley up to date information"
   ]
  },
  {
   "cell_type": "code",
   "execution_count": 4,
   "metadata": {},
   "outputs": [],
   "source": [
    "from skyfield.api import load, EarthSatellite\n",
    "ts = load.timescale(builtin=True)\n",
    "\n",
    "# Loading the data from de421.bsp using skyfield \n",
    "planets = load('de421.bsp')\n",
    "\n",
    "# Finding the data about Earth\n",
    "earth = planets[\"Earth\"]"
   ]
  },
  {
   "cell_type": "markdown",
   "metadata": {},
   "source": [
    "<h3>1.3 Celestial Bodies</h3>\n",
    "\n",
    "Plotting the satellite data in a 3D view.<br>\n",
    "Accidently broke my implementation so need to start with the below base and get it to plot the ISS again.\n",
    "\n",
    "<b>Source:</b> https://space.stackexchange.com/questions/25958/how-can-i-plot-a-satellites-orbit-in-3d-from-a-tle-using-python-and-skyfield"
   ]
  },
  {
   "cell_type": "code",
   "execution_count": null,
   "metadata": {},
   "outputs": [],
   "source": []
  },
  {
   "cell_type": "markdown",
   "metadata": {},
   "source": [
    "<h1>2. Breakup Models</h1>\n",
    "\n",
    "<h3>2.1 NASA breakup model</h3>\n",
    "\n",
    "<b>Implementation:</b> (Found on page 207)<br>\n",
    "https://www.researchgate.net/publication/295490674_Space_debris_cloud_evolution_in_Low_Earth_Orbit\n",
    "\n",
    "<b>Alternate implementation:</b><br>\n",
    "https://gitlab.obspm.fr/apetit/nasa-breakup-model/tree/master\n",
    "\n",
    "<b>Information:</b><br>\n",
    "https://digitalcommons.calpoly.edu/cgi/viewcontent.cgi?referer=https://en.wikipedia.org/&httpsredir=1&article=1094&context=theses\n",
    "\n",
    "\n",
    "<b>Now implemented in file generate_debris.py</b><br>"
   ]
  },
  {
   "cell_type": "markdown",
   "metadata": {},
   "source": [
    "<h3>2.2 NASA breakup model validation</h3>"
   ]
  },
  {
   "cell_type": "code",
   "execution_count": null,
   "metadata": {
    "scrolled": true
   },
   "outputs": [],
   "source": [
    "# Explosion Case\n",
    "\n",
    "reload(gd)\n",
    "\n",
    "L_c, areas, masses, AM = gd.fragmentation(1000, 0, 0, False, debris_category.rb, True)\n",
    "\n",
    "bins = [1e-3, 1e-2, 1e-1, 1, np.inf] # L_c bins in meters\n",
    "h,b = np.histogram(L_c, bins=bins)\n",
    "\n",
    "ch = [ { f'>{bins[i]}m':np.sum(h[i:]) for i in range(len(h))}]\n",
    "\n",
    "df = pd.DataFrame(ch)\n",
    "df"
   ]
  },
  {
   "cell_type": "code",
   "execution_count": null,
   "metadata": {},
   "outputs": [],
   "source": []
  },
  {
   "cell_type": "code",
   "execution_count": null,
   "metadata": {
    "scrolled": true
   },
   "outputs": [],
   "source": [
    "reload(gd)\n",
    "\n",
    "\n",
    "L_c = gd.characteristic_lengths(1000, 10, 10, True, debris_category.rb, False)\n",
    "N_fragments_total = L_c.shape[0]\n",
    "lambda_c = np.log10(L_c)\n",
    "areas = gd.avg_area(L_c)\n",
    "\n",
    "def create_log_bins(values, nbins=100):\n",
    "    #return np.geomspace(values.min(), values.max(), nbins)\n",
    "    bins = np.geomspace(values.min(), values.max(), nbins)\n",
    "    a = bins[1]/bins[0]\n",
    "    bins = np.concatenate([[bins[0]/a], bins,[bins[-1]*a]])\n",
    "    return bins\n",
    "\n",
    "# Validating L_c\n",
    "L_c = gd.characteristic_lengths(1000, 10, 10, True, debris_category.rb, False)\n",
    "h, b = np.histogram(L_c, bins=create_log_bins(L_c))\n",
    "plt.figure(figsize=(5,5))\n",
    "plt.xscale('log')\n",
    "plt.xlabel(r'$L_{c}$')\n",
    "plt.ylabel(r'$N_f$')\n",
    "plt.plot((b[:-1] + b[1:])/2, h, '.-')\n",
    "plt.show()\n",
    "# np.mean(counts)\n",
    "\n",
    "\n",
    "# Validating Areas\n",
    "# h, b = np.histogram(areas, bins=create_log_bins(areas))\n",
    "# plt.figure(figsize=(5,5))\n",
    "# plt.xscale('log')\n",
    "# plt.xlabel(r'$Areas$')\n",
    "# plt.ylabel(r'$N_f$')\n",
    "# plt.plot((b[:-1] + b[1:])/2, h, '.-')\n",
    "# plt.show()\n",
    "\n",
    "# I = np.argwhere(b > 10e-2)\n",
    "# count = np.sum(h[I - 1])\n",
    "# print(count)\n",
    "# # Validating Mass & Velocity\n",
    "# AM = np.array(gd.distribution_AM(lambda_c, gd.debris_category.rb))\n",
    "# masses = areas / 10**AM\n",
    "\n",
    "# h, b = np.histogram(masses, bins=create_log_bins(masses))\n",
    "# plt.figure(figsize=(5,5))\n",
    "# plt.xscale('log')\n",
    "# plt.xlabel(r'$Masses$')\n",
    "# plt.ylabel(r'$N_f$')\n",
    "# plt.gca().set_yticks([0, 2, 4, 6, 8])\n",
    "# plt.gca().set_xticks([1e-8, 1e-5, 1e-2, 10, 1e4])\n",
    "# plt.gca().set_xlim([1e-8,1e4])\n",
    "# plt.gca().set_ylim([0,8])\n",
    "# plt.grid()\n",
    "# plt.plot((b[:-1] + b[1:])/2, h/1e5, '.-')\n",
    "# plt.show()\n",
    "\n",
    "# # Validating Velocity\n",
    "# deltaV = np.array(gd.distribution_deltaV(AM, 10, True))\n",
    "\n",
    "\n",
    "# h, b = np.histogram(deltaV, bins=create_log_bins(deltaV))\n",
    "# plt.figure(figsize=(5,5))\n",
    "# plt.xscale('log')\n",
    "# plt.xlabel(r'$\\delta V$')\n",
    "# plt.ylabel(r'$N_f$')\n",
    "# plt.gca().set_yticks([0, 2, 4, 6, 8])\n",
    "# plt.gca().set_xticks([1e-3, 1e-2, 1e-1, 1, 10])\n",
    "# plt.gca().set_xlim([1e-3,10])\n",
    "# plt.gca().set_ylim([0,8])\n",
    "# plt.grid()\n",
    "# plt.plot((b[:-1] + b[1:])/2, h/1e5, '.-')\n",
    "# plt.show()"
   ]
  },
  {
   "cell_type": "code",
   "execution_count": null,
   "metadata": {},
   "outputs": [],
   "source": []
  },
  {
   "cell_type": "code",
   "execution_count": null,
   "metadata": {},
   "outputs": [],
   "source": []
  },
  {
   "cell_type": "markdown",
   "metadata": {},
   "source": [
    "<h3>2.3 and Onward will be alternate breakup models</h3>"
   ]
  },
  {
   "cell_type": "markdown",
   "metadata": {},
   "source": [
    "<h1>3. Numerical Propagation</h1>"
   ]
  },
  {
   "cell_type": "markdown",
   "metadata": {},
   "source": [
    "<h3>3.1 Modeling the Atmosphere</h3>"
   ]
  },
  {
   "cell_type": "code",
   "execution_count": 5,
   "metadata": {},
   "outputs": [],
   "source": [
    "excel_file = \"AtmosphericModelValues.xlsx\"\n",
    "earth_radius = 6378.0 #km\n",
    "tabulated_values = pd.read_excel(excel_file, engine=\"openpyxl\")\n",
    "\n",
    "def atmosphere_density(altitude):\n",
    "    \n",
    "    bins = tabulated_values['Altitude Lower Bound (km)'].values\n",
    "    base_altitude = tabulated_values['Base Altitude (km)'].values\n",
    "    nominal_density = tabulated_values['Nominal Density (kg/m^3)'].values\n",
    "    scale_height = tabulated_values['Scale Height (km)'].values\n",
    "    i = np.digitize(altitude, bins) - 1\n",
    "    return (nominal_density[i]*np.exp(-(altitude-base_altitude[i])/(scale_height[i])))\n",
    "\n",
    "def scale_height(altitude):\n",
    "    bins = tabulated_values['Altitude Lower Bound (km)'].values\n",
    "    scale_height = tabulated_values['Scale Height (km)'].values\n",
    "    i = np.digitize(altitude, bins) - 1\n",
    "    return scale_height[i]\n"
   ]
  },
  {
   "cell_type": "markdown",
   "metadata": {},
   "source": [
    "<h3>3.2 Calculating Orbital Debris Properties</h3>"
   ]
  },
  {
   "cell_type": "code",
   "execution_count": 6,
   "metadata": {},
   "outputs": [],
   "source": [
    "from skyfield.api import load, EarthSatellite\n",
    "\n",
    "ts = load.timescale(builtin=True)\n",
    "\n",
    "t = ts.now()\n",
    "geocentric = iss.at(t)\n",
    "init_position = geocentric.position.km\n",
    "\n",
    "iss_mass = 41970 # kg (reduced by an order of mag for sim purposes)\n",
    "projectile_mass  = 227 # kg\n",
    "\n",
    "L_c, areas, masses, AM = gd.fragmentation(iss_mass, projectile_mass, 5, False, debris_category.soc, False)\n",
    "deltaV = np.array(gd.distribution_deltaV(AM, 10, True))"
   ]
  },
  {
   "cell_type": "code",
   "execution_count": null,
   "metadata": {},
   "outputs": [],
   "source": [
    "L_c.shape"
   ]
  },
  {
   "cell_type": "markdown",
   "metadata": {},
   "source": [
    "<h3>3.3 Converting Cartesian to Keplerian</h3>"
   ]
  },
  {
   "cell_type": "code",
   "execution_count": 395,
   "metadata": {},
   "outputs": [],
   "source": [
    "from numpy.linalg import norm\n",
    "\n",
    "reload(ct)\n",
    "\n",
    "grav_param_earth = 398600.4418 #km^3s^-2\n",
    "init_position = geocentric.position.km\n",
    "\n",
    "deb_positions = np.empty((len(AM), 3))\n",
    "deb_positions[:, :] = init_position[None,:]\n",
    "deb_velocities = gd.velocity_vectors(len(AM), geocentric.velocity.km_per_s, deltaV)\n",
    "\n",
    "keplerian_state = ct.rv2coe(deb_positions, deb_velocities, grav_param_earth)"
   ]
  },
  {
   "cell_type": "code",
   "execution_count": 396,
   "metadata": {},
   "outputs": [
    {
     "name": "stdout",
     "output_type": "stream",
     "text": [
      "Cartesian\n",
      "r:  [2313.3737642  4664.13877939 4346.54144031]\n",
      "v:  [-6.69704664  0.20158006  3.54946433]\n",
      "Keplerian\n",
      "a:  6637.449947658387\n",
      "e:  0.02766270630260258\n",
      "i:  51.93340685659054\n",
      "Omega:  22.788307154793262\n",
      "omega:  271.4909985039111\n",
      "M:  141.0599615338102\n",
      "nu:  142.99967087096127\n",
      "\n",
      "Cartesian\n",
      "r:  [2313.3737642  4664.13877939 4346.54144031]\n",
      "v:  [-6.78820873  0.12360284  3.55310648]\n",
      "Keplerian\n",
      "a:  6776.223065924155\n",
      "e:  0.00615474118600986\n",
      "i:  52.06848242131433\n",
      "Omega:  23.027880766577884\n",
      "omega:  315.7472093077679\n",
      "M:  97.89813068159782\n",
      "nu:  98.59596670046727\n",
      "\n",
      "Cartesian\n",
      "r:  [2313.3737642  4664.13877939 4346.54144031]\n",
      "v:  [-6.81671525  0.1611402   3.51752808]\n",
      "Keplerian\n",
      "a:  6793.19418690675\n",
      "e:  0.005454291083598066\n",
      "i:  51.817211076621476\n",
      "Omega:  22.58081227726874\n",
      "omega:  341.5720685069852\n",
      "M:  72.44956398445045\n",
      "nu:  73.04670315784016\n",
      "\n",
      "Cartesian\n",
      "r:  [2313.3737642  4664.13877939 4346.54144031]\n",
      "v:  [-6.81141157  0.22481255  3.66623369]\n",
      "Keplerian\n",
      "a:  6913.43984107711\n",
      "e:  0.030105791863761548\n",
      "i:  52.02065728652266\n",
      "Omega:  22.943256148273985\n",
      "omega:  2.1322833039095497\n",
      "M:  49.57218770449732\n",
      "nu:  52.262940942610854\n",
      "\n",
      "Cartesian\n",
      "r:  [2313.3737642  4664.13877939 4346.54144031]\n",
      "v:  [-6.78247891  0.19901336  3.5527587 ]\n",
      "Keplerian\n",
      "a:  6769.789705780931\n",
      "e:  0.013218808072225561\n",
      "i:  51.8372483648147\n",
      "Omega:  22.616687350122056\n",
      "omega:  315.87217777797184\n",
      "M:  97.22497300656313\n",
      "nu:  98.72442184085476\n",
      "\n",
      "Cartesian\n",
      "r:  [2313.3737642  4664.13877939 4346.54144031]\n",
      "v:  [-6.92040017  0.17099501  3.50787007]\n",
      "Keplerian\n",
      "a:  6954.352653785349\n",
      "e:  0.024762888178204955\n",
      "i:  51.62782358897323\n",
      "Omega:  22.23977334298169\n",
      "omega:  53.24527138750849\n",
      "M:  1.5077212430741913\n",
      "nu:  1.5847645317394423\n",
      "\n",
      "Cartesian\n",
      "r:  [2313.3737642  4664.13877939 4346.54144031]\n",
      "v:  [-6.86580493  0.16066235  3.30437193]\n",
      "Keplerian\n",
      "a:  6703.780657445563\n",
      "e:  0.018959184051181105\n",
      "i:  51.18612897258008\n",
      "Omega:  21.430236605785016\n",
      "omega:  184.28532249609603\n",
      "M:  232.75444451654252\n",
      "nu:  231.0496987225745\n",
      "\n",
      "Cartesian\n",
      "r:  [2313.3737642  4664.13877939 4346.54144031]\n",
      "v:  [-6.95475666  0.17625334  3.51069025]\n",
      "Keplerian\n",
      "a:  7015.345281109531\n",
      "e:  0.033233137275675076\n",
      "i:  51.5759397579368\n",
      "Omega:  22.145718991676347\n",
      "omega:  55.14194868464885\n",
      "M:  359.7629442876536\n",
      "nu:  359.7465064794198\n",
      "\n",
      "Cartesian\n",
      "r:  [2313.3737642  4664.13877939 4346.54144031]\n",
      "v:  [-6.78757067  0.06615886  3.46104559]\n",
      "Keplerian\n",
      "a:  6700.441154818335\n",
      "e:  0.013956532279483722\n",
      "i:  52.0041139280683\n",
      "Omega:  22.913932644573237\n",
      "omega:  205.76659038237963\n",
      "M:  209.42049375703303\n",
      "nu:  208.64668222061923\n",
      "\n",
      "Cartesian\n",
      "r:  [2313.3737642  4664.13877939 4346.54144031]\n",
      "v:  [-6.85314837  0.10967172  3.44832373]\n",
      "Keplerian\n",
      "a:  6793.4292458023065\n",
      "e:  0.007002216393505181\n",
      "i:  51.746272769042335\n",
      "Omega:  22.453486513843163\n",
      "omega:  131.4403053278369\n",
      "M:  284.0373032584342\n",
      "nu:  283.2572375745627\n",
      "\n"
     ]
    }
   ],
   "source": [
    "for i in range(10):\n",
    "    rand_index = i\n",
    "    print(\"Cartesian\")\n",
    "    print(\"r: \", deb_positions[rand_index, :])\n",
    "    print(\"v: \", deb_velocities[rand_index, :])\n",
    "\n",
    "    print(\"Keplerian\")\n",
    "    ks_rand = keplerian_state[:, rand_index]\n",
    "    print(\"a: \", ks_rand[0])\n",
    "    print(\"e: \", ks_rand[1])\n",
    "    print(\"i: \", ks_rand[2])\n",
    "    print(\"Omega: \", ks_rand[3])\n",
    "    print(\"omega: \", ks_rand[4])\n",
    "    print(\"M: \", ks_rand[5])\n",
    "    print(\"nu: \", ks_rand[6])\n",
    "    print()\n",
    "    \n",
    "## 3 omega wrong\n",
    "##"
   ]
  },
  {
   "cell_type": "markdown",
   "metadata": {},
   "source": [
    "<h3>3.4 Testing coverting back to Cartesian</h3>"
   ]
  },
  {
   "cell_type": "code",
   "execution_count": 399,
   "metadata": {},
   "outputs": [],
   "source": [
    "reload(ct)\n",
    "\n",
    "indexes = np.random.default_rng().choice(keplerian_state.shape[1], size=1000, replace=False)\n",
    "ks_sample = keplerian_state[:, indexes]\n",
    "\n",
    "cartesian_state = np.array(ct.coe2rv_many(k=grav_param_earth,\n",
    "                              p=ks_sample[7, :],\n",
    "                              ecc=ks_sample[1, :],\n",
    "                              inc=ks_sample[2, :],\n",
    "                              raan=ks_sample[3, :],\n",
    "                              argp=ks_sample[4, :],\n",
    "                              nu=ks_sample[6, :]))"
   ]
  },
  {
   "cell_type": "code",
   "execution_count": 365,
   "metadata": {},
   "outputs": [
    {
     "data": {
      "text/plain": [
       "(2, 1000, 3)"
      ]
     },
     "execution_count": 365,
     "metadata": {},
     "output_type": "execute_result"
    }
   ],
   "source": []
  },
  {
   "cell_type": "code",
   "execution_count": 390,
   "metadata": {},
   "outputs": [
    {
     "name": "stdout",
     "output_type": "stream",
     "text": [
      "Keplerian\n",
      "a:  6727.947919896696\n",
      "e:  0.019105562393834676\n",
      "i:  51.82459235429125\n",
      "Omega:  22.59403240050813\n",
      "omega:  61.345242481749324\n",
      "M:  113.97502391620328\n",
      "nu:  115.95584250187216\n",
      "Cartesian\n",
      "r:  [-6330.56252437 -2420.59110084   251.05391096]\n",
      "v:  [ 1.35548477 -4.53677696 -5.98981306]\n",
      "\n",
      "Keplerian\n",
      "a:  6786.358545107362\n",
      "e:  0.006462359653872605\n",
      "i:  51.41621104265258\n",
      "Omega:  21.854447697046965\n",
      "omega:  29.86499174310501\n",
      "M:  84.19746422301473\n",
      "nu:  84.93478358023708\n",
      "Cartesian\n",
      "r:  [-4069.66888092  2504.78410108  4812.70849161]\n",
      "v:  [-5.74383249 -4.43494826 -2.47933389]\n",
      "\n",
      "Keplerian\n",
      "a:  6408.832314394621\n",
      "e:  0.05827259493072024\n",
      "i:  51.42579734347772\n",
      "Omega:  21.872002457665374\n",
      "omega:  123.78039315657605\n",
      "M:  178.6978133512477\n",
      "nu:  178.83923796680725\n",
      "Cartesian\n",
      "r:  [ 4719.76124705 -1943.48163798 -4465.98747336]\n",
      "v:  [4.89001485 4.6522602  3.12917865]\n",
      "\n",
      "Keplerian\n",
      "a:  6611.617480290143\n",
      "e:  0.02793344176225797\n",
      "i:  51.47639171012269\n",
      "Omega:  21.964495805216394\n",
      "omega:  146.9247261653295\n",
      "M:  203.14480268881923\n",
      "nu:  201.9259307346801\n",
      "Cartesian\n",
      "r:  [ 6476.72942882  1731.35003702 -1026.01860305]\n",
      "v:  [-0.44987824  4.81456619  5.82002502]\n",
      "\n",
      "Keplerian\n",
      "a:  7101.396042312206\n",
      "e:  0.04502679312241796\n",
      "i:  50.90437373149189\n",
      "Omega:  20.903047803874546\n",
      "omega:  59.22215734414665\n",
      "M:  356.75383510485733\n",
      "nu:  356.44431327302215\n",
      "Cartesian\n",
      "r:  [2313.3737642  4664.13877939 4346.54144031]\n",
      "v:  [-7.04694771  0.28057757  3.41686243]\n",
      "\n",
      "Keplerian\n",
      "a:  6821.215007952427\n",
      "e:  0.005949327445587957\n",
      "i:  51.075004360351116\n",
      "Omega:  21.22334182938137\n",
      "omega:  39.37035706311324\n",
      "M:  15.90631354009107\n",
      "nu:  16.094500660616152\n",
      "Cartesian\n",
      "r:  [2313.3737642  4664.13877939 4346.54144031]\n",
      "v:  [-6.8908058   0.26870101  3.398854  ]\n",
      "\n",
      "Keplerian\n",
      "a:  6728.841749918502\n",
      "e:  0.010140365430090312\n",
      "i:  51.530367912042955\n",
      "Omega:  22.06288245873268\n",
      "omega:  86.87227892933589\n",
      "M:  141.0895327152491\n",
      "nu:  141.81224089295125\n",
      "Cartesian\n",
      "r:  [-2959.40766241 -4618.83945789 -3988.3003358 ]\n",
      "v:  [ 6.47198526 -0.7850623  -3.97523565]\n",
      "\n",
      "Keplerian\n",
      "a:  6708.982565583973\n",
      "e:  0.018303804118027147\n",
      "i:  52.403142634460295\n",
      "Omega:  23.614055979421618\n",
      "omega:  73.45700532768899\n",
      "M:  125.76191553698126\n",
      "nu:  127.44119649810568\n",
      "Cartesian\n",
      "r:  [-5214.24320648 -3890.46078809 -1916.84476643]\n",
      "v:  [ 4.1460659  -2.95625156 -5.67457313]\n",
      "\n",
      "Keplerian\n",
      "a:  6887.02127382308\n",
      "e:  0.02010264916058548\n",
      "i:  51.17436798190444\n",
      "Omega:  21.40840231790332\n",
      "omega:  96.89955576102673\n",
      "M:  319.95997700563447\n",
      "nu:  318.44915277101853\n",
      "Cartesian\n",
      "r:  [2313.3737642  4664.13877939 4346.54144031]\n",
      "v:  [-6.95493928  0.17434884  3.35624675]\n",
      "\n",
      "Keplerian\n",
      "a:  6938.752681768723\n",
      "e:  0.025229975595677225\n",
      "i:  52.1223896994691\n",
      "Omega:  23.123007666698516\n",
      "omega:  81.53015428431347\n",
      "M:  334.0561850493137\n",
      "nu:  332.7545806831963\n",
      "Cartesian\n",
      "r:  [2313.3737642  4664.13877939 4346.54144031]\n",
      "v:  [-6.90918757  0.02326861  3.51568688]\n",
      "\n"
     ]
    }
   ],
   "source": [
    "for i in range(10):\n",
    "    rand_index = i\n",
    "    print(\"Keplerian\")\n",
    "    ks_rand = ks_sample[:, rand_index]\n",
    "    print(\"a: \", ks_rand[0])\n",
    "    print(\"e: \", ks_rand[1])\n",
    "    print(\"i: \", ks_rand[2])\n",
    "    print(\"Omega: \", ks_rand[3])\n",
    "    print(\"omega: \", ks_rand[4])\n",
    "    print(\"M: \", ks_rand[5])\n",
    "    print(\"nu: \", ks_rand[6])\n",
    "\n",
    "    r = cartesian_state[0, rand_index, :]\n",
    "    v = cartesian_state[1, rand_index, :]\n",
    "    print(\"Cartesian\")\n",
    "    print(\"r: \", r)\n",
    "    print(\"v: \", v)\n",
    "    print()\n"
   ]
  },
  {
   "cell_type": "markdown",
   "metadata": {},
   "source": [
    "<h3>3.4 Debris Cloud formation</h3>"
   ]
  },
  {
   "cell_type": "code",
   "execution_count": 12,
   "metadata": {
    "scrolled": true
   },
   "outputs": [],
   "source": [
    "## Shrink number of debris being used\n",
    "indexes = np.random.default_rng().choice(len(a), size=1000, replace=False)\n",
    "\n",
    "keplerian_states = keplerian_states[:, indexes]\n",
    "masses = masses[indexes]\n",
    "areas = areas[indexes]\n",
    "deb_positions = deb_positions[indexes, :]\n",
    "deb_velocities = deb_velocities[indexes, :]\n",
    "\n"
   ]
  },
  {
   "cell_type": "code",
   "execution_count": 13,
   "metadata": {},
   "outputs": [],
   "source": [
    "np.savez(\"debris.npz\",\n",
    "         keplerian_states=keplerian_states,\n",
    "         masses=masses,\n",
    "         areas=areas,\n",
    "         deb_positions=deb_positions,\n",
    "         deb_velocities=deb_velocities)"
   ]
  },
  {
   "cell_type": "code",
   "execution_count": 14,
   "metadata": {},
   "outputs": [],
   "source": [
    "container = np.load('debris.npz')\n",
    "keplerian_states = container['keplerian_states']\n",
    "masses = container['masses']\n",
    "areas = container['areas']\n",
    "deb_positions = container['deb_positions']\n",
    "deb_velocities = container['deb_velocities']"
   ]
  },
  {
   "cell_type": "markdown",
   "metadata": {},
   "source": [
    "<h4>3.4.1 Ellisoid formation</h4>"
   ]
  },
  {
   "cell_type": "code",
   "execution_count": 15,
   "metadata": {},
   "outputs": [],
   "source": [
    "from numba import jit \n",
    "\n",
    "@njit(parallel=False, fastmath=True)\n",
    "def EccAnom(ec,M): \n",
    "  #ec=eccentricity, M=mean anomaly,\n",
    "    i=0\n",
    "    delta=10e-10; \n",
    "    E = M\n",
    "    if (ec.all()>=0.8):\n",
    "        E += np.sin(M)\n",
    "    F = E - ec*np.sin(E) - M\n",
    "    while ((np.abs(F).all()>delta) and (i<50)):\n",
    "        E = E - F/(1.0-(ec* np.cos(E) ))\n",
    "        F = E - ec * np.sin(E) - M\n",
    "        i += 1\n",
    "    return E"
   ]
  },
  {
   "cell_type": "code",
   "execution_count": 305,
   "metadata": {},
   "outputs": [
    {
     "data": {
      "text/plain": [
       "(8, 1000)"
      ]
     },
     "execution_count": 305,
     "metadata": {},
     "output_type": "execute_result"
    }
   ],
   "source": [
    "keplerian_states.shape"
   ]
  },
  {
   "cell_type": "code",
   "execution_count": 44,
   "metadata": {},
   "outputs": [],
   "source": [
    "import gc\n",
    "\n",
    "# Doing for the 1 orbit, using the period of the slowest deb.\n",
    "grav_param_earth = 398600.4418 #km^3s^-2\n",
    "T = 2 * np.pi * np.sqrt(keplerian_states[0, :]**3 / grav_param_earth)\n",
    "t1, t2, dt = 0, np.ceil(max(T)), 60*10\n",
    "\n",
    "times      = np.arange(t1, t2, dt)\n",
    "\n",
    "mean_anomlay_rate_of_change = np.sqrt(grav_param_earth/keplerian_states[0, :]**3)\n",
    "\n",
    "Nd = len(mean_anomlay_rate_of_change)\n",
    "Nt = len(times)\n",
    "\n",
    "eccentric_animales_vs_time = np.empty(shape=(Nd, Nt), dtype=np.float32)\n",
    "\n",
    "mean_anomalies_vs_time = keplerian_states[5, :, None] + mean_anomlay_rate_of_change[:, None] * times[None, :]\n",
    "mean_anomalies_vs_time = mean_anomalies_vs_time % (2*np.pi)\n",
    "\n",
    "eccentric_anomalies_vs_time = EccAnom(keplerian_states[1, :, None], mean_anomalies_vs_time)\n",
    "x1 = np.sqrt(1 + keplerian_states[1, :])[:, None]*np.sin(eccentric_anomalies_vs_time / 2)\n",
    "x2 = np.sqrt(1 - keplerian_states[1, :])[:, None]*np.cos(eccentric_anomalies_vs_time / 2)\n",
    "true_anomalies_vs_time = (2*np.arctan2(x1, x2) % (2*np.pi)).T"
   ]
  },
  {
   "cell_type": "code",
   "execution_count": 213,
   "metadata": {},
   "outputs": [
    {
     "data": {
      "text/plain": [
       "dtype('float64')"
      ]
     },
     "execution_count": 213,
     "metadata": {},
     "output_type": "execute_result"
    }
   ],
   "source": [
    "cartesian_states.dtype"
   ]
  },
  {
   "cell_type": "code",
   "execution_count": 247,
   "metadata": {},
   "outputs": [
    {
     "ename": "CalledProcessError",
     "evalue": "Command '['ffmpeg', '-f', 'rawvideo', '-vcodec', 'rawvideo', '-s', '1280x960', '-pix_fmt', 'rgba', '-r', '5', '-loglevel', 'error', '-i', 'pipe:', '-vcodec', 'h264', '-pix_fmt', 'yuv420p', '-y', 'Ellipsoid.mp4']' returned non-zero exit status 255.",
     "output_type": "error",
     "traceback": [
      "\u001b[0;31m---------------------------------------------------------------------------\u001b[0m",
      "\u001b[0;31mKeyboardInterrupt\u001b[0m                         Traceback (most recent call last)",
      "\u001b[0;32m~/anaconda3/envs/py38/lib/python3.8/site-packages/matplotlib/animation.py\u001b[0m in \u001b[0;36msaving\u001b[0;34m(self, fig, outfile, dpi, *args, **kwargs)\u001b[0m\n\u001b[1;32m    250\u001b[0m         \u001b[0;32mtry\u001b[0m\u001b[0;34m:\u001b[0m\u001b[0;34m\u001b[0m\u001b[0;34m\u001b[0m\u001b[0m\n\u001b[0;32m--> 251\u001b[0;31m             \u001b[0;32myield\u001b[0m \u001b[0mself\u001b[0m\u001b[0;34m\u001b[0m\u001b[0;34m\u001b[0m\u001b[0m\n\u001b[0m\u001b[1;32m    252\u001b[0m         \u001b[0;32mfinally\u001b[0m\u001b[0;34m:\u001b[0m\u001b[0;34m\u001b[0m\u001b[0;34m\u001b[0m\u001b[0m\n",
      "\u001b[0;32m~/anaconda3/envs/py38/lib/python3.8/site-packages/matplotlib/animation.py\u001b[0m in \u001b[0;36msave\u001b[0;34m(self, filename, writer, fps, dpi, codec, bitrate, extra_args, metadata, extra_anim, savefig_kwargs, progress_callback)\u001b[0m\n\u001b[1;32m   1144\u001b[0m                         \u001b[0mframe_number\u001b[0m \u001b[0;34m+=\u001b[0m \u001b[0;36m1\u001b[0m\u001b[0;34m\u001b[0m\u001b[0;34m\u001b[0m\u001b[0m\n\u001b[0;32m-> 1145\u001b[0;31m                 \u001b[0mwriter\u001b[0m\u001b[0;34m.\u001b[0m\u001b[0mgrab_frame\u001b[0m\u001b[0;34m(\u001b[0m\u001b[0;34m**\u001b[0m\u001b[0msavefig_kwargs\u001b[0m\u001b[0;34m)\u001b[0m\u001b[0;34m\u001b[0m\u001b[0;34m\u001b[0m\u001b[0m\n\u001b[0m\u001b[1;32m   1146\u001b[0m \u001b[0;34m\u001b[0m\u001b[0m\n",
      "\u001b[0;32m~/anaconda3/envs/py38/lib/python3.8/site-packages/matplotlib/animation.py\u001b[0m in \u001b[0;36mgrab_frame\u001b[0;34m(self, **savefig_kwargs)\u001b[0m\n\u001b[1;32m    362\u001b[0m         \u001b[0;31m# Save the figure data to the sink, using the frame format and dpi.\u001b[0m\u001b[0;34m\u001b[0m\u001b[0;34m\u001b[0m\u001b[0;34m\u001b[0m\u001b[0m\n\u001b[0;32m--> 363\u001b[0;31m         self.fig.savefig(self._frame_sink(), format=self.frame_format,\n\u001b[0m\u001b[1;32m    364\u001b[0m                          dpi=self.dpi, **savefig_kwargs)\n",
      "\u001b[0;32m~/anaconda3/envs/py38/lib/python3.8/site-packages/matplotlib/figure.py\u001b[0m in \u001b[0;36msavefig\u001b[0;34m(self, fname, transparent, **kwargs)\u001b[0m\n\u001b[1;32m   2310\u001b[0m \u001b[0;34m\u001b[0m\u001b[0m\n\u001b[0;32m-> 2311\u001b[0;31m         \u001b[0mself\u001b[0m\u001b[0;34m.\u001b[0m\u001b[0mcanvas\u001b[0m\u001b[0;34m.\u001b[0m\u001b[0mprint_figure\u001b[0m\u001b[0;34m(\u001b[0m\u001b[0mfname\u001b[0m\u001b[0;34m,\u001b[0m \u001b[0;34m**\u001b[0m\u001b[0mkwargs\u001b[0m\u001b[0;34m)\u001b[0m\u001b[0;34m\u001b[0m\u001b[0;34m\u001b[0m\u001b[0m\n\u001b[0m\u001b[1;32m   2312\u001b[0m \u001b[0;34m\u001b[0m\u001b[0m\n",
      "\u001b[0;32m~/anaconda3/envs/py38/lib/python3.8/site-packages/matplotlib/backends/backend_qt5agg.py\u001b[0m in \u001b[0;36mprint_figure\u001b[0;34m(self, *args, **kwargs)\u001b[0m\n\u001b[1;32m     80\u001b[0m     \u001b[0;32mdef\u001b[0m \u001b[0mprint_figure\u001b[0m\u001b[0;34m(\u001b[0m\u001b[0mself\u001b[0m\u001b[0;34m,\u001b[0m \u001b[0;34m*\u001b[0m\u001b[0margs\u001b[0m\u001b[0;34m,\u001b[0m \u001b[0;34m**\u001b[0m\u001b[0mkwargs\u001b[0m\u001b[0;34m)\u001b[0m\u001b[0;34m:\u001b[0m\u001b[0;34m\u001b[0m\u001b[0;34m\u001b[0m\u001b[0m\n\u001b[0;32m---> 81\u001b[0;31m         \u001b[0msuper\u001b[0m\u001b[0;34m(\u001b[0m\u001b[0;34m)\u001b[0m\u001b[0;34m.\u001b[0m\u001b[0mprint_figure\u001b[0m\u001b[0;34m(\u001b[0m\u001b[0;34m*\u001b[0m\u001b[0margs\u001b[0m\u001b[0;34m,\u001b[0m \u001b[0;34m**\u001b[0m\u001b[0mkwargs\u001b[0m\u001b[0;34m)\u001b[0m\u001b[0;34m\u001b[0m\u001b[0;34m\u001b[0m\u001b[0m\n\u001b[0m\u001b[1;32m     82\u001b[0m         \u001b[0mself\u001b[0m\u001b[0;34m.\u001b[0m\u001b[0mdraw\u001b[0m\u001b[0;34m(\u001b[0m\u001b[0;34m)\u001b[0m\u001b[0;34m\u001b[0m\u001b[0;34m\u001b[0m\u001b[0m\n",
      "\u001b[0;32m~/anaconda3/envs/py38/lib/python3.8/site-packages/matplotlib/backend_bases.py\u001b[0m in \u001b[0;36mprint_figure\u001b[0;34m(self, filename, dpi, facecolor, edgecolor, orientation, format, bbox_inches, pad_inches, bbox_extra_artists, backend, **kwargs)\u001b[0m\n\u001b[1;32m   2209\u001b[0m             \u001b[0;32mtry\u001b[0m\u001b[0;34m:\u001b[0m\u001b[0;34m\u001b[0m\u001b[0;34m\u001b[0m\u001b[0m\n\u001b[0;32m-> 2210\u001b[0;31m                 result = print_method(\n\u001b[0m\u001b[1;32m   2211\u001b[0m                     \u001b[0mfilename\u001b[0m\u001b[0;34m,\u001b[0m\u001b[0;34m\u001b[0m\u001b[0;34m\u001b[0m\u001b[0m\n",
      "\u001b[0;32m~/anaconda3/envs/py38/lib/python3.8/site-packages/matplotlib/backend_bases.py\u001b[0m in \u001b[0;36mwrapper\u001b[0;34m(*args, **kwargs)\u001b[0m\n\u001b[1;32m   1638\u001b[0m \u001b[0;34m\u001b[0m\u001b[0m\n\u001b[0;32m-> 1639\u001b[0;31m         \u001b[0;32mreturn\u001b[0m \u001b[0mfunc\u001b[0m\u001b[0;34m(\u001b[0m\u001b[0;34m*\u001b[0m\u001b[0margs\u001b[0m\u001b[0;34m,\u001b[0m \u001b[0;34m**\u001b[0m\u001b[0mkwargs\u001b[0m\u001b[0;34m)\u001b[0m\u001b[0;34m\u001b[0m\u001b[0;34m\u001b[0m\u001b[0m\n\u001b[0m\u001b[1;32m   1640\u001b[0m \u001b[0;34m\u001b[0m\u001b[0m\n",
      "\u001b[0;32m~/anaconda3/envs/py38/lib/python3.8/site-packages/matplotlib/backends/backend_agg.py\u001b[0m in \u001b[0;36mprint_raw\u001b[0;34m(self, filename_or_obj, *args)\u001b[0m\n\u001b[1;32m    452\u001b[0m     \u001b[0;32mdef\u001b[0m \u001b[0mprint_raw\u001b[0m\u001b[0;34m(\u001b[0m\u001b[0mself\u001b[0m\u001b[0;34m,\u001b[0m \u001b[0mfilename_or_obj\u001b[0m\u001b[0;34m,\u001b[0m \u001b[0;34m*\u001b[0m\u001b[0margs\u001b[0m\u001b[0;34m)\u001b[0m\u001b[0;34m:\u001b[0m\u001b[0;34m\u001b[0m\u001b[0;34m\u001b[0m\u001b[0m\n\u001b[0;32m--> 453\u001b[0;31m         \u001b[0mFigureCanvasAgg\u001b[0m\u001b[0;34m.\u001b[0m\u001b[0mdraw\u001b[0m\u001b[0;34m(\u001b[0m\u001b[0mself\u001b[0m\u001b[0;34m)\u001b[0m\u001b[0;34m\u001b[0m\u001b[0;34m\u001b[0m\u001b[0m\n\u001b[0m\u001b[1;32m    454\u001b[0m         \u001b[0mrenderer\u001b[0m \u001b[0;34m=\u001b[0m \u001b[0mself\u001b[0m\u001b[0;34m.\u001b[0m\u001b[0mget_renderer\u001b[0m\u001b[0;34m(\u001b[0m\u001b[0;34m)\u001b[0m\u001b[0;34m\u001b[0m\u001b[0;34m\u001b[0m\u001b[0m\n",
      "\u001b[0;32m~/anaconda3/envs/py38/lib/python3.8/site-packages/matplotlib/backends/backend_agg.py\u001b[0m in \u001b[0;36mdraw\u001b[0;34m(self)\u001b[0m\n\u001b[1;32m    406\u001b[0m               else nullcontext()):\n\u001b[0;32m--> 407\u001b[0;31m             \u001b[0mself\u001b[0m\u001b[0;34m.\u001b[0m\u001b[0mfigure\u001b[0m\u001b[0;34m.\u001b[0m\u001b[0mdraw\u001b[0m\u001b[0;34m(\u001b[0m\u001b[0mself\u001b[0m\u001b[0;34m.\u001b[0m\u001b[0mrenderer\u001b[0m\u001b[0;34m)\u001b[0m\u001b[0;34m\u001b[0m\u001b[0;34m\u001b[0m\u001b[0m\n\u001b[0m\u001b[1;32m    408\u001b[0m             \u001b[0;31m# A GUI class may be need to update a window using this draw, so\u001b[0m\u001b[0;34m\u001b[0m\u001b[0;34m\u001b[0m\u001b[0;34m\u001b[0m\u001b[0m\n",
      "\u001b[0;32m~/anaconda3/envs/py38/lib/python3.8/site-packages/matplotlib/artist.py\u001b[0m in \u001b[0;36mdraw_wrapper\u001b[0;34m(artist, renderer, *args, **kwargs)\u001b[0m\n\u001b[1;32m     40\u001b[0m \u001b[0;34m\u001b[0m\u001b[0m\n\u001b[0;32m---> 41\u001b[0;31m             \u001b[0;32mreturn\u001b[0m \u001b[0mdraw\u001b[0m\u001b[0;34m(\u001b[0m\u001b[0martist\u001b[0m\u001b[0;34m,\u001b[0m \u001b[0mrenderer\u001b[0m\u001b[0;34m,\u001b[0m \u001b[0;34m*\u001b[0m\u001b[0margs\u001b[0m\u001b[0;34m,\u001b[0m \u001b[0;34m**\u001b[0m\u001b[0mkwargs\u001b[0m\u001b[0;34m)\u001b[0m\u001b[0;34m\u001b[0m\u001b[0;34m\u001b[0m\u001b[0m\n\u001b[0m\u001b[1;32m     42\u001b[0m         \u001b[0;32mfinally\u001b[0m\u001b[0;34m:\u001b[0m\u001b[0;34m\u001b[0m\u001b[0;34m\u001b[0m\u001b[0m\n",
      "\u001b[0;32m~/anaconda3/envs/py38/lib/python3.8/site-packages/matplotlib/figure.py\u001b[0m in \u001b[0;36mdraw\u001b[0;34m(self, renderer)\u001b[0m\n\u001b[1;32m   1862\u001b[0m             \u001b[0mself\u001b[0m\u001b[0;34m.\u001b[0m\u001b[0mpatch\u001b[0m\u001b[0;34m.\u001b[0m\u001b[0mdraw\u001b[0m\u001b[0;34m(\u001b[0m\u001b[0mrenderer\u001b[0m\u001b[0;34m)\u001b[0m\u001b[0;34m\u001b[0m\u001b[0;34m\u001b[0m\u001b[0m\n\u001b[0;32m-> 1863\u001b[0;31m             mimage._draw_list_compositing_images(\n\u001b[0m\u001b[1;32m   1864\u001b[0m                 renderer, self, artists, self.suppressComposite)\n",
      "\u001b[0;32m~/anaconda3/envs/py38/lib/python3.8/site-packages/matplotlib/image.py\u001b[0m in \u001b[0;36m_draw_list_compositing_images\u001b[0;34m(renderer, parent, artists, suppress_composite)\u001b[0m\n\u001b[1;32m    130\u001b[0m         \u001b[0;32mfor\u001b[0m \u001b[0ma\u001b[0m \u001b[0;32min\u001b[0m \u001b[0martists\u001b[0m\u001b[0;34m:\u001b[0m\u001b[0;34m\u001b[0m\u001b[0;34m\u001b[0m\u001b[0m\n\u001b[0;32m--> 131\u001b[0;31m             \u001b[0ma\u001b[0m\u001b[0;34m.\u001b[0m\u001b[0mdraw\u001b[0m\u001b[0;34m(\u001b[0m\u001b[0mrenderer\u001b[0m\u001b[0;34m)\u001b[0m\u001b[0;34m\u001b[0m\u001b[0;34m\u001b[0m\u001b[0m\n\u001b[0m\u001b[1;32m    132\u001b[0m     \u001b[0;32melse\u001b[0m\u001b[0;34m:\u001b[0m\u001b[0;34m\u001b[0m\u001b[0;34m\u001b[0m\u001b[0m\n",
      "\u001b[0;32m~/anaconda3/envs/py38/lib/python3.8/site-packages/matplotlib/artist.py\u001b[0m in \u001b[0;36mdraw_wrapper\u001b[0;34m(artist, renderer, *args, **kwargs)\u001b[0m\n\u001b[1;32m     40\u001b[0m \u001b[0;34m\u001b[0m\u001b[0m\n\u001b[0;32m---> 41\u001b[0;31m             \u001b[0;32mreturn\u001b[0m \u001b[0mdraw\u001b[0m\u001b[0;34m(\u001b[0m\u001b[0martist\u001b[0m\u001b[0;34m,\u001b[0m \u001b[0mrenderer\u001b[0m\u001b[0;34m,\u001b[0m \u001b[0;34m*\u001b[0m\u001b[0margs\u001b[0m\u001b[0;34m,\u001b[0m \u001b[0;34m**\u001b[0m\u001b[0mkwargs\u001b[0m\u001b[0;34m)\u001b[0m\u001b[0;34m\u001b[0m\u001b[0;34m\u001b[0m\u001b[0m\n\u001b[0m\u001b[1;32m     42\u001b[0m         \u001b[0;32mfinally\u001b[0m\u001b[0;34m:\u001b[0m\u001b[0;34m\u001b[0m\u001b[0;34m\u001b[0m\u001b[0m\n",
      "\u001b[0;32m~/anaconda3/envs/py38/lib/python3.8/site-packages/mpl_toolkits/mplot3d/axes3d.py\u001b[0m in \u001b[0;36mdraw\u001b[0;34m(self, renderer)\u001b[0m\n\u001b[1;32m    463\u001b[0m         \u001b[0;31m# Then rest\u001b[0m\u001b[0;34m\u001b[0m\u001b[0;34m\u001b[0m\u001b[0;34m\u001b[0m\u001b[0m\n\u001b[0;32m--> 464\u001b[0;31m         \u001b[0msuper\u001b[0m\u001b[0;34m(\u001b[0m\u001b[0;34m)\u001b[0m\u001b[0;34m.\u001b[0m\u001b[0mdraw\u001b[0m\u001b[0;34m(\u001b[0m\u001b[0mrenderer\u001b[0m\u001b[0;34m)\u001b[0m\u001b[0;34m\u001b[0m\u001b[0;34m\u001b[0m\u001b[0m\n\u001b[0m\u001b[1;32m    465\u001b[0m \u001b[0;34m\u001b[0m\u001b[0m\n",
      "\u001b[0;32m~/anaconda3/envs/py38/lib/python3.8/site-packages/matplotlib/artist.py\u001b[0m in \u001b[0;36mdraw_wrapper\u001b[0;34m(artist, renderer, *args, **kwargs)\u001b[0m\n\u001b[1;32m     40\u001b[0m \u001b[0;34m\u001b[0m\u001b[0m\n\u001b[0;32m---> 41\u001b[0;31m             \u001b[0;32mreturn\u001b[0m \u001b[0mdraw\u001b[0m\u001b[0;34m(\u001b[0m\u001b[0martist\u001b[0m\u001b[0;34m,\u001b[0m \u001b[0mrenderer\u001b[0m\u001b[0;34m,\u001b[0m \u001b[0;34m*\u001b[0m\u001b[0margs\u001b[0m\u001b[0;34m,\u001b[0m \u001b[0;34m**\u001b[0m\u001b[0mkwargs\u001b[0m\u001b[0;34m)\u001b[0m\u001b[0;34m\u001b[0m\u001b[0;34m\u001b[0m\u001b[0m\n\u001b[0m\u001b[1;32m     42\u001b[0m         \u001b[0;32mfinally\u001b[0m\u001b[0;34m:\u001b[0m\u001b[0;34m\u001b[0m\u001b[0;34m\u001b[0m\u001b[0m\n",
      "\u001b[0;32m~/anaconda3/envs/py38/lib/python3.8/site-packages/matplotlib/cbook/deprecation.py\u001b[0m in \u001b[0;36mwrapper\u001b[0;34m(*inner_args, **inner_kwargs)\u001b[0m\n\u001b[1;32m    410\u001b[0m                 **kwargs)\n\u001b[0;32m--> 411\u001b[0;31m         \u001b[0;32mreturn\u001b[0m \u001b[0mfunc\u001b[0m\u001b[0;34m(\u001b[0m\u001b[0;34m*\u001b[0m\u001b[0minner_args\u001b[0m\u001b[0;34m,\u001b[0m \u001b[0;34m**\u001b[0m\u001b[0minner_kwargs\u001b[0m\u001b[0;34m)\u001b[0m\u001b[0;34m\u001b[0m\u001b[0;34m\u001b[0m\u001b[0m\n\u001b[0m\u001b[1;32m    412\u001b[0m \u001b[0;34m\u001b[0m\u001b[0m\n",
      "\u001b[0;32m~/anaconda3/envs/py38/lib/python3.8/site-packages/matplotlib/axes/_base.py\u001b[0m in \u001b[0;36mdraw\u001b[0;34m(self, renderer, inframe)\u001b[0m\n\u001b[1;32m   2746\u001b[0m \u001b[0;34m\u001b[0m\u001b[0m\n\u001b[0;32m-> 2747\u001b[0;31m         \u001b[0mmimage\u001b[0m\u001b[0;34m.\u001b[0m\u001b[0m_draw_list_compositing_images\u001b[0m\u001b[0;34m(\u001b[0m\u001b[0mrenderer\u001b[0m\u001b[0;34m,\u001b[0m \u001b[0mself\u001b[0m\u001b[0;34m,\u001b[0m \u001b[0martists\u001b[0m\u001b[0;34m)\u001b[0m\u001b[0;34m\u001b[0m\u001b[0;34m\u001b[0m\u001b[0m\n\u001b[0m\u001b[1;32m   2748\u001b[0m \u001b[0;34m\u001b[0m\u001b[0m\n",
      "\u001b[0;32m~/anaconda3/envs/py38/lib/python3.8/site-packages/matplotlib/image.py\u001b[0m in \u001b[0;36m_draw_list_compositing_images\u001b[0;34m(renderer, parent, artists, suppress_composite)\u001b[0m\n\u001b[1;32m    130\u001b[0m         \u001b[0;32mfor\u001b[0m \u001b[0ma\u001b[0m \u001b[0;32min\u001b[0m \u001b[0martists\u001b[0m\u001b[0;34m:\u001b[0m\u001b[0;34m\u001b[0m\u001b[0;34m\u001b[0m\u001b[0m\n\u001b[0;32m--> 131\u001b[0;31m             \u001b[0ma\u001b[0m\u001b[0;34m.\u001b[0m\u001b[0mdraw\u001b[0m\u001b[0;34m(\u001b[0m\u001b[0mrenderer\u001b[0m\u001b[0;34m)\u001b[0m\u001b[0;34m\u001b[0m\u001b[0;34m\u001b[0m\u001b[0m\n\u001b[0m\u001b[1;32m    132\u001b[0m     \u001b[0;32melse\u001b[0m\u001b[0;34m:\u001b[0m\u001b[0;34m\u001b[0m\u001b[0;34m\u001b[0m\u001b[0m\n",
      "\u001b[0;32m~/anaconda3/envs/py38/lib/python3.8/site-packages/matplotlib/artist.py\u001b[0m in \u001b[0;36mdraw_wrapper\u001b[0;34m(artist, renderer, *args, **kwargs)\u001b[0m\n\u001b[1;32m     40\u001b[0m \u001b[0;34m\u001b[0m\u001b[0m\n\u001b[0;32m---> 41\u001b[0;31m             \u001b[0;32mreturn\u001b[0m \u001b[0mdraw\u001b[0m\u001b[0;34m(\u001b[0m\u001b[0martist\u001b[0m\u001b[0;34m,\u001b[0m \u001b[0mrenderer\u001b[0m\u001b[0;34m,\u001b[0m \u001b[0;34m*\u001b[0m\u001b[0margs\u001b[0m\u001b[0;34m,\u001b[0m \u001b[0;34m**\u001b[0m\u001b[0mkwargs\u001b[0m\u001b[0;34m)\u001b[0m\u001b[0;34m\u001b[0m\u001b[0;34m\u001b[0m\u001b[0m\n\u001b[0m\u001b[1;32m     42\u001b[0m         \u001b[0;32mfinally\u001b[0m\u001b[0;34m:\u001b[0m\u001b[0;34m\u001b[0m\u001b[0;34m\u001b[0m\u001b[0m\n",
      "\u001b[0;32m~/anaconda3/envs/py38/lib/python3.8/site-packages/matplotlib/collections.py\u001b[0m in \u001b[0;36mdraw\u001b[0;34m(self, renderer)\u001b[0m\n\u001b[1;32m    930\u001b[0m         \u001b[0mself\u001b[0m\u001b[0;34m.\u001b[0m\u001b[0mset_sizes\u001b[0m\u001b[0;34m(\u001b[0m\u001b[0mself\u001b[0m\u001b[0;34m.\u001b[0m\u001b[0m_sizes\u001b[0m\u001b[0;34m,\u001b[0m \u001b[0mself\u001b[0m\u001b[0;34m.\u001b[0m\u001b[0mfigure\u001b[0m\u001b[0;34m.\u001b[0m\u001b[0mdpi\u001b[0m\u001b[0;34m)\u001b[0m\u001b[0;34m\u001b[0m\u001b[0;34m\u001b[0m\u001b[0m\n\u001b[0;32m--> 931\u001b[0;31m         \u001b[0mCollection\u001b[0m\u001b[0;34m.\u001b[0m\u001b[0mdraw\u001b[0m\u001b[0;34m(\u001b[0m\u001b[0mself\u001b[0m\u001b[0;34m,\u001b[0m \u001b[0mrenderer\u001b[0m\u001b[0;34m)\u001b[0m\u001b[0;34m\u001b[0m\u001b[0;34m\u001b[0m\u001b[0m\n\u001b[0m\u001b[1;32m    932\u001b[0m \u001b[0;34m\u001b[0m\u001b[0m\n",
      "\u001b[0;32m~/anaconda3/envs/py38/lib/python3.8/site-packages/matplotlib/artist.py\u001b[0m in \u001b[0;36mdraw_wrapper\u001b[0;34m(artist, renderer, *args, **kwargs)\u001b[0m\n\u001b[1;32m     40\u001b[0m \u001b[0;34m\u001b[0m\u001b[0m\n\u001b[0;32m---> 41\u001b[0;31m             \u001b[0;32mreturn\u001b[0m \u001b[0mdraw\u001b[0m\u001b[0;34m(\u001b[0m\u001b[0martist\u001b[0m\u001b[0;34m,\u001b[0m \u001b[0mrenderer\u001b[0m\u001b[0;34m,\u001b[0m \u001b[0;34m*\u001b[0m\u001b[0margs\u001b[0m\u001b[0;34m,\u001b[0m \u001b[0;34m**\u001b[0m\u001b[0mkwargs\u001b[0m\u001b[0;34m)\u001b[0m\u001b[0;34m\u001b[0m\u001b[0;34m\u001b[0m\u001b[0m\n\u001b[0m\u001b[1;32m     42\u001b[0m         \u001b[0;32mfinally\u001b[0m\u001b[0;34m:\u001b[0m\u001b[0;34m\u001b[0m\u001b[0;34m\u001b[0m\u001b[0m\n",
      "\u001b[0;32m~/anaconda3/envs/py38/lib/python3.8/site-packages/matplotlib/collections.py\u001b[0m in \u001b[0;36mdraw\u001b[0;34m(self, renderer)\u001b[0m\n\u001b[1;32m    384\u001b[0m                 \u001b[0mcombined_transform\u001b[0m \u001b[0;34m=\u001b[0m \u001b[0mtransform\u001b[0m\u001b[0;34m\u001b[0m\u001b[0;34m\u001b[0m\u001b[0m\n\u001b[0;32m--> 385\u001b[0;31m             \u001b[0mextents\u001b[0m \u001b[0;34m=\u001b[0m \u001b[0mpaths\u001b[0m\u001b[0;34m[\u001b[0m\u001b[0;36m0\u001b[0m\u001b[0;34m]\u001b[0m\u001b[0;34m.\u001b[0m\u001b[0mget_extents\u001b[0m\u001b[0;34m(\u001b[0m\u001b[0mcombined_transform\u001b[0m\u001b[0;34m)\u001b[0m\u001b[0;34m\u001b[0m\u001b[0;34m\u001b[0m\u001b[0m\n\u001b[0m\u001b[1;32m    386\u001b[0m             if (extents.width < self.figure.bbox.width\n",
      "\u001b[0;32m~/anaconda3/envs/py38/lib/python3.8/site-packages/matplotlib/path.py\u001b[0m in \u001b[0;36mget_extents\u001b[0;34m(self, transform, **kwargs)\u001b[0m\n\u001b[1;32m    600\u001b[0m                 \u001b[0;31m# as can the ends of the curve\u001b[0m\u001b[0;34m\u001b[0m\u001b[0;34m\u001b[0m\u001b[0;34m\u001b[0m\u001b[0m\n\u001b[0;32m--> 601\u001b[0;31m                 \u001b[0mxys\u001b[0m\u001b[0;34m.\u001b[0m\u001b[0mappend\u001b[0m\u001b[0;34m(\u001b[0m\u001b[0mcurve\u001b[0m\u001b[0;34m(\u001b[0m\u001b[0;34m[\u001b[0m\u001b[0;36m0\u001b[0m\u001b[0;34m,\u001b[0m \u001b[0;34m*\u001b[0m\u001b[0mdzeros\u001b[0m\u001b[0;34m,\u001b[0m \u001b[0;36m1\u001b[0m\u001b[0;34m]\u001b[0m\u001b[0;34m)\u001b[0m\u001b[0;34m)\u001b[0m\u001b[0;34m\u001b[0m\u001b[0;34m\u001b[0m\u001b[0m\n\u001b[0m\u001b[1;32m    602\u001b[0m             \u001b[0mxys\u001b[0m \u001b[0;34m=\u001b[0m \u001b[0mnp\u001b[0m\u001b[0;34m.\u001b[0m\u001b[0mconcatenate\u001b[0m\u001b[0;34m(\u001b[0m\u001b[0mxys\u001b[0m\u001b[0;34m)\u001b[0m\u001b[0;34m\u001b[0m\u001b[0;34m\u001b[0m\u001b[0m\n",
      "\u001b[0;32m~/anaconda3/envs/py38/lib/python3.8/site-packages/matplotlib/bezier.py\u001b[0m in \u001b[0;36m__call__\u001b[0;34m(self, t)\u001b[0m\n\u001b[1;32m    214\u001b[0m         \"\"\"\n\u001b[0;32m--> 215\u001b[0;31m         \u001b[0mt\u001b[0m \u001b[0;34m=\u001b[0m \u001b[0mnp\u001b[0m\u001b[0;34m.\u001b[0m\u001b[0masarray\u001b[0m\u001b[0;34m(\u001b[0m\u001b[0mt\u001b[0m\u001b[0;34m)\u001b[0m\u001b[0;34m\u001b[0m\u001b[0;34m\u001b[0m\u001b[0m\n\u001b[0m\u001b[1;32m    216\u001b[0m         return (np.power.outer(1 - t, self._orders[::-1])\n",
      "\u001b[0;32m~/anaconda3/envs/py38/lib/python3.8/site-packages/numpy/core/_asarray.py\u001b[0m in \u001b[0;36masarray\u001b[0;34m(a, dtype, order)\u001b[0m\n\u001b[1;32m     82\u001b[0m     \"\"\"\n\u001b[0;32m---> 83\u001b[0;31m     \u001b[0;32mreturn\u001b[0m \u001b[0marray\u001b[0m\u001b[0;34m(\u001b[0m\u001b[0ma\u001b[0m\u001b[0;34m,\u001b[0m \u001b[0mdtype\u001b[0m\u001b[0;34m,\u001b[0m \u001b[0mcopy\u001b[0m\u001b[0;34m=\u001b[0m\u001b[0;32mFalse\u001b[0m\u001b[0;34m,\u001b[0m \u001b[0morder\u001b[0m\u001b[0;34m=\u001b[0m\u001b[0morder\u001b[0m\u001b[0;34m)\u001b[0m\u001b[0;34m\u001b[0m\u001b[0;34m\u001b[0m\u001b[0m\n\u001b[0m\u001b[1;32m     84\u001b[0m \u001b[0;34m\u001b[0m\u001b[0m\n",
      "\u001b[0;31mKeyboardInterrupt\u001b[0m: ",
      "\nDuring handling of the above exception, another exception occurred:\n",
      "\u001b[0;31mCalledProcessError\u001b[0m                        Traceback (most recent call last)",
      "\u001b[0;32m<ipython-input-247-a058fffed782>\u001b[0m in \u001b[0;36m<module>\u001b[0;34m\u001b[0m\n\u001b[1;32m     21\u001b[0m \u001b[0;34m\u001b[0m\u001b[0m\n\u001b[1;32m     22\u001b[0m \u001b[0mdata\u001b[0m \u001b[0;34m=\u001b[0m \u001b[0mnp\u001b[0m\u001b[0;34m.\u001b[0m\u001b[0mswapaxes\u001b[0m\u001b[0;34m(\u001b[0m\u001b[0mcartesian_states\u001b[0m\u001b[0;34m,\u001b[0m\u001b[0;36m0\u001b[0m\u001b[0;34m,\u001b[0m\u001b[0;36m1\u001b[0m\u001b[0;34m)\u001b[0m\u001b[0;34m[\u001b[0m\u001b[0;36m0\u001b[0m\u001b[0;34m,\u001b[0m \u001b[0;34m:\u001b[0m\u001b[0;34m,\u001b[0m \u001b[0;34m:\u001b[0m\u001b[0;34m,\u001b[0m \u001b[0;34m:\u001b[0m\u001b[0;34m]\u001b[0m\u001b[0;34m\u001b[0m\u001b[0;34m\u001b[0m\u001b[0m\n\u001b[0;32m---> 23\u001b[0;31m \u001b[0mvis\u001b[0m\u001b[0;34m.\u001b[0m\u001b[0mgenerate_visualization\u001b[0m\u001b[0;34m(\u001b[0m\u001b[0mdata\u001b[0m\u001b[0;34m,\u001b[0m \u001b[0;34m\"Ellipsoid\"\u001b[0m\u001b[0;34m)\u001b[0m\u001b[0;34m\u001b[0m\u001b[0;34m\u001b[0m\u001b[0m\n\u001b[0m",
      "\u001b[0;32m~/Developer/Thesis/Thesis/visualize_deb.py\u001b[0m in \u001b[0;36mgenerate_visualization\u001b[0;34m(data, title)\u001b[0m\n\u001b[1;32m     66\u001b[0m     \u001b[0mwritervideo\u001b[0m \u001b[0;34m=\u001b[0m \u001b[0mFFMpegWriter\u001b[0m\u001b[0;34m(\u001b[0m\u001b[0mfps\u001b[0m\u001b[0;34m=\u001b[0m\u001b[0;36m5\u001b[0m\u001b[0;34m)\u001b[0m\u001b[0;34m\u001b[0m\u001b[0;34m\u001b[0m\u001b[0m\n\u001b[1;32m     67\u001b[0m     \u001b[0mname\u001b[0m \u001b[0;34m=\u001b[0m  \u001b[0mtitle\u001b[0m \u001b[0;34m+\u001b[0m \u001b[0;34m\".mp4\"\u001b[0m\u001b[0;34m\u001b[0m\u001b[0;34m\u001b[0m\u001b[0m\n\u001b[0;32m---> 68\u001b[0;31m     \u001b[0mani\u001b[0m\u001b[0;34m.\u001b[0m\u001b[0msave\u001b[0m\u001b[0;34m(\u001b[0m\u001b[0mname\u001b[0m\u001b[0;34m,\u001b[0m \u001b[0mwriter\u001b[0m\u001b[0;34m=\u001b[0m\u001b[0mwritervideo\u001b[0m\u001b[0;34m)\u001b[0m\u001b[0;34m\u001b[0m\u001b[0;34m\u001b[0m\u001b[0m\n\u001b[0m",
      "\u001b[0;32m~/anaconda3/envs/py38/lib/python3.8/site-packages/matplotlib/animation.py\u001b[0m in \u001b[0;36msave\u001b[0;34m(self, filename, writer, fps, dpi, codec, bitrate, extra_args, metadata, extra_anim, savefig_kwargs, progress_callback)\u001b[0m\n\u001b[1;32m   1143\u001b[0m                         \u001b[0mprogress_callback\u001b[0m\u001b[0;34m(\u001b[0m\u001b[0mframe_number\u001b[0m\u001b[0;34m,\u001b[0m \u001b[0mtotal_frames\u001b[0m\u001b[0;34m)\u001b[0m\u001b[0;34m\u001b[0m\u001b[0;34m\u001b[0m\u001b[0m\n\u001b[1;32m   1144\u001b[0m                         \u001b[0mframe_number\u001b[0m \u001b[0;34m+=\u001b[0m \u001b[0;36m1\u001b[0m\u001b[0;34m\u001b[0m\u001b[0;34m\u001b[0m\u001b[0m\n\u001b[0;32m-> 1145\u001b[0;31m                 \u001b[0mwriter\u001b[0m\u001b[0;34m.\u001b[0m\u001b[0mgrab_frame\u001b[0m\u001b[0;34m(\u001b[0m\u001b[0;34m**\u001b[0m\u001b[0msavefig_kwargs\u001b[0m\u001b[0;34m)\u001b[0m\u001b[0;34m\u001b[0m\u001b[0;34m\u001b[0m\u001b[0m\n\u001b[0m\u001b[1;32m   1146\u001b[0m \u001b[0;34m\u001b[0m\u001b[0m\n\u001b[1;32m   1147\u001b[0m     \u001b[0;32mdef\u001b[0m \u001b[0m_step\u001b[0m\u001b[0;34m(\u001b[0m\u001b[0mself\u001b[0m\u001b[0;34m,\u001b[0m \u001b[0;34m*\u001b[0m\u001b[0margs\u001b[0m\u001b[0;34m)\u001b[0m\u001b[0;34m:\u001b[0m\u001b[0;34m\u001b[0m\u001b[0;34m\u001b[0m\u001b[0m\n",
      "\u001b[0;32m~/anaconda3/envs/py38/lib/python3.8/contextlib.py\u001b[0m in \u001b[0;36m__exit__\u001b[0;34m(self, type, value, traceback)\u001b[0m\n\u001b[1;32m    129\u001b[0m                 \u001b[0mvalue\u001b[0m \u001b[0;34m=\u001b[0m \u001b[0mtype\u001b[0m\u001b[0;34m(\u001b[0m\u001b[0;34m)\u001b[0m\u001b[0;34m\u001b[0m\u001b[0;34m\u001b[0m\u001b[0m\n\u001b[1;32m    130\u001b[0m             \u001b[0;32mtry\u001b[0m\u001b[0;34m:\u001b[0m\u001b[0;34m\u001b[0m\u001b[0;34m\u001b[0m\u001b[0m\n\u001b[0;32m--> 131\u001b[0;31m                 \u001b[0mself\u001b[0m\u001b[0;34m.\u001b[0m\u001b[0mgen\u001b[0m\u001b[0;34m.\u001b[0m\u001b[0mthrow\u001b[0m\u001b[0;34m(\u001b[0m\u001b[0mtype\u001b[0m\u001b[0;34m,\u001b[0m \u001b[0mvalue\u001b[0m\u001b[0;34m,\u001b[0m \u001b[0mtraceback\u001b[0m\u001b[0;34m)\u001b[0m\u001b[0;34m\u001b[0m\u001b[0;34m\u001b[0m\u001b[0m\n\u001b[0m\u001b[1;32m    132\u001b[0m             \u001b[0;32mexcept\u001b[0m \u001b[0mStopIteration\u001b[0m \u001b[0;32mas\u001b[0m \u001b[0mexc\u001b[0m\u001b[0;34m:\u001b[0m\u001b[0;34m\u001b[0m\u001b[0;34m\u001b[0m\u001b[0m\n\u001b[1;32m    133\u001b[0m                 \u001b[0;31m# Suppress StopIteration *unless* it's the same exception that\u001b[0m\u001b[0;34m\u001b[0m\u001b[0;34m\u001b[0m\u001b[0;34m\u001b[0m\u001b[0m\n",
      "\u001b[0;32m~/anaconda3/envs/py38/lib/python3.8/site-packages/matplotlib/animation.py\u001b[0m in \u001b[0;36msaving\u001b[0;34m(self, fig, outfile, dpi, *args, **kwargs)\u001b[0m\n\u001b[1;32m    251\u001b[0m             \u001b[0;32myield\u001b[0m \u001b[0mself\u001b[0m\u001b[0;34m\u001b[0m\u001b[0;34m\u001b[0m\u001b[0m\n\u001b[1;32m    252\u001b[0m         \u001b[0;32mfinally\u001b[0m\u001b[0;34m:\u001b[0m\u001b[0;34m\u001b[0m\u001b[0;34m\u001b[0m\u001b[0m\n\u001b[0;32m--> 253\u001b[0;31m             \u001b[0mself\u001b[0m\u001b[0;34m.\u001b[0m\u001b[0mfinish\u001b[0m\u001b[0;34m(\u001b[0m\u001b[0;34m)\u001b[0m\u001b[0;34m\u001b[0m\u001b[0;34m\u001b[0m\u001b[0m\n\u001b[0m\u001b[1;32m    254\u001b[0m \u001b[0;34m\u001b[0m\u001b[0m\n\u001b[1;32m    255\u001b[0m \u001b[0;34m\u001b[0m\u001b[0m\n",
      "\u001b[0;32m~/anaconda3/envs/py38/lib/python3.8/site-packages/matplotlib/animation.py\u001b[0m in \u001b[0;36mfinish\u001b[0;34m(self)\u001b[0m\n\u001b[1;32m    352\u001b[0m     \u001b[0;32mdef\u001b[0m \u001b[0mfinish\u001b[0m\u001b[0;34m(\u001b[0m\u001b[0mself\u001b[0m\u001b[0;34m)\u001b[0m\u001b[0;34m:\u001b[0m\u001b[0;34m\u001b[0m\u001b[0;34m\u001b[0m\u001b[0m\n\u001b[1;32m    353\u001b[0m         \u001b[0;34m\"\"\"Finish any processing for writing the movie.\"\"\"\u001b[0m\u001b[0;34m\u001b[0m\u001b[0;34m\u001b[0m\u001b[0m\n\u001b[0;32m--> 354\u001b[0;31m         \u001b[0mself\u001b[0m\u001b[0;34m.\u001b[0m\u001b[0mcleanup\u001b[0m\u001b[0;34m(\u001b[0m\u001b[0;34m)\u001b[0m\u001b[0;34m\u001b[0m\u001b[0;34m\u001b[0m\u001b[0m\n\u001b[0m\u001b[1;32m    355\u001b[0m \u001b[0;34m\u001b[0m\u001b[0m\n\u001b[1;32m    356\u001b[0m     \u001b[0;32mdef\u001b[0m \u001b[0mgrab_frame\u001b[0m\u001b[0;34m(\u001b[0m\u001b[0mself\u001b[0m\u001b[0;34m,\u001b[0m \u001b[0;34m**\u001b[0m\u001b[0msavefig_kwargs\u001b[0m\u001b[0;34m)\u001b[0m\u001b[0;34m:\u001b[0m\u001b[0;34m\u001b[0m\u001b[0;34m\u001b[0m\u001b[0m\n",
      "\u001b[0;32m~/anaconda3/envs/py38/lib/python3.8/site-packages/matplotlib/animation.py\u001b[0m in \u001b[0;36mcleanup\u001b[0;34m(self)\u001b[0m\n\u001b[1;32m    388\u001b[0m                 \"MovieWriter stderr:\\n%s\", err)\n\u001b[1;32m    389\u001b[0m         \u001b[0;32mif\u001b[0m \u001b[0mself\u001b[0m\u001b[0;34m.\u001b[0m\u001b[0m_proc\u001b[0m\u001b[0;34m.\u001b[0m\u001b[0mreturncode\u001b[0m\u001b[0;34m:\u001b[0m\u001b[0;34m\u001b[0m\u001b[0;34m\u001b[0m\u001b[0m\n\u001b[0;32m--> 390\u001b[0;31m             raise subprocess.CalledProcessError(\n\u001b[0m\u001b[1;32m    391\u001b[0m                 self._proc.returncode, self._proc.args, out, err)\n\u001b[1;32m    392\u001b[0m \u001b[0;34m\u001b[0m\u001b[0m\n",
      "\u001b[0;31mCalledProcessError\u001b[0m: Command '['ffmpeg', '-f', 'rawvideo', '-vcodec', 'rawvideo', '-s', '1280x960', '-pix_fmt', 'rgba', '-r', '5', '-loglevel', 'error', '-i', 'pipe:', '-vcodec', 'h264', '-pix_fmt', 'yuv420p', '-y', 'Ellipsoid.mp4']' returned non-zero exit status 255."
     ]
    }
   ],
   "source": [
    "import visualize_deb as vis\n",
    "reload(vis)\n",
    "\n",
    "# Remove data for debris that have a periapsis less than or equal to earh radius\n",
    "periapsis = keplerian_states[0, :] * (1 - keplerian_states[1, :])\n",
    "indexes = np.argwhere(periapsis > 6371)\n",
    "\n",
    "pruned_ks = np.squeeze(keplerian_states[:, indexes])\n",
    "pruned_nu = true_anomalies_vs_time[:, indexes][:, :, 0]\n",
    "\n",
    "cartesian_states = np.empty(shape=(len(times), 2, pruned_ks.T.shape[0], 3))\n",
    "for i in prange(len(times)):\n",
    "    cartesian_state = np.array(coe2rv_many(k=grav_param_earth,\n",
    "                              p=pruned_ks[7, :],\n",
    "                              ecc=pruned_ks[1, :],\n",
    "                              inc=pruned_ks[2, :],\n",
    "                              raan=pruned_ks[3, :],\n",
    "                              argp=pruned_ks[4, :],\n",
    "                              nu=pruned_nu[i, :]))\n",
    "    cartesian_states[i] = cartesian_state\n",
    "                                        \n",
    "data = np.swapaxes(cartesian_states,0,1)[0, :, :, :]\n",
    "#vis.generate_visualization(data, \"Ellipsoid\")\n"
   ]
  },
  {
   "cell_type": "markdown",
   "metadata": {},
   "source": [
    "<h4>3.4.1 Ellisoid visual</h4>"
   ]
  },
  {
   "cell_type": "code",
   "execution_count": 253,
   "metadata": {},
   "outputs": [],
   "source": [
    "info = data[0, :, :]\n",
    "fig = plt.figure()\n",
    "ax = fig.add_subplot(111, projection='3d')\n",
    "ax.scatter(info[:, 0], info[:, 1], info[:, 2], c='r', marker='o')\n",
    "plt.show()"
   ]
  },
  {
   "cell_type": "markdown",
   "metadata": {},
   "source": [
    "ASK ABOUT CELL BELOW"
   ]
  },
  {
   "cell_type": "code",
   "execution_count": 227,
   "metadata": {},
   "outputs": [
    {
     "name": "stdout",
     "output_type": "stream",
     "text": [
      "0\n",
      "0\n",
      "440\n"
     ]
    }
   ],
   "source": [
    "# Determining why orbits are dropping into Earth\n",
    "\n",
    "# TESTING THE CARTESIAN IMPLEMENTATION, SHOULD MATCH THE KEPLERIAN IMPLEMENTATION\n",
    "\n",
    "# Picking out the closest that each fragment will be during the 11 timesteps\n",
    "norms = np.linalg.norm(cartesian_states[:, 0, :, :], axis = 2)\n",
    "periapsis = np.min(norms, axis=0)\n",
    "indexes = np.argwhere(periapsis < 6371)\n",
    "print(len(indexes))\n",
    "\n",
    "# # TESTING THE KEPLERIAN IMPLEMENTATION\n",
    "periapsis2 = pruned_ks[0, :] * (1 - pruned_ks[1, :])\n",
    "indexes2 = np.argwhere(periapsis2 < 6371)\n",
    "print(len(indexes2))\n",
    "\n",
    "# # Differences\n",
    "print(np.count_nonzero(np.abs(periapsis2 - periapsis) > 5))\n",
    "\n",
    "# # Almost half of the computed periapsis have a diff of more than 5, not sure whats going on"
   ]
  },
  {
   "cell_type": "markdown",
   "metadata": {},
   "source": [
    "<h3> Implementing drag </h3>\n",
    "\n",
    "\"where cd is the drag coefficient of the fragment, which is assumed to be constant and equal to 2.2 (Valdo)\""
   ]
  },
  {
   "cell_type": "code",
   "execution_count": null,
   "metadata": {},
   "outputs": [],
   "source": [
    "from scipy.special import iv\n",
    "\n",
    "\n",
    "radius_earth = 6371 # km \n",
    "def deda_dt(t, state, A, M):    \n",
    "    \n",
    "    e, a = state.copy().reshape((2, len(A))) # Needed to be copied why?\n",
    "    \n",
    "    I = a*(1-e) < radius_earth + 50 # 50 km above earth sats are doomed \n",
    "    a[I] = 0\n",
    "    e[I] = 0\n",
    "    \n",
    "    \"\"\"Returns differential equation modeling drag on each piece of debris\n",
    "    Args:\n",
    "        M (array): Mass\n",
    "        e (array): Eccentricity\n",
    "        A (array): Cross-sectionl Area\n",
    "        a (array): Semi-Major Axis\n",
    "        r (array): Position\n",
    "    \"\"\"\n",
    "    c_d = 2.2 # Drag coefficient\n",
    "    drag_coef = (-(c_d * A) / M)\n",
    "    \n",
    "    atm_density = atmosphere_density(a - radius_earth)\n",
    "    #atm_density[np.argwhere(np.isnan(atm_density))] = 0\n",
    "    \n",
    "    # dedt\n",
    "    dedt = np.zeros_like(e)\n",
    "    I    = (e>=0.001)\n",
    "    dedt[I] = (drag_coef[I] * np.sqrt(grav_param_earth / a[I]) * atm_density[I])\n",
    "    I    = I & (e<0.01)\n",
    "    x    = (a[I] * e[I]) / scale_height(a[I])\n",
    "    dedt[I] *= iv(1,x) + (e[I]/2)*(iv(0,x) + iv(2,x))\n",
    "    \n",
    "    # dadt\n",
    "    dadt = np.empty_like(a)                          \n",
    "    dadt = drag_coef * np.sqrt(grav_param_earth * a) * atm_density\n",
    "\n",
    "    I    = (e>=0.001) & (e < 0.01)\n",
    "    x    = (a[I] * e[I]) / scale_height(a[I])\n",
    "    dadt[I] *= (iv(0,x) + 2*e[I]*iv(1,x))\n",
    "    I = (e >= 0.01)\n",
    "    x    = (a[I] * e[I]) / scale_height(a[I])    \n",
    "    dadt[I] *= iv(0, x) + 2*e[I]*iv(1, x) + (3/4)*e[I]**2*(iv(0, x) + iv(2, x)) + (e[I]**3/4)*(3*iv(1, x) + iv(3, x))\n",
    "    \n",
    "    dedt[np.argwhere(np.isnan(dedt))] = 0\n",
    "    dadt[np.argwhere(np.isnan(dadt))] = 0\n",
    "    \n",
    "    output = np.hstack((dedt, dadt))\n",
    "    \n",
    "    return output"
   ]
  },
  {
   "cell_type": "code",
   "execution_count": null,
   "metadata": {},
   "outputs": [],
   "source": [
    "state = np.concatenate((keplerian_states[1, :], keplerian_states[0, :]))\n"
   ]
  },
  {
   "cell_type": "code",
   "execution_count": null,
   "metadata": {},
   "outputs": [],
   "source": [
    "times = np.linspace(0, T[0]*5, 2)\n",
    "output = integrate.solve_ivp(deda_dt, times, state, t_eval = times, args = (areas, masses), vectorized=True)"
   ]
  },
  {
   "cell_type": "code",
   "execution_count": null,
   "metadata": {
    "scrolled": false
   },
   "outputs": [],
   "source": [
    "de = output.y[0:len(areas), :]\n",
    "da = output.y[len(areas):output.y.shape[0], :]"
   ]
  },
  {
   "cell_type": "code",
   "execution_count": null,
   "metadata": {},
   "outputs": [],
   "source": [
    "print(keplerian_states[1,0])\n",
    "print(de[0, :])"
   ]
  },
  {
   "cell_type": "code",
   "execution_count": null,
   "metadata": {},
   "outputs": [],
   "source": [
    "periapsis = keplerian_states[0, :] * (1 - keplerian_states[1, :])\n",
    "print( np.sum(periapsis < 6378) / np.sum(periapsis >= 6378))"
   ]
  },
  {
   "cell_type": "markdown",
   "metadata": {},
   "source": [
    "# NEED TO ASK ABOUT INTEGRATION AND ARRAY FRIENDLY CONVERSION\n",
    "<h3>3.6 Performing the integration </h3>"
   ]
  },
  {
   "cell_type": "markdown",
   "metadata": {},
   "source": [
    "<h1>4. Visualization </h1>"
   ]
  },
  {
   "cell_type": "code",
   "execution_count": null,
   "metadata": {},
   "outputs": [],
   "source": [
    "# Creating 3D plot showing orbital information\n",
    "# earth_radius = 6378.0 #km\n",
    "\n",
    "# def create_3D_plot():\n",
    "#     theta = np.linspace(0,2*np.pi, 360)\n",
    "#     r = (a*(1-eccentricities_mag**2))/(1+eccentricities_mag*np.cos(theta)[:, None])\n",
    "#     plt.polar(theta, r)\n",
    "#     plt.show()\n",
    "# #     fig = plt.figure()\n",
    "# #     ax = fig.add_subplot(111, projection=\"3d\")\n",
    "    \n",
    "# #     # Plot central body\n",
    "# #     _u, _v = np.mgrid[0:2*np.pi:20j, 0:np.pi:10j]\n",
    "# #     _x = earth_radius*np.cos(_u)*np.sin(_v)\n",
    "# #     _y = earth_radius*np.sin(_u)*np.sin(_v)\n",
    "# #     _z = earth_radius*np.cos(_v)\n",
    "# #     ax.plot_surface(_x, _y, _z, cmap=cm.hot)\n",
    "    \n",
    "# #     # Plot axis\n",
    "# #     unit = earth_radius * 2\n",
    "# #     x,y,z = [[0, 0, 0], [0, 0, 0], [0, 0, 0]]\n",
    "# #     u, v, w =[[unit, 0, 0], [0, unit, 0], [0, 0, unit]]\n",
    "# #     ax.quiver(x,y,z, u, v, w, color='k')\n",
    "    \n",
    "# #     ax.set_xlim([-2.1*earth_radius, 2.1*earth_radius])\n",
    "# #     ax.set_ylim([-2.1*earth_radius, 2.1*earth_radius])\n",
    "# #     ax.set_zlim([-2.1*earth_radius, 2.1*earth_radius])\n",
    "    \n",
    "# #     # Plot debris\n",
    "# #     posititions_subset = positions[:, :1, :]\n",
    "# #     ax.scatter(posititions_subset[:, :, 0], posititions_subset[:, :, 1], posititions_subset[:, : ,2], 'k', label=\"Debris\")    \n",
    "# #     plt.show()\n",
    "    \n",
    "# create_3D_plot()"
   ]
  },
  {
   "cell_type": "code",
   "execution_count": null,
   "metadata": {},
   "outputs": [],
   "source": []
  },
  {
   "cell_type": "code",
   "execution_count": null,
   "metadata": {},
   "outputs": [],
   "source": []
  },
  {
   "cell_type": "code",
   "execution_count": null,
   "metadata": {},
   "outputs": [],
   "source": []
  },
  {
   "cell_type": "code",
   "execution_count": null,
   "metadata": {},
   "outputs": [],
   "source": [
    "# import mpl_toolkits.mplot3d.axes3d as p3\n",
    "# from matplotlib.animation import FuncAnimation\n",
    "# from matplotlib.animation import FFMpegWriter\n",
    "\n",
    "# data = cartesian_state[0, :, :1000, :]\n",
    "\n",
    "# def animate_scatters(iteration, data, scatters):\n",
    "#     \"\"\"\n",
    "#     Update the data held by the scatter plot and therefore animates it.\n",
    "#     Args:\n",
    "#         iteration (int): Current iteration of the animation\n",
    "#         data (list): List of the data positions at each iteration.\n",
    "#         scatters (list): List of all the scatters (One per element)\n",
    "#     Returns:\n",
    "#         list: List of scatters (One per element) with new coordinates\n",
    "#     \"\"\"\n",
    "#     for i in range(data[0].shape[0]):\n",
    "#         scatters[i]._offsets3d = (data[iteration][i,0:1], data[iteration][i,1:2], data[iteration][i,2:])\n",
    "#         scatters[i].set_color\n",
    "#     return scatters\n",
    "\n",
    "# fig = plt.figure()\n",
    "# ax = p3.Axes3D(fig)\n",
    "\n",
    "# ax.set_xlim3d(-6378.0-1000, 6378.0+1000)\n",
    "# ax.set_xlabel('X (km)')\n",
    "\n",
    "# ax.set_ylim3d([-6378.0-1000, 6378.0+1000])\n",
    "# ax.set_ylabel('Y (km)')\n",
    "\n",
    "# ax.set_zlim3d([-6378.0-1000, 6378.0+1000])\n",
    "# ax.set_zlabel('Z (km)')\n",
    "\n",
    "# # Plot central body\n",
    "# # earth_radius = 6378.0 #km\n",
    "# # _u, _v = np.mgrid[0:2*np.pi:20j, 0:np.pi:10j]\n",
    "# # _x = earth_radius*np.cos(_u)*np.sin(_v)\n",
    "# # _y = earth_radius*np.sin(_u)*np.sin(_v)\n",
    "# # _z = earth_radius*np.cos(_v)\n",
    "# # ax.plot_wireframe(_x, _y, _z)\n",
    "\n",
    "\n",
    "# # Initialize scatters\n",
    "# scatters = [ ax.scatter(data[0][i,0:1], data[0][i,1:2], data[0][i,2:]) for i in range(data[0].shape[0]) ]\n",
    "\n",
    "# # # Number of iterations\n",
    "# # iterations = len(data)\n",
    "# # ani = FuncAnimation(fig, animate_scatters, iterations, fargs=(data, scatters),\n",
    "# #                                        interval=200, blit=False, repeat=False)\n",
    "\n",
    "# # writervideo = FFMpegWriter(fps=5) \n",
    "# # ani.save(\"test.mp4\", writer=writervideo)"
   ]
  }
 ],
 "metadata": {
  "kernelspec": {
   "display_name": "py38",
   "language": "python",
   "name": "py38"
  },
  "language_info": {
   "codemirror_mode": {
    "name": "ipython",
    "version": 3
   },
   "file_extension": ".py",
   "mimetype": "text/x-python",
   "name": "python",
   "nbconvert_exporter": "python",
   "pygments_lexer": "ipython3",
   "version": "3.8.5"
  }
 },
 "nbformat": 4,
 "nbformat_minor": 4
}
