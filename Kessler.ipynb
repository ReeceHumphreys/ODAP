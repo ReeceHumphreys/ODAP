{
 "cells": [
  {
   "cell_type": "markdown",
   "metadata": {},
   "source": [
    "<h1>0. Packages</h1>"
   ]
  },
  {
   "cell_type": "code",
   "execution_count": 1,
   "metadata": {},
   "outputs": [],
   "source": [
    "import numpy as np\n",
    "import re\n",
    "import skyfield.sgp4lib as spg4\n",
    "import matplotlib \n",
    "import PyQt5\n",
    "import generate_debris as gd\n",
    "\n",
    "matplotlib.use('Agg')\n",
    "import matplotlib.pyplot as plt\n",
    "from scipy.stats import uniform\n",
    "from scipy.stats import norm\n",
    "import scipy.stats as stats\n",
    "from enum import Enum    \n",
    "from mpl_toolkits.mplot3d import Axes3D\n",
    "import matplotlib.pyplot as plt\n",
    "import numpy as np\n",
    "from itertools import product, combinations\n",
    "from matplotlib import cm\n",
    "\n",
    "%matplotlib qt5\n",
    "\n",
    "debris_category = Enum('Category', 'rb sc soc')"
   ]
  },
  {
   "cell_type": "markdown",
   "metadata": {},
   "source": [
    "<h1>1. Data Structure</h1>\n",
    "\n",
    "<h3>1.1 Satellite Structure</h3>\n",
    "\n",
    "Creating an object to represent satellite from 3le.txt <br>\n",
    "May end up using implementation from another package\n",
    "\n",
    "<b>Data sources:<b><br>\n",
    "https://www.space-track.org    \n",
    "https://www.celestrak.com/NORAD/documentation/spacetrk.pdf\n",
    "\n",
    "<b>Information about 3le/2le:</b><br>\n",
    "https://en.wikipedia.org/wiki/Two-line_element_set#cite_note-nasahelp-12\n",
    "https://spaceflight.nasa.gov/realdata/sightings/SSapplications/Post/JavaSSOP/SSOP_Help/tle_def.html"
   ]
  },
  {
   "cell_type": "code",
   "execution_count": 2,
   "metadata": {},
   "outputs": [],
   "source": [
    "class two_line_element:\n",
    "    \n",
    "    def __init__(self, data):\n",
    "        self.parse_data(data)\n",
    "        \n",
    "    def parse_data(self, satelite_data):\n",
    "        self.title = satelite_data[0]\n",
    "        line_one = satelite_data[1].split()\n",
    "        line_two = satelite_data[2].split()\n",
    "\n",
    "        self.catalog_number = re.search('[0-9]{1,5}', line_one[0]).group()\n",
    "        self.classification = re.search('[UCS]', line_one[0]).group()\n",
    "\n",
    "        international_designator = re.search('([0-9]{2})([0-9]{3})(\\w{1,3})', line_one[1])\n",
    "        self.launch_year = international_designator.group(1)\n",
    "        self.launch_number = international_designator.group(2)\n",
    "        self.launch_piece =  international_designator.group(3)\n",
    "\n",
    "        epoch = re.search('([0-9]{2})(\\d+\\.\\d+)', line_one[2])\n",
    "        self.epoch_year = epoch.group(1)\n",
    "        self.epoch_day = epoch.group(2)\n",
    "\n",
    "        self.ballistic_coefficient = float(line_one[3])\n",
    "        self.mean_motion_double_prime = line_one[4]\n",
    "        self.BSTAR = line_one[5]\n",
    "\n",
    "        self.inclination = line_two[1]\n",
    "        self.right_ascension_of_ascending_node = line_two[2]\n",
    "        self.eccentricity = line_two[3]\n",
    "        self.argument_of_perigee = line_two[4]\n",
    "\n",
    "        mean_anomaly = line_two[5]"
   ]
  },
  {
   "cell_type": "markdown",
   "metadata": {},
   "source": [
    "<h3>Data structure implementation using spg4 from skyfield library<h3>"
   ]
  },
  {
   "cell_type": "code",
   "execution_count": 3,
   "metadata": {},
   "outputs": [
    {
     "name": "stdout",
     "output_type": "stream",
     "text": [
      "('0 VANGUARD 1', '1     5U 58002B   19352.86539842  .00000184  00000-0  20948-3 0  9994', '2     5  34.2610  67.7117 1845282 255.2293  83.7559 10.84789954185624')\n"
     ]
    }
   ],
   "source": [
    "# Opening the .txt file\n",
    "with open(\"3le.txt\") as f:\n",
    "    txt = f.read()\n",
    "    \n",
    "sat_lines = re.findall('(.*?)\\n(.*?)\\n(.*?)\\n', txt)\n",
    "\n",
    "# Preview of `sat_lines`, each element should be the three lines representing a satellite\n",
    "print(sat_lines[0])\n",
    "\n",
    "# Convert each group of 3 lines into a satelite object\n",
    "def line_element_to_satellite(lines):\n",
    "    title = lines[0]\n",
    "    line1 = lines[1]\n",
    "    line2 = lines[2]\n",
    "    return spg4.EarthSatellite(line1, line2, name=title)\n",
    "\n",
    "satellites = [line_element_to_satellite(lines) for lines in sat_lines]\n",
    "\n",
    "# Verify data structure by finding element representing the ISS\n",
    "iss_index = [sat.name for sat in satellites].index(\"0 ISS (ZARYA)\")\n",
    "iss = satellites[iss_index]"
   ]
  },
  {
   "cell_type": "markdown",
   "metadata": {},
   "source": [
    "<h3>1.2 Celestial Bodies</h3>\n",
    "\n",
    "\n",
    "de421.bsp is a Ephemerides provided by JPL Horizon which has the calculated positions of celestial bodies within a certain time interval. de421 is commonly used due to its small size and its relativley up to date information"
   ]
  },
  {
   "cell_type": "code",
   "execution_count": 4,
   "metadata": {},
   "outputs": [],
   "source": [
    "from skyfield.api import load, EarthSatellite\n",
    "ts = load.timescale(builtin=True)\n",
    "\n",
    "# Loading the data from de421.bsp using skyfield \n",
    "planets = load('de421.bsp')\n",
    "\n",
    "# Finding the data about Earth\n",
    "earth = planets[\"Earth\"]"
   ]
  },
  {
   "cell_type": "markdown",
   "metadata": {},
   "source": [
    "<h3>1.3 Celestial Bodies</h3>\n",
    "\n",
    "Plotting the satellite data in a 3D view.<br>\n",
    "Accidently broke my implementation so need to start with the below base and get it to plot the ISS again.\n",
    "\n",
    "<b>Source:</b> https://space.stackexchange.com/questions/25958/how-can-i-plot-a-satellites-orbit-in-3d-from-a-tle-using-python-and-skyfield"
   ]
  },
  {
   "cell_type": "code",
   "execution_count": null,
   "metadata": {},
   "outputs": [],
   "source": []
  },
  {
   "cell_type": "markdown",
   "metadata": {},
   "source": [
    "<h1>2. Breakup Models</h1>\n",
    "\n",
    "<h3>2.1 NASA breakup model</h3>\n",
    "\n",
    "<b>Implementation:</b> (Found on page 207)<br>\n",
    "https://www.researchgate.net/publication/295490674_Space_debris_cloud_evolution_in_Low_Earth_Orbit\n",
    "\n",
    "<b>Alternate implementation:</b><br>\n",
    "https://gitlab.obspm.fr/apetit/nasa-breakup-model/tree/master\n",
    "\n",
    "<b>Information:</b><br>\n",
    "https://digitalcommons.calpoly.edu/cgi/viewcontent.cgi?referer=https://en.wikipedia.org/&httpsredir=1&article=1094&context=theses\n",
    "\n",
    "\n",
    "<b>Now implemented in file generate_debris.py</b><br>"
   ]
  },
  {
   "cell_type": "markdown",
   "metadata": {},
   "source": [
    "<h3>2.2 NASA breakup model validation</h3>"
   ]
  },
  {
   "cell_type": "code",
   "execution_count": 5,
   "metadata": {
    "scrolled": true
   },
   "outputs": [],
   "source": [
    "L_c = gd.characteristic_lengths(1000, 10, 10, True, debris_category.rb)\n",
    "\n",
    "\n",
    "N_fragments_total = L_c.shape[0]\n",
    "lambda_c = np.log10(L_c)\n",
    "areas = gd.avg_area(L_c)\n",
    "\n",
    "def create_log_bins(values, nbins=100):\n",
    "    #return np.geomspace(values.min(), values.max(), nbins)\n",
    "    bins = np.geomspace(values.min(), values.max(), nbins)\n",
    "    a = bins[1]/bins[0]\n",
    "    bins = np.concatenate([[bins[0]/a], bins,[bins[-1]*a]])\n",
    "    return bins\n",
    "\n",
    "# Validating L_c\n",
    "h, b = np.histogram(L_c, bins=create_log_bins(L_c))\n",
    "plt.figure(figsize=(5,5))\n",
    "plt.xscale('log')\n",
    "plt.xlabel(r'$L_{c}$')\n",
    "plt.ylabel(r'$N_f$')\n",
    "plt.plot((b[:-1] + b[1:])/2, h, '.-')\n",
    "plt.show()\n",
    "\n",
    "# Validating Areas\n",
    "h, b = np.histogram(areas, bins=create_log_bins(areas))\n",
    "plt.figure(figsize=(5,5))\n",
    "plt.xscale('log')\n",
    "plt.xlabel(r'$Areas$')\n",
    "plt.ylabel(r'$N_f$')\n",
    "plt.plot((b[:-1] + b[1:])/2, h, '.-')\n",
    "plt.show()\n",
    "\n",
    "# Validating Mass & Velocity\n",
    "AM = np.array(gd.distribution_AM(lambda_c, gd.debris_category.rb))\n",
    "masses = areas / 10**AM\n",
    "\n",
    "h, b = np.histogram(masses, bins=create_log_bins(masses))\n",
    "plt.figure(figsize=(5,5))\n",
    "plt.xscale('log')\n",
    "plt.xlabel(r'$Masses$')\n",
    "plt.ylabel(r'$N_f$')\n",
    "plt.gca().set_yticks([0, 2, 4, 6, 8])\n",
    "plt.gca().set_xticks([1e-8, 1e-5, 1e-2, 10, 1e4])\n",
    "plt.gca().set_xlim([1e-8,1e4])\n",
    "plt.gca().set_ylim([0,8])\n",
    "plt.grid()\n",
    "plt.plot((b[:-1] + b[1:])/2, h/1e5, '.-')\n",
    "plt.show()\n",
    "\n",
    "# Validating Velocity\n",
    "deltaV = np.array(gd.distribution_deltaV(AM, 10, True))\n",
    "\n",
    "\n",
    "h, b = np.histogram(deltaV, bins=create_log_bins(deltaV))\n",
    "plt.figure(figsize=(5,5))\n",
    "plt.xscale('log')\n",
    "plt.xlabel(r'$\\delta V$')\n",
    "plt.ylabel(r'$N_f$')\n",
    "plt.gca().set_yticks([0, 2, 4, 6, 8])\n",
    "plt.gca().set_xticks([1e-3, 1e-2, 1e-1, 1, 10])\n",
    "plt.gca().set_xlim([1e-3,10])\n",
    "plt.gca().set_ylim([0,8])\n",
    "plt.grid()\n",
    "plt.plot((b[:-1] + b[1:])/2, h/1e5, '.-')\n",
    "plt.show()"
   ]
  },
  {
   "cell_type": "markdown",
   "metadata": {},
   "source": [
    "<h3>2.3 and Onward will be alternate breakup models</h3>"
   ]
  },
  {
   "cell_type": "markdown",
   "metadata": {},
   "source": [
    "<h1>3. Numerical Propagation</h1>"
   ]
  },
  {
   "cell_type": "markdown",
   "metadata": {},
   "source": [
    "<h3>3.1 Modeling the Atmosphere</h3>"
   ]
  },
  {
   "cell_type": "code",
   "execution_count": 6,
   "metadata": {},
   "outputs": [
    {
     "ename": "ModuleNotFoundError",
     "evalue": "No module named 'pandas'",
     "output_type": "error",
     "traceback": [
      "\u001b[0;31m---------------------------------------------------------------------------\u001b[0m",
      "\u001b[0;31mModuleNotFoundError\u001b[0m                       Traceback (most recent call last)",
      "\u001b[0;32m<ipython-input-6-054a2ac18d5d>\u001b[0m in \u001b[0;36m<module>\u001b[0;34m\u001b[0m\n\u001b[0;32m----> 1\u001b[0;31m \u001b[0;32mimport\u001b[0m \u001b[0mpandas\u001b[0m \u001b[0;32mas\u001b[0m \u001b[0mpd\u001b[0m\u001b[0;34m\u001b[0m\u001b[0;34m\u001b[0m\u001b[0m\n\u001b[0m\u001b[1;32m      2\u001b[0m \u001b[0;34m\u001b[0m\u001b[0m\n\u001b[1;32m      3\u001b[0m \u001b[0mexcel_file\u001b[0m \u001b[0;34m=\u001b[0m \u001b[0;34m\"AtmosphericModelValues.xlsx\"\u001b[0m\u001b[0;34m\u001b[0m\u001b[0;34m\u001b[0m\u001b[0m\n\u001b[1;32m      4\u001b[0m \u001b[0;34m\u001b[0m\u001b[0m\n\u001b[1;32m      5\u001b[0m \u001b[0mtabulated_values\u001b[0m \u001b[0;34m=\u001b[0m \u001b[0mpd\u001b[0m\u001b[0;34m.\u001b[0m\u001b[0mread_excel\u001b[0m\u001b[0;34m(\u001b[0m\u001b[0mexcel_file\u001b[0m\u001b[0;34m)\u001b[0m\u001b[0;34m\u001b[0m\u001b[0;34m\u001b[0m\u001b[0m\n",
      "\u001b[0;31mModuleNotFoundError\u001b[0m: No module named 'pandas'"
     ]
    }
   ],
   "source": [
    "import pandas as pd\n",
    "\n",
    "excel_file = \"AtmosphericModelValues.xlsx\"\n",
    "\n",
    "tabulated_values = pd.read_excel(excel_file)\n",
    "tabulated_values.head()\n",
    "\n",
    "def atmosphere_density(altitude):\n",
    "    \n",
    "    bins = tabulated_values['Altitude Lower Bound (km)'].values\n",
    "    base_altitude = tabulated_values['Base Altitude (km)'].values\n",
    "    nominal_density = tabulated_values['Nominal Density (kg/m^3)'].values\n",
    "    scale_height = tabulated_values['Scale Height (km)'].values\n",
    "    i = np.digitize(h, bins) - 1\n",
    "    \n",
    "    return nominal_density*np.exp(-(altitude-base_altitude)/(scale_height))\n"
   ]
  },
  {
   "cell_type": "markdown",
   "metadata": {},
   "source": [
    "<h3>3.2 Calculating Orbital Debris Properties</h3>"
   ]
  },
  {
   "cell_type": "code",
   "execution_count": 9,
   "metadata": {},
   "outputs": [],
   "source": [
    "from skyfield.api import load, EarthSatellite\n",
    "\n",
    "ts = load.timescale(builtin=True)\n",
    "\n",
    "t = ts.now()\n",
    "geocentric = iss.at(t)\n",
    "init_position = geocentric.position.km\n",
    "\n",
    "iss_mass = 419700 # kg\n",
    "projectile_mass  = 227 # kg\n",
    "\n",
    "L_c = gd.characteristic_lengths(iss_mass, projectile_mass, 100, True, debris_category.soc)\n",
    "lambda_c = np.log10(L_c)\n",
    "areas = gd.avg_area(L_c)\n",
    "AM = np.array(gd.distribution_AM(lambda_c, debris_category.soc))\n",
    "masses = areas / 10**AM\n",
    "deltaV = np.array(gd.distribution_deltaV(AM, 10, True))\n"
   ]
  },
  {
   "cell_type": "markdown",
   "metadata": {},
   "source": [
    "<h3>3.3 Converting Cartesian to Keplerian</h3>\n",
    "https://downloads.rene-schwarz.com/download/M002-Cartesian_State_Vectors_to_Keplerian_Orbit_Elements.pdf"
   ]
  },
  {
   "cell_type": "code",
   "execution_count": 11,
   "metadata": {},
   "outputs": [],
   "source": [
    "from numpy.linalg import norm\n",
    "\n",
    "grav_param_earth = 398600.4418 #km^3s^-2\n",
    "init_position = geocentric.position.km\n",
    "\n",
    "deb_positions = np.empty((len(AM), 3))\n",
    "deb_positions[:, :] = init_position[None,:]\n",
    "\n",
    "deb_velocities = gd.velocity_vectors(len(AM), geocentric.velocity.km_per_s, deltaV)\n",
    "\n",
    "orbital_momentums = np.cross(deb_positions, deb_velocities)\n",
    "unit_positions = np.divide(deb_positions, norm(deb_positions, axis=1)[:, None]) ## Double check\n",
    "eccentricities = (np.cross(deb_velocities, orbital_momentums) / grav_param_earth) - unit_positions"
   ]
  },
  {
   "cell_type": "code",
   "execution_count": 12,
   "metadata": {},
   "outputs": [],
   "source": [
    "ascending_node_direction = np.cross(np.array([0, 0, 1])[None, :], orbital_momentums)\n",
    "\n",
    "# Ask about costruction of true anomaly using numpy array conditions\n",
    "dot_ep = np.sum(eccentricities*deb_positions, axis=1)\n",
    "np.sum(eccentricities*deb_positions, axis=1)\n",
    "\n",
    "true_anomaly = np.arccos( dot_ep / (norm(eccentricities, axis=1) * norm(deb_positions, axis=1)))\n",
    "B = np.sum(deb_positions*deb_velocities, axis=1)<0\n",
    "true_anomaly[B] = 2*np.pi - true_anomaly[B]\n"
   ]
  },
  {
   "cell_type": "code",
   "execution_count": 13,
   "metadata": {},
   "outputs": [],
   "source": [
    "inclination = np.arccos(orbital_momentums[:, 2] / norm(orbital_momentums, axis=1))\n",
    "\n",
    "eccentricities_mag = norm(eccentricities, axis = 1)\n",
    "theta_ea = np.tan(true_anomaly/2) / np.sqrt((1 + eccentricities_mag)/(1 - eccentricities_mag))\n",
    "eccentric_anomaly = 2*np.arctan(theta_ea)"
   ]
  },
  {
   "cell_type": "code",
   "execution_count": 14,
   "metadata": {},
   "outputs": [],
   "source": [
    "# Longitude of ascending node, Omega\n",
    "long_ascending_node = np.arccos(ascending_node_direction[:,0]/norm(ascending_node_direction, axis=1))\n",
    "B = ascending_node_direction[:,1]<0\n",
    "long_ascending_node[B] = 2*np.pi - long_ascending_node[B]\n",
    "\n",
    "# Argument of periapsis, omega\n",
    "dot_ne = np.sum(ascending_node_direction*eccentricities, axis=1)\n",
    "arg_peri = np.arccos(dot_ne / (norm(ascending_node_direction, axis=1)*norm(eccentricities, axis=1)))\n",
    "B = eccentricities[:,2] < 0\n",
    "arg_peri[B] = 2*np.pi - arg_peri[B]\n",
    "\n",
    "# Mean anomaly\n",
    "mean_anomaly = eccentric_anomaly - norm(eccentricities,axis=1)*np.sin(eccentric_anomaly)\n",
    "\n",
    "# Semi major axis\n",
    "a = 1 / ((2/norm(deb_positions,axis=1)) - ((norm(deb_velocities, axis=1)**2) / grav_param_earth))"
   ]
  },
  {
   "cell_type": "code",
   "execution_count": 15,
   "metadata": {},
   "outputs": [
    {
     "name": "stdout",
     "output_type": "stream",
     "text": [
      "---- Pos. and Vel. ---\n",
      "pos:  [-5514.18158523  3838.03380573   979.43686706] km\n",
      "vel:  [-1.86084279 -4.41786539  5.90862278] km/s\n",
      "---- Orbital Elemets ---\n",
      "a:  6696.206566173889\n",
      "e:  0.022415178417890702\n",
      "i:  0.9148307760498824\n",
      "Omega:  2.4210949326054156\n",
      "omega:  2.441214375273645\n",
      "M:  -2.2231312989157335\n",
      "v:  4.02503207531102\n"
     ]
    }
   ],
   "source": [
    "print(\"---- Pos. and Vel. ---\")\n",
    "print(\"pos: \", deb_positions[0,:], \"km\")\n",
    "print(\"vel: \", deb_velocities[0,:], \"km/s\")\n",
    "\n",
    "print(\"---- Orbital Elemets ---\")\n",
    "print(\"a: \", a[0]) # RIGHT\n",
    "print(\"e: \", eccentricities_mag[0]) #RIGHT\n",
    "print(\"i: \", inclination[0]) #RIGHT\n",
    "print(\"Omega: \", long_ascending_node[0]) #RIGHT\n",
    "print(\"omega: \", arg_peri[0]) #RIGHT\n",
    "print(\"M: \", mean_anomaly[0]) # UNABLE TO VERIFY\n",
    "print(\"v: \", true_anomaly[0]) #RIGHT"
   ]
  },
  {
   "cell_type": "markdown",
   "metadata": {},
   "source": [
    "<h3>3.4 Integrating Keplerian elements</h3>"
   ]
  },
  {
   "cell_type": "code",
   "execution_count": null,
   "metadata": {},
   "outputs": [],
   "source": []
  },
  {
   "cell_type": "code",
   "execution_count": 16,
   "metadata": {},
   "outputs": [],
   "source": [
    "# Code from https://github.com/California-Planet-Search/radvel/blob/master/radvel/kepler.py\n",
    "\n",
    "def d_mean_anomaly(ma,a, dt_1_hr):\n",
    "    return (ma + dt_1_hr*np.sqrt(grav_param_earth/a**3))\n",
    "\n",
    "def kepler(Marr, eccarr):\n",
    "    \"\"\"Solve Kepler's Equation\n",
    "    Args:\n",
    "        Marr (array): input Mean anomaly\n",
    "        eccarr (array): eccentricity\n",
    "    Returns:\n",
    "        array: eccentric anomaly\n",
    "    \"\"\"\n",
    "\n",
    "    conv = 1.0e-12  # convergence criterion\n",
    "    k = 0.85\n",
    "\n",
    "    Earr = Marr + np.sign(np.sin(Marr)) * k * eccarr  # first guess at E\n",
    "    # fiarr should go to zero when converges\n",
    "    fiarr = ( Earr - eccarr * np.sin(Earr) - Marr)\n",
    "    convd = np.where(np.abs(fiarr) > conv)[0]  # which indices have not converged\n",
    "    nd = len(convd)  # number of unconverged elements\n",
    "    count = 0\n",
    "\n",
    "    while nd > 0:  # while unconverged elements exist\n",
    "        count += 1\n",
    "\n",
    "        M = Marr[convd]  # just the unconverged elements ...\n",
    "        ecc = eccarr[convd]\n",
    "        E = Earr[convd]\n",
    "\n",
    "        fi = fiarr[convd]  # fi = E - e*np.sin(E)-M    ; should go to 0\n",
    "        fip = 1 - ecc * np.cos(E)  # d/dE(fi) ;i.e.,  fi^(prime)\n",
    "        fipp = ecc * np.sin(E)  # d/dE(d/dE(fi)) ;i.e.,  fi^(\\prime\\prime)\n",
    "        fippp = 1 - fip  # d/dE(d/dE(d/dE(fi))) ;i.e.,  fi^(\\prime\\prime\\prime)\n",
    "\n",
    "        # first, second, and third order corrections to E\n",
    "        d1 = -fi / fip\n",
    "        d2 = -fi / (fip + d1 * fipp / 2.0)\n",
    "        d3 = -fi / (fip + d2 * fipp / 2.0 + d2 * d2 * fippp / 6.0)\n",
    "        E = E + d3\n",
    "        Earr[convd] = E\n",
    "        fiarr = ( Earr - eccarr * np.sin( Earr ) - Marr) # how well did we do?\n",
    "        convd = np.abs(fiarr) > conv  # test for convergence\n",
    "        nd = np.sum(convd is True)\n",
    "\n",
    "    if Earr.size > 1:\n",
    "        return Earr\n",
    "    else:\n",
    "        return Earr[0]"
   ]
  },
  {
   "cell_type": "code",
   "execution_count": 17,
   "metadata": {},
   "outputs": [],
   "source": [
    "mean_anomalies = np.array([mean_anomaly])\n",
    "eccentric_anomalies = np.array([eccentric_anomaly])\n",
    "\n",
    "dt_1_hr = 60*60*1\n",
    "tot_num_hours = 10\n",
    "\n",
    "mean_anomalies = mean_anomalies.tolist()\n",
    "eccentric_anomalies = eccentric_anomalies.tolist()\n",
    "\n",
    "def orbit_integrator(num_hours):\n",
    "    \n",
    "    for i in range(num_hours):\n",
    "        mean_anomaly_0 = mean_anomalies[-1]\n",
    "        eccentric_anomaly_0 = eccentric_anomalies[-1]\n",
    "    \n",
    "        mean_anomaly_new = (mean_anomaly_0 + d_mean_anomaly(mean_anomaly_0, a, dt_1_hr)) % (2*np.pi)\n",
    "        eccentric_anomaly_new = kepler(mean_anomaly_new, eccentricities_mag)\n",
    "    \n",
    "        mean_anomalies.append(mean_anomaly_new)\n",
    "        eccentric_anomalies.append(eccentric_anomaly_new)\n",
    "    \n",
    "orbit_integrator(tot_num_hours)\n"
   ]
  },
  {
   "cell_type": "code",
   "execution_count": 18,
   "metadata": {},
   "outputs": [],
   "source": [
    "# Convert back to arrays\n",
    "mean_anomalies = np.array(mean_anomalies)\n",
    "eccentric_anomalies = np.array(eccentric_anomalies)"
   ]
  },
  {
   "cell_type": "markdown",
   "metadata": {},
   "source": [
    "<h3>3.5 Converting Keplerian to Cartesian</h3>\n",
    "\n",
    "https://downloads.rene-schwarz.com/download/M001-Keplerian_Orbit_Elements_to_Cartesian_State_Vectors.pdf"
   ]
  },
  {
   "cell_type": "code",
   "execution_count": 19,
   "metadata": {},
   "outputs": [],
   "source": [
    "# While unsure about using multiple times of data just will look at first\n",
    "\n",
    "mean_anomalies = mean_anomalies[0,:]\n",
    "eccentric_anomalies = eccentric_anomalies[0,:]\n",
    "\n",
    "dist_central = a*(1 - eccentricities_mag * np.cos(eccentric_anomaly))\n",
    "orbital_frame = dist_central * np.array([np.cos(true_anomaly),\n",
    "                                         np.sin(true_anomaly),\n",
    "                                         np.zeros(len(AM))])\n",
    "orbital_prime_frame = (np.sqrt(grav_param_earth * a) / dist_central) * np.array([-np.sin(eccentric_anomaly),\n",
    "                                                                                 (np.sqrt(1 - eccentricities_mag**2))*np.cos(eccentric_anomaly),\n",
    "                                                                                 np.zeros(len(AM))])"
   ]
  },
  {
   "cell_type": "code",
   "execution_count": 20,
   "metadata": {},
   "outputs": [],
   "source": [
    "positions = np.array([\n",
    "    orbital_frame[0] * (np.cos(arg_peri)*np.cos(long_ascending_node) - np.sin(arg_peri)*np.cos(inclination)*np.sin(long_ascending_node)) - orbital_frame[1] * (np.sin(arg_peri)*np.cos(long_ascending_node) + np.cos(arg_peri)*np.cos(inclination)*np.sin(long_ascending_node)),\n",
    "    orbital_frame[0] * (np.cos(arg_peri)*np.sin(long_ascending_node) + np.sin(arg_peri)*np.cos(inclination)*np.cos(long_ascending_node)) + orbital_frame[1] * (np.cos(arg_peri)*np.cos(inclination)*np.cos(long_ascending_node) - np.sin(arg_peri)*np.sin(long_ascending_node)),\n",
    "    orbital_frame[0] * (np.sin(arg_peri)*np.sin(inclination)) + orbital_frame[1] * (np.cos(arg_peri)*np.sin(inclination))\n",
    "])\n",
    "\n",
    "positions = positions.T\n",
    "\n",
    "velocities = np.array([\n",
    "    orbital_prime_frame[0] * (np.cos(arg_peri)*np.cos(long_ascending_node) - np.sin(arg_peri)*np.cos(inclination)*np.sin(long_ascending_node)) - orbital_prime_frame[1] * (np.sin(arg_peri)*np.cos(long_ascending_node) + np.cos(arg_peri)*np.cos(inclination)*np.sin(long_ascending_node)),\n",
    "    orbital_prime_frame[0] * (np.cos(arg_peri)*np.sin(long_ascending_node) + np.sin(arg_peri)*np.cos(inclination)*np.cos(long_ascending_node)) + orbital_prime_frame[1] * (np.cos(arg_peri)*np.cos(inclination)*np.cos(long_ascending_node) - np.sin(arg_peri)*np.sin(long_ascending_node)),\n",
    "    orbital_prime_frame[0] * (np.sin(arg_peri)*np.sin(inclination)) + orbital_prime_frame[1] * (np.cos(arg_peri)*np.sin(inclination))\n",
    "])\n",
    "\n",
    "velocities = velocities.T"
   ]
  },
  {
   "cell_type": "markdown",
   "metadata": {},
   "source": [
    "# NEED TO ASK ABOUT INTEGRATION AND ARRAY FRIENDLY CONVERSION\n",
    "<h3>3.6 Performing the integration </h3>"
   ]
  },
  {
   "cell_type": "code",
   "execution_count": null,
   "metadata": {},
   "outputs": [],
   "source": []
  },
  {
   "cell_type": "markdown",
   "metadata": {},
   "source": [
    "<h1>4. Visualization </h1>"
   ]
  },
  {
   "cell_type": "code",
   "execution_count": 21,
   "metadata": {},
   "outputs": [],
   "source": [
    "# Creating 3D plot showing orbital information\n",
    "earth_radius = 6378.0 #km\n",
    "\n",
    "def create_3D_plot():\n",
    "    \n",
    "    fig = plt.figure()\n",
    "    ax = fig.add_subplot(111, projection=\"3d\")\n",
    "    \n",
    "    # Plot central body\n",
    "    _u, _v = np.mgrid[0:2*np.pi:20j, 0:np.pi:10j]\n",
    "    _x = earth_radius*np.cos(_u)*np.sin(_v)\n",
    "    _y = earth_radius*np.sin(_u)*np.sin(_v)\n",
    "    _z = earth_radius*np.cos(_v)\n",
    "    ax.plot_surface(_x, _y, _z, cmap=cm.hot)\n",
    "    \n",
    "    # Plot axis\n",
    "    unit = earth_radius * 2\n",
    "    x,y,z = [[0, 0, 0], [0, 0, 0], [0, 0, 0]]\n",
    "    u, v, w =[[unit, 0, 0], [0, unit, 0], [0, 0, unit]]\n",
    "    ax.quiver(x,y,z, u, v, w, color='k')\n",
    "    \n",
    "    ax.set_xlim([-2.1*earth_radius, 2.1*earth_radius])\n",
    "    ax.set_ylim([-2.1*earth_radius, 2.1*earth_radius])\n",
    "    ax.set_zlim([-2.1*earth_radius, 2.1*earth_radius])\n",
    "    \n",
    "    # Plot debris\n",
    "    posititions_subset = positions[:1000, :]\n",
    "    ax.scatter(posititions_subset[:, 0], posititions_subset[:, 1], posititions_subset[: ,2], 'k', label=\"Debris\")    \n",
    "    plt.show()\n",
    "\n",
    "    \n",
    "create_3D_plot()"
   ]
  },
  {
   "cell_type": "code",
   "execution_count": null,
   "metadata": {},
   "outputs": [],
   "source": [
    "# import rebound\n",
    "# sim = rebound.Simulation()"
   ]
  },
  {
   "cell_type": "code",
   "execution_count": null,
   "metadata": {},
   "outputs": [],
   "source": [
    "# sim.getWidget(scale=10000, size=(500,500))"
   ]
  },
  {
   "cell_type": "code",
   "execution_count": null,
   "metadata": {},
   "outputs": [],
   "source": [
    "# sim.move_to_com()\n",
    "\n",
    "# print(debris_positions[0])"
   ]
  },
  {
   "cell_type": "code",
   "execution_count": null,
   "metadata": {},
   "outputs": [],
   "source": []
  },
  {
   "cell_type": "code",
   "execution_count": null,
   "metadata": {},
   "outputs": [],
   "source": []
  },
  {
   "cell_type": "code",
   "execution_count": null,
   "metadata": {},
   "outputs": [],
   "source": [
    "# earth_mass = 5.972E24 #kg\n",
    "# sim.add(m=earth_mass) # add earth\n",
    "# for i in range(len(deb_velocities)):\n",
    "#     pos = deb_positions[i]\n",
    "#     vel = deb_velocities[i]\n",
    "#     sim.add(a=a[i], e=eccentricities_mag[i], omega=arg_peri[i], M=mean_anomaly[i], inc=inclination[i])\n",
    "#     if i > 50000:\n",
    "#         break\n",
    "# for i in range(len(sim.particles)):\n",
    "#     if sim.particles[i].m == 0:\n",
    "#         sim.particles[i].test_particle_type = 1"
   ]
  },
  {
   "cell_type": "code",
   "execution_count": null,
   "metadata": {},
   "outputs": [],
   "source": [
    "# print(sim.N)                # Gets the current number of particles\n",
    "# print(sim.N_active)  "
   ]
  },
  {
   "cell_type": "code",
   "execution_count": null,
   "metadata": {},
   "outputs": [],
   "source": [
    "# from IPython.display import display, clear_output\n",
    "# import matplotlib.pyplot as plt\n",
    "# sim.move_to_com()\n",
    "# sim.dt = 1e-3\n",
    "# sim.integrator = \"whfast\"\n",
    "# for i in range(300):\n",
    "#     sim.integrate(sim.t+1e-9)"
   ]
  },
  {
   "cell_type": "code",
   "execution_count": null,
   "metadata": {},
   "outputs": [],
   "source": [
    "# x = [sim.particles[i].x for i in range(len(sim.particles))]\n",
    "# y = [sim.particles[i].y for i in range(len(sim.particles))]\n",
    "# fig = plt.figure(figsize=(5,5))\n",
    "# ax = plt.subplot(111)\n",
    "# plt.scatter(x, y, marker='.', color='k', s=1.2);"
   ]
  },
  {
   "cell_type": "code",
   "execution_count": null,
   "metadata": {},
   "outputs": [],
   "source": []
  },
  {
   "cell_type": "code",
   "execution_count": null,
   "metadata": {},
   "outputs": [],
   "source": [
    "# from IPython.display import display, clear_output\n",
    "# import matplotlib.pyplot as plt\n",
    "# sim.move_to_com()\n",
    "# for i in range(100):\n",
    "#     sim.integrate(sim.t+1e-9)\n",
    "#     fig, ax = rebound.OrbitPlot(sim,color=True,unitlabel=\"[km]\")\n",
    "#     display(fig)\n",
    "#     plt.close(fig)\n",
    "#     clear_output(wait=True)"
   ]
  },
  {
   "cell_type": "code",
   "execution_count": null,
   "metadata": {},
   "outputs": [],
   "source": [
    "# frame = OrbitPlotter3D()\n",
    "\n",
    "# frame.plot(molniya)\n",
    "# frame.plot(iss)"
   ]
  },
  {
   "cell_type": "code",
   "execution_count": null,
   "metadata": {},
   "outputs": [],
   "source": []
  },
  {
   "cell_type": "code",
   "execution_count": null,
   "metadata": {},
   "outputs": [],
   "source": [
    "# import poliastro"
   ]
  },
  {
   "cell_type": "code",
   "execution_count": null,
   "metadata": {},
   "outputs": [],
   "source": [
    "# from poliastro.twobody import Orbit\n",
    "# from poliastro.bodies import Earth, Sun\n",
    "# from astropy import units as u\n",
    "\n",
    "\n",
    "# # This function cannot handle vectors, inherriently slow, will need to write own array friedly implementation\n",
    "# orbits = [ Orbit.from_classical(Earth, a[i]*u.kilometer, eccentricities_mag[i]*u.one, inclination[i]*u.rad, long_ascending_node[i]*u.rad, arg_peri[i]*u.rad, true_anomaly[i]*u.rad) for i in range(10000)]\n",
    "    \n",
    "    "
   ]
  },
  {
   "cell_type": "code",
   "execution_count": null,
   "metadata": {},
   "outputs": [],
   "source": [
    "# from poliastro.plotting import *\n",
    "\n",
    "# frame = OrbitPlotter3D()\n",
    "\n",
    "# for i in range(100):\n",
    "#     frame.plot(orbits[i])"
   ]
  },
  {
   "cell_type": "code",
   "execution_count": null,
   "metadata": {},
   "outputs": [],
   "source": [
    "# frame.plot(orbits[101])"
   ]
  },
  {
   "cell_type": "code",
   "execution_count": null,
   "metadata": {},
   "outputs": [],
   "source": []
  },
  {
   "cell_type": "code",
   "execution_count": null,
   "metadata": {},
   "outputs": [],
   "source": []
  },
  {
   "cell_type": "code",
   "execution_count": null,
   "metadata": {},
   "outputs": [],
   "source": []
  }
 ],
 "metadata": {
  "kernelspec": {
   "display_name": "py3env",
   "language": "python",
   "name": "py3env"
  },
  "language_info": {
   "codemirror_mode": {
    "name": "ipython",
    "version": 3
   },
   "file_extension": ".py",
   "mimetype": "text/x-python",
   "name": "python",
   "nbconvert_exporter": "python",
   "pygments_lexer": "ipython3",
   "version": "3.8.5"
  }
 },
 "nbformat": 4,
 "nbformat_minor": 4
}
