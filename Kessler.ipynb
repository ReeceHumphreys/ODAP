{
 "cells": [
  {
   "cell_type": "markdown",
   "metadata": {},
   "source": [
    "<h1>0. Packages</h1>"
   ]
  },
  {
   "cell_type": "code",
   "execution_count": 1,
   "metadata": {},
   "outputs": [],
   "source": [
    "from importlib import reload\n",
    "import numpy as np\n",
    "import re\n",
    "import skyfield.sgp4lib as spg4\n",
    "import matplotlib \n",
    "import PyQt5\n",
    "\n",
    "# User defined lib.\n",
    "import generate_debris as gd\n",
    "import CoordTransforms as ct\n",
    "\n",
    "reload(gd)\n",
    "reload(ct)\n",
    "\n",
    "matplotlib.use('Agg')\n",
    "import matplotlib.pyplot as plt\n",
    "from scipy.stats import uniform\n",
    "from scipy.stats import norm\n",
    "import scipy.stats as stats\n",
    "from enum import IntEnum    \n",
    "from mpl_toolkits.mplot3d import Axes3D\n",
    "import matplotlib.pyplot as plt\n",
    "import numpy as np\n",
    "from itertools import product, combinations\n",
    "from matplotlib import cm\n",
    "from scipy import integrate\n",
    "import pandas as pd\n",
    "from numba import njit, prange\n",
    "\n",
    "\n",
    "%matplotlib qt5\n",
    "\n",
    "debris_category = IntEnum('Category', 'rb sc soc')"
   ]
  },
  {
   "cell_type": "markdown",
   "metadata": {},
   "source": [
    "<h1>1. Data Structure</h1>\n",
    "\n",
    "<h3>1.1 Satellite Structure</h3>\n",
    "\n",
    "Creating an object to represent satellite from 3le.txt <br>\n",
    "May end up using implementation from another package\n",
    "\n",
    "<b>Data sources:<b><br>\n",
    "https://www.space-track.org    \n",
    "https://www.celestrak.com/NORAD/documentation/spacetrk.pdf\n",
    "\n",
    "<b>Information about 3le/2le:</b><br>\n",
    "https://en.wikipedia.org/wiki/Two-line_element_set#cite_note-nasahelp-12\n",
    "https://spaceflight.nasa.gov/realdata/sightings/SSapplications/Post/JavaSSOP/SSOP_Help/tle_def.html"
   ]
  },
  {
   "cell_type": "code",
   "execution_count": 2,
   "metadata": {},
   "outputs": [],
   "source": [
    "class two_line_element:\n",
    "    \n",
    "    def __init__(self, data):\n",
    "        self.parse_data(data)\n",
    "        \n",
    "    def parse_data(self, satelite_data):\n",
    "        self.title = satelite_data[0]\n",
    "        line_one = satelite_data[1].split()\n",
    "        line_two = satelite_data[2].split()\n",
    "\n",
    "        self.catalog_number = re.search('[0-9]{1,5}', line_one[0]).group()\n",
    "        self.classification = re.search('[UCS]', line_one[0]).group()\n",
    "\n",
    "        international_designator = re.search('([0-9]{2})([0-9]{3})(\\w{1,3})', line_one[1])\n",
    "        self.launch_year = international_designator.group(1)\n",
    "        self.launch_number = international_designator.group(2)\n",
    "        self.launch_piece =  international_designator.group(3)\n",
    "\n",
    "        epoch = re.search('([0-9]{2})(\\d+\\.\\d+)', line_one[2])\n",
    "        self.epoch_year = epoch.group(1)\n",
    "        self.epoch_day = epoch.group(2)\n",
    "\n",
    "        self.ballistic_coefficient = float(line_one[3])\n",
    "        self.mean_motion_double_prime = line_one[4]\n",
    "        self.BSTAR = line_one[5]\n",
    "\n",
    "        self.inclination = line_two[1]\n",
    "        self.right_ascension_of_ascending_node = line_two[2]\n",
    "        self.eccentricity = line_two[3]\n",
    "        self.argument_of_perigee = line_two[4]\n",
    "\n",
    "        mean_anomaly = line_two[5]"
   ]
  },
  {
   "cell_type": "markdown",
   "metadata": {},
   "source": [
    "<h3>Data structure implementation using spg4 from skyfield library<h3>"
   ]
  },
  {
   "cell_type": "code",
   "execution_count": 3,
   "metadata": {},
   "outputs": [
    {
     "name": "stdout",
     "output_type": "stream",
     "text": [
      "('0 VANGUARD 1', '1     5U 58002B   19352.86539842  .00000184  00000-0  20948-3 0  9994', '2     5  34.2610  67.7117 1845282 255.2293  83.7559 10.84789954185624')\n"
     ]
    }
   ],
   "source": [
    "# Opening the .txt file\n",
    "with open(\"3le.txt\") as f:\n",
    "    txt = f.read()\n",
    "    \n",
    "sat_lines = re.findall('(.*?)\\n(.*?)\\n(.*?)\\n', txt)\n",
    "\n",
    "# Preview of `sat_lines`, each element should be the three lines representing a satellite\n",
    "print(sat_lines[0])\n",
    "\n",
    "# Convert each group of 3 lines into a satelite object\n",
    "def line_element_to_satellite(lines):\n",
    "    title = lines[0]\n",
    "    line1 = lines[1]\n",
    "    line2 = lines[2]\n",
    "    return spg4.EarthSatellite(line1, line2, name=title)\n",
    "\n",
    "satellites = [line_element_to_satellite(lines) for lines in sat_lines]\n",
    "\n",
    "# Verify data structure by finding element representing the ISS\n",
    "iss_index = [sat.name for sat in satellites].index(\"0 ISS (ZARYA)\")\n",
    "iss = satellites[iss_index]"
   ]
  },
  {
   "cell_type": "markdown",
   "metadata": {},
   "source": [
    "<h3>1.2 Celestial Bodies</h3>\n",
    "\n",
    "\n",
    "de421.bsp is a Ephemerides provided by JPL Horizon which has the calculated positions of celestial bodies within a certain time interval. de421 is commonly used due to its small size and its relativley up to date information"
   ]
  },
  {
   "cell_type": "code",
   "execution_count": 4,
   "metadata": {},
   "outputs": [],
   "source": [
    "from skyfield.api import load, EarthSatellite\n",
    "ts = load.timescale(builtin=True)\n",
    "\n",
    "# Loading the data from de421.bsp using skyfield \n",
    "planets = load('de421.bsp')\n",
    "\n",
    "# Finding the data about Earth\n",
    "earth = planets[\"Earth\"]"
   ]
  },
  {
   "cell_type": "markdown",
   "metadata": {},
   "source": [
    "<h3>1.3 Celestial Bodies</h3>\n",
    "\n",
    "Plotting the satellite data in a 3D view.<br>\n",
    "Accidently broke my implementation so need to start with the below base and get it to plot the ISS again.\n",
    "\n",
    "<b>Source:</b> https://space.stackexchange.com/questions/25958/how-can-i-plot-a-satellites-orbit-in-3d-from-a-tle-using-python-and-skyfield"
   ]
  },
  {
   "cell_type": "code",
   "execution_count": null,
   "metadata": {},
   "outputs": [],
   "source": []
  },
  {
   "cell_type": "markdown",
   "metadata": {},
   "source": [
    "<h1>2. Breakup Models</h1>\n",
    "\n",
    "<h3>2.1 NASA breakup model</h3>\n",
    "\n",
    "<b>Implementation:</b> (Found on page 207)<br>\n",
    "https://www.researchgate.net/publication/295490674_Space_debris_cloud_evolution_in_Low_Earth_Orbit\n",
    "\n",
    "<b>Alternate implementation:</b><br>\n",
    "https://gitlab.obspm.fr/apetit/nasa-breakup-model/tree/master\n",
    "\n",
    "<b>Information:</b><br>\n",
    "https://digitalcommons.calpoly.edu/cgi/viewcontent.cgi?referer=https://en.wikipedia.org/&httpsredir=1&article=1094&context=theses\n",
    "\n",
    "\n",
    "<b>Now implemented in file generate_debris.py</b><br>"
   ]
  },
  {
   "cell_type": "markdown",
   "metadata": {},
   "source": [
    "<h3>2.2 NASA breakup model validation</h3>"
   ]
  },
  {
   "cell_type": "code",
   "execution_count": null,
   "metadata": {
    "scrolled": true
   },
   "outputs": [],
   "source": [
    "# Explosion Case\n",
    "\n",
    "reload(gd)\n",
    "\n",
    "L_c, areas, masses, AM = gd.fragmentation(1000, 0, 0, False, debris_category.rb, True)\n",
    "\n",
    "bins = [1e-3, 1e-2, 1e-1, 1, np.inf] # L_c bins in meters\n",
    "h,b = np.histogram(L_c, bins=bins)\n",
    "\n",
    "ch = [ { f'>{bins[i]}m':np.sum(h[i:]) for i in range(len(h))}]\n",
    "\n",
    "df = pd.DataFrame(ch)\n",
    "df"
   ]
  },
  {
   "cell_type": "code",
   "execution_count": null,
   "metadata": {},
   "outputs": [],
   "source": []
  },
  {
   "cell_type": "code",
   "execution_count": null,
   "metadata": {
    "scrolled": true
   },
   "outputs": [],
   "source": [
    "# reload(gd)\n",
    "\n",
    "\n",
    "# L_c = gd.characteristic_lengths(1000, 10, 10, True, debris_category.rb, False)\n",
    "# N_fragments_total = L_c.shape[0]\n",
    "# lambda_c = np.log10(L_c)\n",
    "# areas = gd.avg_area(L_c)\n",
    "\n",
    "# def create_log_bins(values, nbins=100):\n",
    "#     #return np.geomspace(values.min(), values.max(), nbins)\n",
    "#     bins = np.geomspace(values.min(), values.max(), nbins)\n",
    "#     a = bins[1]/bins[0]\n",
    "#     bins = np.concatenate([[bins[0]/a], bins,[bins[-1]*a]])\n",
    "#     return bins\n",
    "\n",
    "# Validating L_c\n",
    "# L_c = gd.characteristic_lengths(1000, 10, 10, True, debris_category.rb, False)\n",
    "# h, b = np.histogram(L_c, bins=create_log_bins(L_c))\n",
    "# plt.figure(figsize=(5,5))\n",
    "# plt.xscale('log')\n",
    "# plt.xlabel(r'$L_{c}$')\n",
    "# plt.ylabel(r'$N_f$')\n",
    "# plt.plot((b[:-1] + b[1:])/2, h, '.-')\n",
    "# plt.show()\n",
    "# np.mean(counts)\n",
    "\n",
    "\n",
    "# Validating Areas\n",
    "# h, b = np.histogram(areas, bins=create_log_bins(areas))\n",
    "# plt.figure(figsize=(5,5))\n",
    "# plt.xscale('log')\n",
    "# plt.xlabel(r'$Areas$')\n",
    "# plt.ylabel(r'$N_f$')\n",
    "# plt.plot((b[:-1] + b[1:])/2, h, '.-')\n",
    "# plt.show()\n",
    "\n",
    "# I = np.argwhere(b > 10e-2)\n",
    "# count = np.sum(h[I - 1])\n",
    "# print(count)\n",
    "# # Validating Mass & Velocity\n",
    "# AM = np.array(gd.distribution_AM(lambda_c, gd.debris_category.rb))\n",
    "# masses = areas / 10**AM\n",
    "\n",
    "# h, b = np.histogram(masses, bins=create_log_bins(masses))\n",
    "# plt.figure(figsize=(5,5))\n",
    "# plt.xscale('log')\n",
    "# plt.xlabel(r'$Masses$')\n",
    "# plt.ylabel(r'$N_f$')\n",
    "# plt.gca().set_yticks([0, 2, 4, 6, 8])\n",
    "# plt.gca().set_xticks([1e-8, 1e-5, 1e-2, 10, 1e4])\n",
    "# plt.gca().set_xlim([1e-8,1e4])\n",
    "# plt.gca().set_ylim([0,8])\n",
    "# plt.grid()\n",
    "# plt.plot((b[:-1] + b[1:])/2, h/1e5, '.-')\n",
    "# plt.show()\n",
    "\n",
    "# # Validating Velocity\n",
    "# deltaV = np.array(gd.distribution_deltaV(AM, 10, True))\n",
    "\n",
    "\n",
    "# h, b = np.histogram(deltaV, bins=create_log_bins(deltaV))\n",
    "# plt.figure(figsize=(5,5))\n",
    "# plt.xscale('log')\n",
    "# plt.xlabel(r'$\\delta V$')\n",
    "# plt.ylabel(r'$N_f$')\n",
    "# plt.gca().set_yticks([0, 2, 4, 6, 8])\n",
    "# plt.gca().set_xticks([1e-3, 1e-2, 1e-1, 1, 10])\n",
    "# plt.gca().set_xlim([1e-3,10])\n",
    "# plt.gca().set_ylim([0,8])\n",
    "# plt.grid()\n",
    "# plt.plot((b[:-1] + b[1:])/2, h/1e5, '.-')\n",
    "# plt.show()"
   ]
  },
  {
   "cell_type": "markdown",
   "metadata": {},
   "source": [
    "<h3>2.3 and Onward will be alternate breakup models</h3>"
   ]
  },
  {
   "cell_type": "markdown",
   "metadata": {},
   "source": [
    "<h1>3. Numerical Propagation</h1>"
   ]
  },
  {
   "cell_type": "markdown",
   "metadata": {},
   "source": [
    "<h3>3.1 Modeling the Atmosphere</h3>"
   ]
  },
  {
   "cell_type": "code",
   "execution_count": 5,
   "metadata": {},
   "outputs": [],
   "source": [
    "excel_file = \"AtmosphericModelValues.xlsx\"\n",
    "earth_radius = 6378.0 #km\n",
    "tabulated_values = pd.read_excel(excel_file, engine=\"openpyxl\")\n",
    "\n",
    "def atmosphere_density(altitude):\n",
    "    \n",
    "    bins = tabulated_values['Altitude Lower Bound (km)'].values\n",
    "    base_altitude = tabulated_values['Base Altitude (km)'].values\n",
    "    nominal_density = tabulated_values['Nominal Density (kg/m^3)'].values\n",
    "    scale_height = tabulated_values['Scale Height (km)'].values\n",
    "    i = np.digitize(altitude, bins) - 1\n",
    "    return (nominal_density[i]*np.exp(-(altitude-base_altitude[i])/(scale_height[i])))\n",
    "\n",
    "def scale_height(altitude):\n",
    "    bins = tabulated_values['Altitude Lower Bound (km)'].values\n",
    "    scale_height = tabulated_values['Scale Height (km)'].values\n",
    "    i = np.digitize(altitude, bins) - 1\n",
    "    return scale_height[i]\n"
   ]
  },
  {
   "cell_type": "markdown",
   "metadata": {},
   "source": [
    "<h3>3.2 Calculating Orbital Debris Properties</h3>"
   ]
  },
  {
   "cell_type": "code",
   "execution_count": 6,
   "metadata": {},
   "outputs": [],
   "source": [
    "from skyfield.api import load, EarthSatellite\n",
    "\n",
    "ts = load.timescale(builtin=True)\n",
    "\n",
    "t = ts.now()\n",
    "geocentric = iss.at(t)\n",
    "init_position = geocentric.position.km\n",
    "\n",
    "iss_mass = 41970 # kg (reduced by an order of mag for sim purposes)\n",
    "projectile_mass  = 227 # kg\n",
    "\n",
    "L_c, areas, masses, AM = gd.fragmentation(iss_mass, projectile_mass, 5, False, debris_category.soc, False)\n",
    "deltaV = np.array(gd.distribution_deltaV(AM, 10, True))"
   ]
  },
  {
   "cell_type": "markdown",
   "metadata": {},
   "source": [
    "<h3>3.3 Converting Cartesian to Keplerian</h3>"
   ]
  },
  {
   "cell_type": "code",
   "execution_count": 7,
   "metadata": {},
   "outputs": [],
   "source": [
    "from numpy.linalg import norm\n",
    "\n",
    "grav_param_earth = 398600.4418 #km^3s^-2\n",
    "init_position = geocentric.position.km\n",
    "\n",
    "deb_positions = np.empty((len(AM), 3))\n",
    "deb_positions[:, :] = init_position[None,:]\n",
    "deb_velocities = gd.velocity_vectors(len(AM), geocentric.velocity.km_per_s, deltaV)\n",
    "\n",
    "keplerian_state = ct.rv2coe(deb_positions, deb_velocities, grav_param_earth)"
   ]
  },
  {
   "cell_type": "code",
   "execution_count": null,
   "metadata": {},
   "outputs": [],
   "source": [
    "rand_index = 0\n",
    "print(\"Cartesian\")\n",
    "print(\"r: \", deb_positions[rand_index, :])\n",
    "print(\"v: \", deb_velocities[rand_index, :])\n",
    "\n",
    "print(\"Keplerian\")\n",
    "ks_rand = keplerian_state[:, rand_index]\n",
    "print(\"a: \", ks_rand[0])\n",
    "print(\"e: \", ks_rand[1])\n",
    "print(\"i: \", ks_rand[2])\n",
    "print(\"Omega: \", ks_rand[3])\n",
    "print(\"omega: \", ks_rand[4])\n",
    "print(\"M: \", ks_rand[5])\n",
    "print(\"nu: \", ks_rand[6])\n",
    "print()"
   ]
  },
  {
   "cell_type": "markdown",
   "metadata": {},
   "source": [
    "<h3>3.4 Testing coverting back to Cartesian</h3>"
   ]
  },
  {
   "cell_type": "code",
   "execution_count": null,
   "metadata": {},
   "outputs": [],
   "source": [
    "reload(ct)\n",
    "\n",
    "indexes = np.random.default_rng().choice(keplerian_state.shape[1], size=1000, replace=False)\n",
    "ks_sample = keplerian_state[:, indexes]\n",
    "\n",
    "cartesian_state = np.array(ct.coe2rv_many(k=grav_param_earth,\n",
    "                              p=ks_sample[7, :],\n",
    "                              ecc=ks_sample[1, :],\n",
    "                              inc=ks_sample[2, :],\n",
    "                              raan=ks_sample[3, :],\n",
    "                              argp=ks_sample[4, :],\n",
    "                              nu=ks_sample[6, :]))\n",
    "\n",
    "r = cartesian_state[0, :, :]\n",
    "fig = plt.figure()\n",
    "ax = fig.add_subplot(111, projection='3d')\n",
    "ax.scatter(r[:, 0], r[:, 1], r[:, 2])\n",
    "ax.set_xlim3d(-6378.0-1000, 6378.0+1000)\n",
    "ax.set_xlabel('X (km)')\n",
    "\n",
    "ax.set_ylim3d([-6378.0-1000, 6378.0+1000])\n",
    "ax.set_ylabel('Y (km)')\n",
    "\n",
    "ax.set_zlim3d([-6378.0-1000, 6378.0+1000])\n",
    "ax.set_zlabel('Z (km)')\n",
    "\n",
    "earth_radius = 3378.0 #km\n",
    "_u, _v = np.mgrid[0:2*np.pi:20j, 0:np.pi:10j]\n",
    "_x = earth_radius*np.cos(_u)*np.sin(_v)\n",
    "_y = earth_radius*np.sin(_u)*np.sin(_v)\n",
    "_z = earth_radius*np.cos(_v)\n",
    "\n",
    "ax.plot_surface(_x, _y, _z, cmap=cm.coolwarm)\n",
    "plt.show()"
   ]
  },
  {
   "cell_type": "markdown",
   "metadata": {},
   "source": [
    "<h3>3.4 Debris Cloud formation</h3>"
   ]
  },
  {
   "cell_type": "code",
   "execution_count": 8,
   "metadata": {
    "scrolled": true
   },
   "outputs": [],
   "source": [
    "## Shrink number of debris being used\n",
    "indexes = np.random.default_rng().choice(keplerian_state.shape[1], size=250, replace=False)\n",
    "\n",
    "ks = keplerian_state[:, indexes]\n",
    "masses = masses[indexes]\n",
    "areas = areas[indexes]\n",
    "deb_positions = deb_positions[indexes, :]\n",
    "deb_velocities = deb_velocities[indexes, :]"
   ]
  },
  {
   "cell_type": "code",
   "execution_count": 9,
   "metadata": {},
   "outputs": [],
   "source": [
    "np.savez(\"debris.npz\",\n",
    "         keplerian_states=ks,\n",
    "         masses=masses,\n",
    "         areas=areas,\n",
    "         deb_positions=deb_positions,\n",
    "         deb_velocities=deb_velocities)"
   ]
  },
  {
   "cell_type": "code",
   "execution_count": 10,
   "metadata": {},
   "outputs": [],
   "source": [
    "container = np.load('debris.npz')\n",
    "ks = container['keplerian_states']\n",
    "masses = container['masses']\n",
    "areas = container['areas']\n",
    "deb_positions = container['deb_positions']\n",
    "deb_velocities = container['deb_velocities']"
   ]
  },
  {
   "cell_type": "markdown",
   "metadata": {},
   "source": [
    "<h4>3.4.1 Ellisoid formation</h4>"
   ]
  },
  {
   "cell_type": "code",
   "execution_count": 80,
   "metadata": {},
   "outputs": [],
   "source": [
    "from numba import jit \n",
    "from numpy import arccos as acos\n",
    "from numpy import cos, dot, sin, sqrt\n",
    "from numpy.linalg import norm\n",
    "from scipy.constants import pi\n",
    "\n",
    "# Modified from OrbitalPy.utilities\n",
    "@njit(parallel=True, fastmath=True)\n",
    "def M2E(e_deb, M_t, tolerance=1e-14):\n",
    "    \"\"\"Convert mean anomaly to eccentric anomaly.\n",
    "    Implemented from [A Practical Method for Solving the Kepler Equation][1]\n",
    "    by Marc A. Murison from the U.S. Naval Observatory\n",
    "    [1]: http://murison.alpheratz.net/dynamics/twobody/KeplerIterations_summary.pdf\n",
    "    \"\"\"\n",
    "    n_deb = M_t.shape[0]\n",
    "    n_times = M_t.shape[1]\n",
    "    \n",
    "    E_t = np.empty_like(M_t)\n",
    "    \n",
    "    for i in prange(n_deb):\n",
    "        e = e_deb[i]\n",
    "        for j in prange(n_times):\n",
    "            M = M_t[i, j]\n",
    "            \n",
    "            MAX_ITERATIONS = 100\n",
    "            Mnorm = np.mod(M, 2 * pi)\n",
    "            E0 = M + (-1 / 2 * e ** 3 + e + (e ** 2 + 3 / 2 * cos(M) * e ** 3) * cos(M)) * sin(M)\n",
    "            dE = tolerance + 1\n",
    "            count = 0\n",
    "            while dE > tolerance:\n",
    "                t1 = cos(E0)\n",
    "                t2 = -1 + e * t1\n",
    "                t3 = sin(E0)\n",
    "                t4 = e * t3\n",
    "                t5 = -E0 + t4 + Mnorm\n",
    "                t6 = t5 / (1 / 2 * t5 * t4 / t2 + t2)\n",
    "                E = E0 - t5 / ((1 / 2 * t3 - 1 / 6 * t1 * t6) * e * t6 + t2)\n",
    "                dE = np.abs(E - E0)\n",
    "                E0 = E\n",
    "                count += 1\n",
    "                if count == MAX_ITERATIONS:\n",
    "                    print('Did not converge, increase number of iterations')\n",
    "            E_t[i, j] = E\n",
    "    return E_t\n"
   ]
  },
  {
   "cell_type": "code",
   "execution_count": 77,
   "metadata": {},
   "outputs": [
    {
     "data": {
      "text/plain": [
       "(250,)"
      ]
     },
     "execution_count": 77,
     "metadata": {},
     "output_type": "execute_result"
    }
   ],
   "source": [
    "ks[1].shape"
   ]
  },
  {
   "cell_type": "code",
   "execution_count": 118,
   "metadata": {},
   "outputs": [],
   "source": [
    "import gc\n",
    "\n",
    "# Doing for the 1 orbit, using the period of the slowest deb.\n",
    "mu = 398600.4418 #km^3s^-2\n",
    "T = ks[8, :]\n",
    "\n",
    "t1, t2, dt = 0, 20*np.ceil(max(T)), 60*5\n",
    "\n",
    "times      = np.arange(t1, t2, dt)\n",
    "\n",
    "# Mean anomaly rate of change\n",
    "M_dt       = np.sqrt(mu/ks[0, :]**3)\n",
    "\n",
    "Nd         = len(M_dt)\n",
    "Nt         = len(times)\n",
    "\n",
    "# Mean anomaly over time\n",
    "M_t        = np.deg2rad(ks[5, :, None]) + M_dt[:, None] * times[None, :]\n",
    "M_t        = np.rad2deg(np.mod(M_t, 2*np.pi))\n",
    "\n",
    "# Eccentric anomaly over time. Note need to use E_t in rad, thus convert to deg after using it in\n",
    "# x1 and x2\n",
    "E_t        = np.empty(shape=(Nd, Nt), dtype=np.float32)\n",
    "E_t        = M2E(ks[1], np.deg2rad(M_t))\n",
    "\n",
    "x1         = np.sqrt(1 + ks[1, :])[:, None] * np.sin(E_t / 2)\n",
    "x2         = np.sqrt(1 - ks[1, :])[:, None] * np.cos(E_t / 2)\n",
    "E_t        = np.rad2deg(E_t)\n",
    "\n",
    "# True anomaly over time\n",
    "nu_t       = (2*np.arctan2(x1, x2) % (2*np.pi))\n",
    "nu_t       = np.rad2deg(nu_t).T"
   ]
  },
  {
   "cell_type": "code",
   "execution_count": 119,
   "metadata": {},
   "outputs": [],
   "source": [
    "import visualize_deb as vis\n",
    "reload(vis)\n",
    "\n",
    "# Remove data for debris that have a periapsis less than or equal to earh radius\n",
    "periapsis = ks[0, :] * (1 - ks[1, :])\n",
    "indexes = np.argwhere(periapsis > 6371)\n",
    "\n",
    "ks_pruned = np.squeeze(ks[:, indexes])\n",
    "nu_pruned = nu_t[:, indexes][:, :, 0]\n",
    "\n",
    "cartesian_states = np.empty(shape=(len(times), 2, ks_pruned.T.shape[0], 3))\n",
    "for i in prange(len(times)):\n",
    "    cartesian_state = np.array(ct.coe2rv_many(k=mu,\n",
    "                                              p=ks_pruned[7, :],\n",
    "                                              ecc=ks_pruned[1, :],\n",
    "                                              inc=ks_pruned[2, :],\n",
    "                                              raan=ks_pruned[3, :],\n",
    "                                              argp=ks_pruned[4, :],\n",
    "                                              nu=nu_pruned[i, :])\n",
    "                              )\n",
    "    cartesian_states[i] = cartesian_state\n",
    "                                        \n",
    "data = np.swapaxes(cartesian_states,0,1)[0, :, :, :]\n",
    "#vis.generate_visualization(data, \"Ellipsoid2\")\n"
   ]
  },
  {
   "cell_type": "markdown",
   "metadata": {},
   "source": [
    "<h4>3.4.2 Particle Debris flux</h4>\n",
    "\n",
    "Using a particle flux to determine when the fragments of the debris have finished the formation of the ring. Indicating the end of the first phase of the debris cloud formation. This is accomplished by creating an xz plane and detecting when particles have switched from one side to the other. This approach will cause a peak as fragments pass through that becomes uniform as the debris becomes uniformly spread out."
   ]
  },
  {
   "cell_type": "code",
   "execution_count": 125,
   "metadata": {},
   "outputs": [],
   "source": [
    "def fragmentation_flux(X):\n",
    "    return np.sum((X[:-1, :, 1] < 0) & (X[1:, :, 1] > 0), axis=1)\n",
    "    \n",
    "    "
   ]
  },
  {
   "cell_type": "code",
   "execution_count": 201,
   "metadata": {},
   "outputs": [
    {
     "data": {
      "text/plain": [
       "True"
      ]
     },
     "execution_count": 201,
     "metadata": {},
     "output_type": "execute_result"
    }
   ],
   "source": [
    "position = cartesian_states[:, 0, :, :]\n",
    "flux = fragmentation_flux(position)\n",
    "peaks, peak_plateaus = find_peaks(- flux, plateau_size = 1)\n",
    "\n",
    "test_flux = flux[:100]\n",
    "\n",
    "plt.plot(range(len(test_flux)), test_flux)\n",
    "plt.show()\n",
    "\n",
    "def converged(X, tol):\n",
    "    n = 10\n",
    "    diff = X[-n-1: -1] - X[-n-2: -2]\n",
    "    mean = np.mean(abs(diff))\n",
    "    return mean < tol\n",
    "    \n",
    "    \n",
    "converged(test_flux, 0.02 * position.shape[1])"
   ]
  },
  {
   "cell_type": "code",
   "execution_count": 188,
   "metadata": {},
   "outputs": [
    {
     "data": {
      "text/plain": [
       "2.29"
      ]
     },
     "execution_count": 188,
     "metadata": {},
     "output_type": "execute_result"
    }
   ],
   "source": [
    "position.shape[1] * 0.01"
   ]
  },
  {
   "cell_type": "code",
   "execution_count": 130,
   "metadata": {},
   "outputs": [],
   "source": [
    "plt.plot(range(len(flux)), np.gradient(flux))\n",
    "plt.show()"
   ]
  },
  {
   "cell_type": "code",
   "execution_count": 105,
   "metadata": {},
   "outputs": [],
   "source": [
    "import mpl_toolkits.mplot3d.axes3d as p3\n",
    "\n",
    "fig = plt.figure()\n",
    "ax = p3.Axes3D(fig)\n",
    "\n",
    "ax.set_xlim3d(-6378.0-1000, 6378.0+1000)\n",
    "ax.set_xlabel('X (km)')\n",
    "\n",
    "ax.set_ylim3d([-6378.0-1000, 6378.0+1000])\n",
    "ax.set_ylabel('Y (km)')\n",
    "\n",
    "ax.set_zlim3d([-6378.0-1000, 6378.0+1000])\n",
    "ax.set_zlabel('Z (km)')\n",
    "\n",
    "# Plot central body\n",
    "earth_radius = 3378.0 #km\n",
    "_u, _v = np.mgrid[0:2*np.pi:20j, 0:np.pi:10j]\n",
    "_x = earth_radius*np.cos(_u)*np.sin(_v)\n",
    "_y = earth_radius*np.sin(_u)*np.sin(_v)\n",
    "_z = earth_radius*np.cos(_v)\n",
    "\n",
    "ax.plot_surface(_x, _y, _z, cmap=cm.coolwarm)\n",
    "\n",
    "_u, _v = np.mgrid[0:2*np.pi/3:20j, 0:np.pi:10j]\n",
    "_x = 1.5*earth_radius*np.cos(_u)*np.sin(_v)\n",
    "_y = 0 * _u\n",
    "_z = 1.1*earth_radius*np.cos(_v)\n",
    "\n",
    "ax.plot_surface(_x, _y, _z, cmap=cm.seismic)\n",
    "plt.show()"
   ]
  },
  {
   "cell_type": "markdown",
   "metadata": {},
   "source": [
    "<h3> Implementing drag </h3>\n",
    "\n",
    "\"where cd is the drag coefficient of the fragment, which is assumed to be constant and equal to 2.2 (Valdo)\""
   ]
  },
  {
   "cell_type": "code",
   "execution_count": null,
   "metadata": {},
   "outputs": [],
   "source": [
    "from scipy.special import iv\n",
    "\n",
    "\n",
    "radius_earth = 6371 # km \n",
    "def deda_dt(t, state, A, M):    \n",
    "    \n",
    "    e, a = state.copy().reshape((2, len(A))) # Needed to be copied why?\n",
    "    \n",
    "    I = a*(1-e) < radius_earth + 50 # 50 km above earth sats are doomed \n",
    "    a[I] = 0\n",
    "    e[I] = 0\n",
    "    \n",
    "    \"\"\"Returns differential equation modeling drag on each piece of debris\n",
    "    Args:\n",
    "        M (array): Mass\n",
    "        e (array): Eccentricity\n",
    "        A (array): Cross-sectionl Area\n",
    "        a (array): Semi-Major Axis\n",
    "        r (array): Position\n",
    "    \"\"\"\n",
    "    c_d = 2.2 # Drag coefficient\n",
    "    drag_coef = (-(c_d * A) / M)\n",
    "    \n",
    "    atm_density = atmosphere_density(a - radius_earth)\n",
    "    #atm_density[np.argwhere(np.isnan(atm_density))] = 0\n",
    "    \n",
    "    # dedt\n",
    "    dedt = np.zeros_like(e)\n",
    "    I    = (e>=0.001)\n",
    "    dedt[I] = (drag_coef[I] * np.sqrt(grav_param_earth / a[I]) * atm_density[I])\n",
    "    I    = I & (e<0.01)\n",
    "    x    = (a[I] * e[I]) / scale_height(a[I])\n",
    "    dedt[I] *= iv(1,x) + (e[I]/2)*(iv(0,x) + iv(2,x))\n",
    "    \n",
    "    # dadt\n",
    "    dadt = np.empty_like(a)                          \n",
    "    dadt = drag_coef * np.sqrt(grav_param_earth * a) * atm_density\n",
    "\n",
    "    I    = (e>=0.001) & (e < 0.01)\n",
    "    x    = (a[I] * e[I]) / scale_height(a[I])\n",
    "    dadt[I] *= (iv(0,x) + 2*e[I]*iv(1,x))\n",
    "    I = (e >= 0.01)\n",
    "    x    = (a[I] * e[I]) / scale_height(a[I])    \n",
    "    dadt[I] *= iv(0, x) + 2*e[I]*iv(1, x) + (3/4)*e[I]**2*(iv(0, x) + iv(2, x)) + (e[I]**3/4)*(3*iv(1, x) + iv(3, x))\n",
    "    \n",
    "    dedt[np.argwhere(np.isnan(dedt))] = 0\n",
    "    dadt[np.argwhere(np.isnan(dadt))] = 0\n",
    "    \n",
    "    output = np.hstack((dedt, dadt))\n",
    "    \n",
    "    return output"
   ]
  },
  {
   "cell_type": "code",
   "execution_count": null,
   "metadata": {},
   "outputs": [],
   "source": [
    "state = np.concatenate((keplerian_states[1, :], keplerian_states[0, :]))\n"
   ]
  },
  {
   "cell_type": "code",
   "execution_count": null,
   "metadata": {},
   "outputs": [],
   "source": [
    "times = np.linspace(0, T[0]*5, 2)\n",
    "output = integrate.solve_ivp(deda_dt, times, state, t_eval = times, args = (areas, masses), vectorized=True)"
   ]
  },
  {
   "cell_type": "code",
   "execution_count": null,
   "metadata": {
    "scrolled": false
   },
   "outputs": [],
   "source": [
    "de = output.y[0:len(areas), :]\n",
    "da = output.y[len(areas):output.y.shape[0], :]"
   ]
  },
  {
   "cell_type": "code",
   "execution_count": null,
   "metadata": {},
   "outputs": [],
   "source": [
    "print(keplerian_states[1,0])\n",
    "print(de[0, :])"
   ]
  },
  {
   "cell_type": "code",
   "execution_count": null,
   "metadata": {},
   "outputs": [],
   "source": [
    "periapsis = keplerian_states[0, :] * (1 - keplerian_states[1, :])\n",
    "print( np.sum(periapsis < 6378) / np.sum(periapsis >= 6378))"
   ]
  },
  {
   "cell_type": "markdown",
   "metadata": {},
   "source": [
    "# NEED TO ASK ABOUT INTEGRATION AND ARRAY FRIENDLY CONVERSION\n",
    "<h3>3.6 Performing the integration </h3>"
   ]
  },
  {
   "cell_type": "markdown",
   "metadata": {},
   "source": [
    "<h1>4. Visualization </h1>"
   ]
  }
 ],
 "metadata": {
  "kernelspec": {
   "display_name": "py38",
   "language": "python",
   "name": "py38"
  },
  "language_info": {
   "codemirror_mode": {
    "name": "ipython",
    "version": 3
   },
   "file_extension": ".py",
   "mimetype": "text/x-python",
   "name": "python",
   "nbconvert_exporter": "python",
   "pygments_lexer": "ipython3",
   "version": "3.8.5"
  }
 },
 "nbformat": 4,
 "nbformat_minor": 4
}
