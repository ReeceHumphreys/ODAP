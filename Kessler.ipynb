{
 "cells": [
  {
   "cell_type": "markdown",
   "metadata": {},
   "source": [
    "<h1>0. Packages</h1>"
   ]
  },
  {
   "cell_type": "code",
   "execution_count": 1,
   "metadata": {
    "ExecuteTime": {
     "end_time": "2021-03-03T00:32:00.340079Z",
     "start_time": "2021-03-03T00:31:55.348807Z"
    }
   },
   "outputs": [
    {
     "data": {
      "text/html": [
       "<div id=\"glowscript\" class=\"glowscript\"></div>"
      ],
      "text/plain": [
       "<IPython.core.display.HTML object>"
      ]
     },
     "metadata": {},
     "output_type": "display_data"
    },
    {
     "data": {
      "application/javascript": [
       "if (typeof Jupyter !== \"undefined\") { window.__context = { glowscript_container: $(\"#glowscript\").removeAttr(\"id\")};}else{ element.textContent = ' ';}"
      ],
      "text/plain": [
       "<IPython.core.display.Javascript object>"
      ]
     },
     "metadata": {},
     "output_type": "display_data"
    }
   ],
   "source": [
    "from importlib import reload\n",
    "import numpy as np\n",
    "import re\n",
    "import skyfield.sgp4lib as spg4\n",
    "from   skyfield.api import wgs84\n",
    "import matplotlib \n",
    "import PyQt5\n",
    "import chart_studio.plotly as py\n",
    "import plotly.graph_objects as go\n",
    "\n",
    "# User defined lib.\n",
    "import generate_debris as gd\n",
    "import CoordTransforms as ct\n",
    "import visualize_deb as vis\n",
    "import planetary_data\n",
    "\n",
    "reload(gd)\n",
    "reload(ct)\n",
    "\n",
    "matplotlib.use('Agg')\n",
    "import matplotlib.pyplot as plt\n",
    "from scipy.stats import uniform\n",
    "from scipy.stats import norm\n",
    "import scipy.stats as stats\n",
    "from enum import IntEnum    \n",
    "from mpl_toolkits.mplot3d import Axes3D\n",
    "import matplotlib.pyplot as plt\n",
    "import numpy as np\n",
    "from itertools import product, combinations\n",
    "from matplotlib import cm\n",
    "from scipy import integrate\n",
    "import pandas as pd\n",
    "from numba import njit, prange\n",
    "\n",
    "\n",
    "%matplotlib qt5\n",
    "\n",
    "debris_category = IntEnum('Category', 'rb sc soc')"
   ]
  },
  {
   "cell_type": "code",
   "execution_count": 2,
   "metadata": {
    "ExecuteTime": {
     "end_time": "2021-03-01T01:24:29.915422Z",
     "start_time": "2021-03-01T01:24:29.897577Z"
    }
   },
   "outputs": [],
   "source": [
    "# Create Directory to Save Figures to\n",
    "import os\n",
    "\n",
    "if not os.path.exists(\"figures\"):\n",
    "    os.mkdir(\"figures\")"
   ]
  },
  {
   "cell_type": "markdown",
   "metadata": {},
   "source": [
    "<h1>1. Data Structure</h1>\n",
    "\n",
    "<h3>1.1 Satellite Structure</h3>\n",
    "\n",
    "Creating an object to represent satellite from 3le.txt <br>\n",
    "May end up using implementation from another package\n",
    "\n",
    "<b>Data sources:<b><br>\n",
    "https://www.space-track.org    \n",
    "https://www.celestrak.com/NORAD/documentation/spacetrk.pdf\n",
    "\n",
    "<b>Information about 3le/2le:</b><br>\n",
    "https://en.wikipedia.org/wiki/Two-line_element_set#cite_note-nasahelp-12\n",
    "https://spaceflight.nasa.gov/realdata/sightings/SSapplications/Post/JavaSSOP/SSOP_Help/tle_def.html"
   ]
  },
  {
   "cell_type": "code",
   "execution_count": 3,
   "metadata": {
    "ExecuteTime": {
     "end_time": "2021-03-01T01:24:33.438722Z",
     "start_time": "2021-03-01T01:24:33.421724Z"
    }
   },
   "outputs": [],
   "source": [
    "# class two_line_element:\n",
    "    \n",
    "#     def __init__(self, data):\n",
    "#         self.parse_data(data)\n",
    "        \n",
    "#     def parse_data(self, satelite_data):\n",
    "#         self.title = satelite_data[0]\n",
    "#         line_one = satelite_data[1].split()\n",
    "#         line_two = satelite_data[2].split()\n",
    "\n",
    "#         self.catalog_number = re.search('[0-9]{1,5}', line_one[0]).group()\n",
    "#         self.classification = re.search('[UCS]', line_one[0]).group()\n",
    "\n",
    "#         international_designator = re.search('([0-9]{2})([0-9]{3})(\\w{1,3})', line_one[1])\n",
    "#         self.launch_year = international_designator.group(1)\n",
    "#         self.launch_number = international_designator.group(2)\n",
    "#         self.launch_piece =  international_designator.group(3)\n",
    "\n",
    "#         epoch = re.search('([0-9]{2})(\\d+\\.\\d+)', line_one[2])\n",
    "#         self.epoch_year = epoch.group(1)\n",
    "#         self.epoch_day = epoch.group(2)\n",
    "\n",
    "#         self.ballistic_coefficient = float(line_one[3])\n",
    "#         self.mean_motion_double_prime = line_one[4]\n",
    "#         self.BSTAR = line_one[5]\n",
    "\n",
    "#         self.inclination = line_two[1]\n",
    "#         self.right_ascension_of_ascending_node = line_two[2]\n",
    "#         self.eccentricity = line_two[3]\n",
    "#         self.argument_of_perigee = line_two[4]\n",
    "\n",
    "#         mean_anomaly = line_two[5]"
   ]
  },
  {
   "cell_type": "markdown",
   "metadata": {},
   "source": [
    "<h3>Data structure implementation using spg4 from skyfield library<h3>"
   ]
  },
  {
   "cell_type": "code",
   "execution_count": 129,
   "metadata": {
    "ExecuteTime": {
     "end_time": "2021-03-02T05:19:08.287468Z",
     "start_time": "2021-03-02T05:19:07.275170Z"
    }
   },
   "outputs": [
    {
     "name": "stdout",
     "output_type": "stream",
     "text": [
      "('0 VANGUARD 1', '1     5U 58002B   19352.86539842  .00000184  00000-0  20948-3 0  9994', '2     5  34.2610  67.7117 1845282 255.2293  83.7559 10.84789954185624')\n",
      "STARLINK-1026 TLE:\n",
      "0 STARLINK-31 catalog #44235 epoch 2019-12-19 06:00:01 UTC\n"
     ]
    }
   ],
   "source": [
    "# # Opening the .txt file\n",
    "# with open(\"3le.txt\") as f:\n",
    "#     txt = f.read()\n",
    "    \n",
    "# sat_lines = re.findall('(.*?)\\n(.*?)\\n(.*?)\\n', txt)\n",
    "\n",
    "# # Preview of `sat_lines`, each element should be the three lines representing a satellite\n",
    "# print(sat_lines[0])\n",
    "\n",
    "# # Convert each group of 3 lines into a satelite object\n",
    "# def line_element_to_satellite(lines):\n",
    "#     title = lines[0]\n",
    "#     line1 = lines[1]\n",
    "#     line2 = lines[2]\n",
    "#     return spg4.EarthSatellite(line1, line2, name=title)\n",
    "\n",
    "# satellites = [line_element_to_satellite(lines) for lines in sat_lines]\n",
    "\n",
    "# # Verify data structure by finding element representing the ISS\n",
    "# starlink_index = [sat.name for sat in satellites].index(\"0 STARLINK-31\")\n",
    "# starlink = satellites[starlink_index]\n",
    "# print(\"STARLINK-1026 TLE:\")\n",
    "# print(starlink)"
   ]
  },
  {
   "cell_type": "markdown",
   "metadata": {},
   "source": [
    "<h3>1.2 Celestial Bodies</h3>\n",
    "\n",
    "\n",
    "de421.bsp is a Ephemerides provided by JPL Horizon which has the calculated positions of celestial bodies within a certain time interval. de421 is commonly used due to its small size and its relativley up to date information"
   ]
  },
  {
   "cell_type": "code",
   "execution_count": 4,
   "metadata": {},
   "outputs": [],
   "source": [
    "# from skyfield.api import load, EarthSatellite\n",
    "# ts = load.timescale(builtin=True)\n",
    "\n",
    "# # Loading the data from de421.bsp using skyfield \n",
    "# planets = load('de421.bsp')\n",
    "\n",
    "# # Finding the data about Earth\n",
    "# earth = planets[\"Earth\"]"
   ]
  },
  {
   "cell_type": "markdown",
   "metadata": {},
   "source": [
    "<h1>2. Breakup Models</h1>\n",
    "\n",
    "<h3>2.1 NASA breakup model</h3>\n",
    "\n",
    "<b>Implementation:</b> (Found on page 207)<br>\n",
    "https://www.researchgate.net/publication/295490674_Space_debris_cloud_evolution_in_Low_Earth_Orbit\n",
    "\n",
    "<b>Alternate implementation:</b><br>\n",
    "https://gitlab.obspm.fr/apetit/nasa-breakup-model/tree/master\n",
    "\n",
    "<b>Information:</b><br>\n",
    "https://digitalcommons.calpoly.edu/cgi/viewcontent.cgi?referer=https://en.wikipedia.org/&httpsredir=1&article=1094&context=theses\n",
    "\n",
    "\n",
    "<b>Now implemented in file generate_debris.py</b><br>"
   ]
  },
  {
   "cell_type": "markdown",
   "metadata": {},
   "source": [
    "<h3>2.2 NASA breakup model validation</h3>"
   ]
  },
  {
   "cell_type": "code",
   "execution_count": null,
   "metadata": {
    "scrolled": true
   },
   "outputs": [],
   "source": [
    "# Explosion Case\n",
    "\n",
    "reload(gd)\n",
    "\n",
    "m_target = 1000 # [kg]\n",
    "\n",
    "# Do not need to specify projectile mass, and collision velocity for an explosion\n",
    "L_c, areas, masses, AM = gd.fragmentation(m_target, 0, 0, False, debris_category.rb, True)\n",
    "\n",
    "bins = [1e-3, 1e-2, 1e-1, 1, np.inf] # L_c bins in meters\n",
    "h,b = np.histogram(L_c, bins=bins)\n",
    "\n",
    "ch = [ { f'>{bins[i]}m':np.sum(h[i:]) for i in range(len(h))}]\n",
    "\n",
    "df = pd.DataFrame(ch)\n",
    "df"
   ]
  },
  {
   "cell_type": "code",
   "execution_count": null,
   "metadata": {
    "scrolled": true
   },
   "outputs": [],
   "source": [
    "# reload(gd)\n",
    "\n",
    "# %matplotlib inline\n",
    "\n",
    "# L_c, areas, masses, AM = gd.fragmentation(1000, 10, 10, True, debris_category.rb, False)\n",
    "# N_fragments_total = L_c.shape[0]\n",
    "# lambda_c = np.log10(L_c)\n",
    "\n",
    "# def create_log_bins(values, nbins=100):\n",
    "#     #return np.geomspace(values.min(), values.max(), nbins)\n",
    "#     bins = np.geomspace(values.min(), values.max(), nbins)\n",
    "#     a = bins[1]/bins[0]\n",
    "#     bins = np.concatenate([[bins[0]/a], bins,[bins[-1]*a]])\n",
    "#     return bins\n",
    "\n",
    "# # # # Validating L_c\n",
    "# # h, b = np.histogram(L_c, bins=create_log_bins(L_c))\n",
    "# # plt.figure(figsize=(5,5))\n",
    "# # plt.xscale('log')\n",
    "# # plt.xlabel(r'$L_{c}$')\n",
    "# # plt.ylabel(r'$N_f$')\n",
    "# # plt.gca().set_xticks([1e-3, 1e-2, 1e-1, 1, 10])\n",
    "# # plt.gca().set_xlim([1e-3,10])\n",
    "# # plt.ticklabel_format(axis=\"y\", style=\"sci\", scilimits=(0,5))\n",
    "# # plt.gca().set_yticks([0, 2e5, 4e5, 6e5, 8e5])\n",
    "# # plt.gca().set_ylim([0,8e5])\n",
    "# # plt.plot((b[:-1] + b[1:])/2, h, '.-')\n",
    "# # plt.show()\n",
    "\n",
    "# # # # Validating Areas\n",
    "# # h, b = np.histogram(areas, bins=create_log_bins(areas))\n",
    "# # plt.figure(figsize=(5,5))\n",
    "# # plt.xscale('log')\n",
    "# # plt.xlabel(r'$Areas$')\n",
    "# # plt.ylabel(r'$N_f$')\n",
    "# # plt.gca().set_xticks([1e-8,1e-6, 1e-4, 1e-2, 1, 1e2])\n",
    "# # plt.gca().set_xlim([1e-8,1e2])\n",
    "# # plt.ticklabel_format(axis=\"y\", style=\"sci\", scilimits=(0,5))\n",
    "# # plt.gca().set_yticks([0, 2e5, 4e5, 6e5, 8e5])\n",
    "# # plt.gca().set_ylim([0,8e5])\n",
    "# # plt.plot((b[:-1] + b[1:])/2, h, '.-')\n",
    "# # plt.show()\n",
    "\n",
    "# # # Validating Mass & Velocity\n",
    "# # h, b = np.histogram(masses, bins=create_log_bins(masses))\n",
    "# # plt.figure(figsize=(5,5))\n",
    "# # plt.xscale('log')\n",
    "# # plt.xlabel(r'$Masses$')\n",
    "# # plt.ylabel(r'$N_f$')\n",
    "# # plt.gca().set_xticks([1e-8, 1e-5, 1e-2, 10, 1e4])\n",
    "# # plt.gca().set_xlim([1e-8,1e4])\n",
    "# # plt.ticklabel_format(axis=\"y\", style=\"sci\", scilimits=(0,5))\n",
    "# # plt.gca().set_yticks([0, 2e5, 4e5, 6e5, 8e5])\n",
    "# # plt.gca().set_ylim([0,8e5])\n",
    "# # plt.plot((b[:-1] + b[1:])/2, h, '.-')\n",
    "# # plt.show()\n",
    "\n",
    "# # # # Validating Velocity\n",
    "# # deltaV = np.array(gd.distribution_deltaV(AM, 10, False))\n",
    "# # h, b = np.histogram(deltaV, bins=create_log_bins(deltaV))\n",
    "# # plt.figure(figsize=(5,5))\n",
    "# # plt.xscale('log')\n",
    "# # plt.xlabel(r'$\\delta V$')\n",
    "# # plt.ylabel(r'$N_f$')\n",
    "# # plt.gca().set_xticks([1e-3, 1e-2, 1e-1, 1, 10])\n",
    "# # plt.gca().set_xlim([1e-3,10])\n",
    "# # plt.grid()\n",
    "# # plt.plot((b[:-1] + b[1:])/2, h, '.-')\n",
    "# # plt.ticklabel_format(axis=\"y\", style=\"sci\", scilimits=(0,5))\n",
    "# # plt.gca().set_yticks([0, 2e5, 4e5, 6e5, 8e5])\n",
    "# # plt.gca().set_ylim([0,8e5])\n",
    "# # plt.show()"
   ]
  },
  {
   "cell_type": "markdown",
   "metadata": {},
   "source": [
    "<h3>2.3 and Onward will be alternate breakup models</h3>"
   ]
  },
  {
   "cell_type": "markdown",
   "metadata": {},
   "source": [
    "<h1>3. Numerical Propagation</h1>"
   ]
  },
  {
   "cell_type": "markdown",
   "metadata": {},
   "source": [
    "<h3>3.2 Calculating Orbital Debris Properties</h3>"
   ]
  },
  {
   "cell_type": "code",
   "execution_count": 5,
   "metadata": {
    "scrolled": false
   },
   "outputs": [
    {
     "name": "stderr",
     "output_type": "stream",
     "text": [
      "/Users/reecehumphreys/Developer/Thesis/Thesis/generate_debris.py:368: RuntimeWarning: invalid value encountered in power\n",
      "  found_L_c = np.sort((area / 0.556945)**(1/2.0047077)) # Inversing the Area function defined above\n"
     ]
    }
   ],
   "source": [
    "# from skyfield.api import load, EarthSatellite\n",
    "# reload(gd)\n",
    "\n",
    "# ts = load.timescale(builtin=True)\n",
    "\n",
    "# t_fragmentation = ts.now()\n",
    "# geocentric      = starlink.at(t_fragmentation)\n",
    "# init_position   = geocentric.position.m\n",
    "\n",
    "# m_target         = 250   # [kg] (Approx. mass of starlink sat)\n",
    "# m_projectile     = 200     # [kg]\n",
    "# v_impact         = 2   # [km·s^-1] (Measured relative to the target) (Needs to be in km·s^-1)\n",
    "# is_catastrophic  = False\n",
    "# is_explosion     = False\n",
    "\n",
    "# L_c, areas, masses, AM = gd.fragmentation(m_target, m_projectile, v_impact, is_catastrophic, debris_category.sc, is_explosion)\n",
    "# #deltaV = np.array(gd.distribution_deltaV(AM, v_impact, False)) # Returns as [km·s^-1]\n",
    "# #deltaV = deltaV * 1e3    #[m·s^-1]"
   ]
  },
  {
   "cell_type": "markdown",
   "metadata": {},
   "source": [
    "<h3>3.3 Converting Cartesian to Keplerian</h3>"
   ]
  },
  {
   "cell_type": "code",
   "execution_count": null,
   "metadata": {},
   "outputs": [],
   "source": [
    "# from numpy.linalg import norm\n",
    "# init_position = geocentric.position.m\n",
    "\n",
    "# reload(planetary_data)\n",
    "# reload(ct)\n",
    "\n",
    "# deb_positions       = np.empty((len(AM), 3))\n",
    "# deb_positions[:, :] = init_position[None,:]\n",
    "# deb_velocities      = gd.velocity_vectors(len(AM), geocentric.velocity.m_per_s, deltaV)\n",
    "\n",
    "# keplerian_state     = ct.rv2coe(deb_positions, deb_velocities, planetary_data.earth['mu'])\n",
    "\n",
    "# print(keplerian_state.shape)\n",
    "# # Removing fragments that would renter earth\n",
    "# periapsis           = keplerian_state[0, :] * (1 - keplerian_state[1, :])\n",
    "# I                   = np.argwhere(periapsis > planetary_data.earth['radius'])\n",
    "# keplerian_state     = np.squeeze(keplerian_state[:, I])\n",
    "# areas  = areas[I].flatten()  # When doing the indexing , a 1d dim being added which is unneccesary\n",
    "# masses              = masses[I].flatten() # When doing the indexing , a 1d dim being added which is unneccesary"
   ]
  },
  {
   "cell_type": "code",
   "execution_count": null,
   "metadata": {},
   "outputs": [],
   "source": [
    "# rand_index = 1\n",
    "\n",
    "# print(\"Cartesian\")\n",
    "# print(\"r: \", deb_positions[rand_index, :])\n",
    "# print(\"v: \", deb_velocities[rand_index, :])\n",
    "# print(\"m: \", masses[rand_index])\n",
    "# print(\"m_E: \", planetary_data.earth['mass'])\n",
    "# print(\"Keplerian\")\n",
    "# ks_rand = keplerian_state[:, rand_index]\n",
    "# print(\"a: \", ks_rand[0]) # a is tyically off in the thousands place\n",
    "# print(\"e: \", ks_rand[1])\n",
    "# print(\"i: \", ks_rand[2])\n",
    "# print(\"Omega: \", ks_rand[3]) \n",
    "# print(\"omega: \", ks_rand[4])\n",
    "# print(\"M: \", ks_rand[5])\n",
    "# print(\"nu: \", ks_rand[6])\n",
    "# print()"
   ]
  },
  {
   "cell_type": "markdown",
   "metadata": {},
   "source": [
    "<h3>3.4 Testing coverting back to Cartesian</h3>"
   ]
  },
  {
   "cell_type": "code",
   "execution_count": null,
   "metadata": {},
   "outputs": [],
   "source": [
    "# reload(ct)\n",
    "\n",
    "# %matplotlib notebook\n",
    "\n",
    "# indexes = np.random.default_rng().choice(keplerian_state.shape[1], size=1000, replace=False)\n",
    "# ks_sample = keplerian_state[:, indexes]\n",
    "\n",
    "# cartesian_state = np.array(ct.coe2rv_many(k=planetary_data.earth['mu'],\n",
    "#                               p=ks_sample[7, :],\n",
    "#                               ecc=ks_sample[1, :],\n",
    "#                               inc=ks_sample[2, :],\n",
    "#                               raan=ks_sample[3, :],\n",
    "#                               argp=ks_sample[4, :],\n",
    "#                               nu=ks_sample[6, :]))\n",
    "# radius_earth = planetary_data.earth['radius']\n",
    "# r = cartesian_state[0, :, :]\n",
    "# fig = plt.figure()\n",
    "# ax = fig.add_subplot(111, projection='3d')\n",
    "# ax.scatter(r[:, 0], r[:, 1], r[:, 2])\n",
    "# ax.set_xlim3d([-radius_earth-1000*1e3, radius_earth+1000*1e3])\n",
    "# ax.set_xlabel('X (m)')\n",
    "\n",
    "# ax.set_ylim3d([-radius_earth-1000*1e3, radius_earth+1000*1e3])\n",
    "# ax.set_ylabel('Y (m)')\n",
    "\n",
    "# ax.set_zlim3d([-radius_earth-1000*1e3, radius_earth+1000*1e3])\n",
    "# ax.set_zlabel('Z (m)')\n",
    "\n",
    "# _u, _v = np.mgrid[0:2*np.pi:20j, 0:np.pi:10j]\n",
    "# _x = radius_earth*np.cos(_u)*np.sin(_v)\n",
    "# _y = radius_earth*np.sin(_u)*np.sin(_v)\n",
    "# _z = radius_earth*np.cos(_v)\n",
    "\n",
    "# ax.plot_surface(_x, _y, _z, cmap=cm.coolwarm)\n",
    "# plt.show()"
   ]
  },
  {
   "cell_type": "code",
   "execution_count": null,
   "metadata": {},
   "outputs": [],
   "source": [
    "# keplerian_state.shape\n",
    "# masses.shape"
   ]
  },
  {
   "cell_type": "markdown",
   "metadata": {},
   "source": [
    "<h3>3.4 Debris Cloud formation</h3>"
   ]
  },
  {
   "cell_type": "code",
   "execution_count": null,
   "metadata": {
    "scrolled": true
   },
   "outputs": [],
   "source": [
    "# ## Shrink number of debris being used\n",
    "# indexes = np.random.default_rng().choice(keplerian_state.shape[1], size=250, replace=False)\n",
    "\n",
    "# ks = keplerian_state[:, indexes]\n",
    "# masses = masses[indexes]\n",
    "# areas = areas[indexes]\n",
    "# deb_positions = deb_positions[indexes, :]\n",
    "# deb_velocities = deb_velocities[indexes, :]"
   ]
  },
  {
   "cell_type": "code",
   "execution_count": null,
   "metadata": {},
   "outputs": [],
   "source": [
    "# np.savez(\"debris.npz\",\n",
    "#          keplerian_states=ks,\n",
    "#          masses=masses,\n",
    "#          areas=areas,\n",
    "#          deb_positions=deb_positions,\n",
    "#          deb_velocities=deb_velocities)"
   ]
  },
  {
   "cell_type": "code",
   "execution_count": 2,
   "metadata": {
    "ExecuteTime": {
     "end_time": "2021-03-03T00:32:12.028623Z",
     "start_time": "2021-03-03T00:32:12.005771Z"
    }
   },
   "outputs": [],
   "source": [
    "container = np.load('debris.npz')\n",
    "ks = container['keplerian_states']\n",
    "masses = container['masses']\n",
    "areas = container['areas']\n",
    "deb_positions = container['deb_positions']\n",
    "deb_velocities = container['deb_velocities']"
   ]
  },
  {
   "cell_type": "markdown",
   "metadata": {},
   "source": [
    "<h4>3.4.1 Ellisoid formation</h4>"
   ]
  },
  {
   "cell_type": "code",
   "execution_count": 3,
   "metadata": {
    "ExecuteTime": {
     "end_time": "2021-03-03T00:32:27.531017Z",
     "start_time": "2021-03-03T00:32:16.068682Z"
    }
   },
   "outputs": [],
   "source": [
    "import Perturbations as OP\n",
    "import planetary_data as pd\n",
    "from Perturbations import null_perts\n",
    "\n",
    "reload(OP)\n",
    "\n",
    "# Cleanup states to remove any fragments that would deorbit, given no perturbations\n",
    "periapsis     = ks[0, :] * (1 - ks[1, :])\n",
    "I             = np.argwhere(periapsis > pd.earth['radius'])\n",
    "ks_pruned     = np.squeeze(ks[:, I])\n",
    "T             = ks_pruned[8, :]\n",
    "areas_pruned  = areas[I].flatten()  # When doing the indexing , a 1d dim being added which is unneccesary\n",
    "masses_pruned = masses[I].flatten() # When doing the indexing , a 1d dim being added which is unneccesary\n",
    "\n",
    "# Propagate orbit for a period of time\n",
    "perts = null_perts()\n",
    "perts['aero'] = True\n",
    "perts['J2']   = True\n",
    "op = OP.OrbitPropagator(ks_pruned, areas_pruned, masses_pruned, [0, 40*np.ceil(max(T))], 60*5, perts=perts)\n",
    "op.propagate_orbit()\n",
    "\n",
    "# Get the cartesian state representation\n",
    "cartesian_states = op.cartesian_representation()"
   ]
  },
  {
   "cell_type": "markdown",
   "metadata": {},
   "source": [
    "<h4>3.4.2 Particle Debris flux</h4>\n",
    "\n",
    "Using a particle flux to determine when the fragments of the debris have finished the formation of the ring. Indicating the end of the first phase of the debris cloud formation. This is accomplished by creating an xz plane and detecting when particles have switched from one side to the other. This approach will cause a peak as fragments pass through that becomes uniform as the debris becomes uniformly spread out."
   ]
  },
  {
   "cell_type": "code",
   "execution_count": 4,
   "metadata": {
    "ExecuteTime": {
     "end_time": "2021-03-03T00:32:31.696844Z",
     "start_time": "2021-03-03T00:32:31.682821Z"
    }
   },
   "outputs": [],
   "source": [
    "import time\n",
    "import matplotlib.dates as mdates\n",
    "from dateutil import tz\n",
    "\n",
    "def fragmentation_flux(X):\n",
    "    return np.sum((X[:-1, :, 1] < 0) & (X[1:, :, 1] > 0), axis=1)\n",
    "    \n",
    "position = cartesian_states[:, 0, :, :]\n",
    "flux = fragmentation_flux(position)"
   ]
  },
  {
   "cell_type": "markdown",
   "metadata": {},
   "source": [
    "<h4>3.4.3 Convergence of the flux</h4>\n",
    "\n",
    "The next step is determining when the fragments have ended the torroid formation phase. This occurs when the fragments are approximately uniformally spread out. We can check to see when the flux meets a convergence criterion to determine when this happens."
   ]
  },
  {
   "cell_type": "code",
   "execution_count": 5,
   "metadata": {
    "ExecuteTime": {
     "end_time": "2021-03-03T00:32:34.000703Z",
     "start_time": "2021-03-03T00:32:33.909692Z"
    }
   },
   "outputs": [],
   "source": [
    "w = 100 # Window of points to look at\n",
    "tol = 1.5\n",
    "convergence_ratio = np.array([np.var(flux[i:i+w])/np.mean(flux[i:i+w]) for i in range(len(flux))])    \n",
    "intersection_index = np.argwhere(convergence_ratio <= tol).flatten()[0] # Grabbing the first point that meets the criteria"
   ]
  },
  {
   "cell_type": "code",
   "execution_count": 230,
   "metadata": {},
   "outputs": [
    {
     "data": {
      "application/vnd.jupyter.widget-view+json": {
       "model_id": "93ca82d5a7fc4d54a29488b4160b11b4",
       "version_major": 2,
       "version_minor": 0
      },
      "text/plain": [
       "FigureWidget({\n",
       "    'data': [{'mode': 'lines',\n",
       "              'name': 'Convergence Ratio',\n",
       "              'type':…"
      ]
     },
     "metadata": {},
     "output_type": "display_data"
    }
   ],
   "source": [
    "# import datetime\n",
    "\n",
    "# # datetimes\n",
    "# t_flux = t_fragmentation.utc_datetime() + np.array(range(len(flux))) * datetime.timedelta(minutes = 5)\n",
    "\n",
    "# # Creating Flux v. Time plot\n",
    "# layout = go.Layout(\n",
    "#     title        = dict(text='$\\\\text{Flux}\\:(\\\\Phi)\\:\\\\text{vs. Time }(t)$',\n",
    "#                         x=0.5),\n",
    "#     xaxis_title  = '$t\\:[days]$',\n",
    "#     yaxis_title  = '$\\\\text{ Number of Fragments that passed XZ plane, }\\Phi\\:$',\n",
    "#     template     = 'plotly_white'\n",
    "# )\n",
    "# data = [\n",
    "#     go.Scatter(x=t_flux, y=flux,\n",
    "#                mode='lines',\n",
    "#                name='Flux'),\n",
    "#     go.Scatter(x=[t_flux[intersection_index], t_flux[intersection_index]], y=[0, np.max(flux)],\n",
    "#                mode='lines',\n",
    "#                line=dict(dash = 'dash'),\n",
    "#                name='Convergence')\n",
    "# ]\n",
    "# fig1 = go.Figure(data=data, layout=layout)\n",
    "# f1 = go.FigureWidget(fig1)\n",
    "# fig1.write_image(\"figures/Flux_v_Time.png\", width=500, height=500, scale=2)\n",
    "\n",
    "# #Creating Convergence Ratio v. Time plot\n",
    "# layout = go.Layout(\n",
    "#     title        = dict(text='Convergence Ratio vs. Time (t)',\n",
    "#                         x=0.5),\n",
    "#     xaxis_title  = '$t\\:[days]$',\n",
    "#     yaxis_title  = 'Convergence Ratio []',\n",
    "#     template     = 'plotly_white',\n",
    "#     legend       = go.layout.Legend(yanchor=\"top\",\n",
    "#                              y=0.99,\n",
    "#                              xanchor=\"right\",\n",
    "#                              x=0.99)\n",
    "# )\n",
    "# data = [\n",
    "#     go.Scatter(x=t_flux, y=convergence_ratio,\n",
    "#                mode='lines',\n",
    "#                name='Convergence Ratio'),\n",
    "#     go.Scatter(x=[t_flux[intersection_index], t_flux[intersection_index]], y=[0, np.max(flux)],\n",
    "#                mode='lines',\n",
    "#                line=dict(dash = 'dash'),\n",
    "#                name='Convergence'),\n",
    "#     go.Scatter(x=[t_flux[0], t_flux[-1]], y=[tol, tol],\n",
    "#                mode='lines',\n",
    "#                line=dict(dash = 'dash'),\n",
    "#                name='Tolerance'),\n",
    "# ]\n",
    "# fig2 = go.Figure(data=data, layout=layout)\n",
    "# fig2.update_yaxes(type=\"log\")\n",
    "# fig2.write_image(\"figures/Convergence_Ratio_v_Time.png\", width=500, height=500, scale=2)\n",
    "\n",
    "# f2 = go.FigureWidget(fig2)\n",
    "# f2"
   ]
  },
  {
   "cell_type": "markdown",
   "metadata": {},
   "source": [
    "<h4>3.4.4 End of band formation</h4>\n",
    "\n",
    "Now that the band has formed, we can shift away from propagating the exact position of each fragments and inplace propgate their changes in eccentricity and semi major axis due to drag. To do this first we must get the final states of the debris after the band has formed."
   ]
  },
  {
   "cell_type": "code",
   "execution_count": 90,
   "metadata": {
    "ExecuteTime": {
     "end_time": "2021-03-03T01:35:01.318335Z",
     "start_time": "2021-03-03T01:35:01.303468Z"
    }
   },
   "outputs": [],
   "source": [
    "from vpython import *\n",
    "\n",
    "reload(vis)\n",
    "\n",
    "cs_toroid = cartesian_states[:intersection_index, :, :, :]\n",
    "ks_toroid = op.states[0:intersection_index, :, :]\n",
    "op.states = ks_toroid\n",
    "\n",
    "# Creating visual\n",
    "\n",
    "data = np.swapaxes(cs_toroid,0,1)[0, :, :, :]\n",
    "#canvas()\n",
    "#vis.visualize(data, op.cb)\n",
    "#vis.generate_visualization(data, \"Band_Formation\", op.cb)\n",
    "#op.states.shape"
   ]
  },
  {
   "cell_type": "markdown",
   "metadata": {},
   "source": [
    "<h3> 4.0.0 Implementing Perturbations </h3>"
   ]
  },
  {
   "cell_type": "markdown",
   "metadata": {},
   "source": [
    "<h4> 4.1.0 atmospheric model </h4>"
   ]
  },
  {
   "cell_type": "code",
   "execution_count": 243,
   "metadata": {},
   "outputs": [
    {
     "data": {
      "application/vnd.jupyter.widget-view+json": {
       "model_id": "c93f6afeede84f588b75b76b65ec287f",
       "version_major": 2,
       "version_minor": 0
      },
      "text/plain": [
       "FigureWidget({\n",
       "    'data': [{'mode': 'lines',\n",
       "              'name': 'U.S Standard Atmosphere',\n",
       "              '…"
      ]
     },
     "metadata": {},
     "output_type": "display_data"
    }
   ],
   "source": [
    "# import Aerodynamics as aero\n",
    "\n",
    "# upper_bound = 900 * 1e3                         #[m]\n",
    "# altitudes   = np.arange(0, upper_bound, 25)      #[m]\n",
    "# rho         = aero.atmosphere_density(altitudes) #[kg·m^-3]\n",
    "\n",
    "# I_standard = np.argwhere(altitudes/1e3 == 25).flatten()[0]\n",
    "# I_cira    = np.argwhere(altitudes/1e3 == 500).flatten()[0]\n",
    "\n",
    "# # Plotting the Exponential Atmospheric Model\n",
    "\n",
    "# layout = go.Layout(\n",
    "#     title        = go.layout.Title(text='Altitude (z) vs. Atmospheric Density (ρ)',\n",
    "#                                    x=0.5),\n",
    "#     xaxis_title  = 'z [km]',\n",
    "#     yaxis_title  = '$\\log_{10}(\\\\rho\\:[kg·m^{-3}])$',\n",
    "#     template     = 'plotly_white',\n",
    "#     legend       = go.layout.Legend(yanchor=\"top\",\n",
    "#                              y=0.99,\n",
    "#                              xanchor=\"right\",\n",
    "#                              x=0.99)\n",
    "# )\n",
    "\n",
    "# data = [\n",
    "#     go.Scatter(x=altitudes[:I_standard] / 1e3, y=rho[:I_standard],\n",
    "#                     mode='lines',\n",
    "#                     name='U.S Standard Atmosphere'),\n",
    "#     go.Scatter(x=altitudes[I_standard:I_cira] / 1e3, y=rho[I_standard:I_cira],\n",
    "#                     mode='lines',\n",
    "#                     name='CIRA-72'),\n",
    "#     go.Scatter(x=altitudes[I_cira:] / 1e3, y=rho[I_cira:],\n",
    "#                     mode='lines',\n",
    "#                     name='CIRA-72 with T_infinity = 1000K')\n",
    "# ]\n",
    "\n",
    "# fig = go.Figure(data=data, layout=layout)\n",
    "# fig.update_yaxes(type=\"log\")\n",
    "\n",
    "\n",
    "# fig.write_image(\"figures/Atmospheric_Density_v_Altitude.png\", width=500, height=500, scale=2)\n",
    "# f2 = go.FigureWidget(fig)\n",
    "# f2\n",
    "\n",
    "# f2"
   ]
  },
  {
   "cell_type": "markdown",
   "metadata": {},
   "source": [
    "<h4> 4.2.0 J2 </h4>"
   ]
  },
  {
   "cell_type": "markdown",
   "metadata": {},
   "source": [
    "<h4> 4.3.0 Application of perturbations </h4>"
   ]
  },
  {
   "cell_type": "code",
   "execution_count": 109,
   "metadata": {
    "ExecuteTime": {
     "end_time": "2021-03-03T01:45:20.160647Z",
     "start_time": "2021-03-03T01:45:10.471883Z"
    }
   },
   "outputs": [
    {
     "name": "stderr",
     "output_type": "stream",
     "text": [
      "<ipython-input-109-e4e8415ff1ab>:41: RuntimeWarning: invalid value encountered in sqrt\n",
      "  n    = np.sqrt(mu / a**3) # (Mea motion)\n",
      "<ipython-input-109-e4e8415ff1ab>:55: RuntimeWarning: invalid value encountered in sqrt\n",
      "  k_a = delta * np.sqrt(mu * a) * rho\n"
     ]
    }
   ],
   "source": [
    "from scipy.special import iv\n",
    "from scipy import integrate\n",
    "import Aerodynamics as aero\n",
    "\n",
    "a0, e0, i0, Omega0, omega0 = op.states[-1, :5, :]\n",
    "nu0 = op.states[-1, 6, :]\n",
    "\n",
    "\n",
    "y0  = np.concatenate((e0, a0, i0, Omega0, omega0))\n",
    "\n",
    "J2 = 0.0010826267\n",
    "\n",
    "K_a = np.matrix([[1, 0, 0, 0 ,0 ,0, 0],\n",
    "                   [0, 2, 0, 0, 0, 0, 0],\n",
    "                   [3/4, 0, 3/4, 0, 0, 0, 0],\n",
    "                   [0, 3/4, 0, 1/4, 0, 0, 0],\n",
    "                   [21/64, 0, 28/64, 0, 7/64, 0, 0],\n",
    "                   [0, 30/64, 0, 15/64, 0, 3/64, 0]])\n",
    "\n",
    "K_e = np.matrix([[0, 1, 0, 0, 0, 0, 0],\n",
    "                   [1/2, 0 , 1/2, 0, 0, 0, 0],\n",
    "                   [0, -5/8, 0, 1/8, 0, 0, 0],\n",
    "                   [-5/16, 0, -4/16, 0, 1/16, 0, 0],\n",
    "                   [0, -18/128, 0, -1/128, 0, 3/128, 0],\n",
    "                   [-18/256, 0, -19/256, 0, 2/256, 0, 3/256]])\n",
    "\n",
    "def diffy_q(t, state):\n",
    "    e, a, i, Omega, omega = state.reshape(5, len(op.A))\n",
    "    N_f = len(op.A)\n",
    "   \n",
    "    # Central body information\n",
    "    mu     = op.cb['mu']\n",
    "    radius = op.cb['radius'] #[m]\n",
    "    J2 = op.cb['J2']\n",
    "    \n",
    "    # Current orbital information\n",
    "    peri = a * (1 - e) #[m]\n",
    "    p    = a * (1 - e**2) #[m] (Semi parameter)\n",
    "    n    = np.sqrt(mu / a**3) # (Mea motion)\n",
    "\n",
    "    # Drag effects\n",
    "    h_p = (peri - radius) #[m]\n",
    "    rho = aero.atmosphere_density(h_p/1e3) #[kg * m^-3]\n",
    "    H = aero.scale_height(h_p/1e3) * 1e3 #[m]\n",
    "\n",
    "    z = a*e / H\n",
    "    Cd = 0.7\n",
    "    tilt_factor = np.random.uniform(low=0.0, high=1.0)\n",
    "    delta = Cd * (op.A[0] * tilt_factor) / op.M[0]\n",
    "    \n",
    "    e_T = np.array([np.ones_like(e), e, e**2, e**3, e**4, e**5])\n",
    "    I_T = np.array([ iv(i, z) for i in range(7)])\n",
    "    k_a = delta * np.sqrt(mu * a) * rho\n",
    "    k_e = k_a / a\n",
    "    \n",
    "    delta_e = np.zeros_like(e)\n",
    "    delta_a = np.zeros_like(a)\n",
    "    \n",
    "    # CASE e < 0.001\n",
    "    delta_e = np.zeros_like(e)\n",
    "    delta_a = -k_a\n",
    "        \n",
    "    # CASE e>= 0.001\n",
    "    I = e>= 0.001\n",
    "    trunc_err_a = a[I]**2 * rho[I] * np.exp(-z[I]) * iv(0, z[I]) * e[I]**6\n",
    "    trunc_err_e = a[I] * rho[I] * np.exp(-z[I]) * iv(1, z[I]) * e[I]**6\n",
    "    \n",
    "    transform_e = e_T.T.dot(K_e) * I_T\n",
    "    coef_e = np.array([ transform_e[i,i] for i in range(N_f)])[I]\n",
    "    \n",
    "    transform_a = e_T.T.dot(K_a) * I_T\n",
    "    coef_a = np.array([ transform_a[i,i] for i in range(N_f)])[I]\n",
    "    \n",
    "    delta_e[I] = -k_e[I] * np.exp(-z[I]) * (coef_e + trunc_err_e)\n",
    "    delta_a[I] = -k_a[I] * np.exp(-z[I]) * (coef_a + trunc_err_a)\n",
    "\n",
    "    # J2 Effects\n",
    "    base = (3/2) * op.cb['J2'] * (radius**2/p**2) * n\n",
    "    i = np.deg2rad(i)\n",
    "    delta_omega = base * (2 - (5/2)*np.sin(i)**2)\n",
    "    delta_Omega = -base * np.cos(i)\n",
    "    delta_omega = np.rad2deg(delta_omega) % 360\n",
    "    delta_Omega = np.rad2deg(delta_Omega) % 360\n",
    "\n",
    "    return np.concatenate((delta_e, delta_a, np.zeros_like(i), delta_Omega, delta_omega))\n",
    "\n",
    "T_avg = np.mean(op.states[-1, 8, :])\n",
    "duration = 3600*24*40\n",
    "times = np.arange(0, duration, 3600*24)\n",
    "output = integrate.solve_ivp(diffy_q, [0, duration], y0, t_eval = times, max_step=T_avg)\n",
    "\n",
    "# Unpacking output (Need to drop first timestep as studdent introduction of drag causes jumps)\n",
    "N_f = len(op.A)\n",
    "de = output.y[0:N_f, 1:]\n",
    "da = output.y[N_f:2*N_f, 1:]\n",
    "di = output.y[2*N_f:3*N_f, 1:]\n",
    "dOmega = output.y[3*N_f:4*N_f, 1:]\n",
    "domega = output.y[4*N_f:, 1:]"
   ]
  },
  {
   "cell_type": "markdown",
   "metadata": {},
   "source": [
    "# Propagation Analysis"
   ]
  },
  {
   "cell_type": "code",
   "execution_count": 190,
   "metadata": {
    "ExecuteTime": {
     "end_time": "2021-03-03T00:26:22.755061Z",
     "start_time": "2021-03-03T00:26:22.528902Z"
    }
   },
   "outputs": [],
   "source": [
    "Omgea = ks_toroid[0, 3, :]\n",
    "\n",
    "def create_bins(values, nbins=100):\n",
    "    #return np.geomspace(values.min(), values.max(), nbins)\n",
    "    bins = np.linspace(values.min(), values.max(), nbins)\n",
    "    a = bins[1]/bins[0]\n",
    "    bins = np.concatenate([[bins[0]/a], bins,[bins[-1]*a]])\n",
    "    return bins\n",
    "\n",
    "h, b = np.histogram(Omgea, bins=create_bins(Omgea))\n",
    "plt.figure(figsize=(5,5))\n",
    "plt.xlabel(r'$Omega$')\n",
    "plt.ylabel(r'$N_f$')\n",
    "plt.gca().set_xticks([0, 90, 180])\n",
    "plt.gca().set_xlim([0,180])\n",
    "plt.gca().set_yticks([0, 50, 100, 150, 200, 250])\n",
    "plt.gca().set_ylim([0,250])\n",
    "plt.plot((b[:-1] + b[1:])/2, h, '.-')\n",
    "plt.show()"
   ]
  }
 ],
 "metadata": {
  "kernelspec": {
   "display_name": "py38",
   "language": "python",
   "name": "py38"
  },
  "language_info": {
   "codemirror_mode": {
    "name": "ipython",
    "version": 3
   },
   "file_extension": ".py",
   "mimetype": "text/x-python",
   "name": "python",
   "nbconvert_exporter": "python",
   "pygments_lexer": "ipython3",
   "version": "3.8.5"
  }
 },
 "nbformat": 4,
 "nbformat_minor": 4
}
