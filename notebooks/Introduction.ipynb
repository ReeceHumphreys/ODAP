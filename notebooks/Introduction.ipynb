{
 "cells": [
  {
   "cell_type": "markdown",
   "metadata": {},
   "source": [
    "# Introduction\n",
    "\n",
    "This notebook serves as an exploration of orbital debris modeling and an introduction to ODAP (Orbital Debris Analysis with Python). While ODAP is currently being refined and converted into a standalone module, you will be able to explore how the module functions and can be utilized in research throughout this notebook.\n",
    "\n",
    "Initially, this project started from a personal curiosity about how orbital debris works, but later was the basis for a senior thesis written while attending the Harriet L. Wilkes Honors College. The purpose is to develop a modern open-source python implementation of the NASA Standard Breakup Model that others can use to research orbital debris.\n",
    "\n",
    "Since this project is on going, please note that some functionality may not be working as expected as I continue to go through the process of optimizing and validating the implementations of the various components."
   ]
  },
  {
   "cell_type": "markdown",
   "metadata": {},
   "source": [
    "# Table of Contents\n",
    "### 0. [Packages](#packages)\n",
    "Covers the initial setup to enable the notebook to function correctly\n",
    "### 1. [Data Source](#data-source)\n",
    "Loading real world data from Two Line Elements to use as the foundation for the rest of the simulations\n",
    "### 2. [Fragmentation Event Modeling](#fragmentation)\n",
    "### 3. [Cloud Formation and Propagation](#cloud)\n",
    "### 4. [Analysis](#second-bullet)\n"
   ]
  },
  {
   "cell_type": "markdown",
   "metadata": {},
   "source": [
    "<a class=\"anchor\" id=\"packages\"></a>\n",
    "<h1>0. Packages</h1>\n",
    "\n",
    "For the purposes of this notebook I will be using a variety of other common modules such as NuMpy, pandas, and Plotly. As such, the below cell will import all necessary modules, as well as import various components from ODAP that will be useful."
   ]
  },
  {
   "cell_type": "code",
   "execution_count": 1,
   "metadata": {
    "ExecuteTime": {
     "end_time": "2021-10-27T17:21:14.872913Z",
     "start_time": "2021-10-27T17:21:02.278959Z"
    }
   },
   "outputs": [],
   "source": [
    "# System lib.\n",
    "import sys\n",
    "import os\n",
    "import re\n",
    "import datetime as datetime\n",
    "from importlib import reload\n",
    "\n",
    "# 3rd party lib.\n",
    "import numpy as np\n",
    "import chart_studio.plotly as py\n",
    "import plotly.graph_objects as go\n",
    "import chart_studio\n",
    "\n",
    "# User defined lib.\n",
    "if not os.path.join(sys.path[0], \"..\") in sys.path:\n",
    "    sys.path.insert(1, os.path.join(sys.path[0], \"..\"))\n"
   ]
  },
  {
   "cell_type": "markdown",
   "metadata": {},
   "source": [
    "## 0.1 Authenticate with Plotly"
   ]
  },
  {
   "cell_type": "code",
   "execution_count": 2,
   "metadata": {},
   "outputs": [],
   "source": [
    "# Retreiving API Keys from OS\n",
    "PLOTLY_API_KEY = os.environ.get(\"wK2Ilky4B7zHdcxvbtWV\")\n",
    "PLOTYLY_USERNAME = os.environ.get(\"rhumphreys2017\")\n",
    "\n",
    "# Log into chart studio for uploading plots\n",
    "chart_studio.tools.set_credentials_file(\n",
    "    username=PLOTYLY_USERNAME, api_key=PLOTLY_API_KEY\n",
    ")"
   ]
  },
  {
   "cell_type": "markdown",
   "metadata": {},
   "source": [
    "<a class=\"anchor\" id=\"data-source\"></a>\n",
    "<h1>1. Data Source</h1>\n",
    "\n",
    "To perform accurate simulations, it is essential to have some real-world satellite data as the starting point for modeling the fragmentation event. Therefore, this notebook is a file containing NORAD Two-Line Element Sets (TLE) acquired from [CelesTrak](https://celestrak.com/NORAD/elements/). The rest of this section involves importing said data and discussing how the TLE data structure functions."
   ]
  },
  {
   "cell_type": "markdown",
   "metadata": {},
   "source": [
    "<h3>1.1 Loading TLE Data</h3>\n",
    "\n",
    "TLE's are standardized data structures that contain the orbital elements used to describe Earth-orbiting objects for a given point in time. Most importantly, they are used to determine where a given object will be at any given time. Thus, it is a valuable tool for analyzing potential orbital collisions as well as tracking orbital debris.\n",
    "\n",
    "To acquire the most recent information about all objects being tracked in Earth orbit is recommended to download the latest TLE data from CelesTrak. This file comes in the form of a `.txt` file that first must be parsed to use while programming. While it is possible to manually parse all of the data from the TLEs using [Regular expression operations](https://docs.python.org/3/library/re.html), for this notebook, I will be utilizing the `skyfield` python module as it has the built-in functionality to handle this."
   ]
  },
  {
   "cell_type": "code",
   "execution_count": 3,
   "metadata": {
    "ExecuteTime": {
     "end_time": "2021-04-13T03:31:41.682958Z",
     "start_time": "2021-04-13T03:31:40.796973Z"
    },
    "scrolled": true
   },
   "outputs": [],
   "source": [
    "# Opening the .txt file\n",
    "from odap.models.tle import TLE\n",
    "\n",
    "with open(\"data/3le.txt\") as f:\n",
    "    txt = f.read()\n",
    "\n",
    "# Using regular expression to perform basic parsing of the 3le.txt file\n",
    "# Returns and array of arrays where each subarray contains three strings\n",
    "# corresponding to each line of th TLE\n",
    "tles_data = np.array([tle for tle in re.findall(\"(.*?)\\n(.*?)\\n(.*?)\\n\", txt)])\n",
    "\n",
    "# Convert name line of TLE to correct format\n",
    "tles_data[:, 0] = [name[2:] for name in tles_data[:, 0]]\n",
    "\n",
    "tles = [TLE(lines[0], lines[1], lines[2]) for lines in tles_data]"
   ]
  },
  {
   "cell_type": "markdown",
   "metadata": {},
   "source": [
    "<h3>1.2 Select orbital object for analysis</h3>\n",
    "\n",
    "Now that we have an array containing Satellite objects, we can utilize NumPy to find a satellite that satisfies whatever criterion we are looking for. For example, we may want to simulate a fragmentation event for a satellite with a low semi-major axis or a high eccentricity. To keep things simple, I selected a satellite using the name assigned to it by NORAD."
   ]
  },
  {
   "cell_type": "code",
   "execution_count": 4,
   "metadata": {
    "ExecuteTime": {
     "end_time": "2021-04-13T03:32:06.383448Z",
     "start_time": "2021-04-13T03:32:06.342152Z"
    }
   },
   "outputs": [
    {
     "data": {
      "text/plain": [
       "'NIMBUS 6'"
      ]
     },
     "execution_count": 4,
     "metadata": {},
     "output_type": "execute_result"
    }
   ],
   "source": [
    "from odap.models.satellite import Satellite\n",
    "\n",
    "# Constructing an array that contains the names of all the satellites in our dataset\n",
    "# Note: The name formatting of all satellites starts with \"0 \",\n",
    "#       thus we slice the String to cut the 0.\n",
    "norad = np.array([tle.norad for tle in tles])\n",
    "\n",
    "# Search the name array for the index of desired satellite\n",
    "i = np.argwhere(norad == \"07924\").flatten()[0]\n",
    "\n",
    "# Retrieve that satellite object from the `satellites` array using the found index\n",
    "tle = tles[i]\n",
    "\n",
    "# # Compute the cartesian state vectors\n",
    "sat = Satellite(tle)\n",
    "tle.name"
   ]
  },
  {
   "cell_type": "markdown",
   "metadata": {
    "ExecuteTime": {
     "end_time": "2021-04-13T02:13:24.736191Z",
     "start_time": "2021-04-13T02:13:24.731596Z"
    }
   },
   "source": [
    "<a class=\"anchor\" id=\"fragmentation\"></a>\n",
    "# 2. Fragmentation Event Modeling\n",
    "\n",
    "A satellite breakup model is a mathematical model used to describe the outcome of a satellite breakup due to an explosion or collision. A satellite breakup model should describe the size, area-to-mass (AM) ratio, and the ejection velocity of each fragment produced in the satellite breakup. The most easily accessible literature model is the [NASA Standard breakup model](https://www.sciencedirect.com/science/article/abs/pii/S0273117701004239). This model is implemented in ODAP in `generate_debris.py`.\n",
    "\n",
    "In the following subsections, ODAP is utilized to simulate an explosion event and a collision event. Additionally, some information about how the NASA Standard Breakup Model works is provided. For additional information it is recomended to refer to ..."
   ]
  },
  {
   "cell_type": "code",
   "execution_count": 5,
   "metadata": {},
   "outputs": [
    {
     "name": "stdout",
     "output_type": "stream",
     "text": [
      "(238, 7, 3) Pieces of debris generated.\n"
     ]
    }
   ],
   "source": [
    "\n",
    "import numpy as np\n",
    "\n",
    "from kesspy import Satellite, ExplosionEvent, run_explosion\n",
    "from importlib.metadata import version\n",
    "\n",
    "# Define the initial position, velocity, mass, characteristic length, and kind of a satellite.\n",
    "# TODO: Check the units of the position and velocity vectors from sat.position and sat.velocity\n",
    "pos = np.array(sat.position).astype(np.float32)  # position vector [km] relative to Earth's center\n",
    "vel = np.array(sat.velocity).astype(np.float32)  # velocity vector [km/s]'\n",
    "\n",
    "mass = sat.mass; # [kg]\n",
    "characteristic_length = 0.1; # [m]\n",
    "\n",
    "# Create a new satellite with the given parameters\n",
    "sat_kesspy = Satellite(pos, vel, mass)\n",
    "# Create a new explosion event with the satellite\n",
    "event = ExplosionEvent(sat_kesspy, 0.1)\n",
    "\n",
    "# Run the simulation with the explosion event\n",
    "debris = run_explosion(event)\n",
    "\n",
    "print(f\"{debris.shape} Pieces of debris generated.\")\n",
    "\n"
   ]
  },
  {
   "cell_type": "markdown",
   "metadata": {
    "ExecuteTime": {
     "end_time": "2021-04-13T02:04:58.954987Z",
     "start_time": "2021-04-13T02:04:58.934321Z"
    }
   },
   "source": [
    "## 2.2 Performing a Fragmentation Event"
   ]
  },
  {
   "cell_type": "markdown",
   "metadata": {
    "ExecuteTime": {
     "end_time": "2021-04-13T02:09:37.908615Z",
     "start_time": "2021-04-13T02:09:37.901200Z"
    }
   },
   "source": [
    "#### 2.1.4 Converting coordinates to Keplerian elements"
   ]
  },
  {
   "cell_type": "code",
   "execution_count": 6,
   "metadata": {
    "ExecuteTime": {
     "end_time": "2021-04-13T03:33:44.843674Z",
     "start_time": "2021-04-13T03:33:42.767256Z"
    }
   },
   "outputs": [
    {
     "name": "stdout",
     "output_type": "stream",
     "text": [
      "Average Char Length: 0.23734904597161197\n",
      "Average ams: 0.21703622076159515\n",
      "Average areas: 0.0687095867313382\n",
      "Average masses: 1.1587052009305174\n",
      "Average vel mag: 7.298996763797682\n",
      "Max vel mag: 7.605231019425925\n",
      "Min vel mag: 7.025851440887347\n"
     ]
    }
   ],
   "source": [
    "import odap.coordinates as coords\n",
    "\n",
    "rs = debris[:, 1, :].astype(np.float64)  # km\n",
    "# vs are delta velcoities, thus we need to add the initial velocity of the satellite\n",
    "vs = debris[:, 6, :].astype(np.float64) / 1e3 # km/s\n",
    "vs = vs + np.array(sat.velocity).astype(np.float64)\n",
    "\n",
    "char_les = debris[:, 2, :].astype(np.float64) # m\n",
    "ams = debris[:, 3, :].astype(np.float64) # kg\n",
    "areas = debris[:, 4, :].astype(np.float64) # m^2\n",
    "masses = debris[:, 5, :].astype(np.float64) # kg\n",
    "\n",
    "# # unit: [km^3 / s^2]\n",
    "# mu_Earth = 3.986004418e5\n",
    "\n",
    "vel_mags = np.linalg.norm(vs, axis=1)\n",
    "print(\"Average Char Length:\", np.mean(char_les[:, 0]))\n",
    "print(\"Average ams:\", np.mean(ams[:, 0]))\n",
    "print(\"Average areas:\", np.mean(areas[:, 0]))\n",
    "print(\"Average masses:\", np.mean(masses[:, 0]))\n",
    "print(\"Average vel mag:\", np.mean(vel_mags))\n",
    "print(\"Max vel mag:\", np.max(vel_mags))\n",
    "print(\"Min vel mag:\", np.min(vel_mags))\n",
    "\n",
    "\n",
    "# Currently python-sbm returns values in m and m/s, thus we need to convert them\n",
    "\n",
    "# unit: [km^3 / s^2]\n",
    "mu_Earth = 3.986004418e5\n",
    "\n",
    "debris_keplerian_state = coords.rv2coe_many(mu_Earth, rs, vs)\n",
    "\n",
    "\n",
    "\n",
    "\n",
    "\n"
   ]
  },
  {
   "cell_type": "code",
   "execution_count": null,
   "metadata": {},
   "outputs": [],
   "source": [
    "# -*- coding: utf-8 -*-\n",
    "from __future__ import division\n",
    "import matplotlib.pyplot as plt\n",
    "from mpl_toolkits.mplot3d import Axes3D\n",
    "import numpy as np\n",
    "cos = np.cos\n",
    "sin = np.sin\n",
    "pi = np.pi\n",
    "dot = np.dot\n",
    "\n",
    "fig = plt.figure(figsize=plt.figaspect(1))  # Square figure\n",
    "ax = fig.add_subplot(111, projection='3d', aspect=1)\n",
    "\n",
    "max_radius = 0\n",
    "\n",
    "def plotEarth():\n",
    "    \"Draw Earth as a globe at the origin\"\n",
    "    Earth_radius = 6371 # km\n",
    "    global max_radius\n",
    "    max_radius = max(max_radius, Earth_radius)\n",
    "    \n",
    "    # Coefficients in a0/c x**2 + a1/c y**2 + a2/c z**2 = 1 \n",
    "    coefs = (1, 1, 1)  \n",
    "\n",
    "    # Radii corresponding to the coefficients:\n",
    "    rx, ry, rz = [Earth_radius/np.sqrt(coef) for coef in coefs]\n",
    "\n",
    "    # Set of all spherical angles:\n",
    "    u = np.linspace(0, 2 * np.pi, 100)\n",
    "    v = np.linspace(0, np.pi, 100)\n",
    "\n",
    "    # Cartesian coordinates that correspond to the spherical angles:\n",
    "    # (this is the equation of an ellipsoid):\n",
    "    x = rx * np.outer(np.cos(u), np.sin(v))\n",
    "    y = ry * np.outer(np.sin(u), np.sin(v))\n",
    "    z = rz * np.outer(np.ones_like(u), np.cos(v))\n",
    "\n",
    "    # Plot:\n",
    "    ax.plot_surface(x, y, z,  rstride=4, cstride=4, color='g')\n",
    "\n",
    "\n",
    "def plotOrbit(semi_major_axis, eccentricity=0, inclination=0, \n",
    "              right_ascension=0, argument_perigee=0, true_anomaly=0, label=None):\n",
    "    \"Draws orbit around an earth in units of kilometers.\"\n",
    "    # Rotation matrix for inclination\n",
    "    inc = inclination * pi / 180.;\n",
    "    R = np.matrix([[1, 0, 0],\n",
    "                   [0, cos(inc), -sin(inc)],\n",
    "                   [0, sin(inc), cos(inc)]    ])\n",
    "\n",
    "    # Rotation matrix for argument of perigee + right ascension\n",
    "    rot = (right_ascension + argument_perigee) * pi/180\n",
    "    R2 = np.matrix([[cos(rot), -sin(rot), 0],\n",
    "                    [sin(rot), cos(rot), 0],\n",
    "                    [0, 0, 1]    ])    \n",
    "\n",
    "    ### Draw orbit\n",
    "    theta = np.linspace(0,2*pi, 360)\n",
    "    r = (semi_major_axis * (1-eccentricity**2)) / (1 + eccentricity*cos(theta))\n",
    "\n",
    "    xr = r*cos(theta)\n",
    "    yr = r*sin(theta)\n",
    "    zr = 0 * theta\n",
    "\n",
    "    pts = np.matrix(zip(xr,yr,zr))\n",
    "\n",
    "    # Rotate by inclination\n",
    "    # Rotate by ascension + perigee\n",
    "    pts =  (R * R2 * pts.T).T\n",
    "\n",
    "\n",
    "    # Turn back into 1d vectors\n",
    "    xr,yr,zr = pts[:,0].A.flatten(), pts[:,1].A.flatten(), pts[:,2].A.flatten()\n",
    "\n",
    "    # Plot the orbit\n",
    "    ax.plot(xr, yr, zr, '-')\n",
    "    # plt.xlabel('X (km)')\n",
    "    # plt.ylabel('Y (km)')\n",
    "    # plt.zlabel('Z (km)')\n",
    "\n",
    "    # Plot the satellite\n",
    "    sat_angle = true_anomaly * pi/180\n",
    "    satr = (semi_major_axis * (1-eccentricity**2)) / (1 + eccentricity*cos(sat_angle))\n",
    "    satx = satr * cos(sat_angle)\n",
    "    saty = satr * sin(sat_angle)\n",
    "    satz = 0\n",
    "\n",
    "    sat = (R * R2 * np.matrix([satx, saty, satz]).T ).flatten()\n",
    "    satx = sat[0,0]\n",
    "    saty = sat[0,1]\n",
    "    satz = sat[0,2]\n",
    "\n",
    "    c = np.sqrt(satx*satx + saty*saty)\n",
    "    lat = np.arctan2(satz, c) * 180/pi\n",
    "    lon = np.arctan2(saty, satx) * 180/pi\n",
    "    \n",
    "    # Draw radius vector from earth\n",
    "    # ax.plot([0, satx], [0, saty], [0, satz], 'r-')\n",
    "    # Draw red sphere for satellite\n",
    "    ax.plot([satx],[saty],[satz], 'ro')\n",
    "\n",
    "    global max_radius\n",
    "    max_radius = max(max(r), max_radius)\n",
    "\n",
    "    # Write satellite name next to it\n",
    "    if label:\n",
    "        ax.text(satx, saty, satz, label, fontsize=12)\n",
    "\n",
    "def doDraw():\n",
    "    # Adjustment of the axes, so that they all have the same span:\n",
    "    for axis in 'xyz':\n",
    "        getattr(ax, 'set_{}lim'.format(axis))((-max_radius, max_radius))\n",
    "    \n",
    "    # Draw figure\n",
    "    plt.show()"
   ]
  },
  {
   "cell_type": "markdown",
   "metadata": {},
   "source": [
    "## 2.2 Ring Formation"
   ]
  },
  {
   "cell_type": "code",
   "execution_count": 7,
   "metadata": {
    "ExecuteTime": {
     "end_time": "2021-04-13T03:34:30.754652Z",
     "start_time": "2021-04-13T03:33:50.015837Z"
    }
   },
   "outputs": [
    {
     "name": "stdout",
     "output_type": "stream",
     "text": [
      "(238, 6)\n"
     ]
    }
   ],
   "source": [
    "from odap.propagators import OrbitPropagator, null_perts\n",
    "\n",
    "# Cleanup states to remove any fragments that would deorbit, given no perturbations\n",
    "a = debris_keplerian_state[:, 0]\n",
    "e = debris_keplerian_state[:, 1]\n",
    "\n",
    "masses = debris[:, 5, 0]\n",
    "areas = debris[:, 4, 0]\n",
    "\n",
    "# Prune debris that would deorbit giv\n",
    "radius_earth = 6371.07103  # km\n",
    "periapsis = a * (1 - e)  # km\n",
    "\n",
    "I = np.argwhere(periapsis > radius_earth)\n",
    "\n",
    "debris_keplerian_state = np.squeeze(debris_keplerian_state[I, :])\n",
    "areas = np.squeeze(areas[I])\n",
    "masses = np.squeeze(masses[I])\n",
    "\n",
    "# # Propagate orbit for a period of time\n",
    "perts = null_perts()\n",
    "perts[\"aero\"] = True\n",
    "perts[\"J2\"] = True\n",
    "\n",
    "# Define orbital periods\n",
    "T = 2 * np.pi * np.sqrt(a**3 / mu_Earth)\n",
    "\n",
    "print(debris_keplerian_state.shape)\n",
    "op = OrbitPropagator(\n",
    "    debris_keplerian_state,\n",
    "    areas,\n",
    "    masses,\n",
    "    [0, np.ceil(min(T))], # 40 orbits of the longest period\n",
    "    np.floor(min(T) / 500),\n",
    "    perts=perts,\n",
    ")\n",
    "states = np.concatenate((debris_keplerian_state[np.newaxis, :, :], op.propagate_orbit()), axis=0)"
   ]
  },
  {
   "cell_type": "code",
   "execution_count": 8,
   "metadata": {},
   "outputs": [
    {
     "data": {
      "text/plain": [
       "(523, 238, 6)"
      ]
     },
     "execution_count": 8,
     "metadata": {},
     "output_type": "execute_result"
    }
   ],
   "source": [
    "states.shape"
   ]
  },
  {
   "cell_type": "code",
   "execution_count": 9,
   "metadata": {},
   "outputs": [],
   "source": [
    "def states_to_cartesian(states):\n",
    "    states_cartesian = np.empty((states.shape[0], 2, states.shape[1], 3))\n",
    "    for i in range(states.shape[0]):\n",
    "        states_cartesian[i, :, :, :] = coords.coe2rv_many(\n",
    "            mu_Earth,\n",
    "            states[i, :, 0],\n",
    "            states[i, :, 1],\n",
    "            states[i, :, 2],\n",
    "            states[i, :, 3],\n",
    "            states[i, :, 4],\n",
    "            states[i, :, 5],\n",
    "        )\n",
    "    return states_cartesian\n",
    "\n",
    "\n",
    "states_cartesian = states_to_cartesian(states)"
   ]
  },
  {
   "cell_type": "code",
   "execution_count": null,
   "metadata": {},
   "outputs": [],
   "source": []
  },
  {
   "cell_type": "code",
   "execution_count": 12,
   "metadata": {},
   "outputs": [
    {
     "name": "stdout",
     "output_type": "stream",
     "text": [
      "(523, 2, 238, 3)\n"
     ]
    },
    {
     "data": {
      "text/plain": [
       "<mpl_toolkits.mplot3d.art3d.Path3DCollection at 0x2bdc56c50>"
      ]
     },
     "execution_count": 12,
     "metadata": {},
     "output_type": "execute_result"
    },
    {
     "data": {
      "application/vnd.jupyter.widget-view+json": {
       "model_id": "5ebe249dc6d944018b21530bf6505f7d",
       "version_major": 2,
       "version_minor": 0
      },
      "image/png": "[encoded data removed]",
      "text/html": [
       "\n",
       "            <div style=\"display: inline-block;\">\n",
       "                <div class=\"jupyter-widgets widget-label\" style=\"text-align: center;\">\n",
       "                    Figure\n",
       "                </div>\n",
       "                <img src='data:image/png;base64,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' width=640.0/>\n",
       "            </div>\n",
       "        "
      ],
      "text/plain": [
       "Canvas(toolbar=Toolbar(toolitems=[('Home', 'Reset original view', 'home', 'home'), ('Back', 'Back to previous …"
      ]
     },
     "metadata": {},
     "output_type": "display_data"
    }
   ],
   "source": [
    "%matplotlib widget\n",
    "import numpy as np\n",
    "import matplotlib.pyplot as plt\n",
    "\n",
    "fig = plt.figure()\n",
    "ax = plt.axes(projection=\"3d\")\n",
    "\n",
    "# Grabbing random pieces to visualize\n",
    "I = np.random.randint(0, states_cartesian.shape[2], 200)\n",
    "\n",
    "print(states_cartesian.shape)\n",
    "# Data for three-dimensional scattered points\n",
    "zdata = states_cartesian[1, 0, :, 2]\n",
    "xdata = states_cartesian[1, 0, :, 0]\n",
    "ydata = states_cartesian[1, 0, :, 1]\n",
    "\n",
    "\n",
    "# # draw sphere\n",
    "r_earth = 6371\n",
    "u, v = np.mgrid[0 : 2 * np.pi : 20j, 0 : np.pi : 10j]\n",
    "x = np.cos(u) * np.sin(v) * r_earth\n",
    "y = np.sin(u) * np.sin(v) * r_earth\n",
    "z = np.cos(v) * r_earth\n",
    "ax.plot_surface(x, y, z, color=\"r\")\n",
    "\n",
    "ax.scatter3D(xdata, ydata, zdata)"
   ]
  },
  {
   "cell_type": "code",
   "execution_count": null,
   "metadata": {},
   "outputs": [],
   "source": [
    "# 3d animation of the debris cloud\n",
    "import matplotlib.pyplot as plt\n",
    "import numpy as np\n",
    "from matplotlib.animation import FuncAnimation\n",
    "from mpl_toolkits.mplot3d import Axes3D\n",
    "\n",
    "fig = plt.figure()\n",
    "ax = fig.add_subplot(111, projection=\"3d\")\n",
    "ax.set_xlim3d(-10000, 10000)\n",
    "ax.set_ylim3d(-10000, 10000)\n",
    "ax.set_zlim3d(-10000, 10000)\n",
    "\n",
    "zdata = states_cartesian[:, 0, 0:20, 2]\n",
    "xdata = states_cartesian[:, 0, 0:20, 0]\n",
    "ydata = states_cartesian[:, 0, 0:20, 1]\n",
    "\n",
    "# # draw sphere\n",
    "r_earth = 6371\n",
    "u, v = np.mgrid[0 : 2 * np.pi : 20j, 0 : np.pi : 10j]\n",
    "x = np.cos(u) * np.sin(v) * r_earth\n",
    "y = np.sin(u) * np.sin(v) * r_earth\n",
    "z = np.cos(v) * r_earth\n",
    "ax.plot_surface(x, y, z, color=\"r\")\n",
    "\n",
    "i = 10  # Change this to the desired index\n",
    "\n",
    "# Initialize scatter plot with first frame of data for the i-th debris fragment\n",
    "scatter = ax.scatter3D(states_cartesian[:5, 0, i, 0], \n",
    "                       states_cartesian[:5, 0, i, 1], \n",
    "                       states_cartesian[:5, 0, i, 2], \n",
    "                       c=[states_cartesian[:5, 0, i, 2]], cmap=\"Greens\")\n",
    "\n",
    "# Update function for animation of the i-th debris fragment\n",
    "def update(num):\n",
    "    scatter._offsets3d = ([states_cartesian[num, 0, i, 0]], \n",
    "                          [states_cartesian[num, 0, i, 1]], \n",
    "                          [states_cartesian[num, 0, i, 2]])\n",
    "    scatter.set_array([states_cartesian[num, 0, i, 2]])\n",
    "    return scatter,\n",
    "\n",
    "# Create animation\n",
    "ani = FuncAnimation(fig, update, frames=len(states_cartesian), blit=False)\n",
    "\n",
    "plt.show()\n",
    "\n",
    "\n"
   ]
  },
  {
   "cell_type": "markdown",
   "metadata": {},
   "source": [
    "## 2.3 Band Formation"
   ]
  },
  {
   "cell_type": "markdown",
   "metadata": {},
   "source": [
    "### 2.3.1 Drag Implementation"
   ]
  },
  {
   "cell_type": "code",
   "execution_count": null,
   "metadata": {
    "ExecuteTime": {
     "end_time": "2021-04-13T03:47:19.616099Z",
     "start_time": "2021-04-13T03:47:19.270256Z"
    }
   },
   "outputs": [],
   "source": [
    "import odap.aerodynamics as aero\n",
    "import numpy as np\n",
    "\n",
    "\n",
    "upper_bound = 900  # [km]\n",
    "altitudes = np.arange(0, upper_bound, 1)  # [km]\n",
    "rho = aero.atmosphere_density(altitudes)  # [kg·m^-3]\n",
    "\n",
    "I_standard = np.argwhere(altitudes == 25).flatten()[0]\n",
    "I_cira = np.argwhere(altitudes == 500).flatten()[0]\n",
    "\n",
    "# Plotting the Exponential Atmospheric Model\n",
    "\n",
    "layout = go.Layout(\n",
    "    title=go.layout.Title(text=\"Altitude (z) vs. Atmospheric Density (ρ)\", x=0.5),\n",
    "    xaxis_title=\"z [km]\",\n",
    "    yaxis_title=\"$\\log_{10}(\\\\rho\\:[kg·m^{-3}])$\",\n",
    "    template=\"plotly_white\",\n",
    "    legend=go.layout.Legend(yanchor=\"top\", y=0.99, xanchor=\"right\", x=0.99),\n",
    ")\n",
    "\n",
    "data = [\n",
    "    go.Scatter(\n",
    "        x=altitudes[:I_standard],\n",
    "        y=rho[:I_standard],\n",
    "        mode=\"lines\",\n",
    "        name=\"U.S Standard Atmosphere\",\n",
    "    ),\n",
    "    go.Scatter(\n",
    "        x=altitudes[I_standard:I_cira],\n",
    "        y=rho[I_standard:I_cira],\n",
    "        mode=\"lines\",\n",
    "        name=\"CIRA-72\",\n",
    "    ),\n",
    "    go.Scatter(\n",
    "        x=altitudes[I_cira:],\n",
    "        y=rho[I_cira:],\n",
    "        mode=\"lines\",\n",
    "        name=\"CIRA-72 with T_infinity = 1000K\",\n",
    "    ),\n",
    "]\n",
    "\n",
    "fig = go.Figure(data=data, layout=layout)\n",
    "fig.update_yaxes(type=\"log\")\n",
    "\n",
    "\n",
    "# fig.write_image(\"figures/Atmospheric_Density_v_Altitude.png\", width=500, height=500, scale=2)\n",
    "f2 = go.FigureWidget(fig)\n",
    "f2"
   ]
  },
  {
   "cell_type": "markdown",
   "metadata": {},
   "source": [
    "### 2.3.1 Applying Perturbations to Satellite"
   ]
  },
  {
   "cell_type": "code",
   "execution_count": null,
   "metadata": {
    "ExecuteTime": {
     "end_time": "2021-04-13T02:48:45.470540Z",
     "start_time": "2021-04-13T02:48:43.740049Z"
    }
   },
   "outputs": [],
   "source": [
    "\n",
    "op.tspan[-1] = 3600 * 24 * 365*30\n",
    "op.dt = 3600 * 24\n",
    "\n",
    "de, da, di, dOmega, domega, dnu, dp = op.propagate_perturbations()\n"
   ]
  },
  {
   "cell_type": "code",
   "execution_count": null,
   "metadata": {},
   "outputs": [],
   "source": [
    "states_perts = np.stack((da, de, di, dOmega, domega, dnu))\n",
    "states_perts = np.transpose(states_perts, (2, 1, 0))\n",
    "states = np.concatenate((states, states_perts), axis=0)"
   ]
  },
  {
   "cell_type": "code",
   "execution_count": null,
   "metadata": {},
   "outputs": [],
   "source": [
    "# Now that we have added on the perturbations, we need to recompute the cartesian states\n",
    "states_cartesian = states_to_cartesian(states)"
   ]
  },
  {
   "cell_type": "markdown",
   "metadata": {},
   "source": [
    "# 3. Analysis"
   ]
  },
  {
   "cell_type": "markdown",
   "metadata": {},
   "source": [
    "## 3.1 Flux"
   ]
  },
  {
   "cell_type": "code",
   "execution_count": null,
   "metadata": {},
   "outputs": [],
   "source": [
    "from skyfield.api import load\n",
    "import matplotlib.dates as mdates\n",
    "from dateutil import tz\n",
    "import datetime as datetime\n",
    "\n",
    "def fragmentation_flux(X):\n",
    "    return np.sum((X[:-1, :, 1] < 0) & (X[1:, :, 1] > 0), axis=1)\n",
    "    \n",
    "position = states_cartesian[:, 0, :, :]\n",
    "flux = fragmentation_flux(position)\n",
    "\n",
    "w = 100 # Window of points to look at\n",
    "tol = 5\n",
    "convergence_ratio = np.array([np.var(flux[i:i+w])/np.mean(flux[i:i+w]) for i in range(len(flux))])    \n",
    "intersection_index = np.argwhere(convergence_ratio <= tol).flatten()[0]\n",
    "\n",
    "# datetimes\n",
    "ts = load.timescale(builtin=True)\n",
    "t_fragmentation = ts.now()\n",
    "t_flux = t_fragmentation.utc_datetime() + np.array(range(len(flux))) * datetime.timedelta(minutes = 5)\n",
    "\n",
    "# Removing last window from `t_flux`, `flux`, and `convergence_ratio` bc. not well defined for last values\n",
    "t_flux = t_flux[:-w]\n",
    "flux = flux[:-w]\n",
    "convergence_ratio = convergence_ratio[:-w]\n",
    "\n",
    "# Pruning data to the end of the ring formation\n",
    "cs_toroid = states_cartesian[:intersection_index, :, :, :]\n",
    "cs_toroid.shape\n",
    "position.shape\n",
    "# ks_toroid = op.inital_state[:intersection_index, :, :]\n",
    "# op.states = ks_toroid"
   ]
  },
  {
   "cell_type": "code",
   "execution_count": null,
   "metadata": {},
   "outputs": [],
   "source": [
    "np.linalg.norm(position[:, 0, :], axis=1)\n"
   ]
  },
  {
   "cell_type": "markdown",
   "metadata": {},
   "source": [
    "### 3.1.1 FLux plot"
   ]
  },
  {
   "cell_type": "code",
   "execution_count": null,
   "metadata": {
    "ExecuteTime": {
     "end_time": "2021-04-13T03:34:57.346240Z",
     "start_time": "2021-04-13T03:34:50.443218Z"
    }
   },
   "outputs": [],
   "source": [
    "# Creating Flux v. Time plot\n",
    "layout = go.Layout(\n",
    "    title=dict(text=\"$\\\\text{Flux}\\:(\\\\Phi)\\:\\\\text{vs. Time }(t)$\", x=0.5),\n",
    "    xaxis_title=\"$t\\:[days]$\",\n",
    "    yaxis_title=\"$\\\\text{ Number of fragments passing XZ plane, }\\Phi\\:$\",\n",
    "    template=\"plotly_white\",\n",
    ")\n",
    "\n",
    "\n",
    "data = [\n",
    "    go.Scatter(x=t_flux, y=flux, mode=\"lines\", name=\"Flux\"),\n",
    "    go.Scatter(\n",
    "        x=[t_flux[intersection_index], t_flux[intersection_index]],\n",
    "        y=[0, np.max(flux)],\n",
    "        mode=\"lines\",\n",
    "        line=dict(dash=\"dash\"),\n",
    "        name=\"Convergence\",\n",
    "    ),\n",
    "]\n",
    "\n",
    "fig1 = go.Figure(data=data, layout=layout)\n",
    "\n",
    "# Stopping data to have half before intersection index and half after\n",
    "# index_stop = intersection_index * 2\n",
    "# if index_stop > len(flux) - 1:\n",
    "#     index_stop = len(flux) - 1\n",
    "# fig1.update_layout(xaxis_range=[t_flux[0], t_flux[index_stop]])\n",
    "\n",
    "# Saving plot as an image and uploading it to plotly\n",
    "# fig1.write_image(\"figures/Flux_v_Time.png\", width=500, height=500, scale=2)\n",
    "fig1.show()\n",
    "\n"
   ]
  },
  {
   "cell_type": "markdown",
   "metadata": {},
   "source": [
    "### 3.1.2 Convergence Ratio plot"
   ]
  },
  {
   "cell_type": "code",
   "execution_count": null,
   "metadata": {
    "ExecuteTime": {
     "end_time": "2021-04-13T03:35:40.893879Z",
     "start_time": "2021-04-13T03:35:40.588308Z"
    }
   },
   "outputs": [],
   "source": [
    "# Creating Convergence Ratio v. Time plot\n",
    "layout = go.Layout(\n",
    "    title=dict(text=\"Convergence ratio vs. Time (t)\", x=0.5),\n",
    "    xaxis_title=\"$t\\:[days]$\",\n",
    "    yaxis_title=\"Convergence ratio []\",\n",
    "    template=\"plotly_white\",\n",
    "    legend=go.layout.Legend(yanchor=\"top\", y=0.99, xanchor=\"right\", x=0.99),\n",
    ")\n",
    "data = [\n",
    "    go.Scatter(x=t_flux, y=convergence_ratio, mode=\"lines\", name=\"Convergence ratio\"),\n",
    "    go.Scatter(\n",
    "        x=[t_flux[intersection_index], t_flux[intersection_index]],\n",
    "        y=[0, np.max(flux)],\n",
    "        mode=\"lines\",\n",
    "        line=dict(dash=\"dash\"),\n",
    "        name=\"Convergence time\",\n",
    "    ),\n",
    "    go.Scatter(\n",
    "        x=[t_flux[0], t_flux[-1]],\n",
    "        y=[tol, tol],\n",
    "        mode=\"lines\",\n",
    "        line=dict(dash=\"dash\"),\n",
    "        name=\"Tolerance\",\n",
    "    ),\n",
    "]\n",
    "fig2 = go.Figure(data=data, layout=layout)\n",
    "fig2.update_yaxes(type=\"log\")\n",
    "fig2.write_image(\"figures/Convergence_Ratio_v_Time.png\", width=500, height=500, scale=2)\n",
    "# py.iplot(fig2, filename=\"Convergence Ratio v. Time\")"
   ]
  },
  {
   "cell_type": "markdown",
   "metadata": {},
   "source": [
    "## 3.2 Ring visualization"
   ]
  },
  {
   "cell_type": "code",
   "execution_count": null,
   "metadata": {
    "ExecuteTime": {
     "end_time": "2021-04-13T03:20:01.019781Z",
     "start_time": "2021-04-13T03:19:27.522113Z"
    }
   },
   "outputs": [],
   "source": [
    "import plotly.express as px\n",
    "import plotly.io as pio\n",
    "import pandas\n",
    "\n",
    "spherical_earth_map = np.load(\"map_sphere.npy\")\n",
    "\n",
    "pos_toroid = cs_toroid[:, 0, :, :] / 1e3\n",
    "N_timesteps = pos_toroid.shape[0]\n",
    "N_fragments = pos_toroid.shape[1]\n",
    "r_E = op.cb[\"radius\"] / 1e3\n",
    "xm, ym, zm = spherical_earth_map.T * r_E\n",
    "\n",
    "# Converting data to pandas dataframe\n",
    "df = pandas.DataFrame()\n",
    "# *** Update this if chnage timestep in initial orbit propagation ***\n",
    "dt = 60 * 5  # [s]\n",
    "# Want to show the evolution in 30 min\n",
    "timesteps = np.arange(0, N_timesteps, 6)\n",
    "\n",
    "for t in timesteps:\n",
    "    step = t * np.ones_like(N_timesteps)\n",
    "    time = dt * step / 60  # [min]\n",
    "    d = {\n",
    "        \"X\": pos_toroid[t, :, 0],\n",
    "        \"Y\": pos_toroid[t, :, 1],\n",
    "        \"Z\": pos_toroid[t, :, 2],\n",
    "        \"Min.\": time,\n",
    "        # \"a\": ks_toroid[t, 0, :] / 1e3,\n",
    "        # \"e\": ks_toroid[t, 1, :],\n",
    "        # \"i\": ks_toroid[t, 2, :],\n",
    "    }\n",
    "    df = pandas.concat([df, pandas.DataFrame(data=d)])\n",
    "\n",
    "# Creating visual\n",
    "def spheres(size, clr, dist=0):\n",
    "\n",
    "    # Set up 100 points. First, do angles\n",
    "    theta = np.linspace(0, 2 * np.pi, 100)\n",
    "    phi = np.linspace(0, np.pi, 100)\n",
    "\n",
    "    # Set up coordinates for points on the sphere\n",
    "    x0 = dist + size * np.outer(np.cos(theta), np.sin(phi))\n",
    "    y0 = size * np.outer(np.sin(theta), np.sin(phi))\n",
    "    z0 = size * np.outer(np.ones(100), np.cos(phi))\n",
    "\n",
    "    # Set up trace\n",
    "    trace = go.Surface(x=x0, y=y0, z=z0, colorscale=[[0, clr], [1, clr]])\n",
    "    trace.update(showscale=False)\n",
    "\n",
    "    return trace\n",
    "\n",
    "\n",
    "fig = px.scatter_3d(\n",
    "    data_frame=df,\n",
    "    x=\"X\",\n",
    "    y=\"Y\",\n",
    "    z=\"Z\",\n",
    "    title=\"Evolution of debris cloud to toroid formation\",\n",
    "    hover_data={\n",
    "        \"Min.\": False,\n",
    "        \"X\": False,\n",
    "        \"Y\": False,\n",
    "        \"Z\": False,\n",
    "        \"a\": \":.1f\",\n",
    "        \"e\": \":.4f\",\n",
    "        \"i\": \":.1f\",\n",
    "    },\n",
    "    height=800,  # height of graph in pixels\n",
    "    width=800,\n",
    "    animation_frame=\"Min.\",  # assign marks to animation frames\n",
    "    range_x=[-r_E - 1000, r_E + 1000],\n",
    "    range_z=[-r_E - 1000, r_E + 1000],\n",
    "    range_y=[-r_E - 1000, r_E + 1000],\n",
    ")\n",
    "fig.update_traces(marker={\"size\": 3})\n",
    "# Add Earth\n",
    "earth = spheres(r_E, \"#F0FFFF\", 0)  # Earth\n",
    "# fig.add_trace(go.Scatter3d(x=xm, y=ym, z=zm, mode='lines', line=dict(color=zm, colorscale='Viridis')))\n",
    "fig[\"layout\"][\"scene\"][\"aspectmode\"] = \"cube\"\n",
    "fig.add_trace(earth)\n",
    "fig.update_layout(transition={\"duration\": 2000})\n",
    "fig.write_html(\"plots/ring.html\")"
   ]
  },
  {
   "cell_type": "markdown",
   "metadata": {},
   "source": [
    "## 3.3 Band visualization"
   ]
  },
  {
   "cell_type": "code",
   "execution_count": null,
   "metadata": {
    "ExecuteTime": {
     "end_time": "2021-04-13T02:51:11.785292Z",
     "start_time": "2021-04-13T02:50:52.771515Z"
    }
   },
   "outputs": [],
   "source": [
    "temp = np.zeros_like(da)  # The params set to 0 dont matter for converting to rv\n",
    "ks_propagated = np.swapaxes(\n",
    "    np.stack([da, de, di, dOmega, domega, temp, dnu, dp, temp, temp]).T, 1, 2\n",
    ")\n",
    "ks_final = np.concatenate([ks_toroid, ks_propagated])\n",
    "op.states = ks_final\n",
    "cs_final = op.cartesian_representation()"
   ]
  },
  {
   "cell_type": "code",
   "execution_count": null,
   "metadata": {
    "ExecuteTime": {
     "end_time": "2021-04-13T02:51:21.308114Z",
     "start_time": "2021-04-13T02:51:15.298065Z"
    }
   },
   "outputs": [],
   "source": [
    "import pandas as pandas\n",
    "import plotly.express as px\n",
    "\n",
    "pos_toroid = cs_final[cs_toroid.shape[0] - 1 :, 0, :, :] / 1e3\n",
    "N_timesteps = pos_toroid.shape[0]\n",
    "N_fragments = pos_toroid.shape[1]\n",
    "r_E = op.cb[\"radius\"] / 1e3\n",
    "\n",
    "\n",
    "# Converting data to pandas dataframe\n",
    "df = pandas.DataFrame()\n",
    "# *** Update this if chnage timestep in initial orbit propagation ***\n",
    "dt = 60 * 5  # [s]\n",
    "# Want to show the evolution in 1 day steps\n",
    "timesteps = np.arange(0, N_timesteps, 5)\n",
    "\n",
    "for t in timesteps:\n",
    "    step = t * np.ones_like(N_timesteps)\n",
    "    time = step  # [day]\n",
    "    d = {\n",
    "        \"X\": pos_toroid[t, :, 0],\n",
    "        \"Y\": pos_toroid[t, :, 1],\n",
    "        \"Z\": pos_toroid[t, :, 2],\n",
    "        \"Day\": time,\n",
    "    }\n",
    "    df = pandas.concat([df, pandas.DataFrame(data=d)])\n",
    "\n",
    "\n",
    "def spheres(size, clr, dist=0):\n",
    "\n",
    "    # Set up 100 points. First, do angles\n",
    "    theta = np.linspace(0, 2 * np.pi, 100)\n",
    "    phi = np.linspace(0, np.pi, 100)\n",
    "\n",
    "    # Set up coordinates for points on the sphere\n",
    "    x0 = dist + size * np.outer(np.cos(theta), np.sin(phi))\n",
    "    y0 = size * np.outer(np.sin(theta), np.sin(phi))\n",
    "    z0 = size * np.outer(np.ones(100), np.cos(phi))\n",
    "\n",
    "    # Set up trace\n",
    "    trace = go.Surface(x=x0, y=y0, z=z0, colorscale=[[0, clr], [1, clr]])\n",
    "    trace.update(showscale=False)\n",
    "\n",
    "    return trace\n",
    "\n",
    "\n",
    "fig = px.scatter_3d(\n",
    "    data_frame=df,\n",
    "    x=\"X\",\n",
    "    y=\"Y\",\n",
    "    z=\"Z\",\n",
    "    title=\"Evolution of debris cloud to Band formation\",\n",
    "    # labels={'Years in school (avg)': 'Years Women are in School'},\n",
    "    # hover_data={'Min.': False, 'X': False, 'Y':False, 'Z':False, 'a':':.1f', 'e':':.4f','i':':.1f' },\n",
    "    # hover_name='Orbital Elements',        # values appear in bold in the hover tooltip\n",
    "    height=800,  # height of graph in pixels\n",
    "    width=800,\n",
    "    animation_frame=\"Day\",  # assign marks to animation frames\n",
    "    range_x=[-r_E - 1000, r_E + 1000],\n",
    "    range_z=[-r_E - 1000, r_E + 1000],\n",
    "    range_y=[-r_E - 1000, r_E + 1000],\n",
    ")\n",
    "fig.update_traces(marker={\"size\": 1.5, \"color\": \"#6372f4\"})\n",
    "# Add Earth\n",
    "earth = spheres(r_E, \"#ffffff\", 0)  # Earth\n",
    "fig.add_trace(earth)\n",
    "# fig.add_trace(go.Scatter3d(x=xm, y=ym, z=zm, mode='lines', line=dict(color=zm, colorscale='Viridis')))\n",
    "fig[\"layout\"][\"scene\"][\"aspectmode\"] = \"cube\"\n",
    "fig.update_layout(transition={\"duration\": 2000})\n",
    "fig.update_layout(paper_bgcolor=\"rgba(0,0,0,0)\", plot_bgcolor=\"rgba(0,0,0,0)\")\n",
    "fig.write_html(\"plots/band.html\")"
   ]
  },
  {
   "cell_type": "markdown",
   "metadata": {},
   "source": [
    "## 3.4 Time to deorbit "
   ]
  },
  {
   "cell_type": "code",
   "execution_count": null,
   "metadata": {
    "ExecuteTime": {
     "end_time": "2021-04-13T02:51:33.862766Z",
     "start_time": "2021-04-13T02:51:25.637468Z"
    }
   },
   "outputs": [],
   "source": [
    "import plotly.figure_factory as ff\n",
    "import matplotlib.cm as cm\n",
    "\n",
    "AM = op.A / op.M\n",
    "z = (da * (1 - de)) - op.cb[\"radius\"]\n",
    "z[z < 100 * 1e3] = 0\n",
    "\n",
    "layout = go.Layout(\n",
    "    title=dict(text=\"Altitude of 50 debris fragments over 3 years\", x=0.5),\n",
    "    xaxis_title=\"$t\\:[days]$\",\n",
    "    yaxis_title=\"Altitude [km]\",\n",
    "    template=\"plotly_white\",\n",
    "    legend=go.layout.Legend(yanchor=\"top\", y=0.99, xanchor=\"right\", x=0.99),\n",
    ")\n",
    "\n",
    "data = []\n",
    "\n",
    "for i in range(25):\n",
    "    alt = np.trim_zeros(z[i, :]) / 1e3\n",
    "    scatter = go.Scatter(x=[i for i in range(len(alt))], y=alt, mode=\"lines\")\n",
    "    data.append(scatter)\n",
    "\n",
    "fig = go.Figure(data=data, layout=layout)\n",
    "fig.update_layout(coloraxis=dict(colorscale=\"RdBu\"), showlegend=False)\n",
    "fig.show()\n",
    "fig.write_image(\"figures/oxp_altitudes.png\", width=500, height=500, scale=2)"
   ]
  },
  {
   "cell_type": "markdown",
   "metadata": {},
   "source": [
    "## 3.5 Debris spread"
   ]
  },
  {
   "cell_type": "code",
   "execution_count": null,
   "metadata": {
    "ExecuteTime": {
     "end_time": "2021-04-13T02:51:42.065755Z",
     "start_time": "2021-04-13T02:51:42.059087Z"
    }
   },
   "outputs": [],
   "source": [
    "index = int(np.ceil(ks_propagated.shape[0] * 0.10))  # index near begining\n",
    "raan_0 = ks_propagated[index, 3, :].copy() % 360\n",
    "raan_0[raan_0 > 180] -= 360  # Converting angles to new range\n",
    "\n",
    "raan_mid = ks_propagated[ks_propagated.shape[0] // 2, 3, :].copy() % 360\n",
    "raan_mid[raan_mid > 180] -= 360\n",
    "\n",
    "raan_f = ks_propagated[-1, 3, :].copy() % 360\n",
    "raan_f[raan_f > 180] -= 360"
   ]
  },
  {
   "cell_type": "code",
   "execution_count": null,
   "metadata": {
    "ExecuteTime": {
     "end_time": "2021-04-13T02:52:10.559324Z",
     "start_time": "2021-04-13T02:52:05.865763Z"
    }
   },
   "outputs": [],
   "source": [
    "import math\n",
    "import plotly.figure_factory as ff\n",
    "\n",
    "uniform_dist = np.random.uniform(-180, 180, len(raan_0))\n",
    "group_labels = [\n",
    "    \"$\\Omega_{initial}$\",\n",
    "    \"$\\Omega_{midpoint}$\",\n",
    "    \"$\\Omega_{final}$\",\n",
    "    \"uniform\",\n",
    "]\n",
    "fig = ff.create_distplot(\n",
    "    [raan_0, raan_mid, raan_f, uniform_dist], group_labels, show_hist=False\n",
    ")\n",
    "\n",
    "# Updating the uniform curve to be dashed\n",
    "index = np.argwhere(np.array([data.legendgroup for data in fig.data]) == \"uniform\")[0][\n",
    "    0\n",
    "]\n",
    "fig.data[index].line = dict(color=\"red\", width=2, dash=\"dash\")\n",
    "\n",
    "# Layout\n",
    "fig.layout[\"title\"] = dict(text=\"Longitude of the ascending node distribution\", x=0.5)\n",
    "fig.layout[\"xaxis_title\"] = \"$\\Omega\\:[deg]$\"\n",
    "fig.layout[\"yaxis_title\"] = \"Kernel density estimation\"\n",
    "fig.layout[\"template\"] = \"plotly_white\"\n",
    "\n",
    "\n",
    "fig.write_image(\"figures/oxp_dist.png\", width=500, height=500, scale=2)\n",
    "py.iplot(fig, filename=\"Longitude of the ascending node distribution\")"
   ]
  },
  {
   "cell_type": "markdown",
   "metadata": {},
   "source": [
    "# 4. Conclusion"
   ]
  }
 ],
 "metadata": {
  "kernelspec": {
   "display_name": ".venv",
   "language": "python",
   "name": "python3"
  },
  "language_info": {
   "codemirror_mode": {
    "name": "ipython",
    "version": 3
   },
   "file_extension": ".py",
   "mimetype": "text/x-python",
   "name": "python",
   "nbconvert_exporter": "python",
   "pygments_lexer": "ipython3",
   "version": "3.11.6"
  }
 },
 "nbformat": 4,
 "nbformat_minor": 4
}
