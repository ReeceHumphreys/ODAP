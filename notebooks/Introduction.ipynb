{
 "cells": [
  {
   "cell_type": "markdown",
   "metadata": {},
   "source": [
    "# Introduction\n",
    "\n",
    "This notebook serves as an exploration of orbital debris modeling and an introduction to ODAP (Orbital Debris Analysis with Python). While ODAP is currently being refined and converted into a standalone module, you will be able to explore how the module functions and can be utilized in research throughout this notebook.\n",
    "\n",
    "Initially, this project started from a personal curiosity about how orbital debris works, but later was the basis for a senior thesis written while attending the Harriet L. Wilkes Honors College. The purpose is to develop a modern open-source python implementation of the NASA Standard Breakup Model that others can use to research orbital debris.\n",
    "\n",
    "Since this project is on going, please note that some functionality may not be working as expected as I continue to go through the process of optimizing and validating the implementations of the various components."
   ]
  },
  {
   "cell_type": "markdown",
   "metadata": {},
   "source": [
    "# Table of Contents\n",
    "### 0. [Packages](#packages)\n",
    "Covers the initial setup to enable the notebook to function correctly\n",
    "### 1. [Data Source](#data-source)\n",
    "Loading real world data from Two Line Elements to use as the foundation for the rest of the simulations\n",
    "### 2. [Fragmentation Event Modeling](#fragmentation)\n",
    "### 3. [Cloud Formation and Propagation](#cloud)\n",
    "### 4. [Analysis](#second-bullet)\n"
   ]
  },
  {
   "cell_type": "markdown",
   "metadata": {},
   "source": [
    "<a class=\"anchor\" id=\"packages\"></a>\n",
    "<h1>0. Packages</h1>\n",
    "\n",
    "For the purposes of this notebook I will be using a variety of other common modules such as NuMpy, pandas, and Plotly. As such, the below cell will import all necessary modules, as well as import various components from ODAP that will be useful."
   ]
  },
  {
   "cell_type": "code",
   "execution_count": 2,
   "metadata": {
    "ExecuteTime": {
     "end_time": "2021-10-27T17:21:14.872913Z",
     "start_time": "2021-10-27T17:21:02.278959Z"
    }
   },
   "outputs": [],
   "source": [
    "# System lib.\n",
    "import sys\n",
    "import os\n",
    "import re\n",
    "import datetime as datetime\n",
    "from importlib import reload\n",
    "\n",
    "# 3rd party lib.\n",
    "import numpy as np\n",
    "import matplotlib\n",
    "\n",
    "# User defined lib.\n",
    "if not os.path.join(sys.path[0], '..') in sys.path:\n",
    "    sys.path.insert(1, os.path.join(sys.path[0], '..'))\n",
    "\n",
    "%matplotlib widget"
   ]
  },
  {
   "cell_type": "markdown",
   "metadata": {},
   "source": [
    "<a class=\"anchor\" id=\"data-source\"></a>\n",
    "<h1>1. Data Source</h1>\n",
    "\n",
    "To perform accurate simulations, it is essential to have some real-world satellite data as the starting point for modeling the fragmentation event. Therefore, this notebook is a file containing NORAD Two-Line Element Sets (TLE) acquired from [CelesTrak](https://celestrak.com/NORAD/elements/). The rest of this section involves importing said data and discussing how the TLE data structure functions."
   ]
  },
  {
   "cell_type": "markdown",
   "metadata": {},
   "source": [
    "<h3>1.1 Loading TLE Data</h3>\n",
    "\n",
    "TLE's are standardized data structures that contain the orbital elements used to describe Earth-orbiting objects for a given point in time. Most importantly, they are used to determine where a given object will be at any given time. Thus, it is a valuable tool for analyzing potential orbital collisions as well as tracking orbital debris.\n",
    "\n",
    "To acquire the most recent information about all objects being tracked in Earth orbit is recommended to download the latest TLE data from CelesTrak. This file comes in the form of a `.txt` file that first must be parsed to use while programming. While it is possible to manually parse all of the data from the TLEs using [Regular expression operations](https://docs.python.org/3/library/re.html), for this notebook, I will be utilizing the `skyfield` python module as it has the built-in functionality to handle this."
   ]
  },
  {
   "cell_type": "code",
   "execution_count": 3,
   "metadata": {
    "ExecuteTime": {
     "end_time": "2021-04-13T03:31:41.682958Z",
     "start_time": "2021-04-13T03:31:40.796973Z"
    },
    "scrolled": true
   },
   "outputs": [],
   "source": [
    "# Opening the .txt file\n",
    "from odap.models.tle import TLE\n",
    "\n",
    "with open(\"data/3le.txt\") as f:\n",
    "    txt = f.read()\n",
    "    \n",
    "# Using regular expression to perform basic parsing of the 3le.txt file\n",
    "# Returns and array of arrays where each subarray contains three strings\n",
    "# corresponding to each line of th TLE\n",
    "tles_data = np.array([tle for tle in re.findall('(.*?)\\n(.*?)\\n(.*?)\\n', txt)])\n",
    "\n",
    "# Convert name line of TLE to correct format\n",
    "tles_data[:, 0] = [name[2: ] for name in tles_data[:, 0]] \n",
    "\n",
    "tles = [TLE(lines[0], lines[1], lines[2]) for lines in tles_data]"
   ]
  },
  {
   "cell_type": "markdown",
   "metadata": {},
   "source": [
    "<h3>1.2 Select orbital object for analysis</h3>\n",
    "\n",
    "Now that we have an array containing Satellite objects, we can utilize NumPy to find a satellite that satisfies whatever criterion we are looking for. For example, we may want to simulate a fragmentation event for a satellite with a low semi-major axis or a high eccentricity. To keep things simple, I selected a satellite using the name assigned to it by NORAD."
   ]
  },
  {
   "cell_type": "code",
   "execution_count": 4,
   "metadata": {
    "ExecuteTime": {
     "end_time": "2021-04-13T03:32:06.383448Z",
     "start_time": "2021-04-13T03:32:06.342152Z"
    }
   },
   "outputs": [],
   "source": [
    "from odap.models.satellite import Satellite\n",
    "\n",
    "# Constructing an array that contains the names of all the satellites in our dataset\n",
    "# Note: The name formatting of all satellites starts with \"0 \",\n",
    "#       thus we slice the String to cut the 0.\n",
    "desigs = np.array([tle.int_desig for tle in tles])\n",
    "\n",
    "# Search the name array for the index of desired satellite\n",
    "i = np.argwhere(desigs == \"93009A\").flatten()[0]\n",
    "\n",
    "# Retrieve that satellite object from the `satellites` array using the found index\n",
    "tle = tles[i]\n",
    "\n",
    "# # Compute the cartesian state vectors\n",
    "sat = Satellite(tle)"
   ]
  },
  {
   "cell_type": "markdown",
   "metadata": {
    "ExecuteTime": {
     "end_time": "2021-04-13T02:13:24.736191Z",
     "start_time": "2021-04-13T02:13:24.731596Z"
    }
   },
   "source": [
    "<a class=\"anchor\" id=\"fragmentation\"></a>\n",
    "# 2. Fragmentation Event Modeling\n",
    "\n",
    "A satellite breakup model is a mathematical model used to describe the outcome of a satellite breakup due to an explosion or collision. A satellite breakup model should describe the size, area-to-mass (AM) ratio, and the ejection velocity of each fragment produced in the satellite breakup. The most easily accessible literature model is the [NASA Standard breakup model](https://www.sciencedirect.com/science/article/abs/pii/S0273117701004239). This model is implemented in ODAP in `generate_debris.py`.\n",
    "\n",
    "In the following subsections, ODAP is utilized to simulate an explosion event and a collision event. Additionally, some information about how the NASA Standard Breakup Model works is provided. For additional information it is recomended to refer to ..."
   ]
  },
  {
   "cell_type": "code",
   "execution_count": 5,
   "metadata": {},
   "outputs": [],
   "source": [
    "import numpy as np\n",
    "\n",
    "from nasa_sbm.configuration import SimulationConfiguration\n",
    "from nasa_sbm.model import BreakupModel\n",
    "\n",
    "config = SimulationConfiguration('data/simulation_config.yaml')\n",
    "sat.cartesian_state\n",
    "sat.r *= 1e3 # NASA SBM uses m instead of km\n",
    "sat.v *= 1e3 # NASA SBM uses m/s instead of km/s\n",
    "event  = BreakupModel(config, np.array([sat]))\n",
    "debris = event.run()\n",
    "sat.r /= 1e3 # NASA SBM uses m instead of km\n",
    "sat.v /= 1e3 # NASA SBM uses m/s instead of km/s"
   ]
  },
  {
   "cell_type": "markdown",
   "metadata": {},
   "source": [
    "### 2.1.1 Modeling a rocket body collision\n",
    "\n",
    "Additionally, we can also use ODAP to simulate collision events. The only difference is specifying a non zero projectile mass and a non zero relative impact velocity."
   ]
  },
  {
   "cell_type": "markdown",
   "metadata": {
    "ExecuteTime": {
     "end_time": "2021-04-13T02:22:17.012069Z",
     "start_time": "2021-04-13T02:22:16.999045Z"
    }
   },
   "source": [
    "### 2.1.2 Visualizing the results\n",
    "\n",
    "Now that we have some data about a breakup event, we can begin to visualize the various variables to understand how closely ODAP models the fragmentation event compared to the results from other available research data.\n",
    "\n",
    "This is accomplished by utilizing Plotly to generate figures. As such, most of the bellow cell involves setting appropriate layouts to the figures. The primary purpose of which is to illustrate how we can take the fragmentation data and visualize it."
   ]
  },
  {
   "cell_type": "code",
   "execution_count": 6,
   "metadata": {},
   "outputs": [],
   "source": [
    "# Create logarithmic spaced bins\n",
    "def create_log_bins(values, nbins=100):\n",
    "    bins = np.geomspace(values.min(), values.max(), nbins)\n",
    "    a = bins[1]/bins[0]\n",
    "    bins = np.concatenate([[bins[0]/a], bins,[bins[-1]*a]])\n",
    "    return bins\n",
    "\n",
    "# Specify a common Layout theme\n",
    "layout = dict(\n",
    "    autosize=False,\n",
    "    width=500,\n",
    "    height=500,\n",
    "    template = 'plotly_white',\n",
    "    yaxis = dict(\n",
    "        range=[0,2e5],\n",
    "        showexponent = 'all',\n",
    "        exponentformat = 'e'\n",
    "    ),\n",
    "    legend=dict(\n",
    "        y=0.5,\n",
    "        traceorder='reversed',\n",
    "        font=dict(\n",
    "            size=16\n",
    "        )\n",
    "    )\n",
    ")"
   ]
  },
  {
   "cell_type": "markdown",
   "metadata": {},
   "source": [
    "### Producing Characteristic Length Visual"
   ]
  },
  {
   "cell_type": "code",
   "execution_count": 7,
   "metadata": {},
   "outputs": [
    {
     "ename": "NameError",
     "evalue": "name 'go' is not defined",
     "output_type": "error",
     "traceback": [
      "\u001b[0;31m---------------------------------------------------------------------------\u001b[0m",
      "\u001b[0;31mNameError\u001b[0m                                 Traceback (most recent call last)",
      "\u001b[1;32m/Users/reecehumphreys/Developer/Personal/ODAP/notebooks/Introduction.ipynb Cell 16'\u001b[0m in \u001b[0;36m<cell line: 5>\u001b[0;34m()\u001b[0m\n\u001b[1;32m      <a href='vscode-notebook-cell:/Users/reecehumphreys/Developer/Personal/ODAP/notebooks/Introduction.ipynb#ch0000015?line=2'>3</a>\u001b[0m h, b \u001b[39m=\u001b[39m np\u001b[39m.\u001b[39mhistogram(L_c, bins\u001b[39m=\u001b[39mcreate_log_bins(L_c))\n\u001b[1;32m      <a href='vscode-notebook-cell:/Users/reecehumphreys/Developer/Personal/ODAP/notebooks/Introduction.ipynb#ch0000015?line=3'>4</a>\u001b[0m \u001b[39m# Make figure\u001b[39;00m\n\u001b[0;32m----> <a href='vscode-notebook-cell:/Users/reecehumphreys/Developer/Personal/ODAP/notebooks/Introduction.ipynb#ch0000015?line=4'>5</a>\u001b[0m fig \u001b[39m=\u001b[39m go\u001b[39m.\u001b[39mFigure(data\u001b[39m=\u001b[39m[go\u001b[39m.\u001b[39mScatter(x\u001b[39m=\u001b[39mb, y\u001b[39m=\u001b[39mh, mode\u001b[39m=\u001b[39m\u001b[39m'\u001b[39m\u001b[39mlines\u001b[39m\u001b[39m'\u001b[39m, hoverinfo\u001b[39m=\u001b[39m\u001b[39m'\u001b[39m\u001b[39mall\u001b[39m\u001b[39m'\u001b[39m,\n\u001b[1;32m      <a href='vscode-notebook-cell:/Users/reecehumphreys/Developer/Personal/ODAP/notebooks/Introduction.ipynb#ch0000015?line=5'>6</a>\u001b[0m                                  line\u001b[39m=\u001b[39m\u001b[39mdict\u001b[39m(shape\u001b[39m=\u001b[39m\u001b[39m'\u001b[39m\u001b[39mhvh\u001b[39m\u001b[39m'\u001b[39m))],\n\u001b[1;32m      <a href='vscode-notebook-cell:/Users/reecehumphreys/Developer/Personal/ODAP/notebooks/Introduction.ipynb#ch0000015?line=6'>7</a>\u001b[0m                 layout\u001b[39m=\u001b[39mlayout)\n\u001b[1;32m      <a href='vscode-notebook-cell:/Users/reecehumphreys/Developer/Personal/ODAP/notebooks/Introduction.ipynb#ch0000015?line=7'>8</a>\u001b[0m fig\u001b[39m.\u001b[39mupdate_xaxes(\u001b[39mtype\u001b[39m\u001b[39m=\u001b[39m\u001b[39m\"\u001b[39m\u001b[39mlog\u001b[39m\u001b[39m\"\u001b[39m)\n\u001b[1;32m      <a href='vscode-notebook-cell:/Users/reecehumphreys/Developer/Personal/ODAP/notebooks/Introduction.ipynb#ch0000015?line=8'>9</a>\u001b[0m fig\u001b[39m.\u001b[39mupdate_layout(\n\u001b[1;32m     <a href='vscode-notebook-cell:/Users/reecehumphreys/Developer/Personal/ODAP/notebooks/Introduction.ipynb#ch0000015?line=9'>10</a>\u001b[0m     title \u001b[39m=\u001b[39m \u001b[39m'\u001b[39m\u001b[39mCharacteristic Length Distribution\u001b[39m\u001b[39m'\u001b[39m,\n\u001b[1;32m     <a href='vscode-notebook-cell:/Users/reecehumphreys/Developer/Personal/ODAP/notebooks/Introduction.ipynb#ch0000015?line=10'>11</a>\u001b[0m     xaxis_title\u001b[39m=\u001b[39m\u001b[39mr\u001b[39m\u001b[39m'\u001b[39m\u001b[39m$\u001b[39m\u001b[39m\\\u001b[39m\u001b[39mlog_\u001b[39m\u001b[39m{10}\u001b[39;00m\u001b[39m(L_\u001b[39m\u001b[39m{c}\u001b[39;00m\u001b[39m\\\u001b[39m\u001b[39m:[m])$\u001b[39m\u001b[39m'\u001b[39m,\n\u001b[1;32m     <a href='vscode-notebook-cell:/Users/reecehumphreys/Developer/Personal/ODAP/notebooks/Introduction.ipynb#ch0000015?line=11'>12</a>\u001b[0m     yaxis_title\u001b[39m=\u001b[39m\u001b[39mr\u001b[39m\u001b[39m'\u001b[39m\u001b[39m$N_f$\u001b[39m\u001b[39m'\u001b[39m\n\u001b[1;32m     <a href='vscode-notebook-cell:/Users/reecehumphreys/Developer/Personal/ODAP/notebooks/Introduction.ipynb#ch0000015?line=12'>13</a>\u001b[0m )\n",
      "\u001b[0;31mNameError\u001b[0m: name 'go' is not defined"
     ]
    }
   ],
   "source": [
    "L_c = debris[:, 2, 0]\n",
    "# Creating Histogram\n",
    "h, b = np.histogram(L_c, bins=create_log_bins(L_c))\n",
    "# Make figure\n",
    "fig = go.Figure(data=[go.Scatter(x=b, y=h, mode='lines', hoverinfo='all',\n",
    "                                 line=dict(shape='hvh'))],\n",
    "                layout=layout)\n",
    "fig.update_xaxes(type=\"log\")\n",
    "fig.update_layout(\n",
    "    title = 'Characteristic Length Distribution',\n",
    "    xaxis_title=r'$\\log_{10}(L_{c}\\:[m])$',\n",
    "    yaxis_title=r'$N_f$'\n",
    ")\n",
    "\n",
    "# Save the Plot to the figures folder\n",
    "py.iplot(fig, filename=\"Characteristic Length Distribution\")"
   ]
  },
  {
   "cell_type": "markdown",
   "metadata": {},
   "source": [
    "### Producing Areas Visual"
   ]
  },
  {
   "cell_type": "code",
   "execution_count": null,
   "metadata": {},
   "outputs": [],
   "source": [
    "areas = debris[:, 4, 0]\n",
    "# Creating Histogram\n",
    "h, b = np.histogram(areas, bins=create_log_bins(areas))\n",
    "\n",
    "# Make figure\n",
    "fig2 = go.Figure(data=[go.Scatter(x=b, y=h, mode='lines', hoverinfo='all',\n",
    "                                 line=dict(shape='hvh'))],\n",
    "                layout=layout)\n",
    "fig2.update_xaxes(type=\"log\")\n",
    "fig2.update_layout(\n",
    "    title = 'Area distribution',\n",
    "    xaxis_title=r'$\\log_{10}(A\\:[m^2])$',\n",
    "    yaxis_title=r'$N_f$',\n",
    ")\n",
    "\n",
    "# Plot\n",
    "py.iplot(fig2, filename=\"Area distribution\")"
   ]
  },
  {
   "cell_type": "markdown",
   "metadata": {},
   "source": [
    "### Producing Mass Visual"
   ]
  },
  {
   "cell_type": "code",
   "execution_count": null,
   "metadata": {},
   "outputs": [],
   "source": [
    "masses = debris[:, 5, 0]\n",
    "# Creating Histogram\n",
    "h, b = np.histogram(masses, bins=create_log_bins(masses))\n",
    "\n",
    "# Make figure\n",
    "fig3 = go.Figure(data=[go.Scatter(x=b, y=h, mode='lines', hoverinfo='all',\n",
    "                                 line=dict(shape='hvh'))],\n",
    "                layout=layout)\n",
    "fig3.update_xaxes(type=\"log\")\n",
    "fig3.update_layout(\n",
    "    title = 'Mass Distribution',\n",
    "    xaxis_title=r'$\\log_{10}(M\\:[kg])$',\n",
    "    yaxis_title=r'$N_f$'\n",
    ")\n",
    "\n",
    "# Plot\n",
    "py.iplot(fig3, filename=\"Mass Distribution\")"
   ]
  },
  {
   "cell_type": "markdown",
   "metadata": {},
   "source": [
    "### Producing Velocity Visual"
   ]
  },
  {
   "cell_type": "code",
   "execution_count": null,
   "metadata": {},
   "outputs": [],
   "source": [
    "delta_velocity = np.abs(np.linalg.norm(debris[:, 6, :], axis=1) - np.linalg.norm(sat.velocity)) /1e3\n",
    "print(delta_velocity)\n",
    "# Creating Histogram\n",
    "h, b = np.histogram(delta_velocity, bins=create_log_bins(delta_velocity))\n",
    "\n",
    "# Make figure\n",
    "fig4 = go.Figure(data=[go.Scatter(x=b, y=h, mode='lines', hoverinfo='all',\n",
    "                                 line=dict(shape='hvh'))],\n",
    "                layout=layout)\n",
    "\n",
    "# Update figure\n",
    "fig4.update_xaxes(type=\"log\")\n",
    "fig4.update_layout(\n",
    "    title = 'Velocity distribution',\n",
    "    xaxis_title=r'$\\log_{10}(V\\:[ms^-1])$',\n",
    "    yaxis_title=r'$N_f$',\n",
    ")\n",
    "\n",
    "# Plot\n",
    "#fig4.write_image(\"figures/N_f_vs_V.png\", width=500, height=500, scale=2)\n",
    "py.iplot(fig4, filename=\"Velocity distribution\")"
   ]
  },
  {
   "cell_type": "markdown",
   "metadata": {
    "ExecuteTime": {
     "end_time": "2021-04-13T02:04:58.954987Z",
     "start_time": "2021-04-13T02:04:58.934321Z"
    }
   },
   "source": [
    "## 2.2 Performing a Fragmentation Event"
   ]
  },
  {
   "cell_type": "markdown",
   "metadata": {
    "ExecuteTime": {
     "end_time": "2021-04-13T02:09:37.908615Z",
     "start_time": "2021-04-13T02:09:37.901200Z"
    }
   },
   "source": [
    "#### 2.1.4 Converting coordinates to Keplerian elements"
   ]
  },
  {
   "cell_type": "code",
   "execution_count": 8,
   "metadata": {
    "ExecuteTime": {
     "end_time": "2021-04-13T03:33:44.843674Z",
     "start_time": "2021-04-13T03:33:42.767256Z"
    }
   },
   "outputs": [
    {
     "name": "stderr",
     "output_type": "stream",
     "text": [
      "OMP: Info #276: omp_set_nested routine deprecated, please use omp_set_max_active_levels instead.\n"
     ]
    }
   ],
   "source": [
    "import odap.CoordTransforms as coords\n",
    "\n",
    "reload(coords)\n",
    "\n",
    "# Currently python-sbm returns values in m and m/s, thus we need to convert them\n",
    "rs = debris[:, 1, :] / 1e3 # km\n",
    "vs = debris[:, 6, :] / 1e3 # km/s\n",
    "\n",
    "# unit: [km^3 / s^2]\n",
    "mu_Earth = 3.986004418e5\n",
    "\n",
    "debris_keplerian_state = coords.rv2coe_many(mu_Earth, rs, vs)"
   ]
  },
  {
   "cell_type": "code",
   "execution_count": 9,
   "metadata": {},
   "outputs": [],
   "source": [
    "a = debris_keplerian_state[:, 0]\n",
    "e = debris_keplerian_state[:, 1]\n",
    "i = debris_keplerian_state[:, 2]\n",
    "raan = debris_keplerian_state[:, 3]\n",
    "arg_p = debris_keplerian_state[:, 4]\n",
    "nu = debris_keplerian_state[:, 5]\n",
    "masses = debris[:, 5, 0]\n",
    "areas = debris[:, 4, 0]"
   ]
  },
  {
   "cell_type": "markdown",
   "metadata": {},
   "source": [
    "## 2.2 Ring Formation"
   ]
  },
  {
   "cell_type": "code",
   "execution_count": 37,
   "metadata": {
    "ExecuteTime": {
     "end_time": "2021-04-13T03:34:30.754652Z",
     "start_time": "2021-04-13T03:33:50.015837Z"
    }
   },
   "outputs": [],
   "source": [
    "import odap.Perturbations as prop\n",
    "\n",
    "reload(prop)\n",
    "# Cleanup states to remove any fragments that would deorbit, given no perturbations\n",
    "periapsis     = a * (1 - e)\n",
    "I             = np.argwhere(periapsis >(6.3781e6))\n",
    "\n",
    "areas_pruned  = areas[I].flatten()  # When doing the indexing , a 1d dim being added which is unneccesary\n",
    "masses_pruned = masses[I].flatten() # When doing the indexing , a 1d dim being added which is unneccesary\n",
    "\n",
    "# # Propagate orbit for a period of time\n",
    "perts = prop.null_perts()\n",
    "perts['aero'] = True\n",
    "perts['J2']   = True\n",
    "\n",
    "op = prop.OrbitPropagator(debris_keplerian_state, areas, masses, [0, 60*60*24*3], 60*30, perts=perts)\n",
    "states = op.propagate_orbit()\n",
    "\n",
    "# # # Get the cartesian state representatio"
   ]
  },
  {
   "cell_type": "code",
   "execution_count": 38,
   "metadata": {},
   "outputs": [],
   "source": [
    "a_ring = states[-1, :, 0] \n",
    "e_ring = states[-1, :, 1] \n",
    "inc_ring = states[-1, :, 2] \n",
    "raan_ring = states[-1, :, 3] \n",
    "arg_p_ring = states[-1, :, 4] \n",
    "nu_ring = states[-1, :, 5] \n",
    "\n",
    "# ks_pruned"
   ]
  },
  {
   "cell_type": "code",
   "execution_count": 54,
   "metadata": {},
   "outputs": [
    {
     "data": {
      "text/plain": [
       "(144, 2, 238, 3)"
      ]
     },
     "execution_count": 54,
     "metadata": {},
     "output_type": "execute_result"
    }
   ],
   "source": [
    "states_cartesian = np.empty((states.shape[0], 2, states.shape[1], 3))\n",
    "\n",
    "for i in range(states.shape[0]):\n",
    "    state = states[i, :, :]\n",
    "    states_cartesian[i, :, :, :] = coords.coe2rv_many(mu_Earth,\n",
    "        state[:, 0],\n",
    "        state[:, 1],\n",
    "        state[:, 2],\n",
    "        state[:, 3],\n",
    "        state[:, 4],\n",
    "        state[:, 5])\n",
    "\n",
    "states_cartesian.shape"
   ]
  },
  {
   "cell_type": "code",
   "execution_count": 53,
   "metadata": {},
   "outputs": [
    {
     "data": {
      "application/vnd.jupyter.widget-view+json": {
       "model_id": "0c7325f9049144d3b36fddfb4369694b",
       "version_major": 2,
       "version_minor": 0
      },
      "image/png": "[encoded data removed]",
      "text/html": [
       "\n",
       "            <div style=\"display: inline-block;\">\n",
       "                <div class=\"jupyter-widgets widget-label\" style=\"text-align: center;\">\n",
       "                    Figure\n",
       "                </div>\n",
       "                <img src='data:image/png;base64,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' width=640.0/>\n",
       "            </div>\n",
       "        "
      ],
      "text/plain": [
       "Canvas(toolbar=Toolbar(toolitems=[('Home', 'Reset original view', 'home', 'home'), ('Back', 'Back to previous …"
      ]
     },
     "metadata": {},
     "output_type": "display_data"
    }
   ],
   "source": [
    "%matplotlib widget\n",
    "import numpy as np\n",
    "import matplotlib.pyplot as plt\n",
    "\n",
    "fig = plt.figure()\n",
    "ax = plt.axes(projection='3d')\n",
    "\n",
    "# Grabbing random pieces to visualize\n",
    "I = np.random.randint(0, states_cartesian.shape[2], 5)\n",
    "\n",
    "# Data for three-dimensional scattered points\n",
    "zdata = states_cartesian[:, 0, I, 2]\n",
    "xdata = states_cartesian[:, 0, I, 0]\n",
    "ydata = states_cartesian[:, 0, I, 1]\n",
    "\n",
    "# draw sphere\n",
    "r_earth = 6371\n",
    "u, v = np.mgrid[0:2*np.pi:20j, 0:np.pi:10j]\n",
    "x = np.cos(u)*np.sin(v) * r_earth\n",
    "y = np.sin(u)*np.sin(v) * r_earth\n",
    "z = np.cos(v) * r_earth\n",
    "ax.plot_surface(x, y, z, color=\"r\")\n",
    "\n",
    "ax.scatter3D(xdata, ydata, zdata);"
   ]
  },
  {
   "cell_type": "markdown",
   "metadata": {
    "ExecuteTime": {
     "end_time": "2021-04-09T01:17:23.880120Z",
     "start_time": "2021-04-09T01:17:23.841714Z"
    },
    "scrolled": true
   },
   "source": [
    "<h4>3.4.2 Particle Debris flux</h4>\n",
    "\n",
    "Using a particle flux to determine when the fragments of the debris have finished the formation of the ring. Indicating the end of the first phase of the debris cloud formation. This is accomplished by creating an xz plane and detecting when particles have switched from one side to the other. This approach will cause a peak as fragments pass through that becomes uniform as the debris becomes uniformly spread out.\n",
    "\n",
    "<h4>3.4.3 Convergence of the flux</h4>\n",
    "\n",
    "The next step is determining when the fragments have ended the torroid formation phase. This occurs when the fragments are approximately uniformally spread out. We can check to see when the flux meets a convergence criterion to determine when this happens.\n",
    "\n",
    "Now that the band has formed, we can shift away from propagating the exact position of each fragments and inplace propgate their changes in eccentricity and semi major axis due to drag. To do this first we must get the final states of the debris after the band has formed."
   ]
  },
  {
   "cell_type": "code",
   "execution_count": null,
   "metadata": {
    "ExecuteTime": {
     "end_time": "2021-04-13T03:34:34.645680Z",
     "start_time": "2021-04-13T03:34:34.433500Z"
    }
   },
   "outputs": [],
   "source": [
    "import time\n",
    "import matplotlib.dates as mdates\n",
    "from dateutil import tz\n",
    "\n",
    "def fragmentation_flux(X):\n",
    "    return np.sum((X[:-1, :, 1] < 0) & (X[1:, :, 1] > 0), axis=1)\n",
    "    \n",
    "position = cartesian_states[:, 0, :, :]\n",
    "flux = fragmentation_flux(position)\n",
    "\n",
    "w = 100 # Window of points to look at\n",
    "tol = 5\n",
    "convergence_ratio = np.array([np.var(flux[i:i+w])/np.mean(flux[i:i+w]) for i in range(len(flux))])    \n",
    "intersection_index = np.argwhere(convergence_ratio <= tol).flatten()[0]\n",
    "\n",
    "# datetimes\n",
    "t_flux = t_fragmentation.utc_datetime() + np.array(range(len(flux))) * datetime.timedelta(minutes = 5)\n",
    "\n",
    "# Removing last window from `t_flux`, `flux`, and `convergence_ratio` bc. not well defined for last values\n",
    "t_flux = t_flux[:-w]\n",
    "flux = flux[:-w]\n",
    "convergence_ratio = convergence_ratio[:-w]\n",
    "\n",
    "# Pruning data to the end of the ring formation\n",
    "cs_toroid = cartesian_states[:intersection_index, :, :, :]\n",
    "ks_toroid = op.states[0:intersection_index, :, :]\n",
    "op.states = ks_toroid"
   ]
  },
  {
   "cell_type": "markdown",
   "metadata": {},
   "source": [
    "## 2.3 Band Formation"
   ]
  },
  {
   "cell_type": "markdown",
   "metadata": {},
   "source": [
    "### 2.3.1 Drag Implementation"
   ]
  },
  {
   "cell_type": "code",
   "execution_count": null,
   "metadata": {
    "ExecuteTime": {
     "end_time": "2021-04-13T03:47:19.616099Z",
     "start_time": "2021-04-13T03:47:19.270256Z"
    }
   },
   "outputs": [],
   "source": [
    "import odap.Aerodynamics as aero\n",
    "import numpy as np\n",
    "\n",
    "\n",
    "upper_bound = 900                                #[km]\n",
    "altitudes   = np.arange(0, upper_bound, 1)      #[km]\n",
    "rho         = aero.atmosphere_density(altitudes) #[kg·m^-3]\n",
    "\n",
    "I_standard = np.argwhere(altitudes == 25).flatten()[0]\n",
    "I_cira    = np.argwhere(altitudes  == 500).flatten()[0]\n",
    "\n",
    "# Plotting the Exponential Atmospheric Model\n",
    "\n",
    "layout = go.Layout(\n",
    "    title        = go.layout.Title(text='Altitude (z) vs. Atmospheric Density (ρ)',\n",
    "                                   x=0.5),\n",
    "    xaxis_title  = 'z [km]',\n",
    "    yaxis_title  = '$\\log_{10}(\\\\rho\\:[kg·m^{-3}])$',\n",
    "    template     = 'plotly_white',\n",
    "    legend       = go.layout.Legend(yanchor=\"top\",\n",
    "                             y=0.99,\n",
    "                             xanchor=\"right\",\n",
    "                             x=0.99)\n",
    ")\n",
    "\n",
    "data = [\n",
    "    go.Scatter(x=altitudes[:I_standard], y=rho[:I_standard],\n",
    "                    mode='lines',\n",
    "                    name='U.S Standard Atmosphere'),\n",
    "    go.Scatter(x=altitudes[I_standard:I_cira], y=rho[I_standard:I_cira],\n",
    "                    mode='lines',\n",
    "                    name='CIRA-72'),\n",
    "    go.Scatter(x=altitudes[I_cira:], y=rho[I_cira:],\n",
    "                    mode='lines',\n",
    "                    name='CIRA-72 with T_infinity = 1000K')\n",
    "]\n",
    "\n",
    "fig = go.Figure(data=data, layout=layout)\n",
    "fig.update_yaxes(type=\"log\")\n",
    "\n",
    "\n",
    "#fig.write_image(\"figures/Atmospheric_Density_v_Altitude.png\", width=500, height=500, scale=2)\n",
    "f2 = go.FigureWidget(fig)\n",
    "f2"
   ]
  },
  {
   "cell_type": "markdown",
   "metadata": {},
   "source": [
    "### 2.3.1 Applying Perturbations to Satellite"
   ]
  },
  {
   "cell_type": "code",
   "execution_count": null,
   "metadata": {
    "ExecuteTime": {
     "end_time": "2021-04-13T02:48:45.470540Z",
     "start_time": "2021-04-13T02:48:43.740049Z"
    }
   },
   "outputs": [],
   "source": [
    "import odap.Aerodynamics as aero\n",
    "\n",
    "op.tspan[-1] = 3600*24*25\n",
    "op.dt = 3600*24\n",
    "de, da, di, dOmega, domega, dnu, dp = op.propagate_perturbations()"
   ]
  },
  {
   "cell_type": "markdown",
   "metadata": {},
   "source": [
    "# 3. Analysis"
   ]
  },
  {
   "cell_type": "markdown",
   "metadata": {},
   "source": [
    "## 3.1 Flux"
   ]
  },
  {
   "cell_type": "markdown",
   "metadata": {},
   "source": [
    "### 3.1.1 FLux plot"
   ]
  },
  {
   "cell_type": "code",
   "execution_count": null,
   "metadata": {
    "ExecuteTime": {
     "end_time": "2021-04-13T03:34:57.346240Z",
     "start_time": "2021-04-13T03:34:50.443218Z"
    }
   },
   "outputs": [],
   "source": [
    "# Creating Flux v. Time plot\n",
    "layout = go.Layout(\n",
    "    title        = dict(text='$\\\\text{Flux}\\:(\\\\Phi)\\:\\\\text{vs. Time }(t)$',\n",
    "                        x=0.5),\n",
    "    xaxis_title  = '$t\\:[days]$',\n",
    "    yaxis_title  = '$\\\\text{ Number of fragments passing XZ plane, }\\Phi\\:$',\n",
    "    template     = 'plotly_white'\n",
    ")\n",
    "\n",
    "\n",
    "data = [\n",
    "    go.Scatter(x=t_flux, y=flux,\n",
    "               mode='lines',\n",
    "               name='Flux'),\n",
    "    go.Scatter(x=[t_flux[intersection_index], t_flux[intersection_index]], y=[0, np.max(flux)],\n",
    "               mode='lines',\n",
    "               line=dict(dash = 'dash'),\n",
    "               name='Convergence')\n",
    "]\n",
    "\n",
    "fig1 = go.Figure(data=data, layout=layout)\n",
    "\n",
    "# Stopping data to have half before intersection index and half after\n",
    "index_stop = intersection_index * 2\n",
    "if index_stop > len(flux) - 1 : index_stop = len(flux) - 1\n",
    "fig1.update_layout(xaxis_range=[t_flux[0],t_flux[index_stop]])\n",
    "\n",
    "# Saving plot as an image and uploading it to plotly\n",
    "fig1.write_image(\"figures/Flux_v_Time.png\", width=500, height=500, scale=2)\n",
    "#py.iplot(fig1, filename=\"Flux v. Time\")"
   ]
  },
  {
   "cell_type": "markdown",
   "metadata": {},
   "source": [
    "### 3.1.2 Convergence Ratio plot"
   ]
  },
  {
   "cell_type": "code",
   "execution_count": null,
   "metadata": {
    "ExecuteTime": {
     "end_time": "2021-04-13T03:35:40.893879Z",
     "start_time": "2021-04-13T03:35:40.588308Z"
    }
   },
   "outputs": [],
   "source": [
    "#Creating Convergence Ratio v. Time plot\n",
    "layout = go.Layout(\n",
    "    title        = dict(text='Convergence ratio vs. Time (t)',\n",
    "                        x=0.5),\n",
    "    xaxis_title  = '$t\\:[days]$',\n",
    "    yaxis_title  = 'Convergence ratio []',\n",
    "    template     = 'plotly_white',\n",
    "    legend       = go.layout.Legend(yanchor=\"top\",\n",
    "                             y=0.99,\n",
    "                             xanchor=\"right\",\n",
    "                             x=0.99)\n",
    ")\n",
    "data = [\n",
    "    go.Scatter(x=t_flux, y=convergence_ratio,\n",
    "               mode='lines',\n",
    "               name='Convergence ratio'),\n",
    "    go.Scatter(x=[t_flux[intersection_index], t_flux[intersection_index]], y=[0, np.max(flux)],\n",
    "               mode='lines',\n",
    "               line=dict(dash = 'dash'),\n",
    "               name='Convergence time'),\n",
    "    go.Scatter(x=[t_flux[0], t_flux[-1]], y=[tol, tol],\n",
    "               mode='lines',\n",
    "               line=dict(dash = 'dash'),\n",
    "               name='Tolerance'),\n",
    "]\n",
    "fig2 = go.Figure(data=data, layout=layout)\n",
    "fig2.update_yaxes(type=\"log\")\n",
    "fig2.write_image(\"figures/Convergence_Ratio_v_Time.png\", width=500, height=500, scale=2)\n",
    "#py.iplot(fig2, filename=\"Convergence Ratio v. Time\")"
   ]
  },
  {
   "cell_type": "markdown",
   "metadata": {},
   "source": [
    "## 3.2 Ring visualization"
   ]
  },
  {
   "cell_type": "code",
   "execution_count": null,
   "metadata": {
    "ExecuteTime": {
     "end_time": "2021-04-13T03:20:01.019781Z",
     "start_time": "2021-04-13T03:19:27.522113Z"
    }
   },
   "outputs": [],
   "source": [
    "import plotly.express as px\n",
    "import plotly.io as pio\n",
    "import pandas\n",
    "\n",
    "spherical_earth_map = np.load('map_sphere.npy') \n",
    "\n",
    "pos_toroid = cs_toroid[:, 0, :, :]/1e3\n",
    "N_timesteps = pos_toroid.shape[0]\n",
    "N_fragments = pos_toroid.shape[1]\n",
    "r_E = op.cb['radius'] / 1e3\n",
    "xm, ym, zm = spherical_earth_map.T * r_E\n",
    "\n",
    "# Converting data to pandas dataframe\n",
    "df = pandas.DataFrame()\n",
    "# *** Update this if chnage timestep in initial orbit propagation ***\n",
    "dt = 60 * 5 #[s]\n",
    "# Want to show the evolution in 30 min\n",
    "timesteps = np.arange(0,N_timesteps, 6)\n",
    "\n",
    "for t in timesteps:   \n",
    "    step = t*np.ones_like(N_timesteps)\n",
    "    time = dt * step / 60 #[min]\n",
    "    d = {'X': pos_toroid[t, :, 0],\n",
    "         'Y': pos_toroid[t, :, 1],\n",
    "         'Z':pos_toroid[t, :, 2],\n",
    "         'Min.': time,\n",
    "         'a': ks_toroid[t, 0, :]/1e3,\n",
    "         'e': ks_toroid[t, 1, :],\n",
    "         'i': ks_toroid[t, 2, :],\n",
    "        }\n",
    "    df = pandas.concat([df, pandas.DataFrame(data=d)])\n",
    "\n",
    "# Creating visual\n",
    "def spheres(size, clr, dist=0): \n",
    "\n",
    "    # Set up 100 points. First, do angles\n",
    "    theta = np.linspace(0,2*np.pi,100)\n",
    "    phi = np.linspace(0,np.pi,100)\n",
    "\n",
    "    # Set up coordinates for points on the sphere\n",
    "    x0 = dist + size * np.outer(np.cos(theta),np.sin(phi))\n",
    "    y0 = size * np.outer(np.sin(theta),np.sin(phi))\n",
    "    z0 = size * np.outer(np.ones(100),np.cos(phi))\n",
    "\n",
    "    # Set up trace\n",
    "    trace= go.Surface(x=x0, y=y0, z=z0, colorscale=[[0,clr], [1,clr]])\n",
    "    trace.update(showscale=False)\n",
    "\n",
    "    return trace\n",
    "\n",
    "fig = px.scatter_3d(\n",
    "    data_frame=df,\n",
    "    x='X',\n",
    "    y='Y',\n",
    "    z='Z',\n",
    "    title='Evolution of debris cloud to toroid formation',\n",
    "    hover_data={'Min.': False, 'X': False, 'Y':False, 'Z':False, 'a':':.1f', 'e':':.4f','i':':.1f' },\n",
    "    height=800,                 # height of graph in pixels\n",
    "    width =800,\n",
    "    animation_frame='Min.',   # assign marks to animation frames\n",
    "    range_x=[-r_E - 1000,r_E + 1000],\n",
    "    range_z=[-r_E - 1000,r_E + 1000],\n",
    "    range_y=[-r_E - 1000,r_E + 1000],\n",
    "\n",
    ")\n",
    "fig.update_traces(marker={'size': 3})\n",
    "# Add Earth\n",
    "earth=spheres(r_E, '#F0FFFF', 0) # Earth\n",
    "#fig.add_trace(go.Scatter3d(x=xm, y=ym, z=zm, mode='lines', line=dict(color=zm, colorscale='Viridis')))\n",
    "fig['layout']['scene']['aspectmode'] = 'cube'\n",
    "fig.add_trace(earth)\n",
    "fig.update_layout(transition = {'duration': 2000})\n",
    "fig.write_html(\"plots/ring.html\")"
   ]
  },
  {
   "cell_type": "markdown",
   "metadata": {},
   "source": [
    "## 3.3 Band visualization"
   ]
  },
  {
   "cell_type": "code",
   "execution_count": null,
   "metadata": {
    "ExecuteTime": {
     "end_time": "2021-04-13T02:51:11.785292Z",
     "start_time": "2021-04-13T02:50:52.771515Z"
    }
   },
   "outputs": [],
   "source": [
    "temp = np.zeros_like(da) # The params set to 0 dont matter for converting to rv\n",
    "ks_propagated = np.swapaxes(np.stack([da, de, di, dOmega, domega, temp, dnu, dp, temp, temp]).T, 1, 2)\n",
    "ks_final = np.concatenate([ks_toroid, ks_propagated])\n",
    "op.states = ks_final\n",
    "cs_final = op.cartesian_representation()"
   ]
  },
  {
   "cell_type": "code",
   "execution_count": null,
   "metadata": {
    "ExecuteTime": {
     "end_time": "2021-04-13T02:51:21.308114Z",
     "start_time": "2021-04-13T02:51:15.298065Z"
    }
   },
   "outputs": [],
   "source": [
    "import pandas as pandas\n",
    "import plotly.express as px\n",
    "\n",
    "pos_toroid = cs_final[cs_toroid.shape[0]-1:, 0, :, :]/1e3\n",
    "N_timesteps = pos_toroid.shape[0]\n",
    "N_fragments = pos_toroid.shape[1]\n",
    "r_E = op.cb['radius'] / 1e3\n",
    "\n",
    "\n",
    "# Converting data to pandas dataframe\n",
    "df = pandas.DataFrame()\n",
    "# *** Update this if chnage timestep in initial orbit propagation ***\n",
    "dt = 60 * 5 #[s]\n",
    "# Want to show the evolution in 1 day steps\n",
    "timesteps = np.arange(0,N_timesteps, 5)\n",
    "\n",
    "for t in timesteps:   \n",
    "    step = t*np.ones_like(N_timesteps)\n",
    "    time = step  #[day]\n",
    "    d = {'X': pos_toroid[t, :, 0],\n",
    "         'Y': pos_toroid[t, :, 1],\n",
    "         'Z':pos_toroid[t, :, 2],\n",
    "         'Day': time,\n",
    "        }\n",
    "    df = pandas.concat([df, pandas.DataFrame(data=d)])\n",
    "\n",
    "def spheres(size, clr, dist=0): \n",
    "\n",
    "    # Set up 100 points. First, do angles\n",
    "    theta = np.linspace(0,2*np.pi,100)\n",
    "    phi = np.linspace(0,np.pi,100)\n",
    "\n",
    "    # Set up coordinates for points on the sphere\n",
    "    x0 = dist + size * np.outer(np.cos(theta),np.sin(phi))\n",
    "    y0 = size * np.outer(np.sin(theta),np.sin(phi))\n",
    "    z0 = size * np.outer(np.ones(100),np.cos(phi))\n",
    "\n",
    "    # Set up trace\n",
    "    trace= go.Surface(x=x0, y=y0, z=z0, colorscale=[[0,clr], [1,clr]])\n",
    "    trace.update(showscale=False)\n",
    "\n",
    "    return trace\n",
    "fig = px.scatter_3d(\n",
    "    data_frame=df,\n",
    "    x='X',\n",
    "    y='Y',\n",
    "    z='Z',\n",
    "    title='Evolution of debris cloud to Band formation',\n",
    "    #labels={'Years in school (avg)': 'Years Women are in School'},\n",
    "    #hover_data={'Min.': False, 'X': False, 'Y':False, 'Z':False, 'a':':.1f', 'e':':.4f','i':':.1f' },\n",
    "    #hover_name='Orbital Elements',        # values appear in bold in the hover tooltip\n",
    "    height=800,                 # height of graph in pixels\n",
    "    width =800,\n",
    "    animation_frame='Day',   # assign marks to animation frames\n",
    "    range_x=[-r_E - 1000,r_E + 1000],\n",
    "    range_z=[-r_E - 1000,r_E + 1000],\n",
    "    range_y=[-r_E - 1000,r_E + 1000],\n",
    "\n",
    ")\n",
    "fig.update_traces(marker={'size': 1.5, 'color':'#6372f4'})\n",
    "# Add Earth\n",
    "earth=spheres(r_E, '#ffffff', 0) # Earth\n",
    "fig.add_trace(earth)\n",
    "#fig.add_trace(go.Scatter3d(x=xm, y=ym, z=zm, mode='lines', line=dict(color=zm, colorscale='Viridis')))\n",
    "fig['layout']['scene']['aspectmode'] = 'cube'\n",
    "fig.update_layout(transition = {'duration': 2000})\n",
    "fig.update_layout(paper_bgcolor='rgba(0,0,0,0)',\n",
    "            plot_bgcolor='rgba(0,0,0,0)')\n",
    "fig.write_html(\"plots/band.html\")"
   ]
  },
  {
   "cell_type": "markdown",
   "metadata": {},
   "source": [
    "## 3.4 Time to deorbit "
   ]
  },
  {
   "cell_type": "code",
   "execution_count": null,
   "metadata": {
    "ExecuteTime": {
     "end_time": "2021-04-13T02:51:33.862766Z",
     "start_time": "2021-04-13T02:51:25.637468Z"
    }
   },
   "outputs": [],
   "source": [
    "import plotly.figure_factory as ff\n",
    "import matplotlib.cm as cm\n",
    "\n",
    "AM = op.A / op.M\n",
    "z  = (da * (1 - de)) - op.cb['radius']\n",
    "z[z < 100*1e3] = 0\n",
    "\n",
    "layout = go.Layout(\n",
    "    title        = dict(text='Altitude of 50 debris fragments over 3 years',\n",
    "                        x=0.5),\n",
    "    xaxis_title  = '$t\\:[days]$',\n",
    "    yaxis_title  = 'Altitude [km]',\n",
    "    template     = 'plotly_white',\n",
    "    legend       = go.layout.Legend(yanchor=\"top\",\n",
    "                             y=0.99,\n",
    "                             xanchor=\"right\",\n",
    "                             x=0.99)\n",
    ")\n",
    "\n",
    "data = []\n",
    "\n",
    "for i in range(25):\n",
    "    alt = np.trim_zeros(z[i, :]) / 1e3\n",
    "    scatter = go.Scatter(x=[i for i in range(len(alt))], y=alt,\n",
    "               mode='lines')\n",
    "    data.append(scatter)\n",
    "    \n",
    "fig = go.Figure(data=data, layout=layout)\n",
    "fig.update_layout(coloraxis=dict(colorscale='RdBu'), showlegend=False)\n",
    "fig.show()    \n",
    "fig.write_image(\"figures/oxp_altitudes.png\", width=500, height=500, scale=2)"
   ]
  },
  {
   "cell_type": "markdown",
   "metadata": {},
   "source": [
    "## 3.5 Debris spread"
   ]
  },
  {
   "cell_type": "code",
   "execution_count": null,
   "metadata": {
    "ExecuteTime": {
     "end_time": "2021-04-13T02:51:42.065755Z",
     "start_time": "2021-04-13T02:51:42.059087Z"
    }
   },
   "outputs": [],
   "source": [
    "index = int(np.ceil(ks_propagated.shape[0]*.10)) # index near begining\n",
    "raan_0 = ks_propagated[index, 3, :].copy() % 360\n",
    "raan_0[raan_0 > 180] -= 360 # Converting angles to new range\n",
    "\n",
    "raan_mid = ks_propagated[ks_propagated.shape[0] // 2, 3, :].copy()  % 360\n",
    "raan_mid[raan_mid  > 180] -= 360 \n",
    "\n",
    "raan_f = ks_propagated[-1, 3, :].copy() % 360\n",
    "raan_f[raan_f > 180] -= 360"
   ]
  },
  {
   "cell_type": "code",
   "execution_count": null,
   "metadata": {
    "ExecuteTime": {
     "end_time": "2021-04-13T02:52:10.559324Z",
     "start_time": "2021-04-13T02:52:05.865763Z"
    }
   },
   "outputs": [],
   "source": [
    "import math\n",
    "import plotly.figure_factory as ff\n",
    "\n",
    "uniform_dist = np.random.uniform(-180, 180, len(raan_0))\n",
    "group_labels = ['$\\Omega_{initial}$', '$\\Omega_{midpoint}$', '$\\Omega_{final}$', 'uniform']\n",
    "fig = ff.create_distplot([raan_0, raan_mid, raan_f, uniform_dist], group_labels, show_hist =  False)\n",
    "\n",
    "# Updating the uniform curve to be dashed\n",
    "index = np.argwhere(np.array([data.legendgroup for data in fig.data]) == 'uniform')[0][0]\n",
    "fig.data[index].line = dict(color='red', width=2,\n",
    "                             dash='dash')\n",
    "\n",
    "# Layout\n",
    "fig.layout['title'] = dict(text='Longitude of the ascending node distribution',\n",
    "                        x=0.5)\n",
    "fig.layout['xaxis_title'] = '$\\Omega\\:[deg]$'\n",
    "fig.layout['yaxis_title'] = 'Kernel density estimation'\n",
    "fig.layout['template'] = 'plotly_white'\n",
    "\n",
    "\n",
    "fig.write_image(\"figures/oxp_dist.png\", width=500, height=500, scale=2)\n",
    "py.iplot(fig, filename=\"Longitude of the ascending node distribution\")"
   ]
  },
  {
   "cell_type": "markdown",
   "metadata": {},
   "source": [
    "# 4. Conclusion"
   ]
  }
 ],
 "metadata": {
  "interpreter": {
   "hash": "a1dd94164b79c718bb90761a659539b4f36f630021bae23010ca9f978c97e726"
  },
  "kernelspec": {
   "display_name": "Python [conda env:odap-env]",
   "language": "python",
   "name": "python3"
  },
  "language_info": {
   "codemirror_mode": {
    "name": "ipython",
    "version": 3
   },
   "file_extension": ".py",
   "mimetype": "text/x-python",
   "name": "python",
   "nbconvert_exporter": "python",
   "pygments_lexer": "ipython3",
   "version": "3.9.12"
  }
 },
 "nbformat": 4,
 "nbformat_minor": 4
}
