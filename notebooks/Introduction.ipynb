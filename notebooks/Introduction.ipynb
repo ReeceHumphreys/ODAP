{
 "cells": [
  {
   "cell_type": "markdown",
   "metadata": {},
   "source": [
    "# Introduction\n",
    "\n",
    "This notebook serves as an exploration of orbital debris modeling and an introduction to ODAP (Orbital Debris Analysis with Python). While ODAP is currently being refined and converted into a standalone module, you will be able to explore how the module functions and can be utilized in research throughout this notebook.\n",
    "\n",
    "Initially, this project started from a personal curiosity about how orbital debris works, but later was the basis for a senior thesis written while attending the Harriet L. Wilkes Honors College. The purpose is to develop a modern open-source python implementation of the NASA Standard Breakup Model that others can use to research orbital debris.\n",
    "\n",
    "Since this project is on going, please note that some functionality may not be working as expected as I continue to go through the process of optimizing and validating the implementations of the various components."
   ]
  },
  {
   "cell_type": "markdown",
   "metadata": {},
   "source": [
    "# Table of Contents\n",
    "### 0. [Packages](#packages)\n",
    "Covers the initial setup to enable the notebook to function correctly\n",
    "### 1. [Data Source](#data-source)\n",
    "Loading real world data from Two Line Elements to use as the foundation for the rest of the simulations\n",
    "### 2. [Fragmentation Event Modeling](#fragmentation)\n",
    "### 3. [Cloud Formation and Propagation](#cloud)\n",
    "### 4. [Analysis](#second-bullet)\n"
   ]
  },
  {
   "cell_type": "markdown",
   "metadata": {},
   "source": [
    "<a class=\"anchor\" id=\"packages\"></a>\n",
    "<h1>0. Packages</h1>\n",
    "\n",
    "For the purposes of this notebook I will be using a variety of other common modules such as NuMpy, pandas, and Plotly. As such, the below cell will import all necessary modules, as well as import various components from ODAP that will be useful."
   ]
  },
  {
   "cell_type": "code",
   "execution_count": 1,
   "metadata": {
    "ExecuteTime": {
     "end_time": "2021-10-27T17:21:14.872913Z",
     "start_time": "2021-10-27T17:21:02.278959Z"
    }
   },
   "outputs": [],
   "source": [
    "# System lib.\n",
    "import sys\n",
    "import os\n",
    "import re\n",
    "import datetime as datetime\n",
    "from importlib import reload\n",
    "\n",
    "# 3rd party lib.\n",
    "import numpy as np\n",
    "\n",
    "# User defined lib.\n",
    "if not os.path.join(sys.path[0], '..') in sys.path:\n",
    "    sys.path.insert(1, os.path.join(sys.path[0], '..'))\n",
    "\n",
    "%matplotlib widget"
   ]
  },
  {
   "cell_type": "markdown",
   "metadata": {},
   "source": [
    "<a class=\"anchor\" id=\"data-source\"></a>\n",
    "<h1>1. Data Source</h1>\n",
    "\n",
    "To perform accurate simulations, it is essential to have some real-world satellite data as the starting point for modeling the fragmentation event. Therefore, this notebook is a file containing NORAD Two-Line Element Sets (TLE) acquired from [CelesTrak](https://celestrak.com/NORAD/elements/). The rest of this section involves importing said data and discussing how the TLE data structure functions."
   ]
  },
  {
   "cell_type": "markdown",
   "metadata": {},
   "source": [
    "<h3>1.1 Loading TLE Data</h3>\n",
    "\n",
    "TLE's are standardized data structures that contain the orbital elements used to describe Earth-orbiting objects for a given point in time. Most importantly, they are used to determine where a given object will be at any given time. Thus, it is a valuable tool for analyzing potential orbital collisions as well as tracking orbital debris.\n",
    "\n",
    "To acquire the most recent information about all objects being tracked in Earth orbit is recommended to download the latest TLE data from CelesTrak. This file comes in the form of a `.txt` file that first must be parsed to use while programming. While it is possible to manually parse all of the data from the TLEs using [Regular expression operations](https://docs.python.org/3/library/re.html), for this notebook, I will be utilizing the `skyfield` python module as it has the built-in functionality to handle this."
   ]
  },
  {
   "cell_type": "code",
   "execution_count": 2,
   "metadata": {
    "ExecuteTime": {
     "end_time": "2021-04-13T03:31:41.682958Z",
     "start_time": "2021-04-13T03:31:40.796973Z"
    },
    "scrolled": true
   },
   "outputs": [],
   "source": [
    "# Opening the .txt file\n",
    "from odap.models.tle import TLE\n",
    "\n",
    "with open(\"data/3le.txt\") as f:\n",
    "    txt = f.read()\n",
    "    \n",
    "# Using regular expression to perform basic parsing of the 3le.txt file\n",
    "# Returns and array of arrays where each subarray contains three strings\n",
    "# corresponding to each line of th TLE\n",
    "tles_data = np.array([tle for tle in re.findall('(.*?)\\n(.*?)\\n(.*?)\\n', txt)])\n",
    "\n",
    "# Convert name line of TLE to correct format\n",
    "tles_data[:, 0] = [name[2: ] for name in tles_data[:, 0]] \n",
    "\n",
    "tles = [TLE(lines[0], lines[1], lines[2]) for lines in tles_data]"
   ]
  },
  {
   "cell_type": "markdown",
   "metadata": {},
   "source": [
    "<h3>1.2 Select orbital object for analysis</h3>\n",
    "\n",
    "Now that we have an array containing Satellite objects, we can utilize NumPy to find a satellite that satisfies whatever criterion we are looking for. For example, we may want to simulate a fragmentation event for a satellite with a low semi-major axis or a high eccentricity. To keep things simple, I selected a satellite using the name assigned to it by NORAD."
   ]
  },
  {
   "cell_type": "code",
   "execution_count": 3,
   "metadata": {
    "ExecuteTime": {
     "end_time": "2021-04-13T03:32:06.383448Z",
     "start_time": "2021-04-13T03:32:06.342152Z"
    }
   },
   "outputs": [],
   "source": [
    "from odap.models.satellite import Satellite\n",
    "\n",
    "# Constructing an array that contains the names of all the satellites in our dataset\n",
    "# Note: The name formatting of all satellites starts with \"0 \",\n",
    "#       thus we slice the String to cut the 0.\n",
    "desigs = np.array([tle.int_desig for tle in tles])\n",
    "\n",
    "# Search the name array for the index of desired satellite\n",
    "i = np.argwhere(desigs == \"93009A\").flatten()[0]\n",
    "\n",
    "# Retrieve that satellite object from the `satellites` array using the found index\n",
    "tle = tles[i]\n",
    "\n",
    "# # Compute the cartesian state vectors\n",
    "sat = Satellite(tle)"
   ]
  },
  {
   "cell_type": "markdown",
   "metadata": {
    "ExecuteTime": {
     "end_time": "2021-04-13T02:13:24.736191Z",
     "start_time": "2021-04-13T02:13:24.731596Z"
    }
   },
   "source": [
    "<a class=\"anchor\" id=\"fragmentation\"></a>\n",
    "# 2. Fragmentation Event Modeling\n",
    "\n",
    "A satellite breakup model is a mathematical model used to describe the outcome of a satellite breakup due to an explosion or collision. A satellite breakup model should describe the size, area-to-mass (AM) ratio, and the ejection velocity of each fragment produced in the satellite breakup. The most easily accessible literature model is the [NASA Standard breakup model](https://www.sciencedirect.com/science/article/abs/pii/S0273117701004239). This model is implemented in ODAP in `generate_debris.py`.\n",
    "\n",
    "In the following subsections, ODAP is utilized to simulate an explosion event and a collision event. Additionally, some information about how the NASA Standard Breakup Model works is provided. For additional information it is recomended to refer to ..."
   ]
  },
  {
   "cell_type": "code",
   "execution_count": 4,
   "metadata": {},
   "outputs": [],
   "source": [
    "import numpy as np\n",
    "\n",
    "from nasa_sbm.configuration import SimulationConfiguration\n",
    "from nasa_sbm.model import BreakupModel\n",
    "\n",
    "config = SimulationConfiguration('data/simulation_config.yaml')\n",
    "sat.cartesian_state\n",
    "sat.r *= 1e3 # NASA SBM uses m instead of km\n",
    "sat.v *= 1e3 # NASA SBM uses m/s instead of km/s\n",
    "event  = BreakupModel(config, np.array([sat]))\n",
    "debris = event.run()\n",
    "sat.r /= 1e3 # NASA SBM uses m instead of km\n",
    "sat.v /= 1e3 # NASA SBM uses m/s instead of km/s"
   ]
  },
  {
   "cell_type": "markdown",
   "metadata": {
    "ExecuteTime": {
     "end_time": "2021-04-13T02:04:58.954987Z",
     "start_time": "2021-04-13T02:04:58.934321Z"
    }
   },
   "source": [
    "## 2.2 Performing a Fragmentation Event"
   ]
  },
  {
   "cell_type": "markdown",
   "metadata": {
    "ExecuteTime": {
     "end_time": "2021-04-13T02:09:37.908615Z",
     "start_time": "2021-04-13T02:09:37.901200Z"
    }
   },
   "source": [
    "#### 2.1.4 Converting coordinates to Keplerian elements"
   ]
  },
  {
   "cell_type": "code",
   "execution_count": 5,
   "metadata": {
    "ExecuteTime": {
     "end_time": "2021-04-13T03:33:44.843674Z",
     "start_time": "2021-04-13T03:33:42.767256Z"
    }
   },
   "outputs": [
    {
     "name": "stderr",
     "output_type": "stream",
     "text": [
      "OMP: Info #276: omp_set_nested routine deprecated, please use omp_set_max_active_levels instead.\n"
     ]
    }
   ],
   "source": [
    "import odap.coordinates as coords\n",
    "\n",
    "# Currently python-sbm returns values in m and m/s, thus we need to convert them\n",
    "rs = debris[:, 1, :] / 1e3 # km\n",
    "vs = debris[:, 6, :] / 1e3 # km/s\n",
    "\n",
    "# unit: [km^3 / s^2]\n",
    "mu_Earth = 3.986004418e5\n",
    "\n",
    "debris_keplerian_state = coords.rv2coe_many(mu_Earth, rs, vs)"
   ]
  },
  {
   "cell_type": "markdown",
   "metadata": {},
   "source": [
    "## 2.2 Ring Formation"
   ]
  },
  {
   "cell_type": "code",
   "execution_count": 6,
   "metadata": {
    "ExecuteTime": {
     "end_time": "2021-04-13T03:34:30.754652Z",
     "start_time": "2021-04-13T03:33:50.015837Z"
    }
   },
   "outputs": [
    {
     "ename": "NameError",
     "evalue": "name 'a' is not defined",
     "output_type": "error",
     "traceback": [
      "\u001b[0;31m---------------------------------------------------------------------------\u001b[0m",
      "\u001b[0;31mNameError\u001b[0m                                 Traceback (most recent call last)",
      "\u001b[1;32m/Users/reecehumphreys/Developer/Personal/ODAP/notebooks/Introduction.ipynb Cell 16'\u001b[0m in \u001b[0;36m<cell line: 4>\u001b[0;34m()\u001b[0m\n\u001b[1;32m      <a href='vscode-notebook-cell:/Users/reecehumphreys/Developer/Personal/ODAP/notebooks/Introduction.ipynb#ch0000027?line=0'>1</a>\u001b[0m \u001b[39mfrom\u001b[39;00m \u001b[39modap\u001b[39;00m\u001b[39m.\u001b[39;00m\u001b[39mpropagators\u001b[39;00m \u001b[39mimport\u001b[39;00m OrbitPropagator, null_perts\n\u001b[1;32m      <a href='vscode-notebook-cell:/Users/reecehumphreys/Developer/Personal/ODAP/notebooks/Introduction.ipynb#ch0000027?line=2'>3</a>\u001b[0m \u001b[39m# Cleanup states to remove any fragments that would deorbit, given no perturbations\u001b[39;00m\n\u001b[0;32m----> <a href='vscode-notebook-cell:/Users/reecehumphreys/Developer/Personal/ODAP/notebooks/Introduction.ipynb#ch0000027?line=3'>4</a>\u001b[0m periapsis     \u001b[39m=\u001b[39m a \u001b[39m*\u001b[39m (\u001b[39m1\u001b[39m \u001b[39m-\u001b[39m e)\n\u001b[1;32m      <a href='vscode-notebook-cell:/Users/reecehumphreys/Developer/Personal/ODAP/notebooks/Introduction.ipynb#ch0000027?line=4'>5</a>\u001b[0m I             \u001b[39m=\u001b[39m np\u001b[39m.\u001b[39margwhere(periapsis \u001b[39m>\u001b[39m(\u001b[39m6.3781e6\u001b[39m))\n\u001b[1;32m      <a href='vscode-notebook-cell:/Users/reecehumphreys/Developer/Personal/ODAP/notebooks/Introduction.ipynb#ch0000027?line=6'>7</a>\u001b[0m areas_pruned  \u001b[39m=\u001b[39m areas[I]\u001b[39m.\u001b[39mflatten()  \u001b[39m# When doing the indexing , a 1d dim being added which is unneccesary\u001b[39;00m\n",
      "\u001b[0;31mNameError\u001b[0m: name 'a' is not defined"
     ]
    }
   ],
   "source": [
    "from odap.propagators import OrbitPropagator, null_perts\n",
    "\n",
    "# Cleanup states to remove any fragments that would deorbit, given no perturbations\n",
    "periapsis     = a * (1 - e)\n",
    "\n",
    "masses = debris[:, 5, 0]\n",
    "areas = debris[:, 4, 0]\n",
    "\n",
    "# # Propagate orbit for a period of time\n",
    "perts = null_perts()\n",
    "perts['aero'] = True\n",
    "perts['J2']   = True\n",
    "\n",
    "op = OrbitPropagator(debris_keplerian_state, areas, masses, [0, 60*60*24*3], 60*30, perts=perts)\n",
    "states = op.propagate_orbit()\n"
   ]
  },
  {
   "cell_type": "code",
   "execution_count": null,
   "metadata": {},
   "outputs": [],
   "source": [
    "a_ring = states[-1, :, 0] \n",
    "e_ring = states[-1, :, 1] \n",
    "inc_ring = states[-1, :, 2] \n",
    "raan_ring = states[-1, :, 3] \n",
    "arg_p_ring = states[-1, :, 4] \n",
    "nu_ring = states[-1, :, 5] \n",
    "\n",
    "# ks_pruned"
   ]
  },
  {
   "cell_type": "code",
   "execution_count": null,
   "metadata": {},
   "outputs": [],
   "source": [
    "states_cartesian = np.empty((states.shape[0], 2, states.shape[1], 3))\n",
    "\n",
    "for i in range(states.shape[0]):\n",
    "    state = states[i, :, :]\n",
    "    states_cartesian[i, :, :, :] = coords.coe2rv_many(mu_Earth,\n",
    "        state[:, 0],\n",
    "        state[:, 1],\n",
    "        state[:, 2],\n",
    "        state[:, 3],\n",
    "        state[:, 4],\n",
    "        state[:, 5])\n",
    "\n",
    "states_cartesian.shape"
   ]
  },
  {
   "cell_type": "code",
   "execution_count": null,
   "metadata": {},
   "outputs": [],
   "source": [
    "%matplotlib widget\n",
    "import numpy as np\n",
    "import matplotlib.pyplot as plt\n",
    "\n",
    "fig = plt.figure()\n",
    "ax = plt.axes(projection='3d')\n",
    "\n",
    "# Grabbing random pieces to visualize\n",
    "I = np.random.randint(0, states_cartesian.shape[2], 5)\n",
    "\n",
    "# Data for three-dimensional scattered points\n",
    "zdata = states_cartesian[:, 0, I, 2]\n",
    "xdata = states_cartesian[:, 0, I, 0]\n",
    "ydata = states_cartesian[:, 0, I, 1]\n",
    "\n",
    "# draw sphere\n",
    "r_earth = 6371\n",
    "u, v = np.mgrid[0:2*np.pi:20j, 0:np.pi:10j]\n",
    "x = np.cos(u)*np.sin(v) * r_earth\n",
    "y = np.sin(u)*np.sin(v) * r_earth\n",
    "z = np.cos(v) * r_earth\n",
    "ax.plot_surface(x, y, z, color=\"r\")\n",
    "\n",
    "# ax.scatter3D(xdata, ydata, zdata);"
   ]
  },
  {
   "cell_type": "markdown",
   "metadata": {
    "ExecuteTime": {
     "end_time": "2021-04-09T01:17:23.880120Z",
     "start_time": "2021-04-09T01:17:23.841714Z"
    },
    "scrolled": true
   },
   "source": [
    "<h4>3.4.2 Particle Debris flux</h4>\n",
    "\n",
    "Using a particle flux to determine when the fragments of the debris have finished the formation of the ring. Indicating the end of the first phase of the debris cloud formation. This is accomplished by creating an xz plane and detecting when particles have switched from one side to the other. This approach will cause a peak as fragments pass through that becomes uniform as the debris becomes uniformly spread out.\n",
    "\n",
    "<h4>3.4.3 Convergence of the flux</h4>\n",
    "\n",
    "The next step is determining when the fragments have ended the torroid formation phase. This occurs when the fragments are approximately uniformally spread out. We can check to see when the flux meets a convergence criterion to determine when this happens.\n",
    "\n",
    "Now that the band has formed, we can shift away from propagating the exact position of each fragments and inplace propgate their changes in eccentricity and semi major axis due to drag. To do this first we must get the final states of the debris after the band has formed."
   ]
  },
  {
   "cell_type": "code",
   "execution_count": null,
   "metadata": {
    "ExecuteTime": {
     "end_time": "2021-04-13T03:34:34.645680Z",
     "start_time": "2021-04-13T03:34:34.433500Z"
    }
   },
   "outputs": [],
   "source": [
    "import time\n",
    "import matplotlib.dates as mdates\n",
    "from dateutil import tz\n",
    "\n",
    "def fragmentation_flux(X):\n",
    "    return np.sum((X[:-1, :, 1] < 0) & (X[1:, :, 1] > 0), axis=1)\n",
    "    \n",
    "position = cartesian_states[:, 0, :, :]\n",
    "flux = fragmentation_flux(position)\n",
    "\n",
    "w = 100 # Window of points to look at\n",
    "tol = 5\n",
    "convergence_ratio = np.array([np.var(flux[i:i+w])/np.mean(flux[i:i+w]) for i in range(len(flux))])    \n",
    "intersection_index = np.argwhere(convergence_ratio <= tol).flatten()[0]\n",
    "\n",
    "# datetimes\n",
    "t_flux = t_fragmentation.utc_datetime() + np.array(range(len(flux))) * datetime.timedelta(minutes = 5)\n",
    "\n",
    "# Removing last window from `t_flux`, `flux`, and `convergence_ratio` bc. not well defined for last values\n",
    "t_flux = t_flux[:-w]\n",
    "flux = flux[:-w]\n",
    "convergence_ratio = convergence_ratio[:-w]\n",
    "\n",
    "# Pruning data to the end of the ring formation\n",
    "cs_toroid = cartesian_states[:intersection_index, :, :, :]\n",
    "ks_toroid = op.states[0:intersection_index, :, :]\n",
    "op.states = ks_toroid"
   ]
  },
  {
   "cell_type": "markdown",
   "metadata": {},
   "source": [
    "## 2.3 Band Formation"
   ]
  },
  {
   "cell_type": "markdown",
   "metadata": {},
   "source": [
    "### 2.3.1 Drag Implementation"
   ]
  },
  {
   "cell_type": "code",
   "execution_count": null,
   "metadata": {
    "ExecuteTime": {
     "end_time": "2021-04-13T03:47:19.616099Z",
     "start_time": "2021-04-13T03:47:19.270256Z"
    }
   },
   "outputs": [],
   "source": [
    "import odap.Aerodynamics as aero\n",
    "import numpy as np\n",
    "\n",
    "\n",
    "upper_bound = 900                                #[km]\n",
    "altitudes   = np.arange(0, upper_bound, 1)      #[km]\n",
    "rho         = aero.atmosphere_density(altitudes) #[kg·m^-3]\n",
    "\n",
    "I_standard = np.argwhere(altitudes == 25).flatten()[0]\n",
    "I_cira    = np.argwhere(altitudes  == 500).flatten()[0]\n",
    "\n",
    "# Plotting the Exponential Atmospheric Model\n",
    "\n",
    "layout = go.Layout(\n",
    "    title        = go.layout.Title(text='Altitude (z) vs. Atmospheric Density (ρ)',\n",
    "                                   x=0.5),\n",
    "    xaxis_title  = 'z [km]',\n",
    "    yaxis_title  = '$\\log_{10}(\\\\rho\\:[kg·m^{-3}])$',\n",
    "    template     = 'plotly_white',\n",
    "    legend       = go.layout.Legend(yanchor=\"top\",\n",
    "                             y=0.99,\n",
    "                             xanchor=\"right\",\n",
    "                             x=0.99)\n",
    ")\n",
    "\n",
    "data = [\n",
    "    go.Scatter(x=altitudes[:I_standard], y=rho[:I_standard],\n",
    "                    mode='lines',\n",
    "                    name='U.S Standard Atmosphere'),\n",
    "    go.Scatter(x=altitudes[I_standard:I_cira], y=rho[I_standard:I_cira],\n",
    "                    mode='lines',\n",
    "                    name='CIRA-72'),\n",
    "    go.Scatter(x=altitudes[I_cira:], y=rho[I_cira:],\n",
    "                    mode='lines',\n",
    "                    name='CIRA-72 with T_infinity = 1000K')\n",
    "]\n",
    "\n",
    "fig = go.Figure(data=data, layout=layout)\n",
    "fig.update_yaxes(type=\"log\")\n",
    "\n",
    "\n",
    "#fig.write_image(\"figures/Atmospheric_Density_v_Altitude.png\", width=500, height=500, scale=2)\n",
    "f2 = go.FigureWidget(fig)\n",
    "f2"
   ]
  },
  {
   "cell_type": "markdown",
   "metadata": {},
   "source": [
    "### 2.3.1 Applying Perturbations to Satellite"
   ]
  },
  {
   "cell_type": "code",
   "execution_count": null,
   "metadata": {
    "ExecuteTime": {
     "end_time": "2021-04-13T02:48:45.470540Z",
     "start_time": "2021-04-13T02:48:43.740049Z"
    }
   },
   "outputs": [],
   "source": [
    "import odap.Aerodynamics as aero\n",
    "\n",
    "op.tspan[-1] = 3600*24*25\n",
    "op.dt = 3600*24\n",
    "de, da, di, dOmega, domega, dnu, dp = op.propagate_perturbations()"
   ]
  },
  {
   "cell_type": "markdown",
   "metadata": {},
   "source": [
    "# 3. Analysis"
   ]
  },
  {
   "cell_type": "markdown",
   "metadata": {},
   "source": [
    "## 3.1 Flux"
   ]
  },
  {
   "cell_type": "markdown",
   "metadata": {},
   "source": [
    "### 3.1.1 FLux plot"
   ]
  },
  {
   "cell_type": "code",
   "execution_count": null,
   "metadata": {
    "ExecuteTime": {
     "end_time": "2021-04-13T03:34:57.346240Z",
     "start_time": "2021-04-13T03:34:50.443218Z"
    }
   },
   "outputs": [],
   "source": [
    "# Creating Flux v. Time plot\n",
    "layout = go.Layout(\n",
    "    title        = dict(text='$\\\\text{Flux}\\:(\\\\Phi)\\:\\\\text{vs. Time }(t)$',\n",
    "                        x=0.5),\n",
    "    xaxis_title  = '$t\\:[days]$',\n",
    "    yaxis_title  = '$\\\\text{ Number of fragments passing XZ plane, }\\Phi\\:$',\n",
    "    template     = 'plotly_white'\n",
    ")\n",
    "\n",
    "\n",
    "data = [\n",
    "    go.Scatter(x=t_flux, y=flux,\n",
    "               mode='lines',\n",
    "               name='Flux'),\n",
    "    go.Scatter(x=[t_flux[intersection_index], t_flux[intersection_index]], y=[0, np.max(flux)],\n",
    "               mode='lines',\n",
    "               line=dict(dash = 'dash'),\n",
    "               name='Convergence')\n",
    "]\n",
    "\n",
    "fig1 = go.Figure(data=data, layout=layout)\n",
    "\n",
    "# Stopping data to have half before intersection index and half after\n",
    "index_stop = intersection_index * 2\n",
    "if index_stop > len(flux) - 1 : index_stop = len(flux) - 1\n",
    "fig1.update_layout(xaxis_range=[t_flux[0],t_flux[index_stop]])\n",
    "\n",
    "# Saving plot as an image and uploading it to plotly\n",
    "fig1.write_image(\"figures/Flux_v_Time.png\", width=500, height=500, scale=2)\n",
    "#py.iplot(fig1, filename=\"Flux v. Time\")"
   ]
  },
  {
   "cell_type": "markdown",
   "metadata": {},
   "source": [
    "### 3.1.2 Convergence Ratio plot"
   ]
  },
  {
   "cell_type": "code",
   "execution_count": null,
   "metadata": {
    "ExecuteTime": {
     "end_time": "2021-04-13T03:35:40.893879Z",
     "start_time": "2021-04-13T03:35:40.588308Z"
    }
   },
   "outputs": [],
   "source": [
    "#Creating Convergence Ratio v. Time plot\n",
    "layout = go.Layout(\n",
    "    title        = dict(text='Convergence ratio vs. Time (t)',\n",
    "                        x=0.5),\n",
    "    xaxis_title  = '$t\\:[days]$',\n",
    "    yaxis_title  = 'Convergence ratio []',\n",
    "    template     = 'plotly_white',\n",
    "    legend       = go.layout.Legend(yanchor=\"top\",\n",
    "                             y=0.99,\n",
    "                             xanchor=\"right\",\n",
    "                             x=0.99)\n",
    ")\n",
    "data = [\n",
    "    go.Scatter(x=t_flux, y=convergence_ratio,\n",
    "               mode='lines',\n",
    "               name='Convergence ratio'),\n",
    "    go.Scatter(x=[t_flux[intersection_index], t_flux[intersection_index]], y=[0, np.max(flux)],\n",
    "               mode='lines',\n",
    "               line=dict(dash = 'dash'),\n",
    "               name='Convergence time'),\n",
    "    go.Scatter(x=[t_flux[0], t_flux[-1]], y=[tol, tol],\n",
    "               mode='lines',\n",
    "               line=dict(dash = 'dash'),\n",
    "               name='Tolerance'),\n",
    "]\n",
    "fig2 = go.Figure(data=data, layout=layout)\n",
    "fig2.update_yaxes(type=\"log\")\n",
    "fig2.write_image(\"figures/Convergence_Ratio_v_Time.png\", width=500, height=500, scale=2)\n",
    "#py.iplot(fig2, filename=\"Convergence Ratio v. Time\")"
   ]
  },
  {
   "cell_type": "markdown",
   "metadata": {},
   "source": [
    "## 3.2 Ring visualization"
   ]
  },
  {
   "cell_type": "code",
   "execution_count": null,
   "metadata": {
    "ExecuteTime": {
     "end_time": "2021-04-13T03:20:01.019781Z",
     "start_time": "2021-04-13T03:19:27.522113Z"
    }
   },
   "outputs": [],
   "source": [
    "import plotly.express as px\n",
    "import plotly.io as pio\n",
    "import pandas\n",
    "\n",
    "spherical_earth_map = np.load('map_sphere.npy') \n",
    "\n",
    "pos_toroid = cs_toroid[:, 0, :, :]/1e3\n",
    "N_timesteps = pos_toroid.shape[0]\n",
    "N_fragments = pos_toroid.shape[1]\n",
    "r_E = op.cb['radius'] / 1e3\n",
    "xm, ym, zm = spherical_earth_map.T * r_E\n",
    "\n",
    "# Converting data to pandas dataframe\n",
    "df = pandas.DataFrame()\n",
    "# *** Update this if chnage timestep in initial orbit propagation ***\n",
    "dt = 60 * 5 #[s]\n",
    "# Want to show the evolution in 30 min\n",
    "timesteps = np.arange(0,N_timesteps, 6)\n",
    "\n",
    "for t in timesteps:   \n",
    "    step = t*np.ones_like(N_timesteps)\n",
    "    time = dt * step / 60 #[min]\n",
    "    d = {'X': pos_toroid[t, :, 0],\n",
    "         'Y': pos_toroid[t, :, 1],\n",
    "         'Z':pos_toroid[t, :, 2],\n",
    "         'Min.': time,\n",
    "         'a': ks_toroid[t, 0, :]/1e3,\n",
    "         'e': ks_toroid[t, 1, :],\n",
    "         'i': ks_toroid[t, 2, :],\n",
    "        }\n",
    "    df = pandas.concat([df, pandas.DataFrame(data=d)])\n",
    "\n",
    "# Creating visual\n",
    "def spheres(size, clr, dist=0): \n",
    "\n",
    "    # Set up 100 points. First, do angles\n",
    "    theta = np.linspace(0,2*np.pi,100)\n",
    "    phi = np.linspace(0,np.pi,100)\n",
    "\n",
    "    # Set up coordinates for points on the sphere\n",
    "    x0 = dist + size * np.outer(np.cos(theta),np.sin(phi))\n",
    "    y0 = size * np.outer(np.sin(theta),np.sin(phi))\n",
    "    z0 = size * np.outer(np.ones(100),np.cos(phi))\n",
    "\n",
    "    # Set up trace\n",
    "    trace= go.Surface(x=x0, y=y0, z=z0, colorscale=[[0,clr], [1,clr]])\n",
    "    trace.update(showscale=False)\n",
    "\n",
    "    return trace\n",
    "\n",
    "fig = px.scatter_3d(\n",
    "    data_frame=df,\n",
    "    x='X',\n",
    "    y='Y',\n",
    "    z='Z',\n",
    "    title='Evolution of debris cloud to toroid formation',\n",
    "    hover_data={'Min.': False, 'X': False, 'Y':False, 'Z':False, 'a':':.1f', 'e':':.4f','i':':.1f' },\n",
    "    height=800,                 # height of graph in pixels\n",
    "    width =800,\n",
    "    animation_frame='Min.',   # assign marks to animation frames\n",
    "    range_x=[-r_E - 1000,r_E + 1000],\n",
    "    range_z=[-r_E - 1000,r_E + 1000],\n",
    "    range_y=[-r_E - 1000,r_E + 1000],\n",
    "\n",
    ")\n",
    "fig.update_traces(marker={'size': 3})\n",
    "# Add Earth\n",
    "earth=spheres(r_E, '#F0FFFF', 0) # Earth\n",
    "#fig.add_trace(go.Scatter3d(x=xm, y=ym, z=zm, mode='lines', line=dict(color=zm, colorscale='Viridis')))\n",
    "fig['layout']['scene']['aspectmode'] = 'cube'\n",
    "fig.add_trace(earth)\n",
    "fig.update_layout(transition = {'duration': 2000})\n",
    "fig.write_html(\"plots/ring.html\")"
   ]
  },
  {
   "cell_type": "markdown",
   "metadata": {},
   "source": [
    "## 3.3 Band visualization"
   ]
  },
  {
   "cell_type": "code",
   "execution_count": null,
   "metadata": {
    "ExecuteTime": {
     "end_time": "2021-04-13T02:51:11.785292Z",
     "start_time": "2021-04-13T02:50:52.771515Z"
    }
   },
   "outputs": [],
   "source": [
    "temp = np.zeros_like(da) # The params set to 0 dont matter for converting to rv\n",
    "ks_propagated = np.swapaxes(np.stack([da, de, di, dOmega, domega, temp, dnu, dp, temp, temp]).T, 1, 2)\n",
    "ks_final = np.concatenate([ks_toroid, ks_propagated])\n",
    "op.states = ks_final\n",
    "cs_final = op.cartesian_representation()"
   ]
  },
  {
   "cell_type": "code",
   "execution_count": null,
   "metadata": {
    "ExecuteTime": {
     "end_time": "2021-04-13T02:51:21.308114Z",
     "start_time": "2021-04-13T02:51:15.298065Z"
    }
   },
   "outputs": [],
   "source": [
    "import pandas as pandas\n",
    "import plotly.express as px\n",
    "\n",
    "pos_toroid = cs_final[cs_toroid.shape[0]-1:, 0, :, :]/1e3\n",
    "N_timesteps = pos_toroid.shape[0]\n",
    "N_fragments = pos_toroid.shape[1]\n",
    "r_E = op.cb['radius'] / 1e3\n",
    "\n",
    "\n",
    "# Converting data to pandas dataframe\n",
    "df = pandas.DataFrame()\n",
    "# *** Update this if chnage timestep in initial orbit propagation ***\n",
    "dt = 60 * 5 #[s]\n",
    "# Want to show the evolution in 1 day steps\n",
    "timesteps = np.arange(0,N_timesteps, 5)\n",
    "\n",
    "for t in timesteps:   \n",
    "    step = t*np.ones_like(N_timesteps)\n",
    "    time = step  #[day]\n",
    "    d = {'X': pos_toroid[t, :, 0],\n",
    "         'Y': pos_toroid[t, :, 1],\n",
    "         'Z':pos_toroid[t, :, 2],\n",
    "         'Day': time,\n",
    "        }\n",
    "    df = pandas.concat([df, pandas.DataFrame(data=d)])\n",
    "\n",
    "def spheres(size, clr, dist=0): \n",
    "\n",
    "    # Set up 100 points. First, do angles\n",
    "    theta = np.linspace(0,2*np.pi,100)\n",
    "    phi = np.linspace(0,np.pi,100)\n",
    "\n",
    "    # Set up coordinates for points on the sphere\n",
    "    x0 = dist + size * np.outer(np.cos(theta),np.sin(phi))\n",
    "    y0 = size * np.outer(np.sin(theta),np.sin(phi))\n",
    "    z0 = size * np.outer(np.ones(100),np.cos(phi))\n",
    "\n",
    "    # Set up trace\n",
    "    trace= go.Surface(x=x0, y=y0, z=z0, colorscale=[[0,clr], [1,clr]])\n",
    "    trace.update(showscale=False)\n",
    "\n",
    "    return trace\n",
    "fig = px.scatter_3d(\n",
    "    data_frame=df,\n",
    "    x='X',\n",
    "    y='Y',\n",
    "    z='Z',\n",
    "    title='Evolution of debris cloud to Band formation',\n",
    "    #labels={'Years in school (avg)': 'Years Women are in School'},\n",
    "    #hover_data={'Min.': False, 'X': False, 'Y':False, 'Z':False, 'a':':.1f', 'e':':.4f','i':':.1f' },\n",
    "    #hover_name='Orbital Elements',        # values appear in bold in the hover tooltip\n",
    "    height=800,                 # height of graph in pixels\n",
    "    width =800,\n",
    "    animation_frame='Day',   # assign marks to animation frames\n",
    "    range_x=[-r_E - 1000,r_E + 1000],\n",
    "    range_z=[-r_E - 1000,r_E + 1000],\n",
    "    range_y=[-r_E - 1000,r_E + 1000],\n",
    "\n",
    ")\n",
    "fig.update_traces(marker={'size': 1.5, 'color':'#6372f4'})\n",
    "# Add Earth\n",
    "earth=spheres(r_E, '#ffffff', 0) # Earth\n",
    "fig.add_trace(earth)\n",
    "#fig.add_trace(go.Scatter3d(x=xm, y=ym, z=zm, mode='lines', line=dict(color=zm, colorscale='Viridis')))\n",
    "fig['layout']['scene']['aspectmode'] = 'cube'\n",
    "fig.update_layout(transition = {'duration': 2000})\n",
    "fig.update_layout(paper_bgcolor='rgba(0,0,0,0)',\n",
    "            plot_bgcolor='rgba(0,0,0,0)')\n",
    "fig.write_html(\"plots/band.html\")"
   ]
  },
  {
   "cell_type": "markdown",
   "metadata": {},
   "source": [
    "## 3.4 Time to deorbit "
   ]
  },
  {
   "cell_type": "code",
   "execution_count": null,
   "metadata": {
    "ExecuteTime": {
     "end_time": "2021-04-13T02:51:33.862766Z",
     "start_time": "2021-04-13T02:51:25.637468Z"
    }
   },
   "outputs": [],
   "source": [
    "import plotly.figure_factory as ff\n",
    "import matplotlib.cm as cm\n",
    "\n",
    "AM = op.A / op.M\n",
    "z  = (da * (1 - de)) - op.cb['radius']\n",
    "z[z < 100*1e3] = 0\n",
    "\n",
    "layout = go.Layout(\n",
    "    title        = dict(text='Altitude of 50 debris fragments over 3 years',\n",
    "                        x=0.5),\n",
    "    xaxis_title  = '$t\\:[days]$',\n",
    "    yaxis_title  = 'Altitude [km]',\n",
    "    template     = 'plotly_white',\n",
    "    legend       = go.layout.Legend(yanchor=\"top\",\n",
    "                             y=0.99,\n",
    "                             xanchor=\"right\",\n",
    "                             x=0.99)\n",
    ")\n",
    "\n",
    "data = []\n",
    "\n",
    "for i in range(25):\n",
    "    alt = np.trim_zeros(z[i, :]) / 1e3\n",
    "    scatter = go.Scatter(x=[i for i in range(len(alt))], y=alt,\n",
    "               mode='lines')\n",
    "    data.append(scatter)\n",
    "    \n",
    "fig = go.Figure(data=data, layout=layout)\n",
    "fig.update_layout(coloraxis=dict(colorscale='RdBu'), showlegend=False)\n",
    "fig.show()    \n",
    "fig.write_image(\"figures/oxp_altitudes.png\", width=500, height=500, scale=2)"
   ]
  },
  {
   "cell_type": "markdown",
   "metadata": {},
   "source": [
    "## 3.5 Debris spread"
   ]
  },
  {
   "cell_type": "code",
   "execution_count": null,
   "metadata": {
    "ExecuteTime": {
     "end_time": "2021-04-13T02:51:42.065755Z",
     "start_time": "2021-04-13T02:51:42.059087Z"
    }
   },
   "outputs": [],
   "source": [
    "index = int(np.ceil(ks_propagated.shape[0]*.10)) # index near begining\n",
    "raan_0 = ks_propagated[index, 3, :].copy() % 360\n",
    "raan_0[raan_0 > 180] -= 360 # Converting angles to new range\n",
    "\n",
    "raan_mid = ks_propagated[ks_propagated.shape[0] // 2, 3, :].copy()  % 360\n",
    "raan_mid[raan_mid  > 180] -= 360 \n",
    "\n",
    "raan_f = ks_propagated[-1, 3, :].copy() % 360\n",
    "raan_f[raan_f > 180] -= 360"
   ]
  },
  {
   "cell_type": "code",
   "execution_count": null,
   "metadata": {
    "ExecuteTime": {
     "end_time": "2021-04-13T02:52:10.559324Z",
     "start_time": "2021-04-13T02:52:05.865763Z"
    }
   },
   "outputs": [],
   "source": [
    "import math\n",
    "import plotly.figure_factory as ff\n",
    "\n",
    "uniform_dist = np.random.uniform(-180, 180, len(raan_0))\n",
    "group_labels = ['$\\Omega_{initial}$', '$\\Omega_{midpoint}$', '$\\Omega_{final}$', 'uniform']\n",
    "fig = ff.create_distplot([raan_0, raan_mid, raan_f, uniform_dist], group_labels, show_hist =  False)\n",
    "\n",
    "# Updating the uniform curve to be dashed\n",
    "index = np.argwhere(np.array([data.legendgroup for data in fig.data]) == 'uniform')[0][0]\n",
    "fig.data[index].line = dict(color='red', width=2,\n",
    "                             dash='dash')\n",
    "\n",
    "# Layout\n",
    "fig.layout['title'] = dict(text='Longitude of the ascending node distribution',\n",
    "                        x=0.5)\n",
    "fig.layout['xaxis_title'] = '$\\Omega\\:[deg]$'\n",
    "fig.layout['yaxis_title'] = 'Kernel density estimation'\n",
    "fig.layout['template'] = 'plotly_white'\n",
    "\n",
    "\n",
    "fig.write_image(\"figures/oxp_dist.png\", width=500, height=500, scale=2)\n",
    "py.iplot(fig, filename=\"Longitude of the ascending node distribution\")"
   ]
  },
  {
   "cell_type": "markdown",
   "metadata": {},
   "source": [
    "# 4. Conclusion"
   ]
  }
 ],
 "metadata": {
  "interpreter": {
   "hash": "a1dd94164b79c718bb90761a659539b4f36f630021bae23010ca9f978c97e726"
  },
  "kernelspec": {
   "display_name": "Python [conda env:odap-env]",
   "language": "python",
   "name": "python3"
  },
  "language_info": {
   "codemirror_mode": {
    "name": "ipython",
    "version": 3
   },
   "file_extension": ".py",
   "mimetype": "text/x-python",
   "name": "python",
   "nbconvert_exporter": "python",
   "pygments_lexer": "ipython3",
   "version": "3.9.12"
  }
 },
 "nbformat": 4,
 "nbformat_minor": 4
}
